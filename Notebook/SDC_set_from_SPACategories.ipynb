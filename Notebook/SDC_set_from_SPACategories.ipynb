{
 "cells": [
  {
   "cell_type": "markdown",
   "id": "3c816609",
   "metadata": {},
   "source": [
    "set [SDC](https://commons.wikimedia.org/wiki/Commons:Structured_data#:~:text=Structured%20data%20on%20Commons%20is,from%20Wikidata%2C%20Wikimedia's%20knowledge%20base.) depicts from files uploaded in [spa2Commons](https://commons.wikimedia.org/wiki/Category:Uploaded_with_spa2Commons)\n",
    "\n",
    "### Theory depicts\n",
    "* all pictures from [SPA](https://portrattarkiv.se/about) depicts one person\n",
    "* one category in WIkicommons is connected to the person that the picture depicts\n",
    "\n",
    "#### How to - done\n",
    "* a csv file is created from a pile using\n",
    "  * petscan creates the pile ex. [set output pagepile](https://petscan.wmflabs.org/?psid=20485153)--> [pagepile 39223](https://pagepile.toolforge.org/api.php?action=get_data&id=39223)\n",
    "  * [minefield](https://hay.toolforge.org/minefield/) creates the csv file  \n",
    "    * see [gist](https://gist.github.com/salgo60/b5d05fae5c865b678edb338b09e4b302)\n",
    "* [video](https://www.youtube.com/watch?v=FUoG0veIeMY&feature=youtu.be)     \n",
    "    \n",
    "### Theory SPA identifier\n",
    "* a picture uploaded to Wikicommons using [SPA2common javascript](https://github.com/salgo60/spa2Commons) will have the link to the SPA picture in the template Information and param **Source** ex. [File:Axel_Sammuli_SPA3.jpg](https://commons.wikimedia.org/wiki/File:Axel_Sammuli_SPA3.jpg) -->  SPA id = [SPA idYB0QHyfj0hAAAAAAAAAf8g](https://portrattarkiv.se/details/YB0QHyfj0hAAAAAAAAAf8g)\n",
    "#### How to\n",
    "* read all pictures in category  [spa2Commons](https://commons.wikimedia.org/wiki/Category:Uploaded_with_spa2Commons) and check param **Source**\n",
    "### Misc\n",
    "* [SPARQL mwapi](https://en.wikibooks.org/wiki/SPARQL/SERVICE_-_mwapi)\n",
    "* [API:Categories](https://www.mediawiki.org/wiki/API:Categories)\n",
    "* Test SPARQL\n",
    "   * [get files in Categories](https://wcqs-beta.wmflabs.org/#%23Wikidata%20items%20of%20files%20in%20Category%3AArtworks%20with%20structured%20data%20with%20redirected%20P6243%20property%0ASELECT%20%3Ffile%20%3Ftitle%20%20%3Fspa%20%0AWITH%0A%7B%0A%20%20SELECT%20%3Ffile%20%3Ftitle%0A%20%20WHERE%0A%20%20%7B%0A%20%20%20%20SERVICE%20wikibase%3Amwapi%0A%20%20%20%20%7B%0A%20%20%20%20%20%20bd%3AserviceParam%20wikibase%3Aapi%20%22Generator%22%20.%0A%20%20%20%20%20%20bd%3AserviceParam%20wikibase%3Aendpoint%20%22commons.wikimedia.org%22%20.%0A%20%20%20%20%20%20bd%3AserviceParam%20mwapi%3Agcmtitle%20%22Category%3AUploaded_with_spa2Commons%22%20.%0A%20%20%20%20%20%20bd%3AserviceParam%20mwapi%3Agenerator%20%22categorymembers%22%20.%0A%20%20%20%20%20%20bd%3AserviceParam%20mwapi%3Agcmtype%20%22file%22%20.%0A%20%20%20%20%20%20bd%3AserviceParam%20mwapi%3Agcmlimit%20%22max%22%20.%0A%20%20%20%20%20%20%3Ftitle%20wikibase%3AapiOutput%20mwapi%3Atitle%20.%0A%20%20%20%20%20%20%3Fpageid%20wikibase%3AapiOutput%20%22%40pageid%22%20.%0A%20%20%20%20%7D%0A%20%20%20%20BIND%20%28URI%28CONCAT%28%27https%3A%2F%2Fcommons.wikimedia.org%2Fentity%2FM%27%2C%20%3Fpageid%29%29%20AS%20%3Ffile%29%0A%20%20%7D%0A%7D%20AS%20%25get_files%0AWHERE%0A%7B%0A%20%20INCLUDE%20%25get_files%0A%20%20OPTIONAL%20%7B%3Ffile%20wdt%3AP4819%20%3Fspa%7D%0A%7D)\n",
    "* [PAWS Example Notebooks](https://wikitech.wikimedia.org/wiki/PAWS/PAWS_examples_and_recipes)   \n",
    "* [hub.toolforge.org](https://hub.toolforge.org)\n",
    "* [writeSDoCfromExcel](https://github.com/KBNLwikimedia/SDoC/blob/main/writeSDoCfromExcel/WriteSDoCfromExcel_nopasswd.py)"
   ]
  },
  {
   "cell_type": "code",
   "execution_count": 8,
   "id": "84647b6f",
   "metadata": {},
   "outputs": [
    {
     "name": "stdout",
     "output_type": "stream",
     "text": [
      "Last run:  2021-10-31 08:51:34.273668\n"
     ]
    }
   ],
   "source": [
    "from datetime import datetime\n",
    "start_time  = datetime.now()\n",
    "print(\"Last run: \", start_time)"
   ]
  },
  {
   "cell_type": "code",
   "execution_count": 24,
   "id": "320b37da",
   "metadata": {},
   "outputs": [],
   "source": [
    "import requests\n",
    "\n",
    "S = requests.Session()\n",
    "\n",
    "URL = \"https://commons.wikipedia.org/w/api.php\"\n",
    "\n",
    "def get_Category(pageName):\n",
    "    PARAMS = {\n",
    "        \"action\": \"query\",\n",
    "        \"format\": \"json\",\n",
    "        \"prop\": \"categories\",\n",
    "        \"titles\": pageName   \n",
    "    }\n",
    "    #print (PARAMS)\n",
    "    r = S.get(url=URL, params=PARAMS)\n",
    "    data = r.json()\n",
    "    # TODO dont get hidden categories\n",
    "    filtercat = {\n",
    "        \"Category:CC-BY-4.0\",\n",
    "        \"Category:Swedish Portrait Archive\",\n",
    "        \"Category:Uploaded with spa2Commons\",\n",
    "        \"Category:Template Unknown (author)\",\n",
    "        \"Category:Images with extracted images\",\n",
    "        \"Category:Extracted images\",\n",
    "        \"Category:Scanned with HP Deskjet F4200\",\n",
    "        \"Category:Pages using duplicate arguments in template calls\",\n",
    "        \"Category:Creative Commons Attribution-Share Alike missing SDC copyright status\",\n",
    "        \"Category:Creative Commons Attribution-Share Alike 4.0 missing SDC copyright license\"\n",
    "        }\n",
    "    target_category = \"\"\n",
    "    PAGES = data[\"query\"][\"pages\"]\n",
    "    for k, v in PAGES.items():\n",
    "    #    print(k,v)\n",
    "        for cat in v['categories']:\n",
    "            if cat[\"title\"] not in filtercat:\n",
    "                target_category = cat[\"title\"]\n",
    "                #print(\"\\tTarget cat\" ,target_category)\n",
    "    return target_category"
   ]
  },
  {
   "cell_type": "code",
   "execution_count": 20,
   "id": "6a8cff48",
   "metadata": {},
   "outputs": [
    {
     "data": {
      "text/plain": [
       "'Category:Alfred Gustaf Ahlqvist'"
      ]
     },
     "execution_count": 20,
     "metadata": {},
     "output_type": "execute_result"
    }
   ],
   "source": [
    "common_name = \"File:A_G_Ahlqvist_SPA10.jpg\"\n",
    "get_Category(common_name)"
   ]
  },
  {
   "cell_type": "code",
   "execution_count": 21,
   "id": "d12bcc7c",
   "metadata": {},
   "outputs": [],
   "source": [
    "def getWD(commonsCategory):\n",
    "    urlHub = \"https://hub.toolforge.org/commons:\" + commonsCategory + \"?format=json&site=wd\"\n",
    "    #print(urlHub)\n",
    "    hub = S.get(url=urlHub)\n",
    "    data = hub.json()\n",
    "    try:\n",
    "        wd = data[\"destination\"][\"url\"].replace(\"https://www.wikidata.org/wiki/\",\"\")    \n",
    "    except:\n",
    "        print(\"Error\", data)\n",
    "        wd =\"\"\n",
    "    return wd"
   ]
  },
  {
   "cell_type": "code",
   "execution_count": null,
   "id": "0cbabfb4",
   "metadata": {},
   "outputs": [],
   "source": []
  },
  {
   "cell_type": "code",
   "execution_count": 22,
   "id": "f04da70a",
   "metadata": {},
   "outputs": [
    {
     "data": {
      "text/plain": [
       "'Q4830349'"
      ]
     },
     "execution_count": 22,
     "metadata": {},
     "output_type": "execute_result"
    }
   ],
   "source": [
    "test_category =\"Category:Axel_Rappe_(1838%E2%80%931918)\"\n",
    "getWD(test_category)"
   ]
  },
  {
   "cell_type": "markdown",
   "id": "92cad3a4",
   "metadata": {},
   "source": [
    "### get WD object the Pictiure depict"
   ]
  },
  {
   "cell_type": "code",
   "execution_count": 23,
   "id": "e03d2e6f",
   "metadata": {
    "scrolled": false
   },
   "outputs": [
    {
     "name": "stdout",
     "output_type": "stream",
     "text": [
      "Errorr {'message': 'Not Found', 'context': {'text': 'commons:Category:Creative Commons Attribution-Share Alike missing SDC copyright status', 'lang': 'en'}}\n",
      "Errorr {'message': 'Not Found', 'context': {'text': 'commons:Category:Fredrik Mauritz von Krusenstjerna', 'lang': 'en'}}\n",
      "Errorr {'message': 'Not Found', 'context': {'text': 'commons:Category:Georg Stoopendaal', 'lang': 'en'}}\n",
      "Errorr {'message': 'Not Found', 'context': {'text': 'commons:Category:Georg Stoopendaal', 'lang': 'en'}}\n",
      "Errorr {'message': 'Not Found', 'context': {'text': 'commons:Category:Gustaf Bergmark', 'lang': 'en'}}\n",
      "Errorr {'message': 'Not Found', 'context': {'text': 'commons:Category:Gustaf Bergmark', 'lang': 'en'}}\n",
      "Errorr {'message': 'Not Found', 'context': {'text': 'commons:Category:Gustaf-Otto Adelborg', 'lang': 'en'}}\n",
      "Errorr {'message': 'Not Found', 'context': {'text': 'commons:Category:Gustaf Walfrid Carlström', 'lang': 'en'}}\n",
      "Errorr {'message': 'Not Found', 'context': {'text': 'commons:Category:Gustaf Walfrid Carlström', 'lang': 'en'}}\n",
      "Errorr {'message': 'Not Found', 'context': {'text': 'commons:Category:Oscar Ellqvist', 'lang': 'en'}}\n",
      "Errorr {'message': 'Not Found', 'context': {'text': 'commons:Category:Per Jacob Liedbeck', 'lang': 'en'}}\n",
      "Errorr {'message': 'Not Found', 'context': {'text': 'commons:Category:Per Jacob Liedbeck', 'lang': 'en'}}\n",
      "Errorr {'message': 'Not Found', 'context': {'text': 'commons:Category:Per Fredrik Widmark', 'lang': 'en'}}\n",
      "Errorr {'message': 'Not Found', 'context': {'text': 'commons:Category:Per Fredrik Widmark', 'lang': 'en'}}\n",
      "Errorr {'message': 'Not Found', 'context': {'text': 'commons:Category:Sigrid Maria Fredrika Gillner-Ringenson', 'lang': 'en'}}\n",
      "Errorr {'message': 'Not Found', 'context': {'text': 'commons:Category:Sigurd Emanuel Erixon', 'lang': 'en'}}\n",
      "Errorr {'message': 'Not Found', 'context': {'text': 'commons:Category:Sigurd Emanuel Erixon', 'lang': 'en'}}\n",
      "Errorr {'message': 'Not Found', 'context': {'text': 'commons:Category:Sigurd Emanuel Erixon', 'lang': 'en'}}\n",
      "Errorr {'message': 'Not Found', 'context': {'text': 'commons:Category:Sven Strindberg', 'lang': 'en'}}\n",
      "Errorr {'message': 'Not Found', 'context': {'text': 'commons:Category:Sven Strindberg', 'lang': 'en'}}\n"
     ]
    }
   ],
   "source": [
    "# used tool xxxx to get csv files with pictures \n",
    "import csv\n",
    "\n",
    "mid_wd_list = []\n",
    "with open('Cat_2commons.csv') as csvfile:\n",
    "    cat_reader = csv.DictReader(csvfile, delimiter=',', quotechar='\"')\n",
    "    for row in cat_reader:\n",
    "#        print(row)\n",
    "#        print(row[\"mid\"],get_Category(row[\"title\"]),row[\"url\"]) \n",
    "#        print(row[\"mid\"],getWD(get_Category(row[\"title\"]))) \n",
    "        mid_wd_list.append([row[\"mid\"],getWD(get_Category(row[\"title\"]))])\n",
    "        #print(mid_wd_list)\n",
    "        \n"
   ]
  },
  {
   "cell_type": "code",
   "execution_count": 25,
   "id": "8b3cd060",
   "metadata": {},
   "outputs": [
    {
     "data": {
      "text/html": [
       "<div>\n",
       "<style scoped>\n",
       "    .dataframe tbody tr th:only-of-type {\n",
       "        vertical-align: middle;\n",
       "    }\n",
       "\n",
       "    .dataframe tbody tr th {\n",
       "        vertical-align: top;\n",
       "    }\n",
       "\n",
       "    .dataframe thead th {\n",
       "        text-align: right;\n",
       "    }\n",
       "</style>\n",
       "<table border=\"1\" class=\"dataframe\">\n",
       "  <thead>\n",
       "    <tr style=\"text-align: right;\">\n",
       "      <th></th>\n",
       "      <th>0</th>\n",
       "      <th>1</th>\n",
       "    </tr>\n",
       "  </thead>\n",
       "  <tbody>\n",
       "    <tr>\n",
       "      <th>0</th>\n",
       "      <td>M110377313</td>\n",
       "      <td>Q6239681</td>\n",
       "    </tr>\n",
       "    <tr>\n",
       "      <th>1</th>\n",
       "      <td>M110421273</td>\n",
       "      <td>Q350301</td>\n",
       "    </tr>\n",
       "    <tr>\n",
       "      <th>2</th>\n",
       "      <td>M110426964</td>\n",
       "      <td>Q22977459</td>\n",
       "    </tr>\n",
       "    <tr>\n",
       "      <th>3</th>\n",
       "      <td>M110427336</td>\n",
       "      <td>Q22977459</td>\n",
       "    </tr>\n",
       "    <tr>\n",
       "      <th>4</th>\n",
       "      <td>M110465218</td>\n",
       "      <td>Q2824703</td>\n",
       "    </tr>\n",
       "    <tr>\n",
       "      <th>5</th>\n",
       "      <td>M110465275</td>\n",
       "      <td>Q2824703</td>\n",
       "    </tr>\n",
       "    <tr>\n",
       "      <th>6</th>\n",
       "      <td>M110470101</td>\n",
       "      <td>Q5581039</td>\n",
       "    </tr>\n",
       "    <tr>\n",
       "      <th>7</th>\n",
       "      <td>M110482614</td>\n",
       "      <td>Q18327433</td>\n",
       "    </tr>\n",
       "    <tr>\n",
       "      <th>8</th>\n",
       "      <td>M110494600</td>\n",
       "      <td>Q362749</td>\n",
       "    </tr>\n",
       "    <tr>\n",
       "      <th>9</th>\n",
       "      <td>M110776582</td>\n",
       "      <td>Q18327433</td>\n",
       "    </tr>\n",
       "  </tbody>\n",
       "</table>\n",
       "</div>"
      ],
      "text/plain": [
       "            0          1\n",
       "0  M110377313   Q6239681\n",
       "1  M110421273    Q350301\n",
       "2  M110426964  Q22977459\n",
       "3  M110427336  Q22977459\n",
       "4  M110465218   Q2824703\n",
       "5  M110465275   Q2824703\n",
       "6  M110470101   Q5581039\n",
       "7  M110482614  Q18327433\n",
       "8  M110494600    Q362749\n",
       "9  M110776582  Q18327433"
      ]
     },
     "execution_count": 25,
     "metadata": {},
     "output_type": "execute_result"
    }
   ],
   "source": [
    "import pandas as pd\n",
    "df = pd.DataFrame(mid_wd_list)\n",
    "df.head(10)"
   ]
  },
  {
   "cell_type": "code",
   "execution_count": 26,
   "id": "1d8ecb96",
   "metadata": {},
   "outputs": [
    {
     "data": {
      "text/plain": [
       "(3714, 2)"
      ]
     },
     "execution_count": 26,
     "metadata": {},
     "output_type": "execute_result"
    }
   ],
   "source": [
    "df.to_csv(\"SPACategories_Mid_WD.txt\")\n",
    "df.shape"
   ]
  },
  {
   "cell_type": "code",
   "execution_count": null,
   "id": "5e956e55",
   "metadata": {},
   "outputs": [],
   "source": [
    "end = datetime.now()\n",
    "print(\"Ended: \", end) \n",
    "print('Time elapsed (hh:mm:ss.ms) {}'.format(datetime.now() - start_time))"
   ]
  },
  {
   "cell_type": "code",
   "execution_count": null,
   "id": "08b0981d",
   "metadata": {},
   "outputs": [],
   "source": []
  }
 ],
 "metadata": {
  "kernelspec": {
   "display_name": "Python 3",
   "language": "python",
   "name": "python3"
  },
  "language_info": {
   "codemirror_mode": {
    "name": "ipython",
    "version": 3
   },
   "file_extension": ".py",
   "mimetype": "text/x-python",
   "name": "python",
   "nbconvert_exporter": "python",
   "pygments_lexer": "ipython3",
   "version": "3.9.4"
  }
 },
 "nbformat": 4,
 "nbformat_minor": 5
}
