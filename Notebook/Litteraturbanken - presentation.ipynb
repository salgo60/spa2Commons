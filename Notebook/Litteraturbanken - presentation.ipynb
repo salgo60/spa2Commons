{
 "cells": [
  {
   "attachments": {},
   "cell_type": "markdown",
   "id": "c2fd7c9a",
   "metadata": {},
   "source": [
    "### Test presentation True\n",
    "Test och se om vi kan populera beskriven av se [#13](https://github.com/salgo60/spa2Commons/issues/13​)\n",
    "\n",
    "Denna [Notebook](https://github.com/salgo60/spa2Commons/blob/main/Notebook/Litteraturbanken%20-%20presentation.ipynb) \n"
   ]
  },
  {
   "cell_type": "code",
   "execution_count": 1,
   "id": "f91a25e9",
   "metadata": {},
   "outputs": [
    {
     "name": "stdout",
     "output_type": "stream",
     "text": [
      "Last run:  2023-01-05 13:29:52.233378\n"
     ]
    }
   ],
   "source": [
    "from datetime import datetime\n",
    "start_time  = datetime.now()\n",
    "print(\"Last run: \", start_time)"
   ]
  },
  {
   "cell_type": "code",
   "execution_count": 2,
   "id": "b1569c18",
   "metadata": {},
   "outputs": [],
   "source": [
    "import urllib3, json\n",
    "import pandas as pd \n",
    "http = urllib3.PoolManager() \n",
    "pd.set_option(\"display.max.columns\", None) \n",
    " \n",
    "url = \"https://litteraturbanken.se/api/get_authors\"\n",
    "r = http.request('GET', url)\n",
    "data = json.loads(r.data)\n",
    "df = pd.json_normalize(data[\"data\"])"
   ]
  },
  {
   "cell_type": "code",
   "execution_count": 3,
   "id": "9ea5312a",
   "metadata": {},
   "outputs": [
    {
     "name": "stdout",
     "output_type": "stream",
     "text": [
      "<class 'pandas.core.frame.DataFrame'>\n",
      "RangeIndex: 4712 entries, 0 to 4711\n",
      "Data columns (total 50 columns):\n",
      " #   Column                         Non-Null Count  Dtype  \n",
      "---  ------                         --------------  -----  \n",
      " 0   authorid                       4712 non-null   object \n",
      " 1   authorid_norm                  4712 non-null   object \n",
      " 2   db_checksum                    4712 non-null   object \n",
      " 3   db_timestamp                   4712 non-null   int64  \n",
      " 4   doc_type                       4712 non-null   object \n",
      " 5   full_name                      4712 non-null   object \n",
      " 6   gender                         4712 non-null   object \n",
      " 7   imported                       4072 non-null   object \n",
      " 8   intro                          746 non-null    object \n",
      " 9   librisid                       2689 non-null   object \n",
      " 10  name_for_index                 4712 non-null   object \n",
      " 11  pictureinfo                    224 non-null    object \n",
      " 12  searchable                     4712 non-null   bool   \n",
      " 13  show                           4712 non-null   bool   \n",
      " 14  surname                        4712 non-null   object \n",
      " 15  updated                        4072 non-null   object \n",
      " 16  birth.date                     4432 non-null   object \n",
      " 17  birth.plain                    4712 non-null   object \n",
      " 18  death.date                     2646 non-null   object \n",
      " 19  death.plain                    3971 non-null   object \n",
      " 20  wikidata.birthplace            2156 non-null   object \n",
      " 21  wikidata.birthplace_label      2156 non-null   object \n",
      " 22  wikidata.deathplace            1870 non-null   object \n",
      " 23  wikidata.deathplace_label      1870 non-null   object \n",
      " 24  wikidata.image                 1652 non-null   object \n",
      " 25  wikidata.sbl_link              890 non-null    object \n",
      " 26  wikidata.skbl_link             171 non-null    object \n",
      " 27  wikidata.sol_link              142 non-null    object \n",
      " 28  wikidata.wikidata_id           2881 non-null   object \n",
      " 29  wikidata.wikipedia             2115 non-null   object \n",
      " 30  db_timestamp_updated           2974 non-null   float64\n",
      " 31  intro_text                     746 non-null    object \n",
      " 32  popularity                     2477 non-null   float64\n",
      " 33  pseudonym                      151 non-null    object \n",
      " 34  dramawebben.intro              114 non-null    object \n",
      " 35  dramawebben.intro_author       113 non-null    object \n",
      " 36  dramawebben.intro_author_norm  113 non-null    object \n",
      " 37  dramawebben.legacy_url         127 non-null    object \n",
      " 38  dramawebben.picture            82 non-null     object \n",
      " 39  sources                        543 non-null    object \n",
      " 40  other_name                     111 non-null    object \n",
      " 41  intro_author                   419 non-null    object \n",
      " 42  intro_author_norm              419 non-null    object \n",
      " 43  dramawebben.picture_info       76 non-null     object \n",
      " 44  picture                        312 non-null    object \n",
      " 45  bibliography                   19 non-null     object \n",
      " 46  external_ref                   9 non-null      object \n",
      " 47  presentation                   37 non-null     object \n",
      " 48  seemore                        4 non-null      object \n",
      " 49  dramawebben.sources            6 non-null      object \n",
      "dtypes: bool(2), float64(2), int64(1), object(45)\n",
      "memory usage: 1.7+ MB\n"
     ]
    }
   ],
   "source": [
    "df.info()"
   ]
  },
  {
   "cell_type": "code",
   "execution_count": 4,
   "id": "6ca743fa",
   "metadata": {},
   "outputs": [
    {
     "data": {
      "text/plain": [
       "True     33\n",
       "False     4\n",
       "Name: presentation, dtype: int64"
      ]
     },
     "execution_count": 4,
     "metadata": {},
     "output_type": "execute_result"
    }
   ],
   "source": [
    "df[\"presentation\"].value_counts()"
   ]
  },
  {
   "cell_type": "code",
   "execution_count": 5,
   "id": "c64c4a99",
   "metadata": {},
   "outputs": [],
   "source": [
    "dfPresentation = df[~df['presentation'].isna()]"
   ]
  },
  {
   "cell_type": "code",
   "execution_count": 6,
   "id": "858410c6",
   "metadata": {},
   "outputs": [
    {
     "data": {
      "text/plain": [
       "True     33\n",
       "False     4\n",
       "Name: presentation, dtype: int64"
      ]
     },
     "execution_count": 6,
     "metadata": {},
     "output_type": "execute_result"
    }
   ],
   "source": [
    "dfPresentation[\"presentation\"].value_counts()"
   ]
  },
  {
   "cell_type": "code",
   "execution_count": 7,
   "id": "8e669b9a",
   "metadata": {},
   "outputs": [],
   "source": [
    "dfPresentationTrue = dfPresentation[dfPresentation[\"presentation\"]].copy()"
   ]
  },
  {
   "cell_type": "code",
   "execution_count": 8,
   "id": "cf1b3ce7",
   "metadata": {},
   "outputs": [
    {
     "data": {
      "text/plain": [
       "True     33\n",
       "False     4\n",
       "Name: presentation, dtype: int64"
      ]
     },
     "execution_count": 8,
     "metadata": {},
     "output_type": "execute_result"
    }
   ],
   "source": [
    "dfPresentation[\"presentation\"].value_counts()"
   ]
  },
  {
   "cell_type": "code",
   "execution_count": 9,
   "id": "9b144629",
   "metadata": {},
   "outputs": [
    {
     "data": {
      "text/plain": [
       "True    33\n",
       "Name: presentation, dtype: int64"
      ]
     },
     "execution_count": 9,
     "metadata": {},
     "output_type": "execute_result"
    }
   ],
   "source": [
    "dfPresentationTrue[\"presentation\"].value_counts()"
   ]
  },
  {
   "cell_type": "code",
   "execution_count": 10,
   "id": "a5c3d7c8",
   "metadata": {},
   "outputs": [
    {
     "name": "stdout",
     "output_type": "stream",
     "text": [
      "<class 'pandas.core.frame.DataFrame'>\n",
      "Int64Index: 33 entries, 93 to 4589\n",
      "Data columns (total 50 columns):\n",
      " #   Column                         Non-Null Count  Dtype  \n",
      "---  ------                         --------------  -----  \n",
      " 0   authorid                       33 non-null     object \n",
      " 1   authorid_norm                  33 non-null     object \n",
      " 2   db_checksum                    33 non-null     object \n",
      " 3   db_timestamp                   33 non-null     int64  \n",
      " 4   doc_type                       33 non-null     object \n",
      " 5   full_name                      33 non-null     object \n",
      " 6   gender                         33 non-null     object \n",
      " 7   imported                       33 non-null     object \n",
      " 8   intro                          33 non-null     object \n",
      " 9   librisid                       30 non-null     object \n",
      " 10  name_for_index                 33 non-null     object \n",
      " 11  pictureinfo                    25 non-null     object \n",
      " 12  searchable                     33 non-null     bool   \n",
      " 13  show                           33 non-null     bool   \n",
      " 14  surname                        33 non-null     object \n",
      " 15  updated                        33 non-null     object \n",
      " 16  birth.date                     32 non-null     object \n",
      " 17  birth.plain                    33 non-null     object \n",
      " 18  death.date                     23 non-null     object \n",
      " 19  death.plain                    29 non-null     object \n",
      " 20  wikidata.birthplace            31 non-null     object \n",
      " 21  wikidata.birthplace_label      31 non-null     object \n",
      " 22  wikidata.deathplace            27 non-null     object \n",
      " 23  wikidata.deathplace_label      27 non-null     object \n",
      " 24  wikidata.image                 31 non-null     object \n",
      " 25  wikidata.sbl_link              12 non-null     object \n",
      " 26  wikidata.skbl_link             12 non-null     object \n",
      " 27  wikidata.sol_link              6 non-null      object \n",
      " 28  wikidata.wikidata_id           32 non-null     object \n",
      " 29  wikidata.wikipedia             32 non-null     object \n",
      " 30  db_timestamp_updated           33 non-null     float64\n",
      " 31  intro_text                     33 non-null     object \n",
      " 32  popularity                     33 non-null     float64\n",
      " 33  pseudonym                      6 non-null      object \n",
      " 34  dramawebben.intro              3 non-null      object \n",
      " 35  dramawebben.intro_author       3 non-null      object \n",
      " 36  dramawebben.intro_author_norm  3 non-null      object \n",
      " 37  dramawebben.legacy_url         4 non-null      object \n",
      " 38  dramawebben.picture            4 non-null      object \n",
      " 39  sources                        7 non-null      object \n",
      " 40  other_name                     1 non-null      object \n",
      " 41  intro_author                   19 non-null     object \n",
      " 42  intro_author_norm              19 non-null     object \n",
      " 43  dramawebben.picture_info       4 non-null      object \n",
      " 44  picture                        26 non-null     object \n",
      " 45  bibliography                   13 non-null     object \n",
      " 46  external_ref                   3 non-null      object \n",
      " 47  presentation                   33 non-null     object \n",
      " 48  seemore                        2 non-null      object \n",
      " 49  dramawebben.sources            0 non-null      object \n",
      "dtypes: bool(2), float64(2), int64(1), object(45)\n",
      "memory usage: 12.7+ KB\n"
     ]
    }
   ],
   "source": [
    "#just objects with show = True --> displayed in the web\n",
    "dfPresentationTrueShow = dfPresentationTrue[dfPresentationTrue[\"show\"]].copy() \n",
    "dfPresentationTrueShow.info()"
   ]
  },
  {
   "cell_type": "code",
   "execution_count": 11,
   "id": "cad7fc98",
   "metadata": {},
   "outputs": [
    {
     "data": {
      "text/plain": [
       "93         http://litteraturbanken.se/författare/AlmqvistCJL/presentation\n",
       "110            http://litteraturbanken.se/författare/AlvingB/presentation\n",
       "139         http://litteraturbanken.se/författare/AnderssonD/presentation\n",
       "161         http://litteraturbanken.se/författare/AnderssonP/presentation\n",
       "251            http://litteraturbanken.se/författare/AurellT/presentation\n",
       "328      http://litteraturbanken.se/författare/BenedictssonV/presentation\n",
       "618              http://litteraturbanken.se/författare/BoyeK/presentation\n",
       "652            http://litteraturbanken.se/författare/BremerF/presentation\n",
       "807        http://litteraturbanken.se/författare/CederborghF/presentation\n",
       "970         http://litteraturbanken.se/författare/DiktoniusE/presentation\n",
       "1012        http://litteraturbanken.se/författare/EdelfeldtI/presentation\n",
       "1244           http://litteraturbanken.se/författare/FerlinN/presentation\n",
       "1277    http://litteraturbanken.se/författare/FlygareCarlénE/presentation\n",
       "1358       http://litteraturbanken.se/författare/FrostensonK/presentation\n",
       "1431          http://litteraturbanken.se/författare/GierowKR/presentation\n",
       "1695          http://litteraturbanken.se/författare/HedbergO/presentation\n",
       "2239         http://litteraturbanken.se/författare/KnorringS/presentation\n",
       "2366         http://litteraturbanken.se/författare/LagerlöfS/presentation\n",
       "2424       http://litteraturbanken.se/författare/LarssonStig/presentation\n",
       "2571        http://litteraturbanken.se/författare/LindegrenE/presentation\n",
       "2617        http://litteraturbanken.se/författare/LindqvistS/presentation\n",
       "2861          http://litteraturbanken.se/författare/MattsonO/presentation\n",
       "3096       http://litteraturbanken.se/författare/NordströmEB/presentation\n",
       "3207          http://litteraturbanken.se/författare/OlssonJO/presentation\n",
       "3636           http://litteraturbanken.se/författare/SandelM/presentation\n",
       "3809          http://litteraturbanken.se/författare/SjögrenL/presentation\n",
       "3817        http://litteraturbanken.se/författare/SjöstrandI/presentation\n",
       "4039         http://litteraturbanken.se/författare/SundmanPO/presentation\n",
       "4111        http://litteraturbanken.se/författare/SöderbergH/presentation\n",
       "4118        http://litteraturbanken.se/författare/SödergranE/presentation\n",
       "4144            http://litteraturbanken.se/författare/TaubeE/presentation\n",
       "4312        http://litteraturbanken.se/författare/VallquistG/presentation\n",
       "4589           http://litteraturbanken.se/författare/WägnerE/presentation\n",
       "Name: authorid, dtype: object"
      ]
     },
     "execution_count": 11,
     "metadata": {},
     "output_type": "execute_result"
    }
   ],
   "source": [
    "pd.set_option('display.max_colwidth', None)\n",
    "\"http://litteraturbanken.se/författare/\" + dfPresentationTrueShow[\"authorid\"] + \"/presentation\""
   ]
  },
  {
   "cell_type": "code",
   "execution_count": 12,
   "id": "79698bd0",
   "metadata": {},
   "outputs": [],
   "source": [
    "dfPresentationTrueShow[[\"authorid\",\"wikidata.wikidata_id\"]].to_csv(\"LitteraturbankenPresentationer.csv\")"
   ]
  },
  {
   "cell_type": "code",
   "execution_count": 13,
   "id": "4ce79193",
   "metadata": {},
   "outputs": [
    {
     "name": "stdout",
     "output_type": "stream",
     "text": [
      "Ended:  2023-01-05 13:29:55.588496\n",
      "Time elapsed (hh:mm:ass.ms) 0:00:03.356294\n"
     ]
    }
   ],
   "source": [
    "end = datetime.now()\n",
    "print(\"Ended: \", end) \n",
    "print('Time elapsed (hh:mm:ass.ms) {}'.format(datetime.now() - start_time))"
   ]
  },
  {
   "cell_type": "code",
   "execution_count": null,
   "id": "e0417572",
   "metadata": {},
   "outputs": [],
   "source": []
  }
 ],
 "metadata": {
  "kernelspec": {
   "display_name": "Python 3",
   "language": "python",
   "name": "python3"
  },
  "language_info": {
   "codemirror_mode": {
    "name": "ipython",
    "version": 3
   },
   "file_extension": ".py",
   "mimetype": "text/x-python",
   "name": "python",
   "nbconvert_exporter": "python",
   "pygments_lexer": "ipython3",
   "version": "3.9.13"
  }
 },
 "nbformat": 4,
 "nbformat_minor": 5
}
