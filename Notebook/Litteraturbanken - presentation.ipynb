{
 "cells": [
  {
   "attachments": {},
   "cell_type": "markdown",
   "id": "c2fd7c9a",
   "metadata": {},
   "source": [
    "### Test presentation True\n",
    "Test och se om vi kan populera beskriven av se [#13](https://github.com/salgo60/spa2Commons/issues/13)\n",
    "\n",
    "Denna [Notebook](https://github.com/salgo60/spa2Commons/blob/main/Notebook/Litteraturbanken%20-%20presentation.ipynb) \n"
   ]
  },
  {
   "cell_type": "code",
   "execution_count": 1,
   "id": "f91a25e9",
   "metadata": {},
   "outputs": [
    {
     "name": "stdout",
     "output_type": "stream",
     "text": [
      "Last run:  2025-02-26 08:20:23.085394\n"
     ]
    }
   ],
   "source": [
    "from datetime import datetime\n",
    "start_time  = datetime.now()\n",
    "print(\"Last run: \", start_time)"
   ]
  },
  {
   "cell_type": "code",
   "execution_count": 2,
   "id": "b1569c18",
   "metadata": {},
   "outputs": [],
   "source": [
    "import urllib3, json\n",
    "import pandas as pd \n",
    "http = urllib3.PoolManager() \n",
    "pd.set_option(\"display.max.columns\", None) \n",
    " \n",
    "url = \"https://litteraturbanken.se/api/get_authors\"\n",
    "r = http.request('GET', url)\n",
    "data = json.loads(r.data)\n",
    "df = pd.json_normalize(data[\"data\"])"
   ]
  },
  {
   "cell_type": "code",
   "execution_count": 3,
   "id": "9ea5312a",
   "metadata": {},
   "outputs": [
    {
     "name": "stdout",
     "output_type": "stream",
     "text": [
      "<class 'pandas.core.frame.DataFrame'>\n",
      "RangeIndex: 5661 entries, 0 to 5660\n",
      "Data columns (total 53 columns):\n",
      " #   Column                         Non-Null Count  Dtype  \n",
      "---  ------                         --------------  -----  \n",
      " 0   authorid                       5661 non-null   object \n",
      " 1   authorid_norm                  5661 non-null   object \n",
      " 2   db_checksum                    5661 non-null   object \n",
      " 3   db_timestamp                   5661 non-null   int64  \n",
      " 4   db_timestamp_updated           3718 non-null   float64\n",
      " 5   doc_type                       5661 non-null   object \n",
      " 6   full_name                      5661 non-null   object \n",
      " 7   gender                         5661 non-null   object \n",
      " 8   imported                       5056 non-null   object \n",
      " 9   intro                          830 non-null    object \n",
      " 10  name_for_index                 5661 non-null   object \n",
      " 11  pictureinfo                    875 non-null    object \n",
      " 12  searchable                     5661 non-null   bool   \n",
      " 13  show                           5661 non-null   bool   \n",
      " 14  surname                        5661 non-null   object \n",
      " 15  updated                        5056 non-null   object \n",
      " 16  birth.date                     5661 non-null   object \n",
      " 17  birth.plain                    5661 non-null   object \n",
      " 18  death.date                     3307 non-null   object \n",
      " 19  death.plain                    4913 non-null   object \n",
      " 20  librisid                       3337 non-null   object \n",
      " 21  wikidata.birthplace            2815 non-null   object \n",
      " 22  wikidata.birthplace_label      2815 non-null   object \n",
      " 23  wikidata.blf_link              143 non-null    object \n",
      " 24  wikidata.deathplace            2448 non-null   object \n",
      " 25  wikidata.deathplace_label      2448 non-null   object \n",
      " 26  wikidata.image                 2172 non-null   object \n",
      " 27  wikidata.librisid              3081 non-null   object \n",
      " 28  wikidata.sbl_link              1048 non-null   object \n",
      " 29  wikidata.skbl_link             213 non-null    object \n",
      " 30  wikidata.sol_link              159 non-null    object \n",
      " 31  wikidata.wikidata_id           3818 non-null   object \n",
      " 32  wikidata.wikipedia             2723 non-null   object \n",
      " 33  intro_text                     830 non-null    object \n",
      " 34  picture                        973 non-null    object \n",
      " 35  popularity                     3098 non-null   float64\n",
      " 36  pseudonym                      169 non-null    object \n",
      " 37  dramawebben.intro              114 non-null    object \n",
      " 38  dramawebben.intro_author       113 non-null    object \n",
      " 39  dramawebben.intro_author_norm  113 non-null    object \n",
      " 40  dramawebben.legacy_url         127 non-null    object \n",
      " 41  dramawebben.picture            83 non-null     object \n",
      " 42  sources                        567 non-null    object \n",
      " 43  other_name                     245 non-null    object \n",
      " 44  intro_author                   436 non-null    object \n",
      " 45  intro_author_norm              436 non-null    object \n",
      " 46  dramawebben.picture_info       77 non-null     object \n",
      " 47  bibliography                   19 non-null     object \n",
      " 48  external_ref                   18 non-null     object \n",
      " 49  presentation                   37 non-null     object \n",
      " 50  seemore                        4 non-null      object \n",
      " 51  changes                        10 non-null     object \n",
      " 52  dramawebben.sources            6 non-null      object \n",
      "dtypes: bool(2), float64(2), int64(1), object(48)\n",
      "memory usage: 2.2+ MB\n"
     ]
    }
   ],
   "source": [
    "df.info()"
   ]
  },
  {
   "cell_type": "code",
   "execution_count": 4,
   "id": "6ca743fa",
   "metadata": {},
   "outputs": [
    {
     "data": {
      "text/plain": [
       "presentation\n",
       "True     33\n",
       "False     4\n",
       "Name: count, dtype: int64"
      ]
     },
     "execution_count": 4,
     "metadata": {},
     "output_type": "execute_result"
    }
   ],
   "source": [
    "df[\"presentation\"].value_counts()"
   ]
  },
  {
   "cell_type": "code",
   "execution_count": 5,
   "id": "4a2726e5",
   "metadata": {},
   "outputs": [],
   "source": [
    "dfPresentation = df[~df['presentation'].isna()]"
   ]
  },
  {
   "cell_type": "code",
   "execution_count": 6,
   "id": "aad41cb0",
   "metadata": {},
   "outputs": [
    {
     "data": {
      "text/plain": [
       "presentation\n",
       "True     33\n",
       "False     4\n",
       "Name: count, dtype: int64"
      ]
     },
     "execution_count": 6,
     "metadata": {},
     "output_type": "execute_result"
    }
   ],
   "source": [
    "dfPresentation[\"presentation\"].value_counts()"
   ]
  },
  {
   "cell_type": "code",
   "execution_count": 7,
   "id": "7d7b6ccc",
   "metadata": {},
   "outputs": [],
   "source": [
    "dfPresentationTrue = dfPresentation[dfPresentation[\"presentation\"]].copy()"
   ]
  },
  {
   "cell_type": "code",
   "execution_count": 8,
   "id": "0dbce189",
   "metadata": {},
   "outputs": [
    {
     "data": {
      "text/plain": [
       "presentation\n",
       "True     33\n",
       "False     4\n",
       "Name: count, dtype: int64"
      ]
     },
     "execution_count": 8,
     "metadata": {},
     "output_type": "execute_result"
    }
   ],
   "source": [
    "dfPresentation[\"presentation\"].value_counts()"
   ]
  },
  {
   "cell_type": "code",
   "execution_count": 9,
   "id": "0b1bfb85",
   "metadata": {},
   "outputs": [
    {
     "data": {
      "text/plain": [
       "presentation\n",
       "True    33\n",
       "Name: count, dtype: int64"
      ]
     },
     "execution_count": 9,
     "metadata": {},
     "output_type": "execute_result"
    }
   ],
   "source": [
    "dfPresentationTrue[\"presentation\"].value_counts()"
   ]
  },
  {
   "cell_type": "code",
   "execution_count": 10,
   "id": "a5c3d7c8",
   "metadata": {},
   "outputs": [
    {
     "name": "stdout",
     "output_type": "stream",
     "text": [
      "<class 'pandas.core.frame.DataFrame'>\n",
      "Index: 33 entries, 119 to 5503\n",
      "Data columns (total 53 columns):\n",
      " #   Column                         Non-Null Count  Dtype  \n",
      "---  ------                         --------------  -----  \n",
      " 0   authorid                       33 non-null     object \n",
      " 1   authorid_norm                  33 non-null     object \n",
      " 2   db_checksum                    33 non-null     object \n",
      " 3   db_timestamp                   33 non-null     int64  \n",
      " 4   db_timestamp_updated           33 non-null     float64\n",
      " 5   doc_type                       33 non-null     object \n",
      " 6   full_name                      33 non-null     object \n",
      " 7   gender                         33 non-null     object \n",
      " 8   imported                       33 non-null     object \n",
      " 9   intro                          33 non-null     object \n",
      " 10  name_for_index                 33 non-null     object \n",
      " 11  pictureinfo                    29 non-null     object \n",
      " 12  searchable                     33 non-null     bool   \n",
      " 13  show                           33 non-null     bool   \n",
      " 14  surname                        33 non-null     object \n",
      " 15  updated                        33 non-null     object \n",
      " 16  birth.date                     33 non-null     object \n",
      " 17  birth.plain                    33 non-null     object \n",
      " 18  death.date                     23 non-null     object \n",
      " 19  death.plain                    29 non-null     object \n",
      " 20  librisid                       30 non-null     object \n",
      " 21  wikidata.birthplace            32 non-null     object \n",
      " 22  wikidata.birthplace_label      32 non-null     object \n",
      " 23  wikidata.blf_link              2 non-null      object \n",
      " 24  wikidata.deathplace            29 non-null     object \n",
      " 25  wikidata.deathplace_label      29 non-null     object \n",
      " 26  wikidata.image                 32 non-null     object \n",
      " 27  wikidata.librisid              33 non-null     object \n",
      " 28  wikidata.sbl_link              13 non-null     object \n",
      " 29  wikidata.skbl_link             12 non-null     object \n",
      " 30  wikidata.sol_link              7 non-null      object \n",
      " 31  wikidata.wikidata_id           33 non-null     object \n",
      " 32  wikidata.wikipedia             33 non-null     object \n",
      " 33  intro_text                     33 non-null     object \n",
      " 34  picture                        30 non-null     object \n",
      " 35  popularity                     33 non-null     float64\n",
      " 36  pseudonym                      6 non-null      object \n",
      " 37  dramawebben.intro              3 non-null      object \n",
      " 38  dramawebben.intro_author       3 non-null      object \n",
      " 39  dramawebben.intro_author_norm  3 non-null      object \n",
      " 40  dramawebben.legacy_url         4 non-null      object \n",
      " 41  dramawebben.picture            4 non-null      object \n",
      " 42  sources                        7 non-null      object \n",
      " 43  other_name                     2 non-null      object \n",
      " 44  intro_author                   19 non-null     object \n",
      " 45  intro_author_norm              19 non-null     object \n",
      " 46  dramawebben.picture_info       4 non-null      object \n",
      " 47  bibliography                   13 non-null     object \n",
      " 48  external_ref                   7 non-null      object \n",
      " 49  presentation                   33 non-null     object \n",
      " 50  seemore                        2 non-null      object \n",
      " 51  changes                        0 non-null      object \n",
      " 52  dramawebben.sources            0 non-null      object \n",
      "dtypes: bool(2), float64(2), int64(1), object(48)\n",
      "memory usage: 13.5+ KB\n"
     ]
    }
   ],
   "source": [
    "#just objects with show = True --> displayed in the web\n",
    "dfPresentationTrueShow = dfPresentationTrue[dfPresentationTrue[\"show\"]].copy() \n",
    "dfPresentationTrueShow.info()"
   ]
  },
  {
   "cell_type": "code",
   "execution_count": 11,
   "id": "2a0ee501",
   "metadata": {},
   "outputs": [
    {
     "data": {
      "text/plain": [
       "119        http://litteraturbanken.se/författare/AlmqvistCJL/presentation\n",
       "137            http://litteraturbanken.se/författare/AlvingB/presentation\n",
       "176         http://litteraturbanken.se/författare/AnderssonD/presentation\n",
       "201         http://litteraturbanken.se/författare/AnderssonP/presentation\n",
       "303            http://litteraturbanken.se/författare/AurellT/presentation\n",
       "390      http://litteraturbanken.se/författare/BenedictssonV/presentation\n",
       "726              http://litteraturbanken.se/författare/BoyeK/presentation\n",
       "766            http://litteraturbanken.se/författare/BremerF/presentation\n",
       "951        http://litteraturbanken.se/författare/CederborghF/presentation\n",
       "1140        http://litteraturbanken.se/författare/DiktoniusE/presentation\n",
       "1190        http://litteraturbanken.se/författare/EdelfeldtI/presentation\n",
       "1470           http://litteraturbanken.se/författare/FerlinN/presentation\n",
       "1513    http://litteraturbanken.se/författare/FlygareCarlénE/presentation\n",
       "1610       http://litteraturbanken.se/författare/FrostensonK/presentation\n",
       "1696          http://litteraturbanken.se/författare/GierowKR/presentation\n",
       "2004          http://litteraturbanken.se/författare/HedbergO/presentation\n",
       "2647         http://litteraturbanken.se/författare/KnorringS/presentation\n",
       "2793         http://litteraturbanken.se/författare/LagerlöfS/presentation\n",
       "2863       http://litteraturbanken.se/författare/LarssonStig/presentation\n",
       "3043        http://litteraturbanken.se/författare/LindegrenE/presentation\n",
       "3095        http://litteraturbanken.se/författare/LindqvistS/presentation\n",
       "3403          http://litteraturbanken.se/författare/MattsonO/presentation\n",
       "3681       http://litteraturbanken.se/författare/NordströmEB/presentation\n",
       "3821          http://litteraturbanken.se/författare/OlssonJO/presentation\n",
       "4347           http://litteraturbanken.se/författare/SandelM/presentation\n",
       "4542          http://litteraturbanken.se/författare/SjögrenL/presentation\n",
       "4552        http://litteraturbanken.se/författare/SjöstrandI/presentation\n",
       "4808         http://litteraturbanken.se/författare/SundmanPO/presentation\n",
       "4896        http://litteraturbanken.se/författare/SöderbergH/presentation\n",
       "4904        http://litteraturbanken.se/författare/SödergranE/presentation\n",
       "4939            http://litteraturbanken.se/författare/TaubeE/presentation\n",
       "5153        http://litteraturbanken.se/författare/VallquistG/presentation\n",
       "5503           http://litteraturbanken.se/författare/WägnerE/presentation\n",
       "Name: authorid, dtype: object"
      ]
     },
     "execution_count": 11,
     "metadata": {},
     "output_type": "execute_result"
    }
   ],
   "source": [
    "pd.set_option('display.max_colwidth', None)\n",
    "\"http://litteraturbanken.se/författare/\" + dfPresentationTrueShow[\"authorid\"] + \"/presentation\""
   ]
  },
  {
   "cell_type": "code",
   "execution_count": 12,
   "id": "3dda863a",
   "metadata": {},
   "outputs": [],
   "source": [
    "dfPresentationTrueShow[[\"authorid\",\"wikidata.wikidata_id\"]].to_csv(\"LitteraturbankenPresentationer.csv\")"
   ]
  },
  {
   "cell_type": "code",
   "execution_count": 13,
   "id": "4ce79193",
   "metadata": {},
   "outputs": [
    {
     "name": "stdout",
     "output_type": "stream",
     "text": [
      "Ended:  2025-02-26 08:20:26.312839\n",
      "Time elapsed (hh:mm:ass.ms) 0:00:03.227505\n"
     ]
    }
   ],
   "source": [
    "end = datetime.now()\n",
    "print(\"Ended: \", end) \n",
    "print('Time elapsed (hh:mm:ass.ms) {}'.format(datetime.now() - start_time))"
   ]
  },
  {
   "cell_type": "code",
   "execution_count": null,
   "id": "e0417572",
   "metadata": {},
   "outputs": [],
   "source": []
  }
 ],
 "metadata": {
  "kernelspec": {
   "display_name": "Python 3 (ipykernel)",
   "language": "python",
   "name": "python3"
  },
  "language_info": {
   "codemirror_mode": {
    "name": "ipython",
    "version": 3
   },
   "file_extension": ".py",
   "mimetype": "text/x-python",
   "name": "python",
   "nbconvert_exporter": "python",
   "pygments_lexer": "ipython3",
   "version": "3.12.2"
  }
 },
 "nbformat": 4,
 "nbformat_minor": 5
}
