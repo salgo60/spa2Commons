{
 "cells": [
  {
   "cell_type": "markdown",
   "id": "42fa548f",
   "metadata": {},
   "source": [
    "Check if person on latest uploaded SPA photo is in Wikidata \n",
    "\n",
    "* [this Notebook](https://github.com/salgo60/spa2Commons/blob/main/Notebook/SPALatest.ipynb)\n",
    "* [Issue 7](https://github.com/salgo60/spa2Commons/issues/7)\n"
   ]
  },
  {
   "cell_type": "code",
   "execution_count": 2,
   "id": "e873f955",
   "metadata": {},
   "outputs": [],
   "source": [
    "urllatest = \"https://portrattarkiv.se/endpoints/latest.php\"\n"
   ]
  },
  {
   "cell_type": "code",
   "execution_count": null,
   "id": "5faea940",
   "metadata": {},
   "outputs": [],
   "source": []
  }
 ],
 "metadata": {
  "kernelspec": {
   "display_name": "Python 3",
   "language": "python",
   "name": "python3"
  },
  "language_info": {
   "codemirror_mode": {
    "name": "ipython",
    "version": 3
   },
   "file_extension": ".py",
   "mimetype": "text/x-python",
   "name": "python",
   "nbconvert_exporter": "python",
   "pygments_lexer": "ipython3",
   "version": "3.9.4"
  }
 },
 "nbformat": 4,
 "nbformat_minor": 5
}
