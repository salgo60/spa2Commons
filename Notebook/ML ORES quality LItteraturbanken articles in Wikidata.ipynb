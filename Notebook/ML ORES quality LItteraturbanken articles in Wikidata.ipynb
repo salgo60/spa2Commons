{
 "cells": [
  {
   "cell_type": "code",
   "execution_count": 3,
   "id": "0a7c31e4",
   "metadata": {},
   "outputs": [],
   "source": [
    "%matplotlib notebook\n",
    "import csv\n",
    "import json\n",
    "import time\n",
    "import sys\n",
    "\n",
    "import requests\n",
    "import mwapi\n",
    "import mwtypes\n",
    "import pandas\n",
    "import seaborn"
   ]
  },
  {
   "cell_type": "code",
   "execution_count": null,
   "id": "1b6c178e",
   "metadata": {},
   "outputs": [],
   "source": []
  }
 ],
 "metadata": {
  "kernelspec": {
   "display_name": "Python 3",
   "language": "python",
   "name": "python3"
  },
  "language_info": {
   "codemirror_mode": {
    "name": "ipython",
    "version": 3
   },
   "file_extension": ".py",
   "mimetype": "text/x-python",
   "name": "python",
   "nbconvert_exporter": "python",
   "pygments_lexer": "ipython3",
   "version": "3.9.4"
  }
 },
 "nbformat": 4,
 "nbformat_minor": 5
}
