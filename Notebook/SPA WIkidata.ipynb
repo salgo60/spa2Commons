{
 "cells": [
  {
   "cell_type": "markdown",
   "id": "5a44cf9d",
   "metadata": {},
   "source": [
    "Exempel hämta 5 poster från WIkidata som är kopplade till SPA (WD egenskap [P4819](https://www.wikidata.org/wiki/Property:P4819?uselang=sv)) med Python \n",
    "* se även [video](https://youtu.be/3FeZP8lqW7g)\n",
    "* SPARQL https://w.wiki/4HnJ\n",
    "* denna [Notebook](https://github.com/salgo60/spa2Commons/blob/main/Notebook/SPA%20WIkidata.ipynb) och relaterad [salgo60/spa2Commons/issues/9](https://github.com/salgo60/spa2Commons/issues/9)"
   ]
  },
  {
   "cell_type": "code",
   "execution_count": 3,
   "id": "fdfc8b17",
   "metadata": {},
   "outputs": [
    {
     "name": "stdout",
     "output_type": "stream",
     "text": [
      "{'item': {'type': 'uri', 'value': 'http://www.wikidata.org/entity/Q307693'}, 'SPA_P4819': {'type': 'literal', 'value': 'sj9PGLAlnmUAAAAAABUkSQ'}, 'itemLabel': {'xml:lang': 'en', 'type': 'literal', 'value': 'Öyvind Fahlström'}}\n",
      "{'item': {'type': 'uri', 'value': 'http://www.wikidata.org/entity/Q289555'}, 'SPA_P4819': {'type': 'literal', 'value': 'ciLMGSqrYjAAAAAAAAAbsw'}, 'itemLabel': {'xml:lang': 'en', 'type': 'literal', 'value': 'Östen Warnerbring'}}\n",
      "{'item': {'type': 'uri', 'value': 'http://www.wikidata.org/entity/Q298317'}, 'SPA_P4819': {'type': 'literal', 'value': '5TJc-sPXaKAAAAAAAAAnbg'}, 'itemLabel': {'xml:lang': 'en', 'type': 'literal', 'value': 'Östen Undén'}}\n",
      "{'item': {'type': 'uri', 'value': 'http://www.wikidata.org/entity/Q298308'}, 'SPA_P4819': {'type': 'literal', 'value': 'TNQaWo324IAAAAAAAADNrA'}, 'itemLabel': {'xml:lang': 'en', 'type': 'literal', 'value': 'Östen Bergstrand'}}\n",
      "{'item': {'type': 'uri', 'value': 'http://www.wikidata.org/entity/Q8079017'}, 'SPA_P4819': {'type': 'literal', 'value': 'sj9PGLAlnmUAAAAAABhuEA'}, 'itemLabel': {'xml:lang': 'en', 'type': 'literal', 'value': 'Örjan Lüning'}}\n"
     ]
    }
   ],
   "source": [
    "# pip install sparqlwrapper\n",
    "# https://rdflib.github.io/sparqlwrapper/\n",
    "\n",
    "import sys\n",
    "from SPARQLWrapper import SPARQLWrapper, JSON\n",
    "\n",
    "endpoint_url = \"https://query.wikidata.org/sparql\"\n",
    "\n",
    "query = \"\"\"#title Wikidata med egneskap SPA = P4819\n",
    "SELECT ?item ?itemLabel ?SPA_P4819\n",
    "{\n",
    "          ?item wdt:P4819 ?SPA_P4819\n",
    "  SERVICE wikibase:label { bd:serviceParam wikibase:language \"[AUTO_LANGUAGE],en\". }\n",
    "} \n",
    "ORDER BY DESC(?itemLabel)\n",
    "limit 5\"\"\"\n",
    "\n",
    "\n",
    "def get_results(endpoint_url, query):\n",
    "    user_agent = \"WDQS-example Python/%s.%s\" % (sys.version_info[0], sys.version_info[1])\n",
    "    # TODO adjust user agent; see https://w.wiki/CX6\n",
    "    sparql = SPARQLWrapper(endpoint_url, agent=user_agent)\n",
    "    sparql.setQuery(query)\n",
    "    sparql.setReturnFormat(JSON)\n",
    "    return sparql.query().convert()\n",
    "\n",
    "\n",
    "results = get_results(endpoint_url, query)\n",
    "\n",
    "for result in results[\"results\"][\"bindings\"]:\n",
    "    print(result)"
   ]
  },
  {
   "cell_type": "code",
   "execution_count": null,
   "id": "e5726ae7",
   "metadata": {},
   "outputs": [],
   "source": []
  }
 ],
 "metadata": {
  "kernelspec": {
   "display_name": "Python 3",
   "language": "python",
   "name": "python3"
  },
  "language_info": {
   "codemirror_mode": {
    "name": "ipython",
    "version": 3
   },
   "file_extension": ".py",
   "mimetype": "text/x-python",
   "name": "python",
   "nbconvert_exporter": "python",
   "pygments_lexer": "ipython3",
   "version": "3.9.4"
  }
 },
 "nbformat": 4,
 "nbformat_minor": 5
}
