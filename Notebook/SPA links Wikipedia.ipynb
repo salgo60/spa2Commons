{
 "cells": [
  {
   "cell_type": "markdown",
   "id": "71d0f1b8",
   "metadata": {},
   "source": [
    "## Test extract links Wikipedia\n",
    "Looks we have a limit of 10000 records see [Notebook](https://github.com/salgo60/spa2Commons/blob/main/Notebook/SPA%20test.ipynb) - Test 5 \n",
    "\n",
    "A try to combine that search with birth year\n",
    "* result just 10000 records found **lesson learned** is a limiutation of the API\n"
   ]
  },
  {
   "cell_type": "code",
   "execution_count": 1,
   "id": "4a3957d7",
   "metadata": {},
   "outputs": [
    {
     "name": "stdout",
     "output_type": "stream",
     "text": [
      "Last run:  2021-10-25 00:02:03.693185\n"
     ]
    }
   ],
   "source": [
    "from datetime import datetime\n",
    "start_time  = datetime.now()\n",
    "print(\"Last run: \", start_time)"
   ]
  },
  {
   "cell_type": "code",
   "execution_count": 2,
   "id": "bd9e4cef",
   "metadata": {},
   "outputs": [],
   "source": [
    "import urllib3, json\n",
    "import pandas as pd \n",
    "http = urllib3.PoolManager() \n",
    "\n",
    "url= \"https://portrattarkiv.se/endpoints/latest.php\"\n",
    "url= \"https://xn--portrttarkiv-kcb.se/endpoints/search.php\"\n",
    "url= \"https://portrattarkiv.se/endpoints/search.php\"  \n"
   ]
  },
  {
   "cell_type": "code",
   "execution_count": 3,
   "id": "6a24711e",
   "metadata": {},
   "outputs": [
    {
     "name": "stdout",
     "output_type": "stream",
     "text": [
      "https://portrattarkiv.se/endpoints/search.php\n",
      "\n",
      "\n",
      "year 1780 \tfrom:  0 \tlimit 10000 \n",
      "http status  200\n",
      "\n",
      "Total:  17187\n",
      "{'total': 5, 'successful': 5, 'skipped': 0, 'failed': 0}\n",
      "Hits:  10000\n",
      "\n",
      "\n",
      "year 1830 \tfrom:  0 \tlimit 10000 \n",
      "http status  200\n",
      "\n",
      "Total:  17187\n",
      "{'total': 5, 'successful': 5, 'skipped': 0, 'failed': 0}\n",
      "Hits:  10000\n",
      "\n",
      "\n",
      "year 1880 \tfrom:  0 \tlimit 10000 \n",
      "http status  200\n",
      "\n",
      "Total:  17187\n",
      "{'total': 5, 'successful': 5, 'skipped': 0, 'failed': 0}\n",
      "Hits:  10000\n"
     ]
    }
   ],
   "source": [
    "from tqdm.notebook import tqdm  \n",
    "SPAdetail = \"https://portrattarkiv.se/details/\"\n",
    "print(url)  \n",
    "\n",
    "#print(\"\\n\",row[\"search\"],row[\"item\"])\n",
    "limit = 10000\n",
    "listdf = []\n",
    "for year in range(1780,1910,50):\n",
    "    for start in range(0,10000,limit):\n",
    "        print(\"\\n\\nyear\", year,\"\\tfrom: \",start,\"\\tlimit\",limit,\"\")\n",
    "        encoded_body = json.dumps({\n",
    "            \"limit\": limit,\n",
    "            \"from\":  start,\n",
    "            \"year\":  year,\n",
    "            \"facts\":{\"URL\":\"https://sv.wikipedia.org/wiki\"}\n",
    "        })\n",
    "    \n",
    "        r = http.request('POST', url,\n",
    "            headers={'Content-Type': 'application/json'},\n",
    "            body=encoded_body)\n",
    "        print(\"http status \", r.status)\n",
    "        if r.status != 200:\n",
    "            print(\"Exit \",r.status)\n",
    "            print(r)\n",
    "            break\n",
    "        \n",
    "    \n",
    "        data = json.loads(r.data.decode('utf-8'),) \n",
    "        urls = []\n",
    "\n",
    "        print(\"\\nTotal: \",data[\"hits\"][\"total\"])\n",
    "        print(data[\"_shards\"])\n",
    "        print(\"Hits: \",len(data[\"hits\"][\"hits\"]))\n",
    "        df = pd.json_normalize(data[\"hits\"][\"hits\"])\n",
    "        listdf.append(df)"
   ]
  },
  {
   "cell_type": "code",
   "execution_count": 4,
   "id": "23ac19e3",
   "metadata": {},
   "outputs": [
    {
     "data": {
      "text/plain": [
       "3"
      ]
     },
     "execution_count": 4,
     "metadata": {},
     "output_type": "execute_result"
    }
   ],
   "source": [
    "len(listdf)"
   ]
  },
  {
   "cell_type": "code",
   "execution_count": 5,
   "id": "31b580da",
   "metadata": {},
   "outputs": [],
   "source": [
    "dfTot = pd.concat(listdf) "
   ]
  },
  {
   "cell_type": "code",
   "execution_count": 6,
   "id": "19baf1ae",
   "metadata": {},
   "outputs": [],
   "source": [
    "#for c in dfTot.columns:\n",
    "#    print(c)"
   ]
  },
  {
   "cell_type": "code",
   "execution_count": 7,
   "id": "f465e11d",
   "metadata": {},
   "outputs": [
    {
     "data": {
      "text/plain": [
       "30000"
      ]
     },
     "execution_count": 7,
     "metadata": {},
     "output_type": "execute_result"
    }
   ],
   "source": [
    "len(dfTot)"
   ]
  },
  {
   "cell_type": "code",
   "execution_count": 8,
   "id": "37d51c27",
   "metadata": {},
   "outputs": [],
   "source": [
    " df = dfTot.drop_duplicates(subset = [\"_id\"])\n"
   ]
  },
  {
   "cell_type": "code",
   "execution_count": 9,
   "id": "b465bfe0",
   "metadata": {},
   "outputs": [
    {
     "data": {
      "text/plain": [
       "10000"
      ]
     },
     "execution_count": 9,
     "metadata": {},
     "output_type": "execute_result"
    }
   ],
   "source": [
    "len(df[{\"_id\",\"_source.Facts.URL\"}])"
   ]
  },
  {
   "cell_type": "code",
   "execution_count": 10,
   "id": "cf161d25",
   "metadata": {
    "scrolled": true
   },
   "outputs": [
    {
     "data": {
      "application/vnd.jupyter.widget-view+json": {
       "model_id": "ae43a3fa1c1b438f86640b08cb6ef8bb",
       "version_major": 2,
       "version_minor": 0
      },
      "text/plain": [
       "  0%|          | 0/10000 [00:00<?, ?it/s]"
      ]
     },
     "metadata": {},
     "output_type": "display_data"
    },
    {
     "name": "stdout",
     "output_type": "stream",
     "text": [
      "Todo sj9PGLAlnmUAAAAAACaEqg Q61992416 https://sv.wikipedia.org/wiki/Fannyudde\n",
      "Todo seuNpYu6DKAAAAAAAABhOA Q16158940 https://sv.wikipedia.org/wiki/Thorsten_Arwidsson_(kartograf)\n",
      "Todo seuNpYu6DKAAAAAAAABhOA Q16158940 https://sv.wikipedia.org/wiki/Thorsten_Arwidsson_(kartograf)\n",
      "Todo seuNpYu6DKAAAAAAAABjcQ Q5923884 https://sv.wikipedia.org/wiki/Thorgny_O.B.N._Krok\n",
      "Todo seuNpYu6DKAAAAAAAABjcQ Q5923884 https://sv.wikipedia.org/wiki/Thorgny_O.B.N._Krok\n",
      "Todo 28K7pO-SRrAAAAAAAACqzg Q5548345 https://sv.wikipedia.org/wiki/Hjalmar_Alving\n",
      "Todo TNQaWo324IAAAAAAAADUzw Q26240497 https://sv.wikipedia.org/wiki/Einar_Bergwall\n",
      "Todo sj9PGLAlnmUAAAAAAB2U_w Q747922 https://sv.wikipedia.org/wiki/John_Erhard_Areschoug\n",
      "Todo sj9PGLAlnmUAAAAAABJ7ig Q24680604 https://sv.wikipedia.org/wiki/Helmer_Bratt\n",
      "Todo TNQaWo324IAAAAAAAAC0ZQ Q656239 https://sv.wikipedia.org/wiki/Per_Gustaf_Berg\n",
      "Todo WQknIBFpuuAAAAAAAAN7jQ Q1353945 https://sv.wikipedia.org/wiki/Erik_Gustaf_Lidbeck\n",
      "Todo rkIpfGqHXrAAAAAAAACSyA Q97483532 https://sv.wikipedia.org/wiki/Octavia_Lundell\n",
      "Todo rkIpfGqHXrAAAAAAAADkBg Q4960525 https://sv.wikipedia.org/wiki/Emelie_Lagergren\n",
      "Todo sj9PGLAlnmUAAAAAABNUSQ Q5817766 https://sv.wikipedia.org/wiki/Karl_Husberg\n",
      "Todo 0piq-fX0h5AAAAAAAAA6RQ Q5914144 https://sv.wikipedia.org/wiki/Carl_Arvid_Klingspor\n",
      "Todo sj9PGLAlnmUAAAAAAB5WWw Q65248 https://sv.wikipedia.org/wiki/Andreas_Peter_Bernstorff\n",
      "Todo NhqpvvI9tpAAAAAAAAAyZQ Q1039042 https://sv.wikipedia.org/wiki/Carl_Johan_Tornberg\n",
      "Todo sj9PGLAlnmUAAAAAABNv-g Q5543973 https://sv.wikipedia.org/wiki/Holger_Ahlenius\n",
      "Todo sj9PGLAlnmUAAAAAAA2CMg Q18237111 https://sv.wikipedia.org/wiki/Gunnar_Agge\n",
      "Todo TNQaWo324IAAAAAAAADAbQ Q23988417 https://sv.wikipedia.org/wiki/Morris_Bergling\n",
      "Todo sj9PGLAlnmUAAAAAABUT7A Q5576187 https://sv.wikipedia.org/wiki/Anders_Billow\n",
      "Todo ciLMGSqrYjAAAAAAAAAU2Q Q101422185 https://sv.wikipedia.org/wiki/Jenny_Wallerstedt\n",
      "Todo Dysd0OxEWfAAAAAAAADTuA Q82066777 https://sv.wikipedia.org/wiki/Louise_Posse\n",
      "Todo sj9PGLAlnmUAAAAAACZRMg Q5485344 https://sv.wikipedia.org/wiki/Axel_Strindberg\n",
      "Todo 28K7pO-SRrAAAAAAAAC40Q Q5562877 https://sv.wikipedia.org/wiki/Gunnar_Axberger\n",
      "Todo 5TJc-sPXaKAAAAAAAAAnng Q41660503 https://sv.wikipedia.org/wiki/Fahlcrantz\n",
      "Todo WQknIBFpuuAAAAAAAANfLw Q362749 https://sv.wikipedia.org/wiki/Adolf_Ivar_Arwidsson\n",
      "Todo sj9PGLAlnmUAAAAAABUTMw Q23988745 https://sv.wikipedia.org/wiki/Henric_Benckert\n",
      "Todo 28K7pO-SRrAAAAAAAACo3A Q4069879 https://sv.wikipedia.org/wiki/Johan_Arrhenius\n",
      "Todo sj9PGLAlnmUAAAAAACZpNA Q97650036 https://sv.wikipedia.org/wiki/Gerda_Adde\n",
      "Todo 0piq-fX0h5AAAAAAAAAsmg Q5903377 https://sv.wikipedia.org/wiki/Carl_Kastman\n",
      "Todo j6S8rJvx9lAAAAAAAAAzHQ Q4953081 https://sv.wikipedia.org/wiki/Stina_Hedberg\n",
      "Todo sj9PGLAlnmUAAAAAAA2vJQ Q4939039 https://sv.wikipedia.org/wiki/Anna_Billing\n",
      "Todo ciLMGSqrYjAAAAAAAABNaA Q6243918 https://sv.wikipedia.org/wiki/Theodor_Winborg\n",
      "Todo rkIpfGqHXrAAAAAAAAB41w Q550245 https://sv.wikipedia.org/wiki/Sigurd_Lewerentz\n",
      "Todo TNQaWo324IAAAAAAAAD-8A Q5570248 https://sv.wikipedia.org/wiki/Jon_Bengtsson\n",
      "Todo seuNpYu6DKAAAAAAAABjSg Q5586574 https://sv.wikipedia.org/wiki/Richard_Bring\n",
      "Todo sj9PGLAlnmUAAAAAABKbFA Q5547843 https://sv.wikipedia.org/wiki/Sydney_Alrutz\n",
      "Todo sj9PGLAlnmUAAAAAAA5k9A Q4935677 https://sv.wikipedia.org/wiki/Hedda_Anderson\n",
      "Todo sj9PGLAlnmUAAAAAAA3fSg Q5558915 https://sv.wikipedia.org/wiki/Carl_David_Arfwedson\n",
      "Todo sj9PGLAlnmUAAAAAAB2Tag Q640991 https://sv.wikipedia.org/wiki/Gustaf_Retzius\n",
      "Todo YB0QHyfj0hAAAAAAAAAbrg Q5040163 https://sv.wikipedia.org/wiki/Carl_Fredrik_von_Saltza\n",
      "Todo sj9PGLAlnmUAAAAAABfQyA Q5778433 https://sv.wikipedia.org/wiki/Rune_Gustavsson\n",
      "Todo sj9PGLAlnmUAAAAAABfPuw Q5858849 https://sv.wikipedia.org/wiki/Eric_Forsselius\n",
      "Todo Dysd0OxEWfAAAAAAAAArrQ Q6039805 https://sv.wikipedia.org/wiki/Pehr_Pehrsson_i_Norrsund\n",
      "Todo sj9PGLAlnmUAAAAAAA5BPg Q5554268 https://sv.wikipedia.org/wiki/Carl_Andersson_i_Hamra\n",
      "Todo rkIpfGqHXrAAAAAAAAHvnQ Q5959211 https://sv.wikipedia.org/wiki/John_Lingman\n",
      "Todo seuNpYu6DKAAAAAAAABhbA Q4992490 https://sv.wikipedia.org/wiki/Erik_Wilhelm_Dahlgren\n",
      "Todo sj9PGLAlnmUAAAAAABL4-Q Q98431857 https://sv.wikipedia.org/wiki/Otto_Nordensvan\n",
      "Todo sj9PGLAlnmUAAAAAABNVaA Q6233433 https://sv.wikipedia.org/wiki/Edvard_Wavrinsky\n",
      "Todo sj9PGLAlnmUAAAAAAB2_gQ Q5749111 https://sv.wikipedia.org/wiki/Erik_Gadelius\n",
      "Todo Dysd0OxEWfAAAAAAAAAfVg Q38234336 https://sv.wikipedia.org/wiki/Gottfrid_Palm\n",
      "Todo sj9PGLAlnmUAAAAAABla3Q Q19977115 https://sv.wikipedia.org/wiki/Nils_Ludvig_Stahre\n",
      "Todo 1ha4xkDj-uAAAAAAAAAEpg Q97636874 https://sv.wikipedia.org/wiki/Vilhelm_Gawell\n",
      "Todo sj9PGLAlnmUAAAAAABJ7pw Q5563637 https://sv.wikipedia.org/wiki/Louis_Backman\n",
      "Todo TNQaWo324IAAAAAAAACwBg Q59531634 https://sv.wikipedia.org/wiki/Ragnar_Berfenstam\n",
      "Todo sj9PGLAlnmUAAAAAAA2RWw Q5579601 https://sv.wikipedia.org/wiki/Gustaf_Blomquist\n",
      "Todo TNQaWo324IAAAAAAAADy0A Q5574680 https://sv.wikipedia.org/wiki/August_Beskow\n",
      "Todo sj9PGLAlnmUAAAAAABKw1A Q5795648 https://sv.wikipedia.org/wiki/Bertil_Hedenstierna\n",
      "Todo sj9PGLAlnmUAAAAAABT2Cg Q10684951 https://sv.wikipedia.org/wiki/Svenska_Bindgarnsfabriken\n",
      "Todo sj9PGLAlnmUAAAAAABHfWw Q6188771 https://sv.wikipedia.org/wiki/Albert_Stenbock\n",
      "Todo sj9PGLAlnmUAAAAAAA3TWw Q5563687 https://sv.wikipedia.org/wiki/Pierre_Backman\n",
      "Todo sj9PGLAlnmUAAAAAAB2VAw Q57351 https://sv.wikipedia.org/wiki/Ernst_Moritz_Arndt\n",
      "Todo sj9PGLAlnmUAAAAAAB4uww Q5568408 https://sv.wikipedia.org/wiki/Anders_Fredrik_Beckman\n",
      "Todo j6S8rJvx9lAAAAAAAABe7A Q19976594 https://sv.wikipedia.org/wiki/Ernst_Hogner\n",
      "Todo rkIpfGqHXrAAAAAAAADhMA Q267217 https://sv.wikipedia.org/wiki/Viveca_Lindfors\n",
      "Todo sj9PGLAlnmUAAAAAABKe3Q Q5542554 https://sv.wikipedia.org/wiki/Per_Otto_Adelborg\n",
      "Todo sj9PGLAlnmUAAAAAAA2A0Q Q10432053 https://sv.wikipedia.org/wiki/Bo_fajans\n",
      "Todo sj9PGLAlnmUAAAAAAByaxA Q5561426 https://sv.wikipedia.org/wiki/Sven_Aspling\n",
      "Todo 1ha4xkDj-uAAAAAAAAAjrg Q16945234 https://sv.wikipedia.org/wiki/Allan_Grauers\n",
      "Todo sj9PGLAlnmUAAAAAABlN3Q Q1356542 https://sv.wikipedia.org/wiki/Ernest_Thiel\n",
      "Todo TNQaWo324IAAAAAAAACzUw Q532510 https://sv.wikipedia.org/wiki/Natanael_Berg\n",
      "Todo ciLMGSqrYjAAAAAAAAA1zg Q6238552 https://sv.wikipedia.org/wiki/Wilhelm_Westrup\n",
      "Todo j6S8rJvx9lAAAAAAAACxjw Q1511788 https://sv.wikipedia.org/wiki/Gerhard_Holm\n",
      "Todo sj9PGLAlnmUAAAAAABVthQ Q23989540 https://sv.wikipedia.org/wiki/Greta_Braun-Giesenfeld\n",
      "Todo wbbNj8LLWMAAAAAAAABARg Q10454594 https://sv.wikipedia.org/wiki/Classic_kaffe\n",
      "Todo sj9PGLAlnmUAAAAAABg2AQ Q10700627 https://sv.wikipedia.org/wiki/Tottie\n",
      "Todo TNQaWo324IAAAAAAAACjFg Q5569198 https://sv.wikipedia.org/wiki/Kurt_Belfrage\n",
      "Todo YB0QHyfj0hAAAAAAAADPKQ Q6190734 https://sv.wikipedia.org/wiki/Johan_Stjernstedt\n",
      "Todo sj9PGLAlnmUAAAAAABJyuQ Q1586766 https://sv.wikipedia.org/wiki/Harry_Schein\n",
      "Todo rkIpfGqHXrAAAAAAAADUIQ Q5961097 https://sv.wikipedia.org/wiki/Carl_Ljunggren\n",
      "Todo sj9PGLAlnmUAAAAAAA4X9w Q5562596 https://sv.wikipedia.org/wiki/Pehr_Fabian_Aurivillius\n",
      "Todo sj9PGLAlnmUAAAAAAB2U2w Q5557473 https://sv.wikipedia.org/wiki/Ludvig_Annerstedt\n",
      "Todo sj9PGLAlnmUAAAAAABTV2A Q5572306 https://sv.wikipedia.org/wiki/Wilhelm_Bergling\n",
      "Todo TNQaWo324IAAAAAAAADYzA Q16501988 https://sv.wikipedia.org/wiki/Ingegerd_Beskow\n",
      "Todo TNQaWo324IAAAAAAAADI3A Q5572851 https://sv.wikipedia.org/wiki/Gustaf_Bergmark\n",
      "Todo sj9PGLAlnmUAAAAAAA4riw Q64711437 https://sv.wikipedia.org/wiki/Brita_Brilioth\n",
      "Todo sj9PGLAlnmUAAAAAABLJUg Q5804601 https://sv.wikipedia.org/wiki/Alfred_Heyman\n",
      "Todo TR3yO_GV8eAAAAAAAACPhg Q24878894 https://sv.wikipedia.org/wiki/Carl_Diedric_Engelhart\n",
      "Todo ciLMGSqrYjAAAAAAAABOUg Q958571 https://sv.wikipedia.org/wiki/Sven_Wingquist\n",
      "Todo sj9PGLAlnmUAAAAAABlneA Q5552979 https://sv.wikipedia.org/wiki/Kjell_Ander\n",
      "Todo sj9PGLAlnmUAAAAAAB3gyQ Q5722204 https://sv.wikipedia.org/wiki/Ture_Fabiansson\n",
      "Todo sj9PGLAlnmUAAAAAACZc0Q Q6051420 https://sv.wikipedia.org/wiki/Carl_von_Platen\n",
      "Todo YB0QHyfj0hAAAAAAAABSDQ Q6192576 https://sv.wikipedia.org/wiki/Gerhard_Strindlund\n",
      "Todo sj9PGLAlnmUAAAAAAA3O5w Q24680565 https://sv.wikipedia.org/wiki/Gregor_Aminoff\n",
      "Todo TNQaWo324IAAAAAAAAC0jA Q5571164 https://sv.wikipedia.org/wiki/Oscar_Berg_(politiker)\n",
      "Todo 1ha4xkDj-uAAAAAAAAAFPg Q4988547 https://sv.wikipedia.org/wiki/Ida_Gawell-Blumenthal\n",
      "Todo wbbNj8LLWMAAAAAAAABHmw Q6016402 https://sv.wikipedia.org/wiki/%C3%84rland_Noreen\n"
     ]
    },
    {
     "name": "stdout",
     "output_type": "stream",
     "text": [
      "Todo sj9PGLAlnmUAAAAAAA1tTQ Q5577360 https://sv.wikipedia.org/wiki/Adolf_Leopold_Bj%C3%B6rck\n",
      "Todo rkIpfGqHXrAAAAAAAABm6Q Q4802430 https://sv.wikipedia.org/wiki/Mauritz_Lindstr%C3%B6m\n",
      "Todo rkIpfGqHXrAAAAAAAAD3Cg Q5956089 https://sv.wikipedia.org/wiki/John_Lindgren_(historiker)\n",
      "Todo sj9PGLAlnmUAAAAAACYyRg Q16158211 https://sv.wikipedia.org/wiki/Anna-Lisa_Annell\n",
      "Todo I_2wtd5VefAAAAAAAABLGA Q274489 https://sv.wikipedia.org/wiki/Yngsj%C3%B6mordet\n",
      "Todo sj9PGLAlnmUAAAAAACd8mQ Q471307 https://sv.wikipedia.org/wiki/Karl-August_Fagerholm\n",
      "Todo sj9PGLAlnmUAAAAAABU-RQ Q4992736 https://sv.wikipedia.org/wiki/Carl_Wilhelm_B%C3%B6ttiger\n",
      "Todo wbbNj8LLWMAAAAAAAAAwXw Q27243339 https://sv.wikipedia.org/wiki/Nisser_(sl%C3%A4kt)\n",
      "Todo sj9PGLAlnmUAAAAAACZUTA Q16498578 https://sv.wikipedia.org/wiki/Marie-Anne_Bergman-Larby\n",
      "Todo sj9PGLAlnmUAAAAAABNsOw Q5578133 https://sv.wikipedia.org/wiki/Frey_Bj%C3%B6rlingson\n",
      "Todo sj9PGLAlnmUAAAAAAA3-Cw Q5563972 https://sv.wikipedia.org/wiki/G%C3%B6sta_Bagge\n",
      "Todo j6S8rJvx9lAAAAAAAAAr9g Q10518440 https://sv.wikipedia.org/wiki/Hasselblad_(sl%C3%A4kt)\n",
      "Todo sj9PGLAlnmUAAAAAAB4u4A Q52950 https://sv.wikipedia.org/wiki/Louis_De_Geer_(1818%E2%80%931896)\n",
      "Todo ciLMGSqrYjAAAAAAAAAtvQ Q1964861 https://sv.wikipedia.org/wiki/Sol-och-v%C3%A5rande\n",
      "Todo rkIpfGqHXrAAAAAAAAAngA Q5938418 https://sv.wikipedia.org/wiki/Olof_Larsson_i_R%C3%B6d%C3%B6n\n",
      "Todo YB0QHyfj0hAAAAAAAAA-fw Q98711021 https://sv.wikipedia.org/wiki/Staaff_(sl%C3%A4kt)\n",
      "Todo sj9PGLAlnmUAAAAAABL3vQ Q27243339 https://sv.wikipedia.org/wiki/Nisser_(sl%C3%A4kt)\n",
      "Todo YB0QHyfj0hAAAAAAAABHCQ Q4951765 https://sv.wikipedia.org/wiki/Kjerstin_G%C3%B6ransson-Ljungman\n",
      "Todo sj9PGLAlnmUAAAAAAB4u_A Q4942409 https://sv.wikipedia.org/wiki/Maria_Cederschi%C3%B6ld_(diakonissa)\n",
      "Todo sj9PGLAlnmUAAAAAABlRbw Q6190725 https://sv.wikipedia.org/wiki/August_Stjernstedt_(1828%E2%80%931909)\n",
      "Todo 9Y5iReTPHdAAAAAAAABNyw Q18245534 https://sv.wikipedia.org/wiki/Carl_August_Rydberg\n",
      "Todo sj9PGLAlnmUAAAAAABlT0g Q5938457 https://sv.wikipedia.org/wiki/Oscar_Larsson_i_M%C3%B6rtl%C3%B6sa\n",
      "Todo 9fCwuOWMwGAAAAAAAAAB4w Q10685071 https://sv.wikipedia.org/wiki/Svenska_J%C3%A4rnv%C3%A4gsverkst%C3%A4derna\n",
      "Todo sj9PGLAlnmUAAAAAABThMw Q10541905 https://sv.wikipedia.org/wiki/J%C3%A4rnv%C3%A4gsolyckan_i_Malmsl%C3%A4tt\n",
      "Todo TR3yO_GV8eAAAAAAAAA0wQ Q18238647 https://sv.wikipedia.org/wiki/Clas_Wilhelm_Eneberg\n",
      "Todo sj9PGLAlnmUAAAAAABF4Ew Q274489 https://sv.wikipedia.org/wiki/Yngsj%C3%B6mordet\n",
      "Todo mLh5P0pzYFAAAAAAAABWug Q10728408 https://sv.wikipedia.org/wiki/%C3%96stra_Sm%C3%A5lands_missionsf%C3%B6rening\n",
      "Todo sj9PGLAlnmUAAAAAABLYnw Q2167776 https://sv.wikipedia.org/wiki/Douglas_(%C3%A4tt)\n",
      "Todo Di4a42b6X_AAAAAAAAAONg Q40390111 https://sv.wikipedia.org/wiki/Bengt_Johansson_(f%C3%B6rs%C3%A4kringsbolagsdirekt%C3%B6r)\n",
      "Todo 4e1scVvZ-EAAAAAAAAAGrg Q10427446 https://sv.wikipedia.org/wiki/Baumgardt\n",
      "Todo j6S8rJvx9lAAAAAAAAAtcw Q18449253 https://sv.wikipedia.org/wiki/S%C3%A4llskapet_Gamla_Djurg%C3%A5rdare\n"
     ]
    }
   ],
   "source": [
    "from wikidata.client import Client\n",
    "from tqdm.notebook import tqdm \n",
    "\n",
    "def checkSPA(wikidata_id):\n",
    "    # get SPA \n",
    "    client = Client()\n",
    "    entity = client.get(wikidata_id, load=True)\n",
    "    try:\n",
    "        spa_prop = entity[client.get('P4819')]\n",
    "    except:\n",
    "        return False\n",
    "    return spa_prop\n",
    "def getWD (url):\n",
    "    baseUrl = \"https://sv.wikipedia.org/w/api.php?action=query&prop=pageprops|wbentityusage&titles=\"\n",
    "    title = url.replace(\"https://sv.wikipedia.org/wiki/\",\"\")\n",
    "    urlWD = baseUrl + title\n",
    "    wdr = http.request('Get', urlWD + \"&format=json\",\n",
    "                 headers={'Content-Type': 'application/json'})\n",
    "\n",
    "    if wdr.status != 200:\n",
    "        print(\"Error \", wdr.status)\n",
    "        return False\n",
    "    \n",
    "    datawd = json.loads(wdr.data.decode('utf-8'),) \n",
    "    pg_dict = datawd['query']['pages']\n",
    "    pg_key = list(pg_dict.keys())[0]\n",
    "    wikidata_id = pg_dict[pg_key]['pageprops']['wikibase_item']\n",
    "    return wikidata_id\n",
    "\n",
    "for index, row in tqdm( df.iterrows(),total= df.shape[0]):\n",
    "    #print(row['_id'], row['_source.Facts.URL'])\n",
    "    for n in row['_source.Facts.URL']:\n",
    "        if \"wikipedia\" in n.lower():\n",
    "            try: \n",
    "                wdrec = getWD(n)\n",
    "                if checkSPA(wdrec) == False:\n",
    "                    print (\"Todo\",row['_id'],wdrec,n)\n",
    "                #print (n,\"Value :\",getWD(n))\n",
    "            except:\n",
    "                pass\n",
    "  "
   ]
  },
  {
   "cell_type": "markdown",
   "id": "96bc9d3c",
   "metadata": {},
   "source": [
    "### Next step \n",
    "* Use [Open Refine](https://www.wikidata.org/wiki/Wikidata:Tools/OpenRefine) to set Wikidata [Property:P4819](https://www.wikidata.org/wiki/Property:P4819) \n",
    "* see video in Swedish \"[SPA API find same as Wikipedia and use OpenRefine . in Swedish](https://youtu.be/bTWtG3NA0uo)\"\n"
   ]
  },
  {
   "cell_type": "code",
   "execution_count": null,
   "id": "b6dd46b6",
   "metadata": {},
   "outputs": [],
   "source": []
  }
 ],
 "metadata": {
  "kernelspec": {
   "display_name": "Python 3",
   "language": "python",
   "name": "python3"
  },
  "language_info": {
   "codemirror_mode": {
    "name": "ipython",
    "version": 3
   },
   "file_extension": ".py",
   "mimetype": "text/x-python",
   "name": "python",
   "nbconvert_exporter": "python",
   "pygments_lexer": "ipython3",
   "version": "3.9.4"
  }
 },
 "nbformat": 4,
 "nbformat_minor": 5
}
