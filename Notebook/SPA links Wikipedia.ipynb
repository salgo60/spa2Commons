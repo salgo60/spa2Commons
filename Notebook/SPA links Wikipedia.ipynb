{
 "cells": [
  {
   "cell_type": "markdown",
   "id": "71d0f1b8",
   "metadata": {},
   "source": [
    "## Test extract links in SPA to Wikipedia\n",
    "Looks we have a limit of 10000 records\n",
    "* this  [Notebook](https://github.com/salgo60/spa2Commons/blob/main/Notebook/SPA%20links%20Wikipedia.ipynb) \n",
    "* video\n",
    "* [list WD objects with SPA set but no picture in Wikidata](https://sv.wikipedia.org/wiki/Anv%C3%A4ndare:Salgo60/Listeria/SvensktPortr%C3%A4ttarkiv/utanbild)\n",
    "  * Wikidata SPA [Property:P4819](https://www.wikidata.org/wiki/Property:P4819)\n",
    "### TODO\n",
    "* result just 10000 records found **lesson learned** is a limiutation of the API\n",
    "* maybe bad match URL need check caoital letters etc..."
   ]
  },
  {
   "cell_type": "code",
   "execution_count": 1,
   "id": "4a3957d7",
   "metadata": {},
   "outputs": [
    {
     "name": "stdout",
     "output_type": "stream",
     "text": [
      "Last run:  2021-10-28 02:32:20.192058\n"
     ]
    }
   ],
   "source": [
    "from datetime import datetime\n",
    "start_time  = datetime.now()\n",
    "print(\"Last run: \", start_time)"
   ]
  },
  {
   "cell_type": "code",
   "execution_count": 2,
   "id": "bd9e4cef",
   "metadata": {},
   "outputs": [],
   "source": [
    "import urllib3, json\n",
    "import pandas as pd \n",
    "http = urllib3.PoolManager() \n",
    "\n",
    "url= \"https://portrattarkiv.se/endpoints/latest.php\"\n",
    "url= \"https://xn--portrttarkiv-kcb.se/endpoints/search.php\"\n",
    "url= \"https://portrattarkiv.se/endpoints/search.php\"  \n"
   ]
  },
  {
   "cell_type": "code",
   "execution_count": 3,
   "id": "6a24711e",
   "metadata": {},
   "outputs": [
    {
     "name": "stdout",
     "output_type": "stream",
     "text": [
      "\n",
      "\n",
      "year 1780 \tfrom:  0 \tlimit 10000 \n",
      "http status  200\n",
      "\n",
      "Total:  17243\n",
      "{'total': 5, 'successful': 5, 'skipped': 0, 'failed': 0}\n",
      "Hits:  10000\n",
      "\n",
      "\n",
      "year 1830 \tfrom:  0 \tlimit 10000 \n",
      "http status  200\n",
      "\n",
      "Total:  17243\n",
      "{'total': 5, 'successful': 5, 'skipped': 0, 'failed': 0}\n",
      "Hits:  10000\n",
      "\n",
      "\n",
      "year 1880 \tfrom:  0 \tlimit 10000 \n",
      "http status  200\n",
      "\n",
      "Total:  17243\n",
      "{'total': 5, 'successful': 5, 'skipped': 0, 'failed': 0}\n",
      "Hits:  10000\n"
     ]
    }
   ],
   "source": [
    "from tqdm.notebook import tqdm  \n",
    "SPAdetail = \"https://portrattarkiv.se/details/\"\n",
    "\n",
    "#print(\"\\n\",row[\"search\"],row[\"item\"])\n",
    "limit = 10000\n",
    "listdf = []\n",
    "for year in range(1780,1910,50):\n",
    "    for start in range(0,10000,limit):\n",
    "        print(\"\\n\\nyear\", year,\"\\tfrom: \",start,\"\\tlimit\",limit,\"\")\n",
    "        encoded_body = json.dumps({\n",
    "            \"limit\": limit,\n",
    "            \"from\":  start,\n",
    "            \"year\":  year,\n",
    "            \"facts\":{\"URL\":\"https://sv.wikipedia.org/wiki\"}\n",
    "        })\n",
    "    \n",
    "        r = http.request('POST', url,\n",
    "            headers={'Content-Type': 'application/json'},\n",
    "            body=encoded_body)\n",
    "        print(\"http status \", r.status)\n",
    "        if r.status != 200:\n",
    "            print(\"Exit \",r.status)\n",
    "            print(r)\n",
    "            break\n",
    "        \n",
    "    \n",
    "        data = json.loads(r.data.decode('utf-8'),) \n",
    "        urls = []\n",
    "\n",
    "        print(\"\\nTotal: \",data[\"hits\"][\"total\"])\n",
    "        print(data[\"_shards\"])\n",
    "        print(\"Hits: \",len(data[\"hits\"][\"hits\"]))\n",
    "        df = pd.json_normalize(data[\"hits\"][\"hits\"])\n",
    "        listdf.append(df)"
   ]
  },
  {
   "cell_type": "code",
   "execution_count": 4,
   "id": "bf62d97f",
   "metadata": {},
   "outputs": [],
   "source": [
    "#listdf"
   ]
  },
  {
   "cell_type": "code",
   "execution_count": 5,
   "id": "23ac19e3",
   "metadata": {},
   "outputs": [
    {
     "data": {
      "text/plain": [
       "3"
      ]
     },
     "execution_count": 5,
     "metadata": {},
     "output_type": "execute_result"
    }
   ],
   "source": [
    "len(listdf)"
   ]
  },
  {
   "cell_type": "code",
   "execution_count": 6,
   "id": "31b580da",
   "metadata": {},
   "outputs": [],
   "source": [
    "dfTot = pd.concat(listdf) "
   ]
  },
  {
   "cell_type": "code",
   "execution_count": 7,
   "id": "19baf1ae",
   "metadata": {},
   "outputs": [],
   "source": [
    "#for c in dfTot.columns:\n",
    "#    print(c)"
   ]
  },
  {
   "cell_type": "code",
   "execution_count": 8,
   "id": "f465e11d",
   "metadata": {},
   "outputs": [
    {
     "data": {
      "text/plain": [
       "30000"
      ]
     },
     "execution_count": 8,
     "metadata": {},
     "output_type": "execute_result"
    }
   ],
   "source": [
    "len(dfTot)"
   ]
  },
  {
   "cell_type": "code",
   "execution_count": 9,
   "id": "37d51c27",
   "metadata": {},
   "outputs": [],
   "source": [
    " df = dfTot.drop_duplicates(subset = [\"_id\"])\n"
   ]
  },
  {
   "cell_type": "code",
   "execution_count": 10,
   "id": "b465bfe0",
   "metadata": {},
   "outputs": [
    {
     "data": {
      "text/plain": [
       "10000"
      ]
     },
     "execution_count": 10,
     "metadata": {},
     "output_type": "execute_result"
    }
   ],
   "source": [
    "len(df[{\"_id\",\"_source.Facts.URL\"}])"
   ]
  },
  {
   "cell_type": "code",
   "execution_count": 11,
   "id": "cf161d25",
   "metadata": {
    "scrolled": false
   },
   "outputs": [
    {
     "data": {
      "application/vnd.jupyter.widget-view+json": {
       "model_id": "564e070f998345d6b9c8af6f38c161d6",
       "version_major": 2,
       "version_minor": 0
      },
      "text/plain": [
       "  0%|          | 0/10000 [00:00<?, ?it/s]"
      ]
     },
     "metadata": {},
     "output_type": "display_data"
    },
    {
     "name": "stdout",
     "output_type": "stream",
     "text": [
      "Todo sj9PGLAlnmUAAAAAACaEqg Q61992416 https://sv.wikipedia.org/wiki/Fannyudde\n",
      "Todo 5TJc-sPXaKAAAAAAAAAnng Q41660503 https://sv.wikipedia.org/wiki/Fahlcrantz\n",
      "Todo sj9PGLAlnmUAAAAAABT2Cg Q10684951 https://sv.wikipedia.org/wiki/Svenska_Bindgarnsfabriken\n",
      "Todo sj9PGLAlnmUAAAAAAA2A0Q Q10432053 https://sv.wikipedia.org/wiki/Bo_fajans\n",
      "Todo NhqpvvI9tpAAAAAAAAAFYg Q6206374 https://sv.wikipedia.org/wiki/Carl_Herman_Tersmeden\n",
      "Todo sj9PGLAlnmUAAAAAABg2AQ Q10700627 https://sv.wikipedia.org/wiki/Tottie\n",
      "Todo wbbNj8LLWMAAAAAAAABARg Q10454594 https://sv.wikipedia.org/wiki/Classic_kaffe\n",
      "Todo I_2wtd5VefAAAAAAAABLGA Q274489 https://sv.wikipedia.org/wiki/Yngsj%C3%B6mordet\n",
      "Todo wbbNj8LLWMAAAAAAAAAwXw Q27243339 https://sv.wikipedia.org/wiki/Nisser_(sl%C3%A4kt)\n",
      "Todo IQojCnw0WmAAAAAAAAAzTA Q97482829 https://sv.wikipedia.org/wiki/Elias_Fries_(ingenj%C3%B6r)\n",
      "Todo YB0QHyfj0hAAAAAAAAA-fw Q98711021 https://sv.wikipedia.org/wiki/Staaff_(sl%C3%A4kt)\n",
      "Todo sj9PGLAlnmUAAAAAABL3vQ Q27243339 https://sv.wikipedia.org/wiki/Nisser_(sl%C3%A4kt)\n",
      "Todo 9fCwuOWMwGAAAAAAAAAB4w Q10685071 https://sv.wikipedia.org/wiki/Svenska_J%C3%A4rnv%C3%A4gsverkst%C3%A4derna\n",
      "Todo sj9PGLAlnmUAAAAAABThMw Q10541905 https://sv.wikipedia.org/wiki/J%C3%A4rnv%C3%A4gsolyckan_i_Malmsl%C3%A4tt\n",
      "Todo mLh5P0pzYFAAAAAAAABWug Q10728408 https://sv.wikipedia.org/wiki/%C3%96stra_Sm%C3%A5lands_missionsf%C3%B6rening\n",
      "Todo sj9PGLAlnmUAAAAAABF4Ew Q274489 https://sv.wikipedia.org/wiki/Yngsj%C3%B6mordet\n",
      "Todo sj9PGLAlnmUAAAAAABLYnw Q2167776 https://sv.wikipedia.org/wiki/Douglas_(%C3%A4tt)\n",
      "Todo 4e1scVvZ-EAAAAAAAAAGrg Q10427446 https://sv.wikipedia.org/wiki/Baumgardt\n"
     ]
    }
   ],
   "source": [
    "from wikidata.client import Client\n",
    "from tqdm.notebook import tqdm \n",
    "\n",
    "def checkSPA(wikidata_id):\n",
    "    # get SPA \n",
    "    client = Client()\n",
    "    entity = client.get(wikidata_id, load=True)\n",
    "    try:\n",
    "        spa_prop = entity[client.get('P4819')]\n",
    "    except:\n",
    "        return False\n",
    "    return spa_prop\n",
    "def getWD (url):\n",
    "    #print(url)\n",
    "    baseUrl = \"https://sv.wikipedia.org/w/api.php?action=query&prop=pageprops|wbentityusage&titles=\"\n",
    "    title = url.replace(\"https://sv.wikipedia.org/wiki/\",\"\")\n",
    "    urlWD = baseUrl + title\n",
    "    wdr = http.request('Get', urlWD + \"&format=json\",\n",
    "                 headers={'Content-Type': 'application/json'})\n",
    "\n",
    "    if wdr.status != 200:\n",
    "        print(\"Error \", wdr.status)\n",
    "        return False\n",
    "    \n",
    "    datawd = json.loads(wdr.data.decode('utf-8'),) \n",
    "    pg_dict = datawd['query']['pages']\n",
    "    pg_key = list(pg_dict.keys())[0]\n",
    "    wikidata_id = pg_dict[pg_key]['pageprops']['wikibase_item']\n",
    "    return wikidata_id\n",
    "\n",
    "for index, row in tqdm( df.iterrows(),total= df.shape[0]):\n",
    "    #print(row['_id'], row['_source.Facts.URL'])\n",
    "    for n in row['_source.Facts.URL']:\n",
    "        if \"wikipedia\" in n.lower():\n",
    "            try: \n",
    "                wdrec = getWD(n)\n",
    "                if checkSPA(wdrec) == False:\n",
    "                    print (\"Todo\",row['_id'],wdrec,n)\n",
    "                #print (n,\"Value :\",getWD(n))\n",
    "            except:\n",
    "                pass\n",
    "  "
   ]
  },
  {
   "cell_type": "markdown",
   "id": "71a122c7",
   "metadata": {},
   "source": [
    "### Next step \n",
    "* use [Open Refine](https://www.wikidata.org/wiki/Wikidata:Tools/OpenRefine) to set Wikidata [Property:P4819](https://www.wikidata.org/wiki/Property:P4819) \n",
    "* see video in Swedish \"[SPA API find same as Wikipedia and use OpenRefine . in Swedish](https://youtu.be/bTWtG3NA0uo)\"\n",
    "* [List WD objects with SPA set but no pictures](https://sv.wikipedia.org/wiki/Anv%C3%A4ndare:Salgo60/Listeria/SvensktPortr%C3%A4ttarkiv/utanbild)"
   ]
  },
  {
   "cell_type": "code",
   "execution_count": null,
   "id": "7ba28b30",
   "metadata": {},
   "outputs": [],
   "source": []
  }
 ],
 "metadata": {
  "kernelspec": {
   "display_name": "Python 3",
   "language": "python",
   "name": "python3"
  },
  "language_info": {
   "codemirror_mode": {
    "name": "ipython",
    "version": 3
   },
   "file_extension": ".py",
   "mimetype": "text/x-python",
   "name": "python",
   "nbconvert_exporter": "python",
   "pygments_lexer": "ipython3",
   "version": "3.9.4"
  }
 },
 "nbformat": 4,
 "nbformat_minor": 5
}
