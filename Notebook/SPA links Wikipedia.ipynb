{
 "cells": [
  {
   "cell_type": "markdown",
   "id": "71d0f1b8",
   "metadata": {},
   "source": [
    "## Test extract links Wikipedia\n",
    "Looks we have a limit of 10000 records see [Notebook](https://github.com/salgo60/spa2Commons/blob/main/Notebook/SPA%20test.ipynb) - Test 5 \n",
    "\n",
    "A try to combine that search with birth year\n",
    "* result just 10000 records found\n"
   ]
  },
  {
   "cell_type": "code",
   "execution_count": 3,
   "id": "4a3957d7",
   "metadata": {},
   "outputs": [
    {
     "name": "stdout",
     "output_type": "stream",
     "text": [
      "Last run:  2021-09-19 19:59:41.490914\n"
     ]
    }
   ],
   "source": [
    "from datetime import datetime\n",
    "start_time  = datetime.now()\n",
    "print(\"Last run: \", start_time)"
   ]
  },
  {
   "cell_type": "code",
   "execution_count": 4,
   "id": "bd9e4cef",
   "metadata": {},
   "outputs": [],
   "source": [
    "import urllib3, json\n",
    "import pandas as pd \n",
    "http = urllib3.PoolManager() \n",
    "\n",
    "url= \"https://portrattarkiv.se/endpoints/latest.php\"\n",
    "url= \"https://xn--portrttarkiv-kcb.se/endpoints/search.php\"\n",
    "url= \"https://portrattarkiv.se/endpoints/search.php\"  \n"
   ]
  },
  {
   "cell_type": "code",
   "execution_count": 6,
   "id": "6a24711e",
   "metadata": {},
   "outputs": [
    {
     "name": "stdout",
     "output_type": "stream",
     "text": [
      "https://portrattarkiv.se/endpoints/search.php\n",
      "\n",
      "\n",
      "year 1780 \tfrom:  0 \tlimit 10000 \n",
      "http status  200\n",
      "\n",
      "Total:  16489\n",
      "{'total': 5, 'successful': 5, 'skipped': 0, 'failed': 0}\n",
      "Hits:  10000\n",
      "\n",
      "\n",
      "year 1830 \tfrom:  0 \tlimit 10000 \n",
      "http status  200\n",
      "\n",
      "Total:  16489\n",
      "{'total': 5, 'successful': 5, 'skipped': 0, 'failed': 0}\n",
      "Hits:  10000\n",
      "\n",
      "\n",
      "year 1880 \tfrom:  0 \tlimit 10000 \n",
      "http status  200\n",
      "\n",
      "Total:  16489\n",
      "{'total': 5, 'successful': 5, 'skipped': 0, 'failed': 0}\n",
      "Hits:  10000\n"
     ]
    }
   ],
   "source": [
    "from tqdm.notebook import tqdm  \n",
    "SPAdetail = \"https://portrattarkiv.se/details/\"\n",
    "print(url)  \n",
    "\n",
    "#print(\"\\n\",row[\"search\"],row[\"item\"])\n",
    "limit = 10000\n",
    "listdf = []\n",
    "for year in range(1780,1910,50):\n",
    "    for start in range(0,10000,limit):\n",
    "        print(\"\\n\\nyear\", year,\"\\tfrom: \",start,\"\\tlimit\",limit,\"\")\n",
    "        encoded_body = json.dumps({\n",
    "            \"limit\": limit,\n",
    "            \"from\":  start,\n",
    "            \"year\":  year,\n",
    "            \"facts\":{\"URL\":\"https://sv.wikipedia.org/wiki\"}\n",
    "        })\n",
    "    \n",
    "        r = http.request('POST', url,\n",
    "            headers={'Content-Type': 'application/json'},\n",
    "            body=encoded_body)\n",
    "        print(\"http status \", r.status)\n",
    "        if r.status != 200:\n",
    "            print(\"Exit \",r.status)\n",
    "            print(r)\n",
    "            break\n",
    "        \n",
    "    \n",
    "        data = json.loads(r.data.decode('utf-8'),) \n",
    "        urls = []\n",
    "\n",
    "        print(\"\\nTotal: \",data[\"hits\"][\"total\"])\n",
    "        print(data[\"_shards\"])\n",
    "        print(\"Hits: \",len(data[\"hits\"][\"hits\"]))\n",
    "        df = pd.json_normalize(data[\"hits\"][\"hits\"])\n",
    "        listdf.append(df)"
   ]
  },
  {
   "cell_type": "code",
   "execution_count": null,
   "id": "23ac19e3",
   "metadata": {},
   "outputs": [],
   "source": [
    "len(listdf)"
   ]
  },
  {
   "cell_type": "code",
   "execution_count": null,
   "id": "31b580da",
   "metadata": {},
   "outputs": [],
   "source": [
    "dfTot = pd.concat(listdf) "
   ]
  },
  {
   "cell_type": "code",
   "execution_count": null,
   "id": "19baf1ae",
   "metadata": {},
   "outputs": [],
   "source": [
    "#for c in dfTot.columns:\n",
    "#    print(c)"
   ]
  },
  {
   "cell_type": "code",
   "execution_count": null,
   "id": "f465e11d",
   "metadata": {},
   "outputs": [],
   "source": [
    "len(dfTot)"
   ]
  },
  {
   "cell_type": "code",
   "execution_count": null,
   "id": "37d51c27",
   "metadata": {},
   "outputs": [],
   "source": [
    " df = dfTot.drop_duplicates(subset = [\"_id\"])\n"
   ]
  },
  {
   "cell_type": "code",
   "execution_count": null,
   "id": "b465bfe0",
   "metadata": {},
   "outputs": [],
   "source": [
    "len(df[{\"_id\",\"_source.Facts.URL\"}])"
   ]
  },
  {
   "cell_type": "code",
   "execution_count": null,
   "id": "cf161d25",
   "metadata": {},
   "outputs": [],
   "source": [
    "from wikidata.client import Client\n",
    "from tqdm.notebook import tqdm \n",
    "\n",
    "def checkSPA(wikidata_id):\n",
    "    # get SPA \n",
    "    client = Client()\n",
    "    entity = client.get(wikidata_id, load=True)\n",
    "    try:\n",
    "        spa_prop = entity[client.get('P4819')]\n",
    "    except:\n",
    "        return False\n",
    "    return spa_prop\n",
    "def getWD (url):\n",
    "    baseUrl = \"https://sv.wikipedia.org/w/api.php?action=query&prop=pageprops|wbentityusage&titles=\"\n",
    "    title = url.replace(\"https://sv.wikipedia.org/wiki/\",\"\")\n",
    "    urlWD = baseUrl + title\n",
    "    wdr = http.request('Get', urlWD + \"&format=json\",\n",
    "                 headers={'Content-Type': 'application/json'})\n",
    "\n",
    "    if wdr.status != 200:\n",
    "        print(\"Error \", wdr.status)\n",
    "        return False\n",
    "    \n",
    "    datawd = json.loads(wdr.data.decode('utf-8'),) \n",
    "    pg_dict = datawd['query']['pages']\n",
    "    pg_key = list(pg_dict.keys())[0]\n",
    "    wikidata_id = pg_dict[pg_key]['pageprops']['wikibase_item']\n",
    "    return wikidata_id\n",
    "\n",
    "for index, row in tqdm( df.iterrows(),total= df.shape[0]):\n",
    "    #print(row['_id'], row['_source.Facts.URL'])\n",
    "    for n in row['_source.Facts.URL']:\n",
    "        if \"wikipedia\" in n.lower():\n",
    "            try: \n",
    "                wdrec = getWD(n)\n",
    "                if checkSPA(wdrec) == False:\n",
    "                    print (\"Todo\",row['_id'],wdrec,n)\n",
    "                #print (n,\"Value :\",getWD(n))\n",
    "            except:\n",
    "                pass\n",
    "  "
   ]
  },
  {
   "cell_type": "code",
   "execution_count": null,
   "id": "4f51e6ea",
   "metadata": {},
   "outputs": [],
   "source": []
  }
 ],
 "metadata": {
  "kernelspec": {
   "display_name": "Python 3",
   "language": "python",
   "name": "python3"
  },
  "language_info": {
   "codemirror_mode": {
    "name": "ipython",
    "version": 3
   },
   "file_extension": ".py",
   "mimetype": "text/x-python",
   "name": "python",
   "nbconvert_exporter": "python",
   "pygments_lexer": "ipython3",
   "version": "3.9.4"
  }
 },
 "nbformat": 4,
 "nbformat_minor": 5
}
