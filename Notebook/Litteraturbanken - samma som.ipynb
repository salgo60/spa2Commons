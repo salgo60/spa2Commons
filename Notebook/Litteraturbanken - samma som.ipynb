{
 "cells": [
  {
   "cell_type": "markdown",
   "id": "c2fd7c9a",
   "metadata": {},
   "source": [
    "### Work in progress\n",
    "Test och se om vi kan bättre utnyttja fält i Litteraturbankens json\n",
    "* sbl_link --> Wikidata Property 3217 = Svenskt Biografiskt Lexikon\n",
    "* skbl_link --> Wikidata Property 4963 = Svenskt kvinnobiografiskt lexikon\n",
    "* sol_link ?!?!?!\n",
    "* wikidata_id = Wikidata Qnummer\n",
    "* wikipedia = Wikipedia URL\n",
    "\n",
    "\n",
    "Denna [Notebook](https://github.com/salgo60/spa2Commons/blob/main/Notebook/Litteraturbanken%20-%20samma%20som.ipynb) och en [video](https://www.youtube.com/watch?v=52yEa4LdzFE) hur vi kopplar ihop med Litteraturbanken, Svenskt Porträttarkiv....\n",
    "* [issue 3](https://github.com/salgo60/spa2Commons/issues/3) om vi kan bättre förstå hur Litteraturbanken arbetar\n",
    "* [video exempel hur en post skapas i Wikidata](https://youtu.be/Grmp8_DZq8o) \n",
    "\n",
    "**TODO**\n",
    " -  [ ] kontrollera data\n",
    " -  [ ] förstå vad SOL är\n",
    " - [ ] bättre koll diff SBL SKBL skriva ut till fil \n",
    " - [ ] kolla samma som LIBRISXL\n",
    "\n",
    " \n",
    "\n",
    "**Connectivity status**\n",
    "\n",
    "I en perfekt värld skall\n",
    "* A = B = E\n",
    "* C = F \n",
    "* D = G\n",
    "* H = I  \n",
    "\n",
    "\n",
    "| Date | A: Litteraturbanken show | B: Littbank - WD | C: Littbank - SBL | D: Littbank - SKBL|E: WD - Littbank | F: WD - Littbank - SBL  |G: WD - Littbank - SKBL  |\n",
    "| ------------- |:-------------:|:-------------:|:-------------:|:-------------:|:-------------:|:-------------:| -----:|\n",
    "| 20211001 | 3130 | 2132 | 765 | 152 | 2346 | 810 | 161\n",
    "| 20211004 | 3130 | 2132 | 765 | 152 | 2347 | 809 | 161\n",
    "| 20211005 | 3174 | 2354 | 809 | 161 | 2406 | 824 | 165\n",
    "| 20211006 | 3174 | 2354 | 809 | 161 | 2430 | 830 | 166\n",
    "| 20211007 | 3174 | 2354 | 809 | 161 | 2437 | 830 | 166\n",
    "| 20211031 | 3174 | 2354 | 809 | 161 | 2509 | 830 | 166  \n",
    "| 20211207 | 3289 | 2532 | 831 | 166 | 2568 | 836 | 166  \n",
    "| 20220131 | 3306 | 2532 | 831 | 166 | 2625 | 836 | 166\n",
    "| 20220825 | 3569 | 2638 | 838 | 167 | 2786 | 881 | 171\n",
    "| 20220916 | 3569 | 2638 | 838 | 167 | 2801 | 882 | 171 \n",
    "| 20220923 | 3604 | 2804 | 881 | 171 | 2840 | 887 | 171\n",
    "\n",
    "| Date | A: Litteraturbanken show | H: Littbank - LibrisXL | I: WD - Littbank - LIBRISXL |\n",
    "| ------------- |:-------------:|:-------------:|:-------------:|\n",
    "| 20211005 | 3174 | 1780 | 2024\n",
    "| 20211006 | 3174 | 1779 | 2046\n",
    "| 20211007 | 3174 | 1779 | 2053\n",
    "| 20211028 | 3174 | 1779 | 2121 \n",
    "| 20211207 | 3289 | 1837 | 2166 \n",
    "| 20220131 | 3306 | 1849 | 2189\n",
    "| 20220825 | 3569 | 2088 | 2349\n",
    "| 20220916 | 3569 | 2088 | 2362\n",
    "| 20220923 | 3604 | 2113 | 2387\n",
    "\n",
    "Lista egenskaper i Wikdata på objekt som är kopplade till Litteraturbankens författare\n",
    "* [externa kopplingar](https://w.wiki/4B3X)\n",
    "* [\"alla\"](https://w.wiki/4B3Z)\n",
    "\n",
    "Saker som detta är enormt viktigt   \n",
    "* Wikidata behöver auktoriteter att kontrollera kvaliten på vårt data och snabbt se att vi som en öppen plattform inte vandaliseras\n",
    "* Wikidata med Wikipedia har stort antal visningar - se statistik senaste året > [15000 visningar per dag](https://pageviews.toolforge.org/massviews/?platform=all-access&agent=user&source=category&range=last-year&subjectpage=0&subcategories=0&sort=views&direction=1&view=list&target=https://sv.wikipedia.org/wiki/Kategori:Litteraturbanken) på de artiklar som länkar Litteraturbanken --> vi drar traffik till Litteraturbanken\n",
    "* vi ser mer och mer brister hos Kungliga biblioteket och andra äldre auktorieteter att dom har gamla plattformar/teknik där fyller en plattform som Wikidata med sina fel och brister en ny möjlighet se [tankar](https://github.com/salgo60/spa2Commons/issues/3) \n",
    "* ju fler som kopplar ihop sig med varandra desto snabbare/enklare blir denna process\n",
    "* på sikt hoppas vi få ett kulturarv där vi jobbar ihop även fast det går långsamt\n"
   ]
  },
  {
   "cell_type": "code",
   "execution_count": 1,
   "id": "f91a25e9",
   "metadata": {},
   "outputs": [
    {
     "name": "stdout",
     "output_type": "stream",
     "text": [
      "Last run:  2022-09-23 09:14:51.411657\n"
     ]
    }
   ],
   "source": [
    "from datetime import datetime\n",
    "start_time  = datetime.now()\n",
    "print(\"Last run: \", start_time)"
   ]
  },
  {
   "cell_type": "code",
   "execution_count": 2,
   "id": "b1569c18",
   "metadata": {},
   "outputs": [],
   "source": [
    "import urllib3, json\n",
    "import pandas as pd \n",
    "http = urllib3.PoolManager() \n",
    "pd.set_option(\"display.max.columns\", None) \n",
    " \n",
    "url = \"https://litteraturbanken.se/api/get_authors\"\n",
    "r = http.request('GET', url)\n",
    "data = json.loads(r.data)\n",
    "df = pd.json_normalize(data[\"data\"])"
   ]
  },
  {
   "cell_type": "code",
   "execution_count": 3,
   "id": "9ea5312a",
   "metadata": {},
   "outputs": [
    {
     "name": "stdout",
     "output_type": "stream",
     "text": [
      "<class 'pandas.core.frame.DataFrame'>\n",
      "RangeIndex: 4589 entries, 0 to 4588\n",
      "Data columns (total 50 columns):\n",
      " #   Column                         Non-Null Count  Dtype  \n",
      "---  ------                         --------------  -----  \n",
      " 0   authorid                       4589 non-null   object \n",
      " 1   authorid_norm                  4589 non-null   object \n",
      " 2   db_checksum                    4589 non-null   object \n",
      " 3   db_timestamp                   4589 non-null   int64  \n",
      " 4   doc_type                       4589 non-null   object \n",
      " 5   full_name                      4589 non-null   object \n",
      " 6   gender                         4589 non-null   object \n",
      " 7   imported                       3946 non-null   object \n",
      " 8   intro                          741 non-null    object \n",
      " 9   librisid                       2607 non-null   object \n",
      " 10  name_for_index                 4589 non-null   object \n",
      " 11  pictureinfo                    191 non-null    object \n",
      " 12  searchable                     4589 non-null   bool   \n",
      " 13  show                           4589 non-null   bool   \n",
      " 14  surname                        4589 non-null   object \n",
      " 15  updated                        3946 non-null   object \n",
      " 16  birth.date                     4337 non-null   object \n",
      " 17  birth.plain                    4589 non-null   object \n",
      " 18  death.date                     2576 non-null   object \n",
      " 19  death.plain                    3862 non-null   object \n",
      " 20  wikidata.birthplace            2127 non-null   object \n",
      " 21  wikidata.birthplace_label      2127 non-null   object \n",
      " 22  wikidata.deathplace            1851 non-null   object \n",
      " 23  wikidata.deathplace_label      1851 non-null   object \n",
      " 24  wikidata.image                 1635 non-null   object \n",
      " 25  wikidata.sbl_link              883 non-null    object \n",
      " 26  wikidata.skbl_link             171 non-null    object \n",
      " 27  wikidata.sol_link              142 non-null    object \n",
      " 28  wikidata.wikidata_id           2815 non-null   object \n",
      " 29  wikidata.wikipedia             2100 non-null   object \n",
      " 30  db_timestamp_updated           2914 non-null   float64\n",
      " 31  intro_text                     741 non-null    object \n",
      " 32  popularity                     2423 non-null   float64\n",
      " 33  pseudonym                      151 non-null    object \n",
      " 34  dramawebben.intro              114 non-null    object \n",
      " 35  dramawebben.intro_author       113 non-null    object \n",
      " 36  dramawebben.intro_author_norm  113 non-null    object \n",
      " 37  dramawebben.legacy_url         127 non-null    object \n",
      " 38  dramawebben.picture            82 non-null     object \n",
      " 39  sources                        540 non-null    object \n",
      " 40  other_name                     109 non-null    object \n",
      " 41  intro_author                   419 non-null    object \n",
      " 42  intro_author_norm              419 non-null    object \n",
      " 43  dramawebben.picture_info       76 non-null     object \n",
      " 44  picture                        276 non-null    object \n",
      " 45  bibliography                   16 non-null     object \n",
      " 46  external_ref                   9 non-null      object \n",
      " 47  presentation                   33 non-null     object \n",
      " 48  seemore                        4 non-null      object \n",
      " 49  dramawebben.sources            6 non-null      object \n",
      "dtypes: bool(2), float64(2), int64(1), object(45)\n",
      "memory usage: 1.7+ MB\n"
     ]
    }
   ],
   "source": [
    "df.info()"
   ]
  },
  {
   "cell_type": "code",
   "execution_count": 4,
   "id": "6ca743fa",
   "metadata": {},
   "outputs": [
    {
     "data": {
      "text/plain": [
       "True     3604\n",
       "False     985\n",
       "Name: show, dtype: int64"
      ]
     },
     "execution_count": 4,
     "metadata": {},
     "output_type": "execute_result"
    }
   ],
   "source": [
    "df[\"show\"].value_counts()"
   ]
  },
  {
   "cell_type": "code",
   "execution_count": 5,
   "id": "a5c3d7c8",
   "metadata": {},
   "outputs": [
    {
     "name": "stdout",
     "output_type": "stream",
     "text": [
      "<class 'pandas.core.frame.DataFrame'>\n",
      "Int64Index: 3604 entries, 1 to 4588\n",
      "Data columns (total 50 columns):\n",
      " #   Column                         Non-Null Count  Dtype  \n",
      "---  ------                         --------------  -----  \n",
      " 0   authorid                       3604 non-null   object \n",
      " 1   authorid_norm                  3604 non-null   object \n",
      " 2   db_checksum                    3604 non-null   object \n",
      " 3   db_timestamp                   3604 non-null   int64  \n",
      " 4   doc_type                       3604 non-null   object \n",
      " 5   full_name                      3604 non-null   object \n",
      " 6   gender                         3604 non-null   object \n",
      " 7   imported                       3171 non-null   object \n",
      " 8   intro                          712 non-null    object \n",
      " 9   librisid                       2115 non-null   object \n",
      " 10  name_for_index                 3604 non-null   object \n",
      " 11  pictureinfo                    190 non-null    object \n",
      " 12  searchable                     3604 non-null   bool   \n",
      " 13  show                           3604 non-null   bool   \n",
      " 14  surname                        3604 non-null   object \n",
      " 15  updated                        3171 non-null   object \n",
      " 16  birth.date                     3403 non-null   object \n",
      " 17  birth.plain                    3604 non-null   object \n",
      " 18  death.date                     2034 non-null   object \n",
      " 19  death.plain                    3131 non-null   object \n",
      " 20  wikidata.birthplace            2121 non-null   object \n",
      " 21  wikidata.birthplace_label      2121 non-null   object \n",
      " 22  wikidata.deathplace            1845 non-null   object \n",
      " 23  wikidata.deathplace_label      1845 non-null   object \n",
      " 24  wikidata.image                 1630 non-null   object \n",
      " 25  wikidata.sbl_link              881 non-null    object \n",
      " 26  wikidata.skbl_link             171 non-null    object \n",
      " 27  wikidata.sol_link              141 non-null    object \n",
      " 28  wikidata.wikidata_id           2807 non-null   object \n",
      " 29  wikidata.wikipedia             2094 non-null   object \n",
      " 30  db_timestamp_updated           2872 non-null   float64\n",
      " 31  intro_text                     712 non-null    object \n",
      " 32  popularity                     2399 non-null   float64\n",
      " 33  pseudonym                      144 non-null    object \n",
      " 34  dramawebben.intro              103 non-null    object \n",
      " 35  dramawebben.intro_author       102 non-null    object \n",
      " 36  dramawebben.intro_author_norm  102 non-null    object \n",
      " 37  dramawebben.legacy_url         109 non-null    object \n",
      " 38  dramawebben.picture            76 non-null     object \n",
      " 39  sources                        523 non-null    object \n",
      " 40  other_name                     103 non-null    object \n",
      " 41  intro_author                   396 non-null    object \n",
      " 42  intro_author_norm              396 non-null    object \n",
      " 43  dramawebben.picture_info       71 non-null     object \n",
      " 44  picture                        274 non-null    object \n",
      " 45  bibliography                   16 non-null     object \n",
      " 46  external_ref                   8 non-null      object \n",
      " 47  presentation                   33 non-null     object \n",
      " 48  seemore                        4 non-null      object \n",
      " 49  dramawebben.sources            6 non-null      object \n",
      "dtypes: bool(2), float64(2), int64(1), object(45)\n",
      "memory usage: 1.4+ MB\n"
     ]
    }
   ],
   "source": [
    "#just objects with show = True --> displayed in the web\n",
    "dfShow = df[df[\"show\"]].copy() \n",
    "dfShow.info()"
   ]
  },
  {
   "cell_type": "code",
   "execution_count": 6,
   "id": "46576292",
   "metadata": {},
   "outputs": [
    {
     "name": "stderr",
     "output_type": "stream",
     "text": [
      "<ipython-input-6-8766607041ea>:1: FutureWarning: Passing a set as an indexer is deprecated and will raise in a future version. Use a list instead.\n",
      "  dfexternal = dfShow[{\"authorid\",\"wikidata.sbl_link\",\"wikidata.skbl_link\",\"wikidata.wikidata_id\",\"wikidata.sol_link\"\n"
     ]
    }
   ],
   "source": [
    "dfexternal = dfShow[{\"authorid\",\"wikidata.sbl_link\",\"wikidata.skbl_link\",\"wikidata.wikidata_id\",\"wikidata.sol_link\"\n",
    ",\"wikidata.wikidata_id\",\"wikidata.wikipedia\"}]"
   ]
  },
  {
   "cell_type": "code",
   "execution_count": 7,
   "id": "9b7c67ed",
   "metadata": {},
   "outputs": [
    {
     "name": "stdout",
     "output_type": "stream",
     "text": [
      "<class 'pandas.core.frame.DataFrame'>\n",
      "Int64Index: 3604 entries, 1 to 4588\n",
      "Data columns (total 6 columns):\n",
      " #   Column                Non-Null Count  Dtype \n",
      "---  ------                --------------  ----- \n",
      " 0   wikidata.wikidata_id  2807 non-null   object\n",
      " 1   wikidata.sol_link     141 non-null    object\n",
      " 2   wikidata.skbl_link    171 non-null    object\n",
      " 3   authorid              3604 non-null   object\n",
      " 4   wikidata.wikipedia    2094 non-null   object\n",
      " 5   wikidata.sbl_link     881 non-null    object\n",
      "dtypes: object(6)\n",
      "memory usage: 197.1+ KB\n"
     ]
    }
   ],
   "source": [
    "dfexternal.info()"
   ]
  },
  {
   "cell_type": "code",
   "execution_count": 8,
   "id": "9d11863f",
   "metadata": {},
   "outputs": [
    {
     "data": {
      "text/plain": [
       "Gudmund_Jöran_Adlerbeth     1\n",
       "Carl_Rupert_Nyblom          1\n",
       "Birger_Mörner               1\n",
       "Ture_Nerman                 1\n",
       "Karl_August_Nicander        1\n",
       "                           ..\n",
       "Lars_Forssell               1\n",
       "Sigfridus_Aronus_Forsius    1\n",
       "Hanny_Flygare               1\n",
       "Gabriel_Eurén               1\n",
       "Victor_Emanuel_Öman         1\n",
       "Name: wikidata.sol_link, Length: 141, dtype: int64"
      ]
     },
     "execution_count": 8,
     "metadata": {},
     "output_type": "execute_result"
    }
   ],
   "source": [
    "dfexternal[\"wikidata.sol_link\"].value_counts()"
   ]
  },
  {
   "cell_type": "code",
   "execution_count": 9,
   "id": "f7f92ed5",
   "metadata": {},
   "outputs": [
    {
     "data": {
      "text/html": [
       "<div>\n",
       "<style scoped>\n",
       "    .dataframe tbody tr th:only-of-type {\n",
       "        vertical-align: middle;\n",
       "    }\n",
       "\n",
       "    .dataframe tbody tr th {\n",
       "        vertical-align: top;\n",
       "    }\n",
       "\n",
       "    .dataframe thead th {\n",
       "        text-align: right;\n",
       "    }\n",
       "</style>\n",
       "<table border=\"1\" class=\"dataframe\">\n",
       "  <thead>\n",
       "    <tr style=\"text-align: right;\">\n",
       "      <th></th>\n",
       "      <th>wikidata.wikidata_id</th>\n",
       "      <th>wikidata.sol_link</th>\n",
       "      <th>wikidata.skbl_link</th>\n",
       "      <th>authorid</th>\n",
       "      <th>wikidata.wikipedia</th>\n",
       "      <th>wikidata.sbl_link</th>\n",
       "    </tr>\n",
       "  </thead>\n",
       "  <tbody>\n",
       "    <tr>\n",
       "      <th>1</th>\n",
       "      <td>Q11967131</td>\n",
       "      <td>None</td>\n",
       "      <td>None</td>\n",
       "      <td>AasenE</td>\n",
       "      <td>None</td>\n",
       "      <td>None</td>\n",
       "    </tr>\n",
       "    <tr>\n",
       "      <th>2</th>\n",
       "      <td>Q4933592</td>\n",
       "      <td>None</td>\n",
       "      <td>MargitAbenius</td>\n",
       "      <td>AbeniusM</td>\n",
       "      <td>https://sv.wikipedia.org/wiki/Margit_Abenius</td>\n",
       "      <td>None</td>\n",
       "    </tr>\n",
       "    <tr>\n",
       "      <th>3</th>\n",
       "      <td>Q24680938</td>\n",
       "      <td>None</td>\n",
       "      <td>None</td>\n",
       "      <td>AbrahamssonA</td>\n",
       "      <td>https://sv.wikipedia.org/wiki/Augusta_Abrahamsson</td>\n",
       "      <td>None</td>\n",
       "    </tr>\n",
       "    <tr>\n",
       "      <th>5</th>\n",
       "      <td>Q4934135</td>\n",
       "      <td>None</td>\n",
       "      <td>None</td>\n",
       "      <td>AbrahamssonS</td>\n",
       "      <td>https://sv.wikipedia.org/wiki/Selma_Abrahamsson</td>\n",
       "      <td>None</td>\n",
       "    </tr>\n",
       "    <tr>\n",
       "      <th>6</th>\n",
       "      <td>Q365923</td>\n",
       "      <td>None</td>\n",
       "      <td>None</td>\n",
       "      <td>AchariusE</td>\n",
       "      <td>https://sv.wikipedia.org/wiki/Erik_Acharius</td>\n",
       "      <td>5503</td>\n",
       "    </tr>\n",
       "    <tr>\n",
       "      <th>...</th>\n",
       "      <td>...</td>\n",
       "      <td>...</td>\n",
       "      <td>...</td>\n",
       "      <td>...</td>\n",
       "      <td>...</td>\n",
       "      <td>...</td>\n",
       "    </tr>\n",
       "    <tr>\n",
       "      <th>4583</th>\n",
       "      <td>NaN</td>\n",
       "      <td>NaN</td>\n",
       "      <td>NaN</td>\n",
       "      <td>ÖstergrenPJ</td>\n",
       "      <td>NaN</td>\n",
       "      <td>NaN</td>\n",
       "    </tr>\n",
       "    <tr>\n",
       "      <th>4585</th>\n",
       "      <td>Q100752816</td>\n",
       "      <td>None</td>\n",
       "      <td>None</td>\n",
       "      <td>ÖstinO</td>\n",
       "      <td>None</td>\n",
       "      <td>None</td>\n",
       "    </tr>\n",
       "    <tr>\n",
       "      <th>4586</th>\n",
       "      <td>NaN</td>\n",
       "      <td>NaN</td>\n",
       "      <td>NaN</td>\n",
       "      <td>ÖstmanC</td>\n",
       "      <td>NaN</td>\n",
       "      <td>NaN</td>\n",
       "    </tr>\n",
       "    <tr>\n",
       "      <th>4587</th>\n",
       "      <td>Q6258216</td>\n",
       "      <td>None</td>\n",
       "      <td>None</td>\n",
       "      <td>ÖstmanK</td>\n",
       "      <td>https://sv.wikipedia.org/wiki/Karl_%C3%96stman</td>\n",
       "      <td>None</td>\n",
       "    </tr>\n",
       "    <tr>\n",
       "      <th>4588</th>\n",
       "      <td>Q11978200</td>\n",
       "      <td>None</td>\n",
       "      <td>None</td>\n",
       "      <td>ØverlandJ</td>\n",
       "      <td>None</td>\n",
       "      <td>None</td>\n",
       "    </tr>\n",
       "  </tbody>\n",
       "</table>\n",
       "<p>3604 rows × 6 columns</p>\n",
       "</div>"
      ],
      "text/plain": [
       "     wikidata.wikidata_id wikidata.sol_link wikidata.skbl_link      authorid  \\\n",
       "1               Q11967131              None               None        AasenE   \n",
       "2                Q4933592              None      MargitAbenius      AbeniusM   \n",
       "3               Q24680938              None               None  AbrahamssonA   \n",
       "5                Q4934135              None               None  AbrahamssonS   \n",
       "6                 Q365923              None               None     AchariusE   \n",
       "...                   ...               ...                ...           ...   \n",
       "4583                  NaN               NaN                NaN   ÖstergrenPJ   \n",
       "4585           Q100752816              None               None        ÖstinO   \n",
       "4586                  NaN               NaN                NaN       ÖstmanC   \n",
       "4587             Q6258216              None               None       ÖstmanK   \n",
       "4588            Q11978200              None               None     ØverlandJ   \n",
       "\n",
       "                                     wikidata.wikipedia wikidata.sbl_link  \n",
       "1                                                  None              None  \n",
       "2          https://sv.wikipedia.org/wiki/Margit_Abenius              None  \n",
       "3     https://sv.wikipedia.org/wiki/Augusta_Abrahamsson              None  \n",
       "5       https://sv.wikipedia.org/wiki/Selma_Abrahamsson              None  \n",
       "6           https://sv.wikipedia.org/wiki/Erik_Acharius              5503  \n",
       "...                                                 ...               ...  \n",
       "4583                                                NaN               NaN  \n",
       "4585                                               None              None  \n",
       "4586                                                NaN               NaN  \n",
       "4587     https://sv.wikipedia.org/wiki/Karl_%C3%96stman              None  \n",
       "4588                                               None              None  \n",
       "\n",
       "[3604 rows x 6 columns]"
      ]
     },
     "execution_count": 9,
     "metadata": {},
     "output_type": "execute_result"
    }
   ],
   "source": [
    "dfexternal"
   ]
  },
  {
   "cell_type": "markdown",
   "id": "db241af6",
   "metadata": {},
   "source": [
    "### Get Wikidata"
   ]
  },
  {
   "cell_type": "code",
   "execution_count": 10,
   "id": "2e1fd0f6",
   "metadata": {},
   "outputs": [],
   "source": [
    "# pip install sparqlwrapper\n",
    "# https://rdflib.github.io/sparqlwrapper/\n",
    "\n",
    "import sys,json\n",
    "import pandas as pd \n",
    "\n",
    "from SPARQLWrapper import SPARQLWrapper, JSON\n",
    "\n",
    "endpoint_url = \"https://query.wikidata.org/sparql\"\n",
    "\n",
    "# https://w.wiki/4AAV\n",
    "query = \"\"\"SELECT (REPLACE(STR(?item), \".*Q\", \"Q\") AS ?WikidataID)  ?authorid ?SBL ?SKBL WHERE {\n",
    "?item wdt:P31 wd:Q5.\n",
    "?item wdt:P5101 ?authorid\n",
    "OPTIONAL {?item wdt:P3217 ?SBL}\n",
    "OPTIONAL {?item wdt:P4963 ?SKBL}\n",
    "} order by ?authorid\"\"\"\n",
    "queryLIBRIS = \"\"\"SELECT ?item (REPLACE(STR(?item), \".*Q\", \"Q\") AS ?WikidataID)  ?authorid ?SBL ?SKBL (sample(?LIBRISXL) AS ?LIBRISXL)\n",
    " WHERE {\n",
    "?item wdt:P31 wd:Q5.\n",
    "?item wdt:P5101 ?authorid\n",
    "OPTIONAL {?item wdt:P3217 ?SBL}\n",
    "OPTIONAL {?item wdt:P5587 ?LIBRISXL}\n",
    "OPTIONAL {?item wdt:P4963 ?SKBL}\n",
    "} group by ?item ?WikidataID ?authorid ?SBL ?SKBL\n",
    "order by ?authorid\"\"\" \n",
    "    \n",
    "def get_sparql_dataframe(endpoint_url, query):\n",
    "    \"\"\"\n",
    "    Helper function to convert SPARQL results into a Pandas data frame.\n",
    "    \"\"\"\n",
    "    user_agent = \"salgo60/%s.%s\" % (sys.version_info[0], sys.version_info[1])\n",
    " \n",
    "    sparql = SPARQLWrapper(endpoint_url, agent=user_agent)\n",
    "    sparql.setQuery(query)\n",
    "    sparql.setReturnFormat(JSON)\n",
    "    result = sparql.query()\n",
    "\n",
    "    processed_results = json.load(result.response)\n",
    "    cols = processed_results['head']['vars']\n",
    "    out = []\n",
    "    for row in processed_results['results']['bindings']:\n",
    "        item = []\n",
    "        for c in cols:\n",
    "            item.append(row.get(c, {}).get('value'))\n",
    "        out.append(item)\n",
    "\n",
    "    return pd.DataFrame(out, columns=cols)\n",
    "\n",
    "WDLittbanktot = get_sparql_dataframe(endpoint_url, queryLIBRIS)\n"
   ]
  },
  {
   "cell_type": "code",
   "execution_count": 11,
   "id": "140ecae3",
   "metadata": {},
   "outputs": [
    {
     "name": "stdout",
     "output_type": "stream",
     "text": [
      "<class 'pandas.core.frame.DataFrame'>\n",
      "RangeIndex: 2840 entries, 0 to 2839\n",
      "Data columns (total 6 columns):\n",
      " #   Column      Non-Null Count  Dtype  \n",
      "---  ------      --------------  -----  \n",
      " 0   item        2840 non-null   object \n",
      " 1   WikidataID  2840 non-null   object \n",
      " 2   authorid    2840 non-null   object \n",
      " 3   SBL         887 non-null    float64\n",
      " 4   SKBL        171 non-null    object \n",
      " 5   LIBRISXL    2387 non-null   object \n",
      "dtypes: float64(1), object(5)\n",
      "memory usage: 133.2+ KB\n"
     ]
    }
   ],
   "source": [
    "WDLittbanktot['SBL'] = pd.to_numeric(WDLittbanktot['SBL'], errors=\"coerce\")\n",
    "WDLittbanktot.info()"
   ]
  },
  {
   "cell_type": "code",
   "execution_count": 12,
   "id": "2f26d9cc",
   "metadata": {},
   "outputs": [
    {
     "data": {
      "text/html": [
       "<div>\n",
       "<style scoped>\n",
       "    .dataframe tbody tr th:only-of-type {\n",
       "        vertical-align: middle;\n",
       "    }\n",
       "\n",
       "    .dataframe tbody tr th {\n",
       "        vertical-align: top;\n",
       "    }\n",
       "\n",
       "    .dataframe thead th {\n",
       "        text-align: right;\n",
       "    }\n",
       "</style>\n",
       "<table border=\"1\" class=\"dataframe\">\n",
       "  <thead>\n",
       "    <tr style=\"text-align: right;\">\n",
       "      <th></th>\n",
       "      <th>item</th>\n",
       "      <th>WikidataID</th>\n",
       "      <th>authorid</th>\n",
       "      <th>SBL</th>\n",
       "      <th>SKBL</th>\n",
       "      <th>LIBRISXL</th>\n",
       "    </tr>\n",
       "  </thead>\n",
       "  <tbody>\n",
       "  </tbody>\n",
       "</table>\n",
       "</div>"
      ],
      "text/plain": [
       "Empty DataFrame\n",
       "Columns: [item, WikidataID, authorid, SBL, SKBL, LIBRISXL]\n",
       "Index: []"
      ]
     },
     "execution_count": 12,
     "metadata": {},
     "output_type": "execute_result"
    }
   ],
   "source": [
    "# Find duplicates\n",
    "WDLittbanktot[WDLittbanktot.duplicated([\"authorid\"],keep=False)]"
   ]
  },
  {
   "cell_type": "code",
   "execution_count": 13,
   "id": "d1ee1749",
   "metadata": {},
   "outputs": [
    {
     "name": "stdout",
     "output_type": "stream",
     "text": [
      "<class 'pandas.core.frame.DataFrame'>\n",
      "Int64Index: 3604 entries, 1 to 4588\n",
      "Data columns (total 6 columns):\n",
      " #   Column                Non-Null Count  Dtype  \n",
      "---  ------                --------------  -----  \n",
      " 0   wikidata.wikidata_id  2807 non-null   object \n",
      " 1   wikidata.sol_link     141 non-null    object \n",
      " 2   wikidata.skbl_link    171 non-null    object \n",
      " 3   authorid              3604 non-null   object \n",
      " 4   wikidata.wikipedia    2094 non-null   object \n",
      " 5   wikidata.sbl_link     881 non-null    float64\n",
      "dtypes: float64(1), object(5)\n",
      "memory usage: 197.1+ KB\n"
     ]
    },
    {
     "name": "stderr",
     "output_type": "stream",
     "text": [
      "<ipython-input-13-e1d483007a37>:1: SettingWithCopyWarning: \n",
      "A value is trying to be set on a copy of a slice from a DataFrame.\n",
      "Try using .loc[row_indexer,col_indexer] = value instead\n",
      "\n",
      "See the caveats in the documentation: https://pandas.pydata.org/pandas-docs/stable/user_guide/indexing.html#returning-a-view-versus-a-copy\n",
      "  dfexternal['wikidata.sbl_link'] = pd.to_numeric(dfexternal['wikidata.sbl_link'], errors=\"coerce\")\n"
     ]
    }
   ],
   "source": [
    "dfexternal['wikidata.sbl_link'] = pd.to_numeric(dfexternal['wikidata.sbl_link'], errors=\"coerce\")\n",
    "dfexternal.info()"
   ]
  },
  {
   "cell_type": "markdown",
   "id": "9329def4",
   "metadata": {},
   "source": [
    "### Compare Littbank Wikidata field with Wikidata \n"
   ]
  },
  {
   "cell_type": "code",
   "execution_count": 14,
   "id": "fabc60ba",
   "metadata": {},
   "outputs": [
    {
     "data": {
      "text/plain": [
       "both          2822\n",
       "left_only        0\n",
       "right_only       0\n",
       "Name: WD_Littbank_merge, dtype: int64"
      ]
     },
     "execution_count": 14,
     "metadata": {},
     "output_type": "execute_result"
    }
   ],
   "source": [
    "WDLittbank_WD_merge =  pd.merge(WDLittbanktot, dfexternal, on='authorid',indicator=True)\n",
    "WDLittbank_WD_merge.rename(columns={\"_merge\": \"WD_Littbank_merge\"},inplace = True)\n",
    "\n",
    "WDLittbank_WD_merge[\"WD_Littbank_merge\"].value_counts()"
   ]
  },
  {
   "cell_type": "code",
   "execution_count": 15,
   "id": "08b51fe0",
   "metadata": {},
   "outputs": [
    {
     "data": {
      "text/plain": [
       "both          2822\n",
       "left_only        0\n",
       "right_only       0\n",
       "Name: WD_Littbank_merge, dtype: int64"
      ]
     },
     "execution_count": 15,
     "metadata": {},
     "output_type": "execute_result"
    }
   ],
   "source": [
    "WDLittbank_WD_merge[\"WD_Littbank_merge\"].value_counts()"
   ]
  },
  {
   "cell_type": "code",
   "execution_count": 16,
   "id": "17ebc7b7",
   "metadata": {},
   "outputs": [
    {
     "data": {
      "text/html": [
       "<div>\n",
       "<style scoped>\n",
       "    .dataframe tbody tr th:only-of-type {\n",
       "        vertical-align: middle;\n",
       "    }\n",
       "\n",
       "    .dataframe tbody tr th {\n",
       "        vertical-align: top;\n",
       "    }\n",
       "\n",
       "    .dataframe thead th {\n",
       "        text-align: right;\n",
       "    }\n",
       "</style>\n",
       "<table border=\"1\" class=\"dataframe\">\n",
       "  <thead>\n",
       "    <tr style=\"text-align: right;\">\n",
       "      <th></th>\n",
       "      <th>item</th>\n",
       "      <th>WikidataID</th>\n",
       "      <th>authorid</th>\n",
       "      <th>SBL</th>\n",
       "      <th>SKBL</th>\n",
       "      <th>LIBRISXL</th>\n",
       "      <th>wikidata.wikidata_id</th>\n",
       "      <th>wikidata.sol_link</th>\n",
       "      <th>wikidata.skbl_link</th>\n",
       "      <th>wikidata.wikipedia</th>\n",
       "      <th>wikidata.sbl_link</th>\n",
       "      <th>WD_Littbank_merge</th>\n",
       "    </tr>\n",
       "  </thead>\n",
       "  <tbody>\n",
       "  </tbody>\n",
       "</table>\n",
       "</div>"
      ],
      "text/plain": [
       "Empty DataFrame\n",
       "Columns: [item, WikidataID, authorid, SBL, SKBL, LIBRISXL, wikidata.wikidata_id, wikidata.sol_link, wikidata.skbl_link, wikidata.wikipedia, wikidata.sbl_link, WD_Littbank_merge]\n",
       "Index: []"
      ]
     },
     "execution_count": 16,
     "metadata": {},
     "output_type": "execute_result"
    }
   ],
   "source": [
    "# all with SBL seems to have WIkidata\n",
    "WDLittbanktotSBL =  WDLittbank_WD_merge[~WDLittbank_WD_merge['wikidata.sbl_link'].isnull()]\n",
    "WDLittbanktotSBL_noWD = WDLittbanktotSBL[WDLittbanktotSBL['wikidata.wikidata_id'].isnull()] \n",
    "WDLittbanktotSBL_noWD"
   ]
  },
  {
   "cell_type": "markdown",
   "id": "e23a8bf6",
   "metadata": {},
   "source": [
    "### SBL"
   ]
  },
  {
   "cell_type": "code",
   "execution_count": 17,
   "id": "c35128aa",
   "metadata": {},
   "outputs": [
    {
     "name": "stdout",
     "output_type": "stream",
     "text": [
      "<class 'pandas.core.frame.DataFrame'>\n",
      "Int64Index: 887 entries, 4 to 2749\n",
      "Data columns (total 6 columns):\n",
      " #   Column      Non-Null Count  Dtype  \n",
      "---  ------      --------------  -----  \n",
      " 0   item        887 non-null    object \n",
      " 1   WikidataID  887 non-null    object \n",
      " 2   authorid    887 non-null    object \n",
      " 3   SBL         887 non-null    float64\n",
      " 4   SKBL        85 non-null     object \n",
      " 5   LIBRISXL    840 non-null    object \n",
      "dtypes: float64(1), object(5)\n",
      "memory usage: 48.5+ KB\n"
     ]
    }
   ],
   "source": [
    "WDLittbanktot_SBL = WDLittbanktot[~WDLittbanktot[\"SBL\"].isna()]\n",
    "WDLittbanktot_SBL.info()"
   ]
  },
  {
   "cell_type": "code",
   "execution_count": 18,
   "id": "4e819e5f",
   "metadata": {},
   "outputs": [
    {
     "data": {
      "text/html": [
       "<div>\n",
       "<style scoped>\n",
       "    .dataframe tbody tr th:only-of-type {\n",
       "        vertical-align: middle;\n",
       "    }\n",
       "\n",
       "    .dataframe tbody tr th {\n",
       "        vertical-align: top;\n",
       "    }\n",
       "\n",
       "    .dataframe thead th {\n",
       "        text-align: right;\n",
       "    }\n",
       "</style>\n",
       "<table border=\"1\" class=\"dataframe\">\n",
       "  <thead>\n",
       "    <tr style=\"text-align: right;\">\n",
       "      <th></th>\n",
       "      <th>item</th>\n",
       "      <th>WikidataID</th>\n",
       "      <th>authorid</th>\n",
       "      <th>SBL</th>\n",
       "      <th>SKBL</th>\n",
       "      <th>LIBRISXL</th>\n",
       "    </tr>\n",
       "  </thead>\n",
       "  <tbody>\n",
       "  </tbody>\n",
       "</table>\n",
       "</div>"
      ],
      "text/plain": [
       "Empty DataFrame\n",
       "Columns: [item, WikidataID, authorid, SBL, SKBL, LIBRISXL]\n",
       "Index: []"
      ]
     },
     "execution_count": 18,
     "metadata": {},
     "output_type": "execute_result"
    }
   ],
   "source": [
    "# Find duplicates\n",
    "WDLittbanktot_SBL[WDLittbanktot_SBL.duplicated([\"SBL\"],keep=False)]"
   ]
  },
  {
   "cell_type": "code",
   "execution_count": 19,
   "id": "a0095696",
   "metadata": {},
   "outputs": [],
   "source": [
    "dfexternal_SBL = dfexternal[~dfexternal[\"wikidata.sbl_link\"].isna()]"
   ]
  },
  {
   "cell_type": "code",
   "execution_count": 20,
   "id": "e14cbc6a",
   "metadata": {},
   "outputs": [
    {
     "name": "stdout",
     "output_type": "stream",
     "text": [
      "<class 'pandas.core.frame.DataFrame'>\n",
      "Int64Index: 881 entries, 6 to 4440\n",
      "Data columns (total 6 columns):\n",
      " #   Column                Non-Null Count  Dtype  \n",
      "---  ------                --------------  -----  \n",
      " 0   wikidata.wikidata_id  881 non-null    object \n",
      " 1   wikidata.sol_link     76 non-null     object \n",
      " 2   wikidata.skbl_link    85 non-null     object \n",
      " 3   authorid              881 non-null    object \n",
      " 4   wikidata.wikipedia    879 non-null    object \n",
      " 5   wikidata.sbl_link     881 non-null    float64\n",
      "dtypes: float64(1), object(5)\n",
      "memory usage: 48.2+ KB\n"
     ]
    }
   ],
   "source": [
    "dfexternal_SBL.info()"
   ]
  },
  {
   "cell_type": "code",
   "execution_count": 21,
   "id": "27a4a916",
   "metadata": {},
   "outputs": [
    {
     "data": {
      "text/plain": [
       "both          881\n",
       "left_only       0\n",
       "right_only      0\n",
       "Name: WD_Littbank_SBL_merge, dtype: int64"
      ]
     },
     "execution_count": 21,
     "metadata": {},
     "output_type": "execute_result"
    }
   ],
   "source": [
    "WDLittbank_WD_SBL_merge =  pd.merge(WDLittbanktot_SBL, dfexternal_SBL, left_on='SBL', right_on='wikidata.sbl_link',indicator=True)\n",
    "WDLittbank_WD_SBL_merge.rename(columns={\"_merge\": \"WD_Littbank_SBL_merge\"},inplace = True)\n",
    "\n",
    "WDLittbank_WD_SBL_merge[\"WD_Littbank_SBL_merge\"].value_counts()"
   ]
  },
  {
   "cell_type": "markdown",
   "id": "906a08f8",
   "metadata": {},
   "source": [
    "## SKBL"
   ]
  },
  {
   "cell_type": "code",
   "execution_count": 22,
   "id": "6f332b7e",
   "metadata": {},
   "outputs": [
    {
     "name": "stdout",
     "output_type": "stream",
     "text": [
      "<class 'pandas.core.frame.DataFrame'>\n",
      "Int64Index: 171 entries, 1 to 2827\n",
      "Data columns (total 6 columns):\n",
      " #   Column      Non-Null Count  Dtype  \n",
      "---  ------      --------------  -----  \n",
      " 0   item        171 non-null    object \n",
      " 1   WikidataID  171 non-null    object \n",
      " 2   authorid    171 non-null    object \n",
      " 3   SBL         85 non-null     float64\n",
      " 4   SKBL        171 non-null    object \n",
      " 5   LIBRISXL    162 non-null    object \n",
      "dtypes: float64(1), object(5)\n",
      "memory usage: 9.4+ KB\n"
     ]
    }
   ],
   "source": [
    "WDLittbanktot_SKBL = WDLittbanktot[~WDLittbanktot[\"SKBL\"].isna()]\n",
    "WDLittbanktot_SKBL.info()"
   ]
  },
  {
   "cell_type": "code",
   "execution_count": 23,
   "id": "2e707463",
   "metadata": {},
   "outputs": [
    {
     "name": "stdout",
     "output_type": "stream",
     "text": [
      "<class 'pandas.core.frame.DataFrame'>\n",
      "Int64Index: 171 entries, 2 to 4569\n",
      "Data columns (total 6 columns):\n",
      " #   Column                Non-Null Count  Dtype  \n",
      "---  ------                --------------  -----  \n",
      " 0   wikidata.wikidata_id  171 non-null    object \n",
      " 1   wikidata.sol_link     26 non-null     object \n",
      " 2   wikidata.skbl_link    171 non-null    object \n",
      " 3   authorid              171 non-null    object \n",
      " 4   wikidata.wikipedia    171 non-null    object \n",
      " 5   wikidata.sbl_link     85 non-null     float64\n",
      "dtypes: float64(1), object(5)\n",
      "memory usage: 9.4+ KB\n"
     ]
    }
   ],
   "source": [
    "dfexternal_SKBL = dfexternal[~dfexternal[\"wikidata.skbl_link\"].isna()]\n",
    "dfexternal_SKBL.info()"
   ]
  },
  {
   "cell_type": "code",
   "execution_count": null,
   "id": "3b0740f5",
   "metadata": {},
   "outputs": [],
   "source": []
  },
  {
   "cell_type": "code",
   "execution_count": 24,
   "id": "1ee7ba0c",
   "metadata": {},
   "outputs": [
    {
     "data": {
      "text/plain": [
       "right_only    796\n",
       "left_only      86\n",
       "both           85\n",
       "Name: WD_Littbank_SKBL_merge, dtype: int64"
      ]
     },
     "execution_count": 24,
     "metadata": {},
     "output_type": "execute_result"
    }
   ],
   "source": [
    "WDLittbank_WD_SKBL_merge =  pd.merge(WDLittbanktot_SKBL, dfexternal_SBL,how='outer', left_on='SKBL', right_on='wikidata.skbl_link',indicator=True)\n",
    "WDLittbank_WD_SKBL_merge.rename(columns={\"_merge\": \"WD_Littbank_SKBL_merge\"},inplace = True)\n",
    "\n",
    "WDLittbank_WD_SKBL_merge[\"WD_Littbank_SKBL_merge\"].value_counts()"
   ]
  },
  {
   "cell_type": "code",
   "execution_count": 25,
   "id": "ead9eca8",
   "metadata": {},
   "outputs": [
    {
     "name": "stdout",
     "output_type": "stream",
     "text": [
      "<class 'pandas.core.frame.DataFrame'>\n",
      "Int64Index: 967 entries, 0 to 966\n",
      "Data columns (total 13 columns):\n",
      " #   Column                  Non-Null Count  Dtype   \n",
      "---  ------                  --------------  -----   \n",
      " 0   item                    171 non-null    object  \n",
      " 1   WikidataID              171 non-null    object  \n",
      " 2   authorid_x              171 non-null    object  \n",
      " 3   SBL                     85 non-null     float64 \n",
      " 4   SKBL                    171 non-null    object  \n",
      " 5   LIBRISXL                162 non-null    object  \n",
      " 6   wikidata.wikidata_id    881 non-null    object  \n",
      " 7   wikidata.sol_link       76 non-null     object  \n",
      " 8   wikidata.skbl_link      85 non-null     object  \n",
      " 9   authorid_y              881 non-null    object  \n",
      " 10  wikidata.wikipedia      879 non-null    object  \n",
      " 11  wikidata.sbl_link       881 non-null    float64 \n",
      " 12  WD_Littbank_SKBL_merge  967 non-null    category\n",
      "dtypes: category(1), float64(2), object(10)\n",
      "memory usage: 99.3+ KB\n"
     ]
    }
   ],
   "source": [
    "WDLittbank_WD_SKBL_merge.info()"
   ]
  },
  {
   "cell_type": "code",
   "execution_count": null,
   "id": "6e31e041",
   "metadata": {},
   "outputs": [],
   "source": []
  },
  {
   "cell_type": "code",
   "execution_count": 26,
   "id": "d41d16d0",
   "metadata": {},
   "outputs": [
    {
     "data": {
      "text/html": [
       "<div>\n",
       "<style scoped>\n",
       "    .dataframe tbody tr th:only-of-type {\n",
       "        vertical-align: middle;\n",
       "    }\n",
       "\n",
       "    .dataframe tbody tr th {\n",
       "        vertical-align: top;\n",
       "    }\n",
       "\n",
       "    .dataframe thead th {\n",
       "        text-align: right;\n",
       "    }\n",
       "</style>\n",
       "<table border=\"1\" class=\"dataframe\">\n",
       "  <thead>\n",
       "    <tr style=\"text-align: right;\">\n",
       "      <th></th>\n",
       "      <th>item</th>\n",
       "      <th>WikidataID</th>\n",
       "      <th>authorid_x</th>\n",
       "      <th>SBL</th>\n",
       "      <th>SKBL</th>\n",
       "      <th>LIBRISXL</th>\n",
       "      <th>wikidata.wikidata_id</th>\n",
       "      <th>wikidata.sol_link</th>\n",
       "      <th>wikidata.skbl_link</th>\n",
       "      <th>authorid_y</th>\n",
       "      <th>wikidata.wikipedia</th>\n",
       "      <th>wikidata.sbl_link</th>\n",
       "      <th>WD_Littbank_SKBL_merge</th>\n",
       "    </tr>\n",
       "  </thead>\n",
       "  <tbody>\n",
       "    <tr>\n",
       "      <th>0</th>\n",
       "      <td>http://www.wikidata.org/entity/Q4933592</td>\n",
       "      <td>Q4933592</td>\n",
       "      <td>AbeniusM</td>\n",
       "      <td>NaN</td>\n",
       "      <td>MargitAbenius</td>\n",
       "      <td>ljx00mt45v0dfx5</td>\n",
       "      <td>NaN</td>\n",
       "      <td>NaN</td>\n",
       "      <td>NaN</td>\n",
       "      <td>NaN</td>\n",
       "      <td>NaN</td>\n",
       "      <td>NaN</td>\n",
       "      <td>left_only</td>\n",
       "    </tr>\n",
       "    <tr>\n",
       "      <th>1</th>\n",
       "      <td>http://www.wikidata.org/entity/Q4933819</td>\n",
       "      <td>Q4933819</td>\n",
       "      <td>AdelborgO</td>\n",
       "      <td>5519.0</td>\n",
       "      <td>OttiliaAdelborg</td>\n",
       "      <td>sq466t3b4s743md</td>\n",
       "      <td>Q4933819</td>\n",
       "      <td>None</td>\n",
       "      <td>OttiliaAdelborg</td>\n",
       "      <td>AdelborgO</td>\n",
       "      <td>https://sv.wikipedia.org/wiki/Ottilia_Adelborg</td>\n",
       "      <td>5519.0</td>\n",
       "      <td>both</td>\n",
       "    </tr>\n",
       "    <tr>\n",
       "      <th>2</th>\n",
       "      <td>http://www.wikidata.org/entity/Q4346827</td>\n",
       "      <td>Q4346827</td>\n",
       "      <td>AdlersparreS</td>\n",
       "      <td>5564.0</td>\n",
       "      <td>SophieAdlersparre</td>\n",
       "      <td>64jlfw3q2m71jcx</td>\n",
       "      <td>Q4346827</td>\n",
       "      <td>None</td>\n",
       "      <td>SophieAdlersparre</td>\n",
       "      <td>AdlersparreS</td>\n",
       "      <td>https://sv.wikipedia.org/wiki/Sophie_Adlersparre</td>\n",
       "      <td>5564.0</td>\n",
       "      <td>both</td>\n",
       "    </tr>\n",
       "    <tr>\n",
       "      <th>3</th>\n",
       "      <td>http://www.wikidata.org/entity/Q4933929</td>\n",
       "      <td>Q4933929</td>\n",
       "      <td>AdolfssonE</td>\n",
       "      <td>NaN</td>\n",
       "      <td>EvaAdolfsson</td>\n",
       "      <td>jgvxzl422jvcr4v</td>\n",
       "      <td>NaN</td>\n",
       "      <td>NaN</td>\n",
       "      <td>NaN</td>\n",
       "      <td>NaN</td>\n",
       "      <td>NaN</td>\n",
       "      <td>NaN</td>\n",
       "      <td>left_only</td>\n",
       "    </tr>\n",
       "    <tr>\n",
       "      <th>4</th>\n",
       "      <td>http://www.wikidata.org/entity/Q469339</td>\n",
       "      <td>Q469339</td>\n",
       "      <td>AgrellA</td>\n",
       "      <td>5599.0</td>\n",
       "      <td>AlfhildAgrell</td>\n",
       "      <td>xv8b5m1g4l89sb6</td>\n",
       "      <td>Q469339</td>\n",
       "      <td>None</td>\n",
       "      <td>AlfhildAgrell</td>\n",
       "      <td>AgrellA</td>\n",
       "      <td>https://sv.wikipedia.org/wiki/Alfhild_Agrell</td>\n",
       "      <td>5599.0</td>\n",
       "      <td>both</td>\n",
       "    </tr>\n",
       "    <tr>\n",
       "      <th>...</th>\n",
       "      <td>...</td>\n",
       "      <td>...</td>\n",
       "      <td>...</td>\n",
       "      <td>...</td>\n",
       "      <td>...</td>\n",
       "      <td>...</td>\n",
       "      <td>...</td>\n",
       "      <td>...</td>\n",
       "      <td>...</td>\n",
       "      <td>...</td>\n",
       "      <td>...</td>\n",
       "      <td>...</td>\n",
       "      <td>...</td>\n",
       "    </tr>\n",
       "    <tr>\n",
       "      <th>962</th>\n",
       "      <td>NaN</td>\n",
       "      <td>NaN</td>\n",
       "      <td>NaN</td>\n",
       "      <td>NaN</td>\n",
       "      <td>NaN</td>\n",
       "      <td>NaN</td>\n",
       "      <td>Q748553</td>\n",
       "      <td>None</td>\n",
       "      <td>None</td>\n",
       "      <td>SwedbergJ</td>\n",
       "      <td>https://sv.wikipedia.org/wiki/Jesper_Swedberg</td>\n",
       "      <td>34820.0</td>\n",
       "      <td>right_only</td>\n",
       "    </tr>\n",
       "    <tr>\n",
       "      <th>963</th>\n",
       "      <td>NaN</td>\n",
       "      <td>NaN</td>\n",
       "      <td>NaN</td>\n",
       "      <td>NaN</td>\n",
       "      <td>NaN</td>\n",
       "      <td>NaN</td>\n",
       "      <td>Q185832</td>\n",
       "      <td>None</td>\n",
       "      <td>None</td>\n",
       "      <td>SwedenborgE</td>\n",
       "      <td>https://sv.wikipedia.org/wiki/Emanuel_Swedenborg</td>\n",
       "      <td>34840.0</td>\n",
       "      <td>right_only</td>\n",
       "    </tr>\n",
       "    <tr>\n",
       "      <th>964</th>\n",
       "      <td>NaN</td>\n",
       "      <td>NaN</td>\n",
       "      <td>NaN</td>\n",
       "      <td>NaN</td>\n",
       "      <td>NaN</td>\n",
       "      <td>NaN</td>\n",
       "      <td>Q22110411</td>\n",
       "      <td>None</td>\n",
       "      <td>None</td>\n",
       "      <td>SwederusG</td>\n",
       "      <td>https://sv.wikipedia.org/wiki/Georg_Swederus</td>\n",
       "      <td>34844.0</td>\n",
       "      <td>right_only</td>\n",
       "    </tr>\n",
       "    <tr>\n",
       "      <th>965</th>\n",
       "      <td>NaN</td>\n",
       "      <td>NaN</td>\n",
       "      <td>NaN</td>\n",
       "      <td>NaN</td>\n",
       "      <td>NaN</td>\n",
       "      <td>NaN</td>\n",
       "      <td>Q6200578</td>\n",
       "      <td>None</td>\n",
       "      <td>None</td>\n",
       "      <td>SylwanO</td>\n",
       "      <td>https://sv.wikipedia.org/wiki/Otto_Sylwan</td>\n",
       "      <td>35043.0</td>\n",
       "      <td>right_only</td>\n",
       "    </tr>\n",
       "    <tr>\n",
       "      <th>966</th>\n",
       "      <td>NaN</td>\n",
       "      <td>NaN</td>\n",
       "      <td>NaN</td>\n",
       "      <td>NaN</td>\n",
       "      <td>NaN</td>\n",
       "      <td>NaN</td>\n",
       "      <td>Q23989269</td>\n",
       "      <td>None</td>\n",
       "      <td>None</td>\n",
       "      <td>WinterR</td>\n",
       "      <td>https://sv.wikipedia.org/wiki/Reinhold_Ericson</td>\n",
       "      <td>15352.0</td>\n",
       "      <td>right_only</td>\n",
       "    </tr>\n",
       "  </tbody>\n",
       "</table>\n",
       "<p>967 rows × 13 columns</p>\n",
       "</div>"
      ],
      "text/plain": [
       "                                        item WikidataID    authorid_x     SBL  \\\n",
       "0    http://www.wikidata.org/entity/Q4933592   Q4933592      AbeniusM     NaN   \n",
       "1    http://www.wikidata.org/entity/Q4933819   Q4933819     AdelborgO  5519.0   \n",
       "2    http://www.wikidata.org/entity/Q4346827   Q4346827  AdlersparreS  5564.0   \n",
       "3    http://www.wikidata.org/entity/Q4933929   Q4933929    AdolfssonE     NaN   \n",
       "4     http://www.wikidata.org/entity/Q469339    Q469339       AgrellA  5599.0   \n",
       "..                                       ...        ...           ...     ...   \n",
       "962                                      NaN        NaN           NaN     NaN   \n",
       "963                                      NaN        NaN           NaN     NaN   \n",
       "964                                      NaN        NaN           NaN     NaN   \n",
       "965                                      NaN        NaN           NaN     NaN   \n",
       "966                                      NaN        NaN           NaN     NaN   \n",
       "\n",
       "                  SKBL         LIBRISXL wikidata.wikidata_id  \\\n",
       "0        MargitAbenius  ljx00mt45v0dfx5                  NaN   \n",
       "1      OttiliaAdelborg  sq466t3b4s743md             Q4933819   \n",
       "2    SophieAdlersparre  64jlfw3q2m71jcx             Q4346827   \n",
       "3         EvaAdolfsson  jgvxzl422jvcr4v                  NaN   \n",
       "4        AlfhildAgrell  xv8b5m1g4l89sb6              Q469339   \n",
       "..                 ...              ...                  ...   \n",
       "962                NaN              NaN              Q748553   \n",
       "963                NaN              NaN              Q185832   \n",
       "964                NaN              NaN            Q22110411   \n",
       "965                NaN              NaN             Q6200578   \n",
       "966                NaN              NaN            Q23989269   \n",
       "\n",
       "    wikidata.sol_link wikidata.skbl_link    authorid_y  \\\n",
       "0                 NaN                NaN           NaN   \n",
       "1                None    OttiliaAdelborg     AdelborgO   \n",
       "2                None  SophieAdlersparre  AdlersparreS   \n",
       "3                 NaN                NaN           NaN   \n",
       "4                None      AlfhildAgrell       AgrellA   \n",
       "..                ...                ...           ...   \n",
       "962              None               None     SwedbergJ   \n",
       "963              None               None   SwedenborgE   \n",
       "964              None               None     SwederusG   \n",
       "965              None               None       SylwanO   \n",
       "966              None               None       WinterR   \n",
       "\n",
       "                                   wikidata.wikipedia  wikidata.sbl_link  \\\n",
       "0                                                 NaN                NaN   \n",
       "1      https://sv.wikipedia.org/wiki/Ottilia_Adelborg             5519.0   \n",
       "2    https://sv.wikipedia.org/wiki/Sophie_Adlersparre             5564.0   \n",
       "3                                                 NaN                NaN   \n",
       "4        https://sv.wikipedia.org/wiki/Alfhild_Agrell             5599.0   \n",
       "..                                                ...                ...   \n",
       "962     https://sv.wikipedia.org/wiki/Jesper_Swedberg            34820.0   \n",
       "963  https://sv.wikipedia.org/wiki/Emanuel_Swedenborg            34840.0   \n",
       "964      https://sv.wikipedia.org/wiki/Georg_Swederus            34844.0   \n",
       "965         https://sv.wikipedia.org/wiki/Otto_Sylwan            35043.0   \n",
       "966    https://sv.wikipedia.org/wiki/Reinhold_Ericson            15352.0   \n",
       "\n",
       "    WD_Littbank_SKBL_merge  \n",
       "0                left_only  \n",
       "1                     both  \n",
       "2                     both  \n",
       "3                left_only  \n",
       "4                     both  \n",
       "..                     ...  \n",
       "962             right_only  \n",
       "963             right_only  \n",
       "964             right_only  \n",
       "965             right_only  \n",
       "966             right_only  \n",
       "\n",
       "[967 rows x 13 columns]"
      ]
     },
     "execution_count": 26,
     "metadata": {},
     "output_type": "execute_result"
    }
   ],
   "source": [
    "WDLittbank_WD_SKBL_merge"
   ]
  },
  {
   "cell_type": "code",
   "execution_count": 27,
   "id": "10b2464e",
   "metadata": {},
   "outputs": [
    {
     "name": "stdout",
     "output_type": "stream",
     "text": [
      "| 20220923 | 3604 | 2804 | 881 | 171 | 2840 | 887 | 171\n"
     ]
    }
   ],
   "source": [
    "print(\"|\",start_time.strftime(\"%Y%m%d\"),\"|\",dfShow[\"authorid\"].nunique(),\n",
    "     \"|\",dfShow[\"wikidata.wikidata_id\"].nunique(),\n",
    "     \"|\",dfShow[\"wikidata.sbl_link\"].nunique(),\n",
    "     \"|\",dfShow[\"wikidata.skbl_link\"].nunique(),\n",
    "     \"|\",WDLittbanktot[\"authorid\"].nunique(),\n",
    "     \"|\",WDLittbanktot[\"SBL\"].nunique(),\n",
    "     \"|\",WDLittbanktot[\"SKBL\"].nunique()\n",
    "     )"
   ]
  },
  {
   "cell_type": "code",
   "execution_count": 28,
   "id": "57a2cff6",
   "metadata": {},
   "outputs": [
    {
     "name": "stdout",
     "output_type": "stream",
     "text": [
      "| 20220923 | 3604 | 2113 | 2387\n"
     ]
    }
   ],
   "source": [
    "print(\"|\",start_time.strftime(\"%Y%m%d\"),\"|\",dfShow[\"authorid\"].nunique(),\n",
    "     \"|\",dfShow[\"librisid\"].nunique(),\n",
    "     \"|\",WDLittbanktot[\"LIBRISXL\"].nunique()\n",
    "     )"
   ]
  },
  {
   "cell_type": "code",
   "execution_count": 29,
   "id": "4e8d3326",
   "metadata": {},
   "outputs": [
    {
     "name": "stdout",
     "output_type": "stream",
     "text": [
      "Ended:  2022-09-23 09:15:00.430563\n",
      "Time elapsed (hh:mm:ss.ms) 0:00:09.019386\n"
     ]
    }
   ],
   "source": [
    "end = datetime.now()\n",
    "print(\"Ended: \", end) \n",
    "print('Time elapsed (hh:mm:ss.ms) {}'.format(datetime.now() - start_time))"
   ]
  },
  {
   "cell_type": "code",
   "execution_count": 30,
   "id": "4a3c0d10",
   "metadata": {},
   "outputs": [],
   "source": [
    "#df[df.duplicated(['ID'], keep=False)]"
   ]
  },
  {
   "cell_type": "code",
   "execution_count": 31,
   "id": "7e4b1ae8",
   "metadata": {},
   "outputs": [
    {
     "data": {
      "text/html": [
       "<div>\n",
       "<style scoped>\n",
       "    .dataframe tbody tr th:only-of-type {\n",
       "        vertical-align: middle;\n",
       "    }\n",
       "\n",
       "    .dataframe tbody tr th {\n",
       "        vertical-align: top;\n",
       "    }\n",
       "\n",
       "    .dataframe thead th {\n",
       "        text-align: right;\n",
       "    }\n",
       "</style>\n",
       "<table border=\"1\" class=\"dataframe\">\n",
       "  <thead>\n",
       "    <tr style=\"text-align: right;\">\n",
       "      <th></th>\n",
       "      <th>item</th>\n",
       "      <th>WikidataID</th>\n",
       "      <th>authorid</th>\n",
       "      <th>SBL</th>\n",
       "      <th>SKBL</th>\n",
       "      <th>LIBRISXL</th>\n",
       "    </tr>\n",
       "  </thead>\n",
       "  <tbody>\n",
       "  </tbody>\n",
       "</table>\n",
       "</div>"
      ],
      "text/plain": [
       "Empty DataFrame\n",
       "Columns: [item, WikidataID, authorid, SBL, SKBL, LIBRISXL]\n",
       "Index: []"
      ]
     },
     "execution_count": 31,
     "metadata": {},
     "output_type": "execute_result"
    }
   ],
   "source": [
    "WDLittbanktot[WDLittbanktot.duplicated([\"authorid\"],keep=False)]"
   ]
  },
  {
   "cell_type": "code",
   "execution_count": 32,
   "id": "a14a1f86",
   "metadata": {},
   "outputs": [],
   "source": [
    "#WDLittbanktot[WDLittbanktot[\"authorid\"]==WDLittbanktot[WDLittbanktot[\"authorid\"].duplicated()]].sort_values(\"authorid\")"
   ]
  },
  {
   "cell_type": "code",
   "execution_count": 33,
   "id": "4ce79193",
   "metadata": {},
   "outputs": [
    {
     "name": "stdout",
     "output_type": "stream",
     "text": [
      "Ended:  2022-09-23 09:15:00.509822\n",
      "Time elapsed (hh:mm:ass.ms) 0:00:09.099954\n"
     ]
    }
   ],
   "source": [
    "end = datetime.now()\n",
    "print(\"Ended: \", end) \n",
    "print('Time elapsed (hh:mm:ass.ms) {}'.format(datetime.now() - start_time))"
   ]
  },
  {
   "cell_type": "code",
   "execution_count": null,
   "id": "e0417572",
   "metadata": {},
   "outputs": [],
   "source": []
  }
 ],
 "metadata": {
  "kernelspec": {
   "display_name": "Python 3",
   "language": "python",
   "name": "python3"
  },
  "language_info": {
   "codemirror_mode": {
    "name": "ipython",
    "version": 3
   },
   "file_extension": ".py",
   "mimetype": "text/x-python",
   "name": "python",
   "nbconvert_exporter": "python",
   "pygments_lexer": "ipython3",
   "version": "3.9.13"
  }
 },
 "nbformat": 4,
 "nbformat_minor": 5
}
