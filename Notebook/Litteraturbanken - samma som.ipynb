{
 "cells": [
  {
   "cell_type": "markdown",
   "id": "c2fd7c9a",
   "metadata": {},
   "source": [
    "### Work in progress\n",
    "Test och se om vi kan bättre utnyttja fält i Litteraturbankens json\n",
    "* sbl_link --> Wikidata Property 3217 = Svenskt Biografiskt Lexikon\n",
    "* skbl_link --> Wikidata Property 4963 = Svenskt kvinnobiografiskt lexikon\n",
    "* sol_link ?!?!?!\n",
    "* wikidata_id = Wikidata Qnummer\n",
    "* wikipedia = Wikipedia URL\n",
    "\n",
    "\n",
    "Denna [Notebook](https://github.com/salgo60/spa2Commons/blob/main/Notebook/Litteraturbanken%20-%20samma%20som.ipynb) och en [video](https://www.youtube.com/watch?v=52yEa4LdzFE) hur vi kopplar ihop med Litteraturbanken, Svenskt Porträttarkiv....\n",
    "* [issue 3](https://github.com/salgo60/spa2Commons/issues/3) om vi kan bättre förstå hur Litteraturbanken arbetar\n",
    "\n",
    "**TODO**\n",
    " -  [ ] kontrollera data\n",
    " -  [ ] förstå vad SOL är\n",
    " - [ ] bättre koll diff SBL SKBL skriva ut till fil \n",
    " - [ ] kolla samma som LIBRISXL\n",
    "\n",
    " \n",
    "\n",
    "**Connectivity status**\n",
    "\n",
    "I en perfekt värld skall\n",
    "* A = B = E\n",
    "* C = F \n",
    "* D = G\n",
    "* H = I  \n",
    "\n",
    "\n",
    "| Date | A: Litteraturbanken show | B: Littbank - WD | C: Littbank - SBL | D: Littbank - SKBL|E: WD - Littbank | F: WD - Littbank - SBL  |G: WD - Littbank - SKBL  |\n",
    "| ------------- |:-------------:|:-------------:|:-------------:|:-------------:|:-------------:|:-------------:| -----:|\n",
    "| 20211001 | 3130 | 2132 | 765 | 152 | 2346 | 810 | 161\n",
    "| 20211004 | 3130 | 2132 | 765 | 152 | 2347 | 809 | 161\n",
    "| 20211005 | 3174 | 2354 | 809 | 161 | 2406 | 824 | 165\n",
    "| 20211006 | 3174 | 2354 | 809 | 161 | 2430 | 830 | 166\n",
    "| 20211007 | 3174 | 2354 | 809 | 161 | 2437 | 830 | 166\n",
    "| 20211031 | 3174 | 2354 | 809 | 161 | 2509 | 830 | 166  \n",
    "| 20211201 | 3289 | 2532 | 831 | 166 | 2534 | 833 | 166\n",
    "\n",
    "| Date | A: Litteraturbanken show | H: Littbank - LibrisXL | I: WD- Littbank - LIBRISXL |\n",
    "| ------------- |:-------------:|:-------------:|:-------------:|\n",
    "| 20211005 | 3174 | 1780 | 2024\n",
    "| 20211006 | 3174 | 1779 | 2046\n",
    "| 20211007 | 3174 | 1779 | 2053\n",
    "| 20211028 | 3174 | 1779 | 2121 \n",
    "| 20211201 | 3289 | 1837 | 2136\n",
    "\n",
    "Lista egenskaper i Wikdata på objekt som är kopplade till Litteraturbankens författare\n",
    "* [externa kopplingar](https://w.wiki/4B3X)\n",
    "* [\"alla\"](https://w.wiki/4B3Z)\n",
    "\n",
    "Saker som detta är enormt viktigt   \n",
    "* Wikidata behöver auktoriteter att kontrollera kvaliten på vårt data och snabbt se att vi som en öppen plattform inte vandaliseras\n",
    "* Wikidata med Wikipedia har stort antal visningar - se statistik senaste året > [15000 visningar per dag](https://pageviews.toolforge.org/massviews/?platform=all-access&agent=user&source=category&range=last-year&subjectpage=0&subcategories=0&sort=views&direction=1&view=list&target=https://sv.wikipedia.org/wiki/Kategori:Litteraturbanken) på de artiklar som länkar Litteraturbanken --> vi drar traffik till Litteraturbanken\n",
    "* vi ser mer och mer brister hos Kungliga biblioteket och andra äldre auktorieteter att dom har gamla plattformar/teknik där fyller en plattform som Wikidata med sina fel och brister en ny möjlighet se [tankar](https://github.com/salgo60/spa2Commons/issues/3) \n",
    "* ju fler som kopplar ihop sig med varandra desto snabbare/enklare blir denna process\n",
    "* på sikt hoppas vi få ett kulturarv där vi jobbar ihop även fast det går långsamt\n"
   ]
  },
  {
   "cell_type": "code",
   "execution_count": 1,
   "id": "f91a25e9",
   "metadata": {},
   "outputs": [
    {
     "name": "stdout",
     "output_type": "stream",
     "text": [
      "Last run:  2021-12-01 12:28:11.405241\n"
     ]
    }
   ],
   "source": [
    "from datetime import datetime\n",
    "start_time  = datetime.now()\n",
    "print(\"Last run: \", start_time)"
   ]
  },
  {
   "cell_type": "code",
   "execution_count": 2,
   "id": "b1569c18",
   "metadata": {},
   "outputs": [],
   "source": [
    "import urllib3, json\n",
    "import pandas as pd \n",
    "http = urllib3.PoolManager() \n",
    "pd.set_option(\"display.max.columns\", None) \n",
    " \n",
    "url = \"https://litteraturbanken.se/api/get_authors\"\n",
    "r = http.request('GET', url)\n",
    "data = json.loads(r.data)\n",
    "df = pd.json_normalize(data[\"data\"])"
   ]
  },
  {
   "cell_type": "code",
   "execution_count": 3,
   "id": "9ea5312a",
   "metadata": {},
   "outputs": [
    {
     "name": "stdout",
     "output_type": "stream",
     "text": [
      "<class 'pandas.core.frame.DataFrame'>\n",
      "RangeIndex: 4145 entries, 0 to 4144\n",
      "Data columns (total 50 columns):\n",
      " #   Column                         Non-Null Count  Dtype  \n",
      "---  ------                         --------------  -----  \n",
      " 0   authorid                       4145 non-null   object \n",
      " 1   authorid_norm                  4145 non-null   object \n",
      " 2   db_checksum                    4145 non-null   object \n",
      " 3   db_timestamp                   4145 non-null   int64  \n",
      " 4   doc_type                       4145 non-null   object \n",
      " 5   full_name                      4145 non-null   object \n",
      " 6   gender                         4145 non-null   object \n",
      " 7   imported                       3492 non-null   object \n",
      " 8   intro                          733 non-null    object \n",
      " 9   librisid                       2240 non-null   object \n",
      " 10  name_for_index                 4145 non-null   object \n",
      " 11  pictureinfo                    174 non-null    object \n",
      " 12  searchable                     4145 non-null   bool   \n",
      " 13  show                           4145 non-null   bool   \n",
      " 14  surname                        4145 non-null   object \n",
      " 15  updated                        3492 non-null   object \n",
      " 16  birth.date                     3978 non-null   object \n",
      " 17  birth.plain                    4145 non-null   object \n",
      " 18  death.date                     2272 non-null   object \n",
      " 19  death.plain                    3435 non-null   object \n",
      " 20  wikidata.birthplace            1914 non-null   object \n",
      " 21  wikidata.birthplace_label      1914 non-null   object \n",
      " 22  wikidata.deathplace            1666 non-null   object \n",
      " 23  wikidata.deathplace_label      1666 non-null   object \n",
      " 24  wikidata.image                 1509 non-null   object \n",
      " 25  wikidata.sbl_link              833 non-null    object \n",
      " 26  wikidata.skbl_link             166 non-null    object \n",
      " 27  wikidata.sol_link              136 non-null    object \n",
      " 28  wikidata.wikidata_id           2545 non-null   object \n",
      " 29  wikidata.wikipedia             1942 non-null   object \n",
      " 30  db_timestamp_updated           2598 non-null   float64\n",
      " 31  intro_text                     733 non-null    object \n",
      " 32  popularity                     2119 non-null   float64\n",
      " 33  pseudonym                      142 non-null    object \n",
      " 34  dramawebben.intro              114 non-null    object \n",
      " 35  dramawebben.intro_author       113 non-null    object \n",
      " 36  dramawebben.intro_author_norm  113 non-null    object \n",
      " 37  dramawebben.legacy_url         127 non-null    object \n",
      " 38  dramawebben.picture            82 non-null     object \n",
      " 39  sources                        537 non-null    object \n",
      " 40  other_name                     98 non-null     object \n",
      " 41  intro_author                   418 non-null    object \n",
      " 42  intro_author_norm              418 non-null    object \n",
      " 43  dramawebben.picture_info       76 non-null     object \n",
      " 44  picture                        258 non-null    object \n",
      " 45  bibliography                   14 non-null     object \n",
      " 46  external_ref                   8 non-null      object \n",
      " 47  presentation                   28 non-null     object \n",
      " 48  seemore                        4 non-null      object \n",
      " 49  dramawebben.sources            6 non-null      object \n",
      "dtypes: bool(2), float64(2), int64(1), object(45)\n",
      "memory usage: 1.5+ MB\n"
     ]
    }
   ],
   "source": [
    "df.info()"
   ]
  },
  {
   "cell_type": "code",
   "execution_count": 4,
   "id": "6ca743fa",
   "metadata": {},
   "outputs": [
    {
     "data": {
      "text/plain": [
       "True     3289\n",
       "False     856\n",
       "Name: show, dtype: int64"
      ]
     },
     "execution_count": 4,
     "metadata": {},
     "output_type": "execute_result"
    }
   ],
   "source": [
    "df[\"show\"].value_counts()"
   ]
  },
  {
   "cell_type": "code",
   "execution_count": 5,
   "id": "a5c3d7c8",
   "metadata": {},
   "outputs": [
    {
     "name": "stdout",
     "output_type": "stream",
     "text": [
      "<class 'pandas.core.frame.DataFrame'>\n",
      "Int64Index: 3289 entries, 1 to 4144\n",
      "Data columns (total 50 columns):\n",
      " #   Column                         Non-Null Count  Dtype  \n",
      "---  ------                         --------------  -----  \n",
      " 0   authorid                       3289 non-null   object \n",
      " 1   authorid_norm                  3289 non-null   object \n",
      " 2   db_checksum                    3289 non-null   object \n",
      " 3   db_timestamp                   3289 non-null   int64  \n",
      " 4   doc_type                       3289 non-null   object \n",
      " 5   full_name                      3289 non-null   object \n",
      " 6   gender                         3289 non-null   object \n",
      " 7   imported                       2849 non-null   object \n",
      " 8   intro                          704 non-null    object \n",
      " 9   librisid                       1840 non-null   object \n",
      " 10  name_for_index                 3289 non-null   object \n",
      " 11  pictureinfo                    173 non-null    object \n",
      " 12  searchable                     3289 non-null   bool   \n",
      " 13  show                           3289 non-null   bool   \n",
      " 14  surname                        3289 non-null   object \n",
      " 15  updated                        2849 non-null   object \n",
      " 16  birth.date                     3156 non-null   object \n",
      " 17  birth.plain                    3289 non-null   object \n",
      " 18  death.date                     1843 non-null   object \n",
      " 19  death.plain                    2835 non-null   object \n",
      " 20  wikidata.birthplace            1907 non-null   object \n",
      " 21  wikidata.birthplace_label      1907 non-null   object \n",
      " 22  wikidata.deathplace            1659 non-null   object \n",
      " 23  wikidata.deathplace_label      1659 non-null   object \n",
      " 24  wikidata.image                 1502 non-null   object \n",
      " 25  wikidata.sbl_link              831 non-null    object \n",
      " 26  wikidata.skbl_link             166 non-null    object \n",
      " 27  wikidata.sol_link              135 non-null    object \n",
      " 28  wikidata.wikidata_id           2535 non-null   object \n",
      " 29  wikidata.wikipedia             1935 non-null   object \n",
      " 30  db_timestamp_updated           2561 non-null   float64\n",
      " 31  intro_text                     704 non-null    object \n",
      " 32  popularity                     2102 non-null   float64\n",
      " 33  pseudonym                      134 non-null    object \n",
      " 34  dramawebben.intro              102 non-null    object \n",
      " 35  dramawebben.intro_author       101 non-null    object \n",
      " 36  dramawebben.intro_author_norm  101 non-null    object \n",
      " 37  dramawebben.legacy_url         108 non-null    object \n",
      " 38  dramawebben.picture            76 non-null     object \n",
      " 39  sources                        520 non-null    object \n",
      " 40  other_name                     93 non-null     object \n",
      " 41  intro_author                   395 non-null    object \n",
      " 42  intro_author_norm              395 non-null    object \n",
      " 43  dramawebben.picture_info       71 non-null     object \n",
      " 44  picture                        256 non-null    object \n",
      " 45  bibliography                   14 non-null     object \n",
      " 46  external_ref                   7 non-null      object \n",
      " 47  presentation                   28 non-null     object \n",
      " 48  seemore                        4 non-null      object \n",
      " 49  dramawebben.sources            6 non-null      object \n",
      "dtypes: bool(2), float64(2), int64(1), object(45)\n",
      "memory usage: 1.2+ MB\n"
     ]
    }
   ],
   "source": [
    "#just objects with show = True --> displayed in the web\n",
    "dfShow = df[df[\"show\"]].copy() \n",
    "dfShow.info()"
   ]
  },
  {
   "cell_type": "code",
   "execution_count": 6,
   "id": "46576292",
   "metadata": {},
   "outputs": [],
   "source": [
    "dfexternal = dfShow[{\"authorid\",\"wikidata.sbl_link\",\"wikidata.skbl_link\",\"wikidata.wikidata_id\",\"wikidata.sol_link\"\n",
    ",\"wikidata.wikidata_id\",\"wikidata.wikipedia\"}]"
   ]
  },
  {
   "cell_type": "code",
   "execution_count": 7,
   "id": "9b7c67ed",
   "metadata": {},
   "outputs": [
    {
     "name": "stdout",
     "output_type": "stream",
     "text": [
      "<class 'pandas.core.frame.DataFrame'>\n",
      "Int64Index: 3289 entries, 1 to 4144\n",
      "Data columns (total 6 columns):\n",
      " #   Column                Non-Null Count  Dtype \n",
      "---  ------                --------------  ----- \n",
      " 0   wikidata.wikipedia    1935 non-null   object\n",
      " 1   wikidata.sbl_link     831 non-null    object\n",
      " 2   authorid              3289 non-null   object\n",
      " 3   wikidata.wikidata_id  2535 non-null   object\n",
      " 4   wikidata.sol_link     135 non-null    object\n",
      " 5   wikidata.skbl_link    166 non-null    object\n",
      "dtypes: object(6)\n",
      "memory usage: 179.9+ KB\n"
     ]
    }
   ],
   "source": [
    "dfexternal.info()"
   ]
  },
  {
   "cell_type": "code",
   "execution_count": 8,
   "id": "9d11863f",
   "metadata": {},
   "outputs": [
    {
     "data": {
      "text/plain": [
       "Bo_Carpelan                       1\n",
       "Lorenzo_Hammarsköld               1\n",
       "Albert_Eriksson                   1\n",
       "Anders_Fredrik_Skjöldebrand       1\n",
       "Algot_Ruhe                        1\n",
       "                                 ..\n",
       "Andreas_Johannis_Arosiandrinus    1\n",
       "Artur_Lundkvist                   1\n",
       "Erik_Lindegren                    1\n",
       "Fredrik_August_Dahlgren           1\n",
       "Thorsten_Jonsson                  1\n",
       "Name: wikidata.sol_link, Length: 135, dtype: int64"
      ]
     },
     "execution_count": 8,
     "metadata": {},
     "output_type": "execute_result"
    }
   ],
   "source": [
    "dfexternal[\"wikidata.sol_link\"].value_counts()"
   ]
  },
  {
   "cell_type": "code",
   "execution_count": 9,
   "id": "f7f92ed5",
   "metadata": {},
   "outputs": [
    {
     "data": {
      "text/html": [
       "<div>\n",
       "<style scoped>\n",
       "    .dataframe tbody tr th:only-of-type {\n",
       "        vertical-align: middle;\n",
       "    }\n",
       "\n",
       "    .dataframe tbody tr th {\n",
       "        vertical-align: top;\n",
       "    }\n",
       "\n",
       "    .dataframe thead th {\n",
       "        text-align: right;\n",
       "    }\n",
       "</style>\n",
       "<table border=\"1\" class=\"dataframe\">\n",
       "  <thead>\n",
       "    <tr style=\"text-align: right;\">\n",
       "      <th></th>\n",
       "      <th>wikidata.wikipedia</th>\n",
       "      <th>wikidata.sbl_link</th>\n",
       "      <th>authorid</th>\n",
       "      <th>wikidata.wikidata_id</th>\n",
       "      <th>wikidata.sol_link</th>\n",
       "      <th>wikidata.skbl_link</th>\n",
       "    </tr>\n",
       "  </thead>\n",
       "  <tbody>\n",
       "    <tr>\n",
       "      <th>1</th>\n",
       "      <td>None</td>\n",
       "      <td>None</td>\n",
       "      <td>AasenE</td>\n",
       "      <td>Q11967131</td>\n",
       "      <td>None</td>\n",
       "      <td>None</td>\n",
       "    </tr>\n",
       "    <tr>\n",
       "      <th>2</th>\n",
       "      <td>https://sv.wikipedia.org/wiki/Margit_Abenius</td>\n",
       "      <td>None</td>\n",
       "      <td>AbeniusM</td>\n",
       "      <td>Q4933592</td>\n",
       "      <td>None</td>\n",
       "      <td>MargitAbenius</td>\n",
       "    </tr>\n",
       "    <tr>\n",
       "      <th>3</th>\n",
       "      <td>https://sv.wikipedia.org/wiki/Augusta_Abrahamsson</td>\n",
       "      <td>None</td>\n",
       "      <td>AbrahamssonA</td>\n",
       "      <td>Q24680938</td>\n",
       "      <td>None</td>\n",
       "      <td>None</td>\n",
       "    </tr>\n",
       "    <tr>\n",
       "      <th>5</th>\n",
       "      <td>https://sv.wikipedia.org/wiki/Selma_Abrahamsson</td>\n",
       "      <td>None</td>\n",
       "      <td>AbrahamssonS</td>\n",
       "      <td>Q4934135</td>\n",
       "      <td>None</td>\n",
       "      <td>None</td>\n",
       "    </tr>\n",
       "    <tr>\n",
       "      <th>6</th>\n",
       "      <td>https://sv.wikipedia.org/wiki/Erik_Acharius</td>\n",
       "      <td>5503</td>\n",
       "      <td>AchariusE</td>\n",
       "      <td>Q365923</td>\n",
       "      <td>None</td>\n",
       "      <td>None</td>\n",
       "    </tr>\n",
       "    <tr>\n",
       "      <th>...</th>\n",
       "      <td>...</td>\n",
       "      <td>...</td>\n",
       "      <td>...</td>\n",
       "      <td>...</td>\n",
       "      <td>...</td>\n",
       "      <td>...</td>\n",
       "    </tr>\n",
       "    <tr>\n",
       "      <th>4138</th>\n",
       "      <td>https://sv.wikipedia.org/wiki/Carl_%C3%96stergren</td>\n",
       "      <td>None</td>\n",
       "      <td>ÖstergrenCL</td>\n",
       "      <td>Q6257795</td>\n",
       "      <td>None</td>\n",
       "      <td>None</td>\n",
       "    </tr>\n",
       "    <tr>\n",
       "      <th>4139</th>\n",
       "      <td>None</td>\n",
       "      <td>None</td>\n",
       "      <td>ÖstergrenC</td>\n",
       "      <td>Q108406266</td>\n",
       "      <td>None</td>\n",
       "      <td>None</td>\n",
       "    </tr>\n",
       "    <tr>\n",
       "      <th>4140</th>\n",
       "      <td>NaN</td>\n",
       "      <td>NaN</td>\n",
       "      <td>ÖstergrenPJ</td>\n",
       "      <td>NaN</td>\n",
       "      <td>NaN</td>\n",
       "      <td>NaN</td>\n",
       "    </tr>\n",
       "    <tr>\n",
       "      <th>4142</th>\n",
       "      <td>None</td>\n",
       "      <td>None</td>\n",
       "      <td>ÖstinO</td>\n",
       "      <td>Q100752816</td>\n",
       "      <td>None</td>\n",
       "      <td>None</td>\n",
       "    </tr>\n",
       "    <tr>\n",
       "      <th>4144</th>\n",
       "      <td>None</td>\n",
       "      <td>None</td>\n",
       "      <td>ØverlandJ</td>\n",
       "      <td>Q11978200</td>\n",
       "      <td>None</td>\n",
       "      <td>None</td>\n",
       "    </tr>\n",
       "  </tbody>\n",
       "</table>\n",
       "<p>3289 rows × 6 columns</p>\n",
       "</div>"
      ],
      "text/plain": [
       "                                     wikidata.wikipedia wikidata.sbl_link  \\\n",
       "1                                                  None              None   \n",
       "2          https://sv.wikipedia.org/wiki/Margit_Abenius              None   \n",
       "3     https://sv.wikipedia.org/wiki/Augusta_Abrahamsson              None   \n",
       "5       https://sv.wikipedia.org/wiki/Selma_Abrahamsson              None   \n",
       "6           https://sv.wikipedia.org/wiki/Erik_Acharius              5503   \n",
       "...                                                 ...               ...   \n",
       "4138  https://sv.wikipedia.org/wiki/Carl_%C3%96stergren              None   \n",
       "4139                                               None              None   \n",
       "4140                                                NaN               NaN   \n",
       "4142                                               None              None   \n",
       "4144                                               None              None   \n",
       "\n",
       "          authorid wikidata.wikidata_id wikidata.sol_link wikidata.skbl_link  \n",
       "1           AasenE            Q11967131              None               None  \n",
       "2         AbeniusM             Q4933592              None      MargitAbenius  \n",
       "3     AbrahamssonA            Q24680938              None               None  \n",
       "5     AbrahamssonS             Q4934135              None               None  \n",
       "6        AchariusE              Q365923              None               None  \n",
       "...            ...                  ...               ...                ...  \n",
       "4138   ÖstergrenCL             Q6257795              None               None  \n",
       "4139    ÖstergrenC           Q108406266              None               None  \n",
       "4140   ÖstergrenPJ                  NaN               NaN                NaN  \n",
       "4142        ÖstinO           Q100752816              None               None  \n",
       "4144     ØverlandJ            Q11978200              None               None  \n",
       "\n",
       "[3289 rows x 6 columns]"
      ]
     },
     "execution_count": 9,
     "metadata": {},
     "output_type": "execute_result"
    }
   ],
   "source": [
    "dfexternal"
   ]
  },
  {
   "cell_type": "markdown",
   "id": "db241af6",
   "metadata": {},
   "source": [
    "### Get Wikidata"
   ]
  },
  {
   "cell_type": "code",
   "execution_count": 10,
   "id": "2e1fd0f6",
   "metadata": {},
   "outputs": [],
   "source": [
    "# pip install sparqlwrapper\n",
    "# https://rdflib.github.io/sparqlwrapper/\n",
    "\n",
    "import sys,json\n",
    "import pandas as pd \n",
    "\n",
    "from SPARQLWrapper import SPARQLWrapper, JSON\n",
    "\n",
    "endpoint_url = \"https://query.wikidata.org/sparql\"\n",
    "\n",
    "# https://w.wiki/4AAV\n",
    "query = \"\"\"SELECT (REPLACE(STR(?item), \".*Q\", \"Q\") AS ?WikidataID)  ?authorid ?SBL ?SKBL WHERE {\n",
    "?item wdt:P31 wd:Q5.\n",
    "?item wdt:P5101 ?authorid\n",
    "OPTIONAL {?item wdt:P3217 ?SBL}\n",
    "OPTIONAL {?item wdt:P4963 ?SKBL}\n",
    "} order by ?authorid\"\"\"\n",
    "queryLIBRIS = \"\"\"SELECT ?item (REPLACE(STR(?item), \".*Q\", \"Q\") AS ?WikidataID)  ?authorid ?SBL ?SKBL (sample(?LIBRISXL) AS ?LIBRISXL)\n",
    " WHERE {\n",
    "?item wdt:P31 wd:Q5.\n",
    "?item wdt:P5101 ?authorid\n",
    "OPTIONAL {?item wdt:P3217 ?SBL}\n",
    "OPTIONAL {?item wdt:P5587 ?LIBRISXL}\n",
    "OPTIONAL {?item wdt:P4963 ?SKBL}\n",
    "} group by ?item ?WikidataID ?authorid ?SBL ?SKBL\n",
    "order by ?authorid\"\"\" \n",
    "    \n",
    "def get_sparql_dataframe(endpoint_url, query):\n",
    "    \"\"\"\n",
    "    Helper function to convert SPARQL results into a Pandas data frame.\n",
    "    \"\"\"\n",
    "    user_agent = \"salgo60/%s.%s\" % (sys.version_info[0], sys.version_info[1])\n",
    " \n",
    "    sparql = SPARQLWrapper(endpoint_url, agent=user_agent)\n",
    "    sparql.setQuery(query)\n",
    "    sparql.setReturnFormat(JSON)\n",
    "    result = sparql.query()\n",
    "\n",
    "    processed_results = json.load(result.response)\n",
    "    cols = processed_results['head']['vars']\n",
    "    out = []\n",
    "    for row in processed_results['results']['bindings']:\n",
    "        item = []\n",
    "        for c in cols:\n",
    "            item.append(row.get(c, {}).get('value'))\n",
    "        out.append(item)\n",
    "\n",
    "    return pd.DataFrame(out, columns=cols)\n",
    "\n",
    "WDLittbanktot = get_sparql_dataframe(endpoint_url, queryLIBRIS)\n"
   ]
  },
  {
   "cell_type": "code",
   "execution_count": 11,
   "id": "140ecae3",
   "metadata": {},
   "outputs": [
    {
     "name": "stdout",
     "output_type": "stream",
     "text": [
      "<class 'pandas.core.frame.DataFrame'>\n",
      "RangeIndex: 2534 entries, 0 to 2533\n",
      "Data columns (total 6 columns):\n",
      " #   Column      Non-Null Count  Dtype  \n",
      "---  ------      --------------  -----  \n",
      " 0   item        2534 non-null   object \n",
      " 1   WikidataID  2534 non-null   object \n",
      " 2   authorid    2534 non-null   object \n",
      " 3   SBL         833 non-null    float64\n",
      " 4   SKBL        166 non-null    object \n",
      " 5   LIBRISXL    2138 non-null   object \n",
      "dtypes: float64(1), object(5)\n",
      "memory usage: 118.9+ KB\n"
     ]
    }
   ],
   "source": [
    "WDLittbanktot['SBL'] = pd.to_numeric(WDLittbanktot['SBL'], errors=\"coerce\")\n",
    "WDLittbanktot.info()"
   ]
  },
  {
   "cell_type": "code",
   "execution_count": 12,
   "id": "2f26d9cc",
   "metadata": {},
   "outputs": [
    {
     "data": {
      "text/html": [
       "<div>\n",
       "<style scoped>\n",
       "    .dataframe tbody tr th:only-of-type {\n",
       "        vertical-align: middle;\n",
       "    }\n",
       "\n",
       "    .dataframe tbody tr th {\n",
       "        vertical-align: top;\n",
       "    }\n",
       "\n",
       "    .dataframe thead th {\n",
       "        text-align: right;\n",
       "    }\n",
       "</style>\n",
       "<table border=\"1\" class=\"dataframe\">\n",
       "  <thead>\n",
       "    <tr style=\"text-align: right;\">\n",
       "      <th></th>\n",
       "      <th>item</th>\n",
       "      <th>WikidataID</th>\n",
       "      <th>authorid</th>\n",
       "      <th>SBL</th>\n",
       "      <th>SKBL</th>\n",
       "      <th>LIBRISXL</th>\n",
       "    </tr>\n",
       "  </thead>\n",
       "  <tbody>\n",
       "  </tbody>\n",
       "</table>\n",
       "</div>"
      ],
      "text/plain": [
       "Empty DataFrame\n",
       "Columns: [item, WikidataID, authorid, SBL, SKBL, LIBRISXL]\n",
       "Index: []"
      ]
     },
     "execution_count": 12,
     "metadata": {},
     "output_type": "execute_result"
    }
   ],
   "source": [
    "# Find duplicates\n",
    "WDLittbanktot[WDLittbanktot.duplicated([\"authorid\"],keep=False)]"
   ]
  },
  {
   "cell_type": "code",
   "execution_count": 13,
   "id": "d1ee1749",
   "metadata": {},
   "outputs": [
    {
     "name": "stdout",
     "output_type": "stream",
     "text": [
      "<class 'pandas.core.frame.DataFrame'>\n",
      "Int64Index: 3289 entries, 1 to 4144\n",
      "Data columns (total 6 columns):\n",
      " #   Column                Non-Null Count  Dtype  \n",
      "---  ------                --------------  -----  \n",
      " 0   wikidata.wikipedia    1935 non-null   object \n",
      " 1   wikidata.sbl_link     831 non-null    float64\n",
      " 2   authorid              3289 non-null   object \n",
      " 3   wikidata.wikidata_id  2535 non-null   object \n",
      " 4   wikidata.sol_link     135 non-null    object \n",
      " 5   wikidata.skbl_link    166 non-null    object \n",
      "dtypes: float64(1), object(5)\n",
      "memory usage: 179.9+ KB\n"
     ]
    },
    {
     "name": "stderr",
     "output_type": "stream",
     "text": [
      "<ipython-input-13-e1d483007a37>:1: SettingWithCopyWarning: \n",
      "A value is trying to be set on a copy of a slice from a DataFrame.\n",
      "Try using .loc[row_indexer,col_indexer] = value instead\n",
      "\n",
      "See the caveats in the documentation: https://pandas.pydata.org/pandas-docs/stable/user_guide/indexing.html#returning-a-view-versus-a-copy\n",
      "  dfexternal['wikidata.sbl_link'] = pd.to_numeric(dfexternal['wikidata.sbl_link'], errors=\"coerce\")\n"
     ]
    }
   ],
   "source": [
    "dfexternal['wikidata.sbl_link'] = pd.to_numeric(dfexternal['wikidata.sbl_link'], errors=\"coerce\")\n",
    "dfexternal.info()"
   ]
  },
  {
   "cell_type": "markdown",
   "id": "9329def4",
   "metadata": {},
   "source": [
    "### Compare Littbank Wikidata field with Wikidata \n"
   ]
  },
  {
   "cell_type": "code",
   "execution_count": 14,
   "id": "fabc60ba",
   "metadata": {},
   "outputs": [
    {
     "data": {
      "text/plain": [
       "both          2521\n",
       "left_only        0\n",
       "right_only       0\n",
       "Name: WD_Littbank_merge, dtype: int64"
      ]
     },
     "execution_count": 14,
     "metadata": {},
     "output_type": "execute_result"
    }
   ],
   "source": [
    "WDLittbank_WD_merge =  pd.merge(WDLittbanktot, dfexternal, on='authorid',indicator=True)\n",
    "WDLittbank_WD_merge.rename(columns={\"_merge\": \"WD_Littbank_merge\"},inplace = True)\n",
    "\n",
    "WDLittbank_WD_merge[\"WD_Littbank_merge\"].value_counts()"
   ]
  },
  {
   "cell_type": "code",
   "execution_count": 15,
   "id": "08b51fe0",
   "metadata": {},
   "outputs": [
    {
     "data": {
      "text/plain": [
       "both          2521\n",
       "left_only        0\n",
       "right_only       0\n",
       "Name: WD_Littbank_merge, dtype: int64"
      ]
     },
     "execution_count": 15,
     "metadata": {},
     "output_type": "execute_result"
    }
   ],
   "source": [
    "WDLittbank_WD_merge[\"WD_Littbank_merge\"].value_counts()"
   ]
  },
  {
   "cell_type": "code",
   "execution_count": 16,
   "id": "17ebc7b7",
   "metadata": {},
   "outputs": [
    {
     "data": {
      "text/html": [
       "<div>\n",
       "<style scoped>\n",
       "    .dataframe tbody tr th:only-of-type {\n",
       "        vertical-align: middle;\n",
       "    }\n",
       "\n",
       "    .dataframe tbody tr th {\n",
       "        vertical-align: top;\n",
       "    }\n",
       "\n",
       "    .dataframe thead th {\n",
       "        text-align: right;\n",
       "    }\n",
       "</style>\n",
       "<table border=\"1\" class=\"dataframe\">\n",
       "  <thead>\n",
       "    <tr style=\"text-align: right;\">\n",
       "      <th></th>\n",
       "      <th>item</th>\n",
       "      <th>WikidataID</th>\n",
       "      <th>authorid</th>\n",
       "      <th>SBL</th>\n",
       "      <th>SKBL</th>\n",
       "      <th>LIBRISXL</th>\n",
       "      <th>wikidata.wikipedia</th>\n",
       "      <th>wikidata.sbl_link</th>\n",
       "      <th>wikidata.wikidata_id</th>\n",
       "      <th>wikidata.sol_link</th>\n",
       "      <th>wikidata.skbl_link</th>\n",
       "      <th>WD_Littbank_merge</th>\n",
       "    </tr>\n",
       "  </thead>\n",
       "  <tbody>\n",
       "  </tbody>\n",
       "</table>\n",
       "</div>"
      ],
      "text/plain": [
       "Empty DataFrame\n",
       "Columns: [item, WikidataID, authorid, SBL, SKBL, LIBRISXL, wikidata.wikipedia, wikidata.sbl_link, wikidata.wikidata_id, wikidata.sol_link, wikidata.skbl_link, WD_Littbank_merge]\n",
       "Index: []"
      ]
     },
     "execution_count": 16,
     "metadata": {},
     "output_type": "execute_result"
    }
   ],
   "source": [
    "# all with SBL seems to have WIkidata\n",
    "WDLittbanktotSBL =  WDLittbank_WD_merge[~WDLittbank_WD_merge['wikidata.sbl_link'].isnull()]\n",
    "WDLittbanktotSBL_noWD = WDLittbanktotSBL[WDLittbanktotSBL['wikidata.wikidata_id'].isnull()] \n",
    "WDLittbanktotSBL_noWD"
   ]
  },
  {
   "cell_type": "markdown",
   "id": "e23a8bf6",
   "metadata": {},
   "source": [
    "### SBL"
   ]
  },
  {
   "cell_type": "code",
   "execution_count": 17,
   "id": "c35128aa",
   "metadata": {},
   "outputs": [
    {
     "name": "stdout",
     "output_type": "stream",
     "text": [
      "<class 'pandas.core.frame.DataFrame'>\n",
      "Int64Index: 833 entries, 4 to 2460\n",
      "Data columns (total 6 columns):\n",
      " #   Column      Non-Null Count  Dtype  \n",
      "---  ------      --------------  -----  \n",
      " 0   item        833 non-null    object \n",
      " 1   WikidataID  833 non-null    object \n",
      " 2   authorid    833 non-null    object \n",
      " 3   SBL         833 non-null    float64\n",
      " 4   SKBL        83 non-null     object \n",
      " 5   LIBRISXL    787 non-null    object \n",
      "dtypes: float64(1), object(5)\n",
      "memory usage: 45.6+ KB\n"
     ]
    }
   ],
   "source": [
    "WDLittbanktot_SBL = WDLittbanktot[~WDLittbanktot[\"SBL\"].isna()]\n",
    "WDLittbanktot_SBL.info()"
   ]
  },
  {
   "cell_type": "code",
   "execution_count": 18,
   "id": "4e819e5f",
   "metadata": {},
   "outputs": [
    {
     "data": {
      "text/html": [
       "<div>\n",
       "<style scoped>\n",
       "    .dataframe tbody tr th:only-of-type {\n",
       "        vertical-align: middle;\n",
       "    }\n",
       "\n",
       "    .dataframe tbody tr th {\n",
       "        vertical-align: top;\n",
       "    }\n",
       "\n",
       "    .dataframe thead th {\n",
       "        text-align: right;\n",
       "    }\n",
       "</style>\n",
       "<table border=\"1\" class=\"dataframe\">\n",
       "  <thead>\n",
       "    <tr style=\"text-align: right;\">\n",
       "      <th></th>\n",
       "      <th>item</th>\n",
       "      <th>WikidataID</th>\n",
       "      <th>authorid</th>\n",
       "      <th>SBL</th>\n",
       "      <th>SKBL</th>\n",
       "      <th>LIBRISXL</th>\n",
       "    </tr>\n",
       "  </thead>\n",
       "  <tbody>\n",
       "  </tbody>\n",
       "</table>\n",
       "</div>"
      ],
      "text/plain": [
       "Empty DataFrame\n",
       "Columns: [item, WikidataID, authorid, SBL, SKBL, LIBRISXL]\n",
       "Index: []"
      ]
     },
     "execution_count": 18,
     "metadata": {},
     "output_type": "execute_result"
    }
   ],
   "source": [
    "# Find duplicates\n",
    "WDLittbanktot_SBL[WDLittbanktot_SBL.duplicated([\"SBL\"],keep=False)]"
   ]
  },
  {
   "cell_type": "code",
   "execution_count": 19,
   "id": "a0095696",
   "metadata": {},
   "outputs": [],
   "source": [
    "dfexternal_SBL = dfexternal[~dfexternal[\"wikidata.sbl_link\"].isna()]"
   ]
  },
  {
   "cell_type": "code",
   "execution_count": 20,
   "id": "e14cbc6a",
   "metadata": {},
   "outputs": [
    {
     "name": "stdout",
     "output_type": "stream",
     "text": [
      "<class 'pandas.core.frame.DataFrame'>\n",
      "Int64Index: 831 entries, 6 to 4014\n",
      "Data columns (total 6 columns):\n",
      " #   Column                Non-Null Count  Dtype  \n",
      "---  ------                --------------  -----  \n",
      " 0   wikidata.wikipedia    829 non-null    object \n",
      " 1   wikidata.sbl_link     831 non-null    float64\n",
      " 2   authorid              831 non-null    object \n",
      " 3   wikidata.wikidata_id  831 non-null    object \n",
      " 4   wikidata.sol_link     73 non-null     object \n",
      " 5   wikidata.skbl_link    83 non-null     object \n",
      "dtypes: float64(1), object(5)\n",
      "memory usage: 45.4+ KB\n"
     ]
    }
   ],
   "source": [
    "dfexternal_SBL.info()"
   ]
  },
  {
   "cell_type": "code",
   "execution_count": 21,
   "id": "27a4a916",
   "metadata": {},
   "outputs": [
    {
     "data": {
      "text/plain": [
       "both          831\n",
       "left_only       0\n",
       "right_only      0\n",
       "Name: WD_Littbank_SBL_merge, dtype: int64"
      ]
     },
     "execution_count": 21,
     "metadata": {},
     "output_type": "execute_result"
    }
   ],
   "source": [
    "WDLittbank_WD_SBL_merge =  pd.merge(WDLittbanktot_SBL, dfexternal_SBL, left_on='SBL', right_on='wikidata.sbl_link',indicator=True)\n",
    "WDLittbank_WD_SBL_merge.rename(columns={\"_merge\": \"WD_Littbank_SBL_merge\"},inplace = True)\n",
    "\n",
    "WDLittbank_WD_SBL_merge[\"WD_Littbank_SBL_merge\"].value_counts()"
   ]
  },
  {
   "cell_type": "markdown",
   "id": "906a08f8",
   "metadata": {},
   "source": [
    "## SKBL"
   ]
  },
  {
   "cell_type": "code",
   "execution_count": 22,
   "id": "6f332b7e",
   "metadata": {},
   "outputs": [
    {
     "name": "stdout",
     "output_type": "stream",
     "text": [
      "<class 'pandas.core.frame.DataFrame'>\n",
      "Int64Index: 166 entries, 1 to 2522\n",
      "Data columns (total 6 columns):\n",
      " #   Column      Non-Null Count  Dtype  \n",
      "---  ------      --------------  -----  \n",
      " 0   item        166 non-null    object \n",
      " 1   WikidataID  166 non-null    object \n",
      " 2   authorid    166 non-null    object \n",
      " 3   SBL         83 non-null     float64\n",
      " 4   SKBL        166 non-null    object \n",
      " 5   LIBRISXL    157 non-null    object \n",
      "dtypes: float64(1), object(5)\n",
      "memory usage: 9.1+ KB\n"
     ]
    }
   ],
   "source": [
    "WDLittbanktot_SKBL = WDLittbanktot[~WDLittbanktot[\"SKBL\"].isna()]\n",
    "WDLittbanktot_SKBL.info()"
   ]
  },
  {
   "cell_type": "code",
   "execution_count": 23,
   "id": "2e707463",
   "metadata": {},
   "outputs": [
    {
     "name": "stdout",
     "output_type": "stream",
     "text": [
      "<class 'pandas.core.frame.DataFrame'>\n",
      "Int64Index: 166 entries, 2 to 4127\n",
      "Data columns (total 6 columns):\n",
      " #   Column                Non-Null Count  Dtype  \n",
      "---  ------                --------------  -----  \n",
      " 0   wikidata.wikipedia    166 non-null    object \n",
      " 1   wikidata.sbl_link     83 non-null     float64\n",
      " 2   authorid              166 non-null    object \n",
      " 3   wikidata.wikidata_id  166 non-null    object \n",
      " 4   wikidata.sol_link     26 non-null     object \n",
      " 5   wikidata.skbl_link    166 non-null    object \n",
      "dtypes: float64(1), object(5)\n",
      "memory usage: 9.1+ KB\n"
     ]
    }
   ],
   "source": [
    "dfexternal_SKBL = dfexternal[~dfexternal[\"wikidata.skbl_link\"].isna()]\n",
    "dfexternal_SKBL.info()"
   ]
  },
  {
   "cell_type": "code",
   "execution_count": null,
   "id": "3b0740f5",
   "metadata": {},
   "outputs": [],
   "source": []
  },
  {
   "cell_type": "code",
   "execution_count": 24,
   "id": "1ee7ba0c",
   "metadata": {},
   "outputs": [
    {
     "data": {
      "text/plain": [
       "right_only    748\n",
       "left_only      83\n",
       "both           83\n",
       "Name: WD_Littbank_SKBL_merge, dtype: int64"
      ]
     },
     "execution_count": 24,
     "metadata": {},
     "output_type": "execute_result"
    }
   ],
   "source": [
    "WDLittbank_WD_SKBL_merge =  pd.merge(WDLittbanktot_SKBL, dfexternal_SBL,how='outer', left_on='SKBL', right_on='wikidata.skbl_link',indicator=True)\n",
    "WDLittbank_WD_SKBL_merge.rename(columns={\"_merge\": \"WD_Littbank_SKBL_merge\"},inplace = True)\n",
    "\n",
    "WDLittbank_WD_SKBL_merge[\"WD_Littbank_SKBL_merge\"].value_counts()"
   ]
  },
  {
   "cell_type": "code",
   "execution_count": 25,
   "id": "ead9eca8",
   "metadata": {},
   "outputs": [
    {
     "name": "stdout",
     "output_type": "stream",
     "text": [
      "<class 'pandas.core.frame.DataFrame'>\n",
      "Int64Index: 914 entries, 0 to 913\n",
      "Data columns (total 13 columns):\n",
      " #   Column                  Non-Null Count  Dtype   \n",
      "---  ------                  --------------  -----   \n",
      " 0   item                    166 non-null    object  \n",
      " 1   WikidataID              166 non-null    object  \n",
      " 2   authorid_x              166 non-null    object  \n",
      " 3   SBL                     83 non-null     float64 \n",
      " 4   SKBL                    166 non-null    object  \n",
      " 5   LIBRISXL                157 non-null    object  \n",
      " 6   wikidata.wikipedia      829 non-null    object  \n",
      " 7   wikidata.sbl_link       831 non-null    float64 \n",
      " 8   authorid_y              831 non-null    object  \n",
      " 9   wikidata.wikidata_id    831 non-null    object  \n",
      " 10  wikidata.sol_link       73 non-null     object  \n",
      " 11  wikidata.skbl_link      83 non-null     object  \n",
      " 12  WD_Littbank_SKBL_merge  914 non-null    category\n",
      "dtypes: category(1), float64(2), object(10)\n",
      "memory usage: 93.8+ KB\n"
     ]
    }
   ],
   "source": [
    "WDLittbank_WD_SKBL_merge.info()"
   ]
  },
  {
   "cell_type": "code",
   "execution_count": null,
   "id": "6e31e041",
   "metadata": {},
   "outputs": [],
   "source": []
  },
  {
   "cell_type": "code",
   "execution_count": 26,
   "id": "d41d16d0",
   "metadata": {},
   "outputs": [
    {
     "data": {
      "text/html": [
       "<div>\n",
       "<style scoped>\n",
       "    .dataframe tbody tr th:only-of-type {\n",
       "        vertical-align: middle;\n",
       "    }\n",
       "\n",
       "    .dataframe tbody tr th {\n",
       "        vertical-align: top;\n",
       "    }\n",
       "\n",
       "    .dataframe thead th {\n",
       "        text-align: right;\n",
       "    }\n",
       "</style>\n",
       "<table border=\"1\" class=\"dataframe\">\n",
       "  <thead>\n",
       "    <tr style=\"text-align: right;\">\n",
       "      <th></th>\n",
       "      <th>item</th>\n",
       "      <th>WikidataID</th>\n",
       "      <th>authorid_x</th>\n",
       "      <th>SBL</th>\n",
       "      <th>SKBL</th>\n",
       "      <th>LIBRISXL</th>\n",
       "      <th>wikidata.wikipedia</th>\n",
       "      <th>wikidata.sbl_link</th>\n",
       "      <th>authorid_y</th>\n",
       "      <th>wikidata.wikidata_id</th>\n",
       "      <th>wikidata.sol_link</th>\n",
       "      <th>wikidata.skbl_link</th>\n",
       "      <th>WD_Littbank_SKBL_merge</th>\n",
       "    </tr>\n",
       "  </thead>\n",
       "  <tbody>\n",
       "    <tr>\n",
       "      <th>0</th>\n",
       "      <td>http://www.wikidata.org/entity/Q4933592</td>\n",
       "      <td>Q4933592</td>\n",
       "      <td>AbeniusM</td>\n",
       "      <td>NaN</td>\n",
       "      <td>MargitAbenius</td>\n",
       "      <td>ljx00mt45v0dfx5</td>\n",
       "      <td>NaN</td>\n",
       "      <td>NaN</td>\n",
       "      <td>NaN</td>\n",
       "      <td>NaN</td>\n",
       "      <td>NaN</td>\n",
       "      <td>NaN</td>\n",
       "      <td>left_only</td>\n",
       "    </tr>\n",
       "    <tr>\n",
       "      <th>1</th>\n",
       "      <td>http://www.wikidata.org/entity/Q4933819</td>\n",
       "      <td>Q4933819</td>\n",
       "      <td>AdelborgO</td>\n",
       "      <td>5519.0</td>\n",
       "      <td>OttiliaAdelborg</td>\n",
       "      <td>sq466t3b4s743md</td>\n",
       "      <td>https://sv.wikipedia.org/wiki/Ottilia_Adelborg</td>\n",
       "      <td>5519.0</td>\n",
       "      <td>AdelborgO</td>\n",
       "      <td>Q4933819</td>\n",
       "      <td>None</td>\n",
       "      <td>OttiliaAdelborg</td>\n",
       "      <td>both</td>\n",
       "    </tr>\n",
       "    <tr>\n",
       "      <th>2</th>\n",
       "      <td>http://www.wikidata.org/entity/Q4346827</td>\n",
       "      <td>Q4346827</td>\n",
       "      <td>AdlersparreS</td>\n",
       "      <td>5564.0</td>\n",
       "      <td>SophieAdlersparre</td>\n",
       "      <td>64jlfw3q2m71jcx</td>\n",
       "      <td>https://sv.wikipedia.org/wiki/Sophie_Adlersparre</td>\n",
       "      <td>5564.0</td>\n",
       "      <td>AdlersparreS</td>\n",
       "      <td>Q4346827</td>\n",
       "      <td>None</td>\n",
       "      <td>SophieAdlersparre</td>\n",
       "      <td>both</td>\n",
       "    </tr>\n",
       "    <tr>\n",
       "      <th>3</th>\n",
       "      <td>http://www.wikidata.org/entity/Q4933929</td>\n",
       "      <td>Q4933929</td>\n",
       "      <td>AdolfssonE</td>\n",
       "      <td>NaN</td>\n",
       "      <td>EvaAdolfsson</td>\n",
       "      <td>jgvxzl422jvcr4v</td>\n",
       "      <td>NaN</td>\n",
       "      <td>NaN</td>\n",
       "      <td>NaN</td>\n",
       "      <td>NaN</td>\n",
       "      <td>NaN</td>\n",
       "      <td>NaN</td>\n",
       "      <td>left_only</td>\n",
       "    </tr>\n",
       "    <tr>\n",
       "      <th>4</th>\n",
       "      <td>http://www.wikidata.org/entity/Q469339</td>\n",
       "      <td>Q469339</td>\n",
       "      <td>AgrellA</td>\n",
       "      <td>5599.0</td>\n",
       "      <td>AlfhildAgrell</td>\n",
       "      <td>xv8b5m1g4l89sb6</td>\n",
       "      <td>https://sv.wikipedia.org/wiki/Alfhild_Agrell</td>\n",
       "      <td>5599.0</td>\n",
       "      <td>AgrellA</td>\n",
       "      <td>Q469339</td>\n",
       "      <td>None</td>\n",
       "      <td>AlfhildAgrell</td>\n",
       "      <td>both</td>\n",
       "    </tr>\n",
       "    <tr>\n",
       "      <th>...</th>\n",
       "      <td>...</td>\n",
       "      <td>...</td>\n",
       "      <td>...</td>\n",
       "      <td>...</td>\n",
       "      <td>...</td>\n",
       "      <td>...</td>\n",
       "      <td>...</td>\n",
       "      <td>...</td>\n",
       "      <td>...</td>\n",
       "      <td>...</td>\n",
       "      <td>...</td>\n",
       "      <td>...</td>\n",
       "      <td>...</td>\n",
       "    </tr>\n",
       "    <tr>\n",
       "      <th>909</th>\n",
       "      <td>NaN</td>\n",
       "      <td>NaN</td>\n",
       "      <td>NaN</td>\n",
       "      <td>NaN</td>\n",
       "      <td>NaN</td>\n",
       "      <td>NaN</td>\n",
       "      <td>https://sv.wikipedia.org/wiki/Wilhelm_Erik_Sve...</td>\n",
       "      <td>34837.0</td>\n",
       "      <td>SvedeliusWE</td>\n",
       "      <td>Q6197780</td>\n",
       "      <td>None</td>\n",
       "      <td>None</td>\n",
       "      <td>right_only</td>\n",
       "    </tr>\n",
       "    <tr>\n",
       "      <th>910</th>\n",
       "      <td>NaN</td>\n",
       "      <td>NaN</td>\n",
       "      <td>NaN</td>\n",
       "      <td>NaN</td>\n",
       "      <td>NaN</td>\n",
       "      <td>NaN</td>\n",
       "      <td>https://sv.wikipedia.org/wiki/Jesper_Swedberg</td>\n",
       "      <td>34820.0</td>\n",
       "      <td>SwedbergJ</td>\n",
       "      <td>Q748553</td>\n",
       "      <td>None</td>\n",
       "      <td>None</td>\n",
       "      <td>right_only</td>\n",
       "    </tr>\n",
       "    <tr>\n",
       "      <th>911</th>\n",
       "      <td>NaN</td>\n",
       "      <td>NaN</td>\n",
       "      <td>NaN</td>\n",
       "      <td>NaN</td>\n",
       "      <td>NaN</td>\n",
       "      <td>NaN</td>\n",
       "      <td>https://sv.wikipedia.org/wiki/Emanuel_Swedenborg</td>\n",
       "      <td>34840.0</td>\n",
       "      <td>SwedenborgE</td>\n",
       "      <td>Q185832</td>\n",
       "      <td>None</td>\n",
       "      <td>None</td>\n",
       "      <td>right_only</td>\n",
       "    </tr>\n",
       "    <tr>\n",
       "      <th>912</th>\n",
       "      <td>NaN</td>\n",
       "      <td>NaN</td>\n",
       "      <td>NaN</td>\n",
       "      <td>NaN</td>\n",
       "      <td>NaN</td>\n",
       "      <td>NaN</td>\n",
       "      <td>https://sv.wikipedia.org/wiki/Georg_Swederus</td>\n",
       "      <td>34844.0</td>\n",
       "      <td>SwederusG</td>\n",
       "      <td>Q22110411</td>\n",
       "      <td>None</td>\n",
       "      <td>None</td>\n",
       "      <td>right_only</td>\n",
       "    </tr>\n",
       "    <tr>\n",
       "      <th>913</th>\n",
       "      <td>NaN</td>\n",
       "      <td>NaN</td>\n",
       "      <td>NaN</td>\n",
       "      <td>NaN</td>\n",
       "      <td>NaN</td>\n",
       "      <td>NaN</td>\n",
       "      <td>https://sv.wikipedia.org/wiki/Reinhold_Ericson</td>\n",
       "      <td>15352.0</td>\n",
       "      <td>WinterR</td>\n",
       "      <td>Q23989269</td>\n",
       "      <td>None</td>\n",
       "      <td>None</td>\n",
       "      <td>right_only</td>\n",
       "    </tr>\n",
       "  </tbody>\n",
       "</table>\n",
       "<p>914 rows × 13 columns</p>\n",
       "</div>"
      ],
      "text/plain": [
       "                                        item WikidataID    authorid_x     SBL  \\\n",
       "0    http://www.wikidata.org/entity/Q4933592   Q4933592      AbeniusM     NaN   \n",
       "1    http://www.wikidata.org/entity/Q4933819   Q4933819     AdelborgO  5519.0   \n",
       "2    http://www.wikidata.org/entity/Q4346827   Q4346827  AdlersparreS  5564.0   \n",
       "3    http://www.wikidata.org/entity/Q4933929   Q4933929    AdolfssonE     NaN   \n",
       "4     http://www.wikidata.org/entity/Q469339    Q469339       AgrellA  5599.0   \n",
       "..                                       ...        ...           ...     ...   \n",
       "909                                      NaN        NaN           NaN     NaN   \n",
       "910                                      NaN        NaN           NaN     NaN   \n",
       "911                                      NaN        NaN           NaN     NaN   \n",
       "912                                      NaN        NaN           NaN     NaN   \n",
       "913                                      NaN        NaN           NaN     NaN   \n",
       "\n",
       "                  SKBL         LIBRISXL  \\\n",
       "0        MargitAbenius  ljx00mt45v0dfx5   \n",
       "1      OttiliaAdelborg  sq466t3b4s743md   \n",
       "2    SophieAdlersparre  64jlfw3q2m71jcx   \n",
       "3         EvaAdolfsson  jgvxzl422jvcr4v   \n",
       "4        AlfhildAgrell  xv8b5m1g4l89sb6   \n",
       "..                 ...              ...   \n",
       "909                NaN              NaN   \n",
       "910                NaN              NaN   \n",
       "911                NaN              NaN   \n",
       "912                NaN              NaN   \n",
       "913                NaN              NaN   \n",
       "\n",
       "                                    wikidata.wikipedia  wikidata.sbl_link  \\\n",
       "0                                                  NaN                NaN   \n",
       "1       https://sv.wikipedia.org/wiki/Ottilia_Adelborg             5519.0   \n",
       "2     https://sv.wikipedia.org/wiki/Sophie_Adlersparre             5564.0   \n",
       "3                                                  NaN                NaN   \n",
       "4         https://sv.wikipedia.org/wiki/Alfhild_Agrell             5599.0   \n",
       "..                                                 ...                ...   \n",
       "909  https://sv.wikipedia.org/wiki/Wilhelm_Erik_Sve...            34837.0   \n",
       "910      https://sv.wikipedia.org/wiki/Jesper_Swedberg            34820.0   \n",
       "911   https://sv.wikipedia.org/wiki/Emanuel_Swedenborg            34840.0   \n",
       "912       https://sv.wikipedia.org/wiki/Georg_Swederus            34844.0   \n",
       "913     https://sv.wikipedia.org/wiki/Reinhold_Ericson            15352.0   \n",
       "\n",
       "       authorid_y wikidata.wikidata_id wikidata.sol_link wikidata.skbl_link  \\\n",
       "0             NaN                  NaN               NaN                NaN   \n",
       "1       AdelborgO             Q4933819              None    OttiliaAdelborg   \n",
       "2    AdlersparreS             Q4346827              None  SophieAdlersparre   \n",
       "3             NaN                  NaN               NaN                NaN   \n",
       "4         AgrellA              Q469339              None      AlfhildAgrell   \n",
       "..            ...                  ...               ...                ...   \n",
       "909   SvedeliusWE             Q6197780              None               None   \n",
       "910     SwedbergJ              Q748553              None               None   \n",
       "911   SwedenborgE              Q185832              None               None   \n",
       "912     SwederusG            Q22110411              None               None   \n",
       "913       WinterR            Q23989269              None               None   \n",
       "\n",
       "    WD_Littbank_SKBL_merge  \n",
       "0                left_only  \n",
       "1                     both  \n",
       "2                     both  \n",
       "3                left_only  \n",
       "4                     both  \n",
       "..                     ...  \n",
       "909             right_only  \n",
       "910             right_only  \n",
       "911             right_only  \n",
       "912             right_only  \n",
       "913             right_only  \n",
       "\n",
       "[914 rows x 13 columns]"
      ]
     },
     "execution_count": 26,
     "metadata": {},
     "output_type": "execute_result"
    }
   ],
   "source": [
    "WDLittbank_WD_SKBL_merge"
   ]
  },
  {
   "cell_type": "code",
   "execution_count": 27,
   "id": "10b2464e",
   "metadata": {},
   "outputs": [
    {
     "name": "stdout",
     "output_type": "stream",
     "text": [
      "| 20211201 | 3289 | 2532 | 831 | 166 | 2534 | 833 | 166\n"
     ]
    }
   ],
   "source": [
    "print(\"|\",start_time.strftime(\"%Y%m%d\"),\"|\",dfShow[\"authorid\"].nunique(),\n",
    "     \"|\",dfShow[\"wikidata.wikidata_id\"].nunique(),\n",
    "     \"|\",dfShow[\"wikidata.sbl_link\"].nunique(),\n",
    "     \"|\",dfShow[\"wikidata.skbl_link\"].nunique(),\n",
    "     \"|\",WDLittbanktot[\"authorid\"].nunique(),\n",
    "     \"|\",WDLittbanktot[\"SBL\"].nunique(),\n",
    "     \"|\",WDLittbanktot[\"SKBL\"].nunique()\n",
    "     )"
   ]
  },
  {
   "cell_type": "code",
   "execution_count": 28,
   "id": "57a2cff6",
   "metadata": {},
   "outputs": [
    {
     "name": "stdout",
     "output_type": "stream",
     "text": [
      "| 20211201 | 3289 | 1837 | 2136\n"
     ]
    }
   ],
   "source": [
    "print(\"|\",start_time.strftime(\"%Y%m%d\"),\"|\",dfShow[\"authorid\"].nunique(),\n",
    "     \"|\",dfShow[\"librisid\"].nunique(),\n",
    "     \"|\",WDLittbanktot[\"LIBRISXL\"].nunique()\n",
    "     )"
   ]
  },
  {
   "cell_type": "code",
   "execution_count": 29,
   "id": "4e8d3326",
   "metadata": {},
   "outputs": [
    {
     "name": "stdout",
     "output_type": "stream",
     "text": [
      "Ended:  2021-12-01 12:28:18.606979\n",
      "Time elapsed (hh:mm:ss.ms) 0:00:07.202422\n"
     ]
    }
   ],
   "source": [
    "end = datetime.now()\n",
    "print(\"Ended: \", end) \n",
    "print('Time elapsed (hh:mm:ss.ms) {}'.format(datetime.now() - start_time))"
   ]
  },
  {
   "cell_type": "code",
   "execution_count": 30,
   "id": "4a3c0d10",
   "metadata": {},
   "outputs": [],
   "source": [
    "#df[df.duplicated(['ID'], keep=False)]"
   ]
  },
  {
   "cell_type": "code",
   "execution_count": 31,
   "id": "7e4b1ae8",
   "metadata": {},
   "outputs": [
    {
     "data": {
      "text/html": [
       "<div>\n",
       "<style scoped>\n",
       "    .dataframe tbody tr th:only-of-type {\n",
       "        vertical-align: middle;\n",
       "    }\n",
       "\n",
       "    .dataframe tbody tr th {\n",
       "        vertical-align: top;\n",
       "    }\n",
       "\n",
       "    .dataframe thead th {\n",
       "        text-align: right;\n",
       "    }\n",
       "</style>\n",
       "<table border=\"1\" class=\"dataframe\">\n",
       "  <thead>\n",
       "    <tr style=\"text-align: right;\">\n",
       "      <th></th>\n",
       "      <th>item</th>\n",
       "      <th>WikidataID</th>\n",
       "      <th>authorid</th>\n",
       "      <th>SBL</th>\n",
       "      <th>SKBL</th>\n",
       "      <th>LIBRISXL</th>\n",
       "    </tr>\n",
       "  </thead>\n",
       "  <tbody>\n",
       "  </tbody>\n",
       "</table>\n",
       "</div>"
      ],
      "text/plain": [
       "Empty DataFrame\n",
       "Columns: [item, WikidataID, authorid, SBL, SKBL, LIBRISXL]\n",
       "Index: []"
      ]
     },
     "execution_count": 31,
     "metadata": {},
     "output_type": "execute_result"
    }
   ],
   "source": [
    "WDLittbanktot[WDLittbanktot.duplicated([\"authorid\"],keep=False)]"
   ]
  },
  {
   "cell_type": "code",
   "execution_count": 32,
   "id": "a14a1f86",
   "metadata": {},
   "outputs": [],
   "source": [
    "#WDLittbanktot[WDLittbanktot[\"authorid\"]==WDLittbanktot[WDLittbanktot[\"authorid\"].duplicated()]].sort_values(\"authorid\")"
   ]
  },
  {
   "cell_type": "code",
   "execution_count": 33,
   "id": "4ce79193",
   "metadata": {},
   "outputs": [
    {
     "name": "stdout",
     "output_type": "stream",
     "text": [
      "Ended:  2021-12-01 12:28:18.668697\n",
      "Time elapsed (hh:mm:ass.ms) 0:00:07.264099\n"
     ]
    }
   ],
   "source": [
    "end = datetime.now()\n",
    "print(\"Ended: \", end) \n",
    "print('Time elapsed (hh:mm:ass.ms) {}'.format(datetime.now() - start_time))"
   ]
  },
  {
   "cell_type": "code",
   "execution_count": null,
   "id": "e0417572",
   "metadata": {},
   "outputs": [],
   "source": []
  }
 ],
 "metadata": {
  "kernelspec": {
   "display_name": "Python 3",
   "language": "python",
   "name": "python3"
  },
  "language_info": {
   "codemirror_mode": {
    "name": "ipython",
    "version": 3
   },
   "file_extension": ".py",
   "mimetype": "text/x-python",
   "name": "python",
   "nbconvert_exporter": "python",
   "pygments_lexer": "ipython3",
   "version": "3.9.4"
  }
 },
 "nbformat": 4,
 "nbformat_minor": 5
}
