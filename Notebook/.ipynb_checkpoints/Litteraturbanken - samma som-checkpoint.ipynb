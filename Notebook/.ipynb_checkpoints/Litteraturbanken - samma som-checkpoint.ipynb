{
 "cells": [
  {
   "cell_type": "markdown",
   "id": "c2fd7c9a",
   "metadata": {},
   "source": [
    "### Work in progress\n",
    "Test och se om vi kan bättre utnyttja fält i Litteraturbankens json\n",
    "* sbl_link --> Wikidata Property 3217 = Svenskt Biografiskt Lexikon\n",
    "* skbl_link --> Wikidata Property 4963 = Svenskt kvinnobiografiskt lexikon\n",
    "* sol_link ?!?!?!\n",
    "* wikidata_id = Wikidata Qnummer\n",
    "* wikipedia = Wikipedia URL\n",
    "\n",
    "\n",
    "Denna [Notebook](https://github.com/salgo60/spa2Commons/blob/main/Notebook/Literaturbanken%20-%20samma%20som.ipynb) \n",
    "* [issue 3](https://github.com/salgo60/spa2Commons/issues/3) om vi kan bättre förstå hur Litteraturbanken arbetar\n",
    "\n",
    "**TODO**\n",
    " -  [ ] kontrollera data\n",
    " -  [ ] förstå vad SOL är\n",
    " - [ ] bättre koll diff SBL SKBL skriva ut till fil\n",
    " - [ ] kolla samma som LIBRISXL\n",
    "\n",
    "\n",
    "\n",
    "**Connectivity status**\n",
    "\n",
    "I en perfekt värld skall\n",
    "* A = B = E\n",
    "* C = F \n",
    "* D = G\n",
    "\n",
    "| Date | A: Litteraturbanken show | B: Littbank - WD | C: Littbank - SBL | D: Littbank - SKBL|E: WD - Littbank | F: WD - Littbank - SBL  |G: WD - Littbank - SKBL  |\n",
    "| ------------- |:-------------:|:-------------:|:-------------:|:-------------:|:-------------:|:-------------:| -----:|\n",
    "| 20211001 | 3130 | 2132 | 765 | 152 | 2346 | 810 | 161\n",
    "| 20211004 | 3174 | 2354 | 809 | 161 | 2364 | 810 | 161\n",
    "| 20211005 | 3174 | 2354 | 809 | 161 | 2381 | 813 | 163\n",
    "\n",
    "Saker som detta är enormt viktigt   \n",
    "* Wikidata behöver auktoriteter att kontrollera kvaliten på vårt data och snabbt se att vi som en öppen plattform inte vandaliseras\n",
    "* Wikidata med Wikipedia har stort antal visningar - se statistik senaste året > [15000 visningar per dag](https://pageviews.toolforge.org/massviews/?platform=all-access&agent=user&source=category&range=last-year&subjectpage=0&subcategories=0&sort=views&direction=1&view=list&target=https://sv.wikipedia.org/wiki/Kategori:Litteraturbanken) på de artiklar som länkar Litteraturbanken --> vi drar traffik till Litteraturbanken\n",
    "* vi ser mer och mer brister hos Kungliga biblioteket och andra äldre auktorieteter att dom har gamla plattformar/teknik där fyller en plattform som Wikidata med sina fel och brister en ny möjlighet se [tankar](https://github.com/salgo60/spa2Commons/issues/3) \n",
    "* ju fler som kopplar ihop sig med varandra desto snabbare/enklare blir denna process\n",
    "* på sikt hoppas vi få ett kulturarv där vi jobbar ihop även fast det går långsamt\n"
   ]
  },
  {
   "cell_type": "code",
   "execution_count": 1,
   "id": "f91a25e9",
   "metadata": {},
   "outputs": [
    {
     "name": "stdout",
     "output_type": "stream",
     "text": [
      "Last run:  2021-10-05 01:29:50.898065\n"
     ]
    }
   ],
   "source": [
    "from datetime import datetime\n",
    "start_time  = datetime.now()\n",
    "print(\"Last run: \", start_time)"
   ]
  },
  {
   "cell_type": "code",
   "execution_count": 2,
   "id": "b1569c18",
   "metadata": {},
   "outputs": [],
   "source": [
    "import urllib3, json\n",
    "import pandas as pd \n",
    "http = urllib3.PoolManager() \n",
    "pd.set_option(\"display.max.columns\", None) \n",
    " \n",
    "url = \"https://litteraturbanken.se/api/get_authors\"\n",
    "r = http.request('GET', url)\n",
    "data = json.loads(r.data)\n",
    "df = pd.json_normalize(data[\"data\"])"
   ]
  },
  {
   "cell_type": "code",
   "execution_count": 3,
   "id": "9ea5312a",
   "metadata": {},
   "outputs": [
    {
     "name": "stdout",
     "output_type": "stream",
     "text": [
      "<class 'pandas.core.frame.DataFrame'>\n",
      "RangeIndex: 4046 entries, 0 to 4045\n",
      "Data columns (total 50 columns):\n",
      " #   Column                         Non-Null Count  Dtype  \n",
      "---  ------                         --------------  -----  \n",
      " 0   authorid                       4046 non-null   object \n",
      " 1   authorid_norm                  4046 non-null   object \n",
      " 2   db_checksum                    4046 non-null   object \n",
      " 3   db_timestamp                   4046 non-null   int64  \n",
      " 4   doc_type                       4046 non-null   object \n",
      " 5   full_name                      4046 non-null   object \n",
      " 6   gender                         4046 non-null   object \n",
      " 7   imported                       3388 non-null   object \n",
      " 8   intro                          729 non-null    object \n",
      " 9   librisid                       2180 non-null   object \n",
      " 10  name_for_index                 4046 non-null   object \n",
      " 11  pictureinfo                    169 non-null    object \n",
      " 12  searchable                     4046 non-null   bool   \n",
      " 13  show                           4046 non-null   bool   \n",
      " 14  surname                        4046 non-null   object \n",
      " 15  updated                        3388 non-null   object \n",
      " 16  birth.date                     3915 non-null   object \n",
      " 17  birth.plain                    4046 non-null   object \n",
      " 18  death.date                     2196 non-null   object \n",
      " 19  death.plain                    3339 non-null   object \n",
      " 20  wikidata.birthplace            1753 non-null   object \n",
      " 21  wikidata.birthplace_label      1753 non-null   object \n",
      " 22  wikidata.deathplace            1538 non-null   object \n",
      " 23  wikidata.deathplace_label      1538 non-null   object \n",
      " 24  wikidata.image                 1355 non-null   object \n",
      " 25  wikidata.sbl_link              810 non-null    object \n",
      " 26  wikidata.skbl_link             161 non-null    object \n",
      " 27  wikidata.sol_link              128 non-null    object \n",
      " 28  wikidata.wikidata_id           2359 non-null   object \n",
      " 29  wikidata.wikipedia             1880 non-null   object \n",
      " 30  db_timestamp_updated           2531 non-null   float64\n",
      " 31  intro_text                     729 non-null    object \n",
      " 32  popularity                     2059 non-null   float64\n",
      " 33  pseudonym                      128 non-null    object \n",
      " 34  dramawebben.intro              114 non-null    object \n",
      " 35  dramawebben.intro_author       113 non-null    object \n",
      " 36  dramawebben.intro_author_norm  113 non-null    object \n",
      " 37  dramawebben.legacy_url         127 non-null    object \n",
      " 38  dramawebben.picture            82 non-null     object \n",
      " 39  sources                        537 non-null    object \n",
      " 40  other_name                     77 non-null     object \n",
      " 41  intro_author                   418 non-null    object \n",
      " 42  intro_author_norm              418 non-null    object \n",
      " 43  dramawebben.picture_info       76 non-null     object \n",
      " 44  picture                        253 non-null    object \n",
      " 45  bibliography                   14 non-null     object \n",
      " 46  external_ref                   8 non-null      object \n",
      " 47  presentation                   27 non-null     object \n",
      " 48  seemore                        4 non-null      object \n",
      " 49  dramawebben.sources            6 non-null      object \n",
      "dtypes: bool(2), float64(2), int64(1), object(45)\n",
      "memory usage: 1.5+ MB\n"
     ]
    }
   ],
   "source": [
    "df.info()"
   ]
  },
  {
   "cell_type": "code",
   "execution_count": 4,
   "id": "6ca743fa",
   "metadata": {},
   "outputs": [
    {
     "data": {
      "text/plain": [
       "True     3174\n",
       "False     872\n",
       "Name: show, dtype: int64"
      ]
     },
     "execution_count": 4,
     "metadata": {},
     "output_type": "execute_result"
    }
   ],
   "source": [
    "df[\"show\"].value_counts()"
   ]
  },
  {
   "cell_type": "code",
   "execution_count": 5,
   "id": "a5c3d7c8",
   "metadata": {},
   "outputs": [],
   "source": [
    "#just objects with show\n",
    "dfShow = df[df[\"show\"]].copy() "
   ]
  },
  {
   "cell_type": "code",
   "execution_count": 6,
   "id": "46576292",
   "metadata": {},
   "outputs": [],
   "source": [
    "dfexternal = dfShow[{\"authorid\",\"wikidata.sbl_link\",\"wikidata.skbl_link\",\"wikidata.wikidata_id\",\"wikidata.sol_link\"\n",
    ",\"wikidata.wikidata_id\",\"wikidata.wikipedia\"}]"
   ]
  },
  {
   "cell_type": "code",
   "execution_count": 7,
   "id": "9b7c67ed",
   "metadata": {},
   "outputs": [
    {
     "name": "stdout",
     "output_type": "stream",
     "text": [
      "<class 'pandas.core.frame.DataFrame'>\n",
      "Int64Index: 3174 entries, 1 to 4045\n",
      "Data columns (total 6 columns):\n",
      " #   Column                Non-Null Count  Dtype \n",
      "---  ------                --------------  ----- \n",
      " 0   authorid              3174 non-null   object\n",
      " 1   wikidata.wikidata_id  2358 non-null   object\n",
      " 2   wikidata.sbl_link     810 non-null    object\n",
      " 3   wikidata.sol_link     128 non-null    object\n",
      " 4   wikidata.skbl_link    161 non-null    object\n",
      " 5   wikidata.wikipedia    1879 non-null   object\n",
      "dtypes: object(6)\n",
      "memory usage: 173.6+ KB\n"
     ]
    }
   ],
   "source": [
    "dfexternal.info()"
   ]
  },
  {
   "cell_type": "code",
   "execution_count": 8,
   "id": "9d11863f",
   "metadata": {},
   "outputs": [
    {
     "data": {
      "text/plain": [
       "Bo_Carpelan                      1\n",
       "Hedvig_Charlotta_Nordenflycht    1\n",
       "Lars_Arnell                      1\n",
       "Karin_Jensen                     1\n",
       "Johan_Henric_Kellgren            1\n",
       "                                ..\n",
       "Lars_Forssell                    1\n",
       "Peter_Lindahl                    1\n",
       "Johan_Henrik_Thomander           1\n",
       "Johan_Gabriel_Oxenstierna        1\n",
       "Walborg_Hedberg                  1\n",
       "Name: wikidata.sol_link, Length: 128, dtype: int64"
      ]
     },
     "execution_count": 8,
     "metadata": {},
     "output_type": "execute_result"
    }
   ],
   "source": [
    "dfexternal[\"wikidata.sol_link\"].value_counts()"
   ]
  },
  {
   "cell_type": "code",
   "execution_count": 9,
   "id": "f7f92ed5",
   "metadata": {},
   "outputs": [
    {
     "data": {
      "text/html": [
       "<div>\n",
       "<style scoped>\n",
       "    .dataframe tbody tr th:only-of-type {\n",
       "        vertical-align: middle;\n",
       "    }\n",
       "\n",
       "    .dataframe tbody tr th {\n",
       "        vertical-align: top;\n",
       "    }\n",
       "\n",
       "    .dataframe thead th {\n",
       "        text-align: right;\n",
       "    }\n",
       "</style>\n",
       "<table border=\"1\" class=\"dataframe\">\n",
       "  <thead>\n",
       "    <tr style=\"text-align: right;\">\n",
       "      <th></th>\n",
       "      <th>authorid</th>\n",
       "      <th>wikidata.wikidata_id</th>\n",
       "      <th>wikidata.sbl_link</th>\n",
       "      <th>wikidata.sol_link</th>\n",
       "      <th>wikidata.skbl_link</th>\n",
       "      <th>wikidata.wikipedia</th>\n",
       "    </tr>\n",
       "  </thead>\n",
       "  <tbody>\n",
       "    <tr>\n",
       "      <th>1</th>\n",
       "      <td>AasenE</td>\n",
       "      <td>Q11967131</td>\n",
       "      <td>None</td>\n",
       "      <td>None</td>\n",
       "      <td>None</td>\n",
       "      <td>None</td>\n",
       "    </tr>\n",
       "    <tr>\n",
       "      <th>2</th>\n",
       "      <td>AbeniusM</td>\n",
       "      <td>Q4933592</td>\n",
       "      <td>None</td>\n",
       "      <td>None</td>\n",
       "      <td>MargitAbenius</td>\n",
       "      <td>https://sv.wikipedia.org/wiki/Margit_Abenius</td>\n",
       "    </tr>\n",
       "    <tr>\n",
       "      <th>3</th>\n",
       "      <td>AbrahamssonA</td>\n",
       "      <td>Q24680938</td>\n",
       "      <td>None</td>\n",
       "      <td>None</td>\n",
       "      <td>None</td>\n",
       "      <td>https://sv.wikipedia.org/wiki/Augusta_Abrahamsson</td>\n",
       "    </tr>\n",
       "    <tr>\n",
       "      <th>5</th>\n",
       "      <td>AbrahamssonS</td>\n",
       "      <td>Q4934135</td>\n",
       "      <td>None</td>\n",
       "      <td>None</td>\n",
       "      <td>None</td>\n",
       "      <td>https://sv.wikipedia.org/wiki/Selma_Abrahamsson</td>\n",
       "    </tr>\n",
       "    <tr>\n",
       "      <th>6</th>\n",
       "      <td>AchariusE</td>\n",
       "      <td>Q365923</td>\n",
       "      <td>5503</td>\n",
       "      <td>None</td>\n",
       "      <td>None</td>\n",
       "      <td>https://sv.wikipedia.org/wiki/Erik_Acharius</td>\n",
       "    </tr>\n",
       "    <tr>\n",
       "      <th>...</th>\n",
       "      <td>...</td>\n",
       "      <td>...</td>\n",
       "      <td>...</td>\n",
       "      <td>...</td>\n",
       "      <td>...</td>\n",
       "      <td>...</td>\n",
       "    </tr>\n",
       "    <tr>\n",
       "      <th>4037</th>\n",
       "      <td>ÖnnerforsA</td>\n",
       "      <td>Q1237808</td>\n",
       "      <td>None</td>\n",
       "      <td>None</td>\n",
       "      <td>None</td>\n",
       "      <td>https://sv.wikipedia.org/wiki/Alf_%C3%96nnerfors</td>\n",
       "    </tr>\n",
       "    <tr>\n",
       "      <th>4039</th>\n",
       "      <td>ÖstergrenCL</td>\n",
       "      <td>Q6257795</td>\n",
       "      <td>None</td>\n",
       "      <td>None</td>\n",
       "      <td>None</td>\n",
       "      <td>https://sv.wikipedia.org/wiki/Carl_%C3%96stergren</td>\n",
       "    </tr>\n",
       "    <tr>\n",
       "      <th>4040</th>\n",
       "      <td>ÖstergrenC</td>\n",
       "      <td>Q108406266</td>\n",
       "      <td>None</td>\n",
       "      <td>None</td>\n",
       "      <td>None</td>\n",
       "      <td>None</td>\n",
       "    </tr>\n",
       "    <tr>\n",
       "      <th>4043</th>\n",
       "      <td>ÖstinO</td>\n",
       "      <td>Q100752816</td>\n",
       "      <td>None</td>\n",
       "      <td>None</td>\n",
       "      <td>None</td>\n",
       "      <td>None</td>\n",
       "    </tr>\n",
       "    <tr>\n",
       "      <th>4045</th>\n",
       "      <td>ØverlandJ</td>\n",
       "      <td>Q11978200</td>\n",
       "      <td>None</td>\n",
       "      <td>None</td>\n",
       "      <td>None</td>\n",
       "      <td>None</td>\n",
       "    </tr>\n",
       "  </tbody>\n",
       "</table>\n",
       "<p>3174 rows × 6 columns</p>\n",
       "</div>"
      ],
      "text/plain": [
       "          authorid wikidata.wikidata_id wikidata.sbl_link wikidata.sol_link  \\\n",
       "1           AasenE            Q11967131              None              None   \n",
       "2         AbeniusM             Q4933592              None              None   \n",
       "3     AbrahamssonA            Q24680938              None              None   \n",
       "5     AbrahamssonS             Q4934135              None              None   \n",
       "6        AchariusE              Q365923              5503              None   \n",
       "...            ...                  ...               ...               ...   \n",
       "4037    ÖnnerforsA             Q1237808              None              None   \n",
       "4039   ÖstergrenCL             Q6257795              None              None   \n",
       "4040    ÖstergrenC           Q108406266              None              None   \n",
       "4043        ÖstinO           Q100752816              None              None   \n",
       "4045     ØverlandJ            Q11978200              None              None   \n",
       "\n",
       "     wikidata.skbl_link                                 wikidata.wikipedia  \n",
       "1                  None                                               None  \n",
       "2         MargitAbenius       https://sv.wikipedia.org/wiki/Margit_Abenius  \n",
       "3                  None  https://sv.wikipedia.org/wiki/Augusta_Abrahamsson  \n",
       "5                  None    https://sv.wikipedia.org/wiki/Selma_Abrahamsson  \n",
       "6                  None        https://sv.wikipedia.org/wiki/Erik_Acharius  \n",
       "...                 ...                                                ...  \n",
       "4037               None   https://sv.wikipedia.org/wiki/Alf_%C3%96nnerfors  \n",
       "4039               None  https://sv.wikipedia.org/wiki/Carl_%C3%96stergren  \n",
       "4040               None                                               None  \n",
       "4043               None                                               None  \n",
       "4045               None                                               None  \n",
       "\n",
       "[3174 rows x 6 columns]"
      ]
     },
     "execution_count": 9,
     "metadata": {},
     "output_type": "execute_result"
    }
   ],
   "source": [
    "dfexternal"
   ]
  },
  {
   "cell_type": "markdown",
   "id": "db241af6",
   "metadata": {},
   "source": [
    "### Get Wikidata"
   ]
  },
  {
   "cell_type": "code",
   "execution_count": 10,
   "id": "2e1fd0f6",
   "metadata": {},
   "outputs": [],
   "source": [
    "# pip install sparqlwrapper\n",
    "# https://rdflib.github.io/sparqlwrapper/\n",
    "\n",
    "import sys,json\n",
    "import pandas as pd \n",
    "\n",
    "from SPARQLWrapper import SPARQLWrapper, JSON\n",
    "\n",
    "endpoint_url = \"https://query.wikidata.org/sparql\"\n",
    "\n",
    "# https://w.wiki/4AAV\n",
    "query = \"\"\"SELECT (REPLACE(STR(?item), \".*Q\", \"Q\") AS ?WikidataID)  ?authorid ?SBL ?SKBL WHERE {\n",
    "#?item wdt:P31 wd:Q5. also literary society can have P5101 \n",
    "?item wdt:P5101 ?authorid\n",
    "OPTIONAL {?item wdt:P3217 ?SBL}\n",
    "OPTIONAL {?item wdt:P4963 ?SKBL}\n",
    "} order by ?authorid\"\"\"\n",
    " \n",
    "    \n",
    "def get_sparql_dataframe(endpoint_url, query):\n",
    "    \"\"\"\n",
    "    Helper function to convert SPARQL results into a Pandas data frame.\n",
    "    \"\"\"\n",
    "    user_agent = \"salgo60/%s.%s\" % (sys.version_info[0], sys.version_info[1])\n",
    " \n",
    "    sparql = SPARQLWrapper(endpoint_url, agent=user_agent)\n",
    "    sparql.setQuery(query)\n",
    "    sparql.setReturnFormat(JSON)\n",
    "    result = sparql.query()\n",
    "\n",
    "    processed_results = json.load(result.response)\n",
    "    cols = processed_results['head']['vars']\n",
    "    out = []\n",
    "    for row in processed_results['results']['bindings']:\n",
    "        item = []\n",
    "        for c in cols:\n",
    "            item.append(row.get(c, {}).get('value'))\n",
    "        out.append(item)\n",
    "\n",
    "    return pd.DataFrame(out, columns=cols)\n",
    "\n",
    "WDLittbanktot = get_sparql_dataframe(endpoint_url, query)\n"
   ]
  },
  {
   "cell_type": "code",
   "execution_count": 11,
   "id": "140ecae3",
   "metadata": {},
   "outputs": [
    {
     "name": "stdout",
     "output_type": "stream",
     "text": [
      "<class 'pandas.core.frame.DataFrame'>\n",
      "RangeIndex: 2381 entries, 0 to 2380\n",
      "Data columns (total 4 columns):\n",
      " #   Column      Non-Null Count  Dtype  \n",
      "---  ------      --------------  -----  \n",
      " 0   WikidataID  2381 non-null   object \n",
      " 1   authorid    2381 non-null   object \n",
      " 2   SBL         813 non-null    float64\n",
      " 3   SKBL        163 non-null    object \n",
      "dtypes: float64(1), object(3)\n",
      "memory usage: 74.5+ KB\n"
     ]
    }
   ],
   "source": [
    "WDLittbanktot['SBL'] = pd.to_numeric(WDLittbanktot['SBL'], errors=\"coerce\")\n",
    "WDLittbanktot.info()"
   ]
  },
  {
   "cell_type": "code",
   "execution_count": 12,
   "id": "2f26d9cc",
   "metadata": {},
   "outputs": [
    {
     "data": {
      "text/html": [
       "<div>\n",
       "<style scoped>\n",
       "    .dataframe tbody tr th:only-of-type {\n",
       "        vertical-align: middle;\n",
       "    }\n",
       "\n",
       "    .dataframe tbody tr th {\n",
       "        vertical-align: top;\n",
       "    }\n",
       "\n",
       "    .dataframe thead th {\n",
       "        text-align: right;\n",
       "    }\n",
       "</style>\n",
       "<table border=\"1\" class=\"dataframe\">\n",
       "  <thead>\n",
       "    <tr style=\"text-align: right;\">\n",
       "      <th></th>\n",
       "      <th>WikidataID</th>\n",
       "      <th>authorid</th>\n",
       "      <th>SBL</th>\n",
       "      <th>SKBL</th>\n",
       "    </tr>\n",
       "  </thead>\n",
       "  <tbody>\n",
       "  </tbody>\n",
       "</table>\n",
       "</div>"
      ],
      "text/plain": [
       "Empty DataFrame\n",
       "Columns: [WikidataID, authorid, SBL, SKBL]\n",
       "Index: []"
      ]
     },
     "execution_count": 12,
     "metadata": {},
     "output_type": "execute_result"
    }
   ],
   "source": [
    "# Find duplicates\n",
    "WDLittbanktot[WDLittbanktot.duplicated([\"authorid\"],keep=False)]"
   ]
  },
  {
   "cell_type": "code",
   "execution_count": 13,
   "id": "d1ee1749",
   "metadata": {},
   "outputs": [
    {
     "name": "stdout",
     "output_type": "stream",
     "text": [
      "<class 'pandas.core.frame.DataFrame'>\n",
      "Int64Index: 3174 entries, 1 to 4045\n",
      "Data columns (total 6 columns):\n",
      " #   Column                Non-Null Count  Dtype  \n",
      "---  ------                --------------  -----  \n",
      " 0   authorid              3174 non-null   object \n",
      " 1   wikidata.wikidata_id  2358 non-null   object \n",
      " 2   wikidata.sbl_link     810 non-null    float64\n",
      " 3   wikidata.sol_link     128 non-null    object \n",
      " 4   wikidata.skbl_link    161 non-null    object \n",
      " 5   wikidata.wikipedia    1879 non-null   object \n",
      "dtypes: float64(1), object(5)\n",
      "memory usage: 173.6+ KB\n"
     ]
    },
    {
     "name": "stderr",
     "output_type": "stream",
     "text": [
      "<ipython-input-13-31b367449b4f>:1: SettingWithCopyWarning: \n",
      "A value is trying to be set on a copy of a slice from a DataFrame.\n",
      "Try using .loc[row_indexer,col_indexer] = value instead\n",
      "\n",
      "See the caveats in the documentation: https://pandas.pydata.org/pandas-docs/stable/user_guide/indexing.html#returning-a-view-versus-a-copy\n",
      "  dfexternal['wikidata.sbl_link'] = pd.to_numeric(dfexternal['wikidata.sbl_link'],downcast=\"integer\", errors=\"coerce\")\n"
     ]
    }
   ],
   "source": [
    "dfexternal['wikidata.sbl_link'] = pd.to_numeric(dfexternal['wikidata.sbl_link'],downcast=\"integer\", errors=\"coerce\")\n",
    "#dfexternal['wikidata.sbl_link'] = pd.to_numeric(dfexternal['wikidata.sbl_link'],downcast=\"integer\", \n",
    "#dfexternal[\"wikidata.sbl_link\"] = dfexternal[\"wikidata.sbl_link\"].astype(int)                                                \n",
    "dfexternal.info()"
   ]
  },
  {
   "cell_type": "code",
   "execution_count": 14,
   "id": "0b2179de",
   "metadata": {},
   "outputs": [
    {
     "data": {
      "text/html": [
       "<div>\n",
       "<style scoped>\n",
       "    .dataframe tbody tr th:only-of-type {\n",
       "        vertical-align: middle;\n",
       "    }\n",
       "\n",
       "    .dataframe tbody tr th {\n",
       "        vertical-align: top;\n",
       "    }\n",
       "\n",
       "    .dataframe thead th {\n",
       "        text-align: right;\n",
       "    }\n",
       "</style>\n",
       "<table border=\"1\" class=\"dataframe\">\n",
       "  <thead>\n",
       "    <tr style=\"text-align: right;\">\n",
       "      <th></th>\n",
       "      <th>authorid</th>\n",
       "      <th>wikidata.wikidata_id</th>\n",
       "      <th>wikidata.sbl_link</th>\n",
       "      <th>wikidata.sol_link</th>\n",
       "      <th>wikidata.skbl_link</th>\n",
       "      <th>wikidata.wikipedia</th>\n",
       "    </tr>\n",
       "  </thead>\n",
       "  <tbody>\n",
       "    <tr>\n",
       "      <th>1</th>\n",
       "      <td>AasenE</td>\n",
       "      <td>Q11967131</td>\n",
       "      <td>NaN</td>\n",
       "      <td>None</td>\n",
       "      <td>None</td>\n",
       "      <td>None</td>\n",
       "    </tr>\n",
       "    <tr>\n",
       "      <th>2</th>\n",
       "      <td>AbeniusM</td>\n",
       "      <td>Q4933592</td>\n",
       "      <td>NaN</td>\n",
       "      <td>None</td>\n",
       "      <td>MargitAbenius</td>\n",
       "      <td>https://sv.wikipedia.org/wiki/Margit_Abenius</td>\n",
       "    </tr>\n",
       "    <tr>\n",
       "      <th>3</th>\n",
       "      <td>AbrahamssonA</td>\n",
       "      <td>Q24680938</td>\n",
       "      <td>NaN</td>\n",
       "      <td>None</td>\n",
       "      <td>None</td>\n",
       "      <td>https://sv.wikipedia.org/wiki/Augusta_Abrahamsson</td>\n",
       "    </tr>\n",
       "    <tr>\n",
       "      <th>5</th>\n",
       "      <td>AbrahamssonS</td>\n",
       "      <td>Q4934135</td>\n",
       "      <td>NaN</td>\n",
       "      <td>None</td>\n",
       "      <td>None</td>\n",
       "      <td>https://sv.wikipedia.org/wiki/Selma_Abrahamsson</td>\n",
       "    </tr>\n",
       "    <tr>\n",
       "      <th>6</th>\n",
       "      <td>AchariusE</td>\n",
       "      <td>Q365923</td>\n",
       "      <td>5503.0</td>\n",
       "      <td>None</td>\n",
       "      <td>None</td>\n",
       "      <td>https://sv.wikipedia.org/wiki/Erik_Acharius</td>\n",
       "    </tr>\n",
       "    <tr>\n",
       "      <th>...</th>\n",
       "      <td>...</td>\n",
       "      <td>...</td>\n",
       "      <td>...</td>\n",
       "      <td>...</td>\n",
       "      <td>...</td>\n",
       "      <td>...</td>\n",
       "    </tr>\n",
       "    <tr>\n",
       "      <th>4037</th>\n",
       "      <td>ÖnnerforsA</td>\n",
       "      <td>Q1237808</td>\n",
       "      <td>NaN</td>\n",
       "      <td>None</td>\n",
       "      <td>None</td>\n",
       "      <td>https://sv.wikipedia.org/wiki/Alf_%C3%96nnerfors</td>\n",
       "    </tr>\n",
       "    <tr>\n",
       "      <th>4039</th>\n",
       "      <td>ÖstergrenCL</td>\n",
       "      <td>Q6257795</td>\n",
       "      <td>NaN</td>\n",
       "      <td>None</td>\n",
       "      <td>None</td>\n",
       "      <td>https://sv.wikipedia.org/wiki/Carl_%C3%96stergren</td>\n",
       "    </tr>\n",
       "    <tr>\n",
       "      <th>4040</th>\n",
       "      <td>ÖstergrenC</td>\n",
       "      <td>Q108406266</td>\n",
       "      <td>NaN</td>\n",
       "      <td>None</td>\n",
       "      <td>None</td>\n",
       "      <td>None</td>\n",
       "    </tr>\n",
       "    <tr>\n",
       "      <th>4043</th>\n",
       "      <td>ÖstinO</td>\n",
       "      <td>Q100752816</td>\n",
       "      <td>NaN</td>\n",
       "      <td>None</td>\n",
       "      <td>None</td>\n",
       "      <td>None</td>\n",
       "    </tr>\n",
       "    <tr>\n",
       "      <th>4045</th>\n",
       "      <td>ØverlandJ</td>\n",
       "      <td>Q11978200</td>\n",
       "      <td>NaN</td>\n",
       "      <td>None</td>\n",
       "      <td>None</td>\n",
       "      <td>None</td>\n",
       "    </tr>\n",
       "  </tbody>\n",
       "</table>\n",
       "<p>3174 rows × 6 columns</p>\n",
       "</div>"
      ],
      "text/plain": [
       "          authorid wikidata.wikidata_id  wikidata.sbl_link wikidata.sol_link  \\\n",
       "1           AasenE            Q11967131                NaN              None   \n",
       "2         AbeniusM             Q4933592                NaN              None   \n",
       "3     AbrahamssonA            Q24680938                NaN              None   \n",
       "5     AbrahamssonS             Q4934135                NaN              None   \n",
       "6        AchariusE              Q365923             5503.0              None   \n",
       "...            ...                  ...                ...               ...   \n",
       "4037    ÖnnerforsA             Q1237808                NaN              None   \n",
       "4039   ÖstergrenCL             Q6257795                NaN              None   \n",
       "4040    ÖstergrenC           Q108406266                NaN              None   \n",
       "4043        ÖstinO           Q100752816                NaN              None   \n",
       "4045     ØverlandJ            Q11978200                NaN              None   \n",
       "\n",
       "     wikidata.skbl_link                                 wikidata.wikipedia  \n",
       "1                  None                                               None  \n",
       "2         MargitAbenius       https://sv.wikipedia.org/wiki/Margit_Abenius  \n",
       "3                  None  https://sv.wikipedia.org/wiki/Augusta_Abrahamsson  \n",
       "5                  None    https://sv.wikipedia.org/wiki/Selma_Abrahamsson  \n",
       "6                  None        https://sv.wikipedia.org/wiki/Erik_Acharius  \n",
       "...                 ...                                                ...  \n",
       "4037               None   https://sv.wikipedia.org/wiki/Alf_%C3%96nnerfors  \n",
       "4039               None  https://sv.wikipedia.org/wiki/Carl_%C3%96stergren  \n",
       "4040               None                                               None  \n",
       "4043               None                                               None  \n",
       "4045               None                                               None  \n",
       "\n",
       "[3174 rows x 6 columns]"
      ]
     },
     "execution_count": 14,
     "metadata": {},
     "output_type": "execute_result"
    }
   ],
   "source": [
    "dfexternal"
   ]
  },
  {
   "cell_type": "code",
   "execution_count": null,
   "id": "1e5464d2",
   "metadata": {},
   "outputs": [],
   "source": []
  },
  {
   "cell_type": "markdown",
   "id": "9329def4",
   "metadata": {},
   "source": [
    "### Compare Littbank Wikidata field with Wikidata \n"
   ]
  },
  {
   "cell_type": "code",
   "execution_count": 15,
   "id": "fabc60ba",
   "metadata": {},
   "outputs": [
    {
     "data": {
      "text/plain": [
       "both                     2378\n",
       "Litteraturbanken_only     796\n",
       "WD_only                     3\n",
       "Name: WD_Littbank_merge, dtype: int64"
      ]
     },
     "execution_count": 15,
     "metadata": {},
     "output_type": "execute_result"
    }
   ],
   "source": [
    "WDLittbank_WD_merge =  pd.merge(WDLittbanktot, dfexternal, how='outer',on='authorid',indicator=True)\n",
    "WDLittbank_WD_merge.rename(columns={\"_merge\": \"WD_Littbank_merge\"},inplace = True)\n",
    "WDLittbank_WD_merge['WD_Littbank_merge'] = WDLittbank_WD_merge['WD_Littbank_merge'].str.replace('left_only','WD_only').str.replace('right_only','Litteraturbanken_only')\n",
    "\n",
    "WDLittbank_WD_merge[\"WD_Littbank_merge\"].value_counts()"
   ]
  },
  {
   "cell_type": "code",
   "execution_count": 16,
   "id": "3e3e5a89",
   "metadata": {},
   "outputs": [
    {
     "data": {
      "text/plain": [
       "both    2358\n",
       "Name: WD_Littbank_merge, dtype: int64"
      ]
     },
     "execution_count": 16,
     "metadata": {},
     "output_type": "execute_result"
    }
   ],
   "source": [
    "#Mismatch Littbank -> WD\n",
    "#WDLittbank_WD_merge.info()\n",
    "WDLittbank_WD_merge_not_Null = WDLittbank_WD_merge[WDLittbank_WD_merge[\"wikidata.wikidata_id\"].notnull()]\n",
    "WDLittbank_WD_merge_not_Null[\"WD_Littbank_merge\"].value_counts()"
   ]
  },
  {
   "cell_type": "code",
   "execution_count": 17,
   "id": "d7af5c0e",
   "metadata": {},
   "outputs": [
    {
     "name": "stderr",
     "output_type": "stream",
     "text": [
      "<ipython-input-17-db634123d3fb>:1: UserWarning: Boolean Series key will be reindexed to match DataFrame index.\n",
      "  WDLittbank_WD_merge_not_Null[WDLittbank_WD_merge[\"WD_Littbank_merge\"]!=\"both\"]\n"
     ]
    },
    {
     "data": {
      "text/html": [
       "<div>\n",
       "<style scoped>\n",
       "    .dataframe tbody tr th:only-of-type {\n",
       "        vertical-align: middle;\n",
       "    }\n",
       "\n",
       "    .dataframe tbody tr th {\n",
       "        vertical-align: top;\n",
       "    }\n",
       "\n",
       "    .dataframe thead th {\n",
       "        text-align: right;\n",
       "    }\n",
       "</style>\n",
       "<table border=\"1\" class=\"dataframe\">\n",
       "  <thead>\n",
       "    <tr style=\"text-align: right;\">\n",
       "      <th></th>\n",
       "      <th>WikidataID</th>\n",
       "      <th>authorid</th>\n",
       "      <th>SBL</th>\n",
       "      <th>SKBL</th>\n",
       "      <th>wikidata.wikidata_id</th>\n",
       "      <th>wikidata.sbl_link</th>\n",
       "      <th>wikidata.sol_link</th>\n",
       "      <th>wikidata.skbl_link</th>\n",
       "      <th>wikidata.wikipedia</th>\n",
       "      <th>WD_Littbank_merge</th>\n",
       "    </tr>\n",
       "  </thead>\n",
       "  <tbody>\n",
       "  </tbody>\n",
       "</table>\n",
       "</div>"
      ],
      "text/plain": [
       "Empty DataFrame\n",
       "Columns: [WikidataID, authorid, SBL, SKBL, wikidata.wikidata_id, wikidata.sbl_link, wikidata.sol_link, wikidata.skbl_link, wikidata.wikipedia, WD_Littbank_merge]\n",
       "Index: []"
      ]
     },
     "execution_count": 17,
     "metadata": {},
     "output_type": "execute_result"
    }
   ],
   "source": [
    "WDLittbank_WD_merge_not_Null[WDLittbank_WD_merge[\"WD_Littbank_merge\"]!=\"both\"]"
   ]
  },
  {
   "cell_type": "code",
   "execution_count": null,
   "id": "724228aa",
   "metadata": {},
   "outputs": [],
   "source": []
  },
  {
   "cell_type": "code",
   "execution_count": 18,
   "id": "17ebc7b7",
   "metadata": {},
   "outputs": [
    {
     "data": {
      "text/html": [
       "<div>\n",
       "<style scoped>\n",
       "    .dataframe tbody tr th:only-of-type {\n",
       "        vertical-align: middle;\n",
       "    }\n",
       "\n",
       "    .dataframe tbody tr th {\n",
       "        vertical-align: top;\n",
       "    }\n",
       "\n",
       "    .dataframe thead th {\n",
       "        text-align: right;\n",
       "    }\n",
       "</style>\n",
       "<table border=\"1\" class=\"dataframe\">\n",
       "  <thead>\n",
       "    <tr style=\"text-align: right;\">\n",
       "      <th></th>\n",
       "      <th>WikidataID</th>\n",
       "      <th>authorid</th>\n",
       "      <th>SBL</th>\n",
       "      <th>SKBL</th>\n",
       "      <th>wikidata.wikidata_id</th>\n",
       "      <th>wikidata.sbl_link</th>\n",
       "      <th>wikidata.sol_link</th>\n",
       "      <th>wikidata.skbl_link</th>\n",
       "      <th>wikidata.wikipedia</th>\n",
       "      <th>WD_Littbank_merge</th>\n",
       "    </tr>\n",
       "  </thead>\n",
       "  <tbody>\n",
       "  </tbody>\n",
       "</table>\n",
       "</div>"
      ],
      "text/plain": [
       "Empty DataFrame\n",
       "Columns: [WikidataID, authorid, SBL, SKBL, wikidata.wikidata_id, wikidata.sbl_link, wikidata.sol_link, wikidata.skbl_link, wikidata.wikipedia, WD_Littbank_merge]\n",
       "Index: []"
      ]
     },
     "execution_count": 18,
     "metadata": {},
     "output_type": "execute_result"
    }
   ],
   "source": [
    "# all with SBL seems to have WIkidata\n",
    "WDLittbanktotSBL =  WDLittbank_WD_merge[~WDLittbank_WD_merge['wikidata.sbl_link'].isnull()]\n",
    "WDLittbanktotSBL_noWD = WDLittbanktotSBL[WDLittbanktotSBL['wikidata.wikidata_id'].isnull()] \n",
    "WDLittbanktotSBL_noWD"
   ]
  },
  {
   "cell_type": "code",
   "execution_count": 19,
   "id": "79d11818",
   "metadata": {},
   "outputs": [
    {
     "data": {
      "image/png": "[encoded data removed]",
      "text/plain": [
       "<Figure size 432x288 with 1 Axes>"
      ]
     },
     "metadata": {},
     "output_type": "display_data"
    }
   ],
   "source": [
    "%matplotlib inline \n",
    "import matplotlib.pyplot as plt   \n",
    "mergeCheckNumber = WDLittbank_WD_merge[\"WD_Littbank_merge\"].value_counts()\n",
    "plotmerge = mergeCheckNumber.plot.pie( \\\n",
    "                   autopct='%1.0f%%', \\\n",
    "                   shadow=True, startangle=0, \\\n",
    "                   title = \"Wikidata statistics Litteraturbanken vs WD \" + start_time.strftime('%Y %m %d'))\n",
    "plt.savefig('LitteraturbankenWD.png')\n",
    "plt.show()"
   ]
  },
  {
   "cell_type": "markdown",
   "id": "b8cd6761",
   "metadata": {},
   "source": [
    "### Littbanks missing in WD"
   ]
  },
  {
   "cell_type": "code",
   "execution_count": 20,
   "id": "ab8d321c",
   "metadata": {},
   "outputs": [],
   "source": [
    "#WDLittbanktot.info()\n",
    "#WDLittbank_WD_merge[\"WD_Littbank_merge\"].value_counts()\n",
    "#WDLittbank_WD_SBL_merge_outer[WDLittbank_WD_SBL_merge_outer[\"WD_Littbank_SBL_merge_outer\"]!=\"right_only\"]"
   ]
  },
  {
   "cell_type": "code",
   "execution_count": 21,
   "id": "4993a88e",
   "metadata": {},
   "outputs": [],
   "source": [
    "#WDLittbank_WD_SBL_merge_outer[WDLittbank_WD_SBL_merge_outer[\"WD_Littbank_SBL_merge_outer\"]  \n",
    "#                             !=\"right_only\"].to_csv(\"Littbank_missing_in_WD.csv\")"
   ]
  },
  {
   "cell_type": "markdown",
   "id": "e23a8bf6",
   "metadata": {},
   "source": [
    "### SBL"
   ]
  },
  {
   "cell_type": "code",
   "execution_count": 22,
   "id": "c35128aa",
   "metadata": {},
   "outputs": [
    {
     "name": "stdout",
     "output_type": "stream",
     "text": [
      "<class 'pandas.core.frame.DataFrame'>\n",
      "Int64Index: 813 entries, 5 to 2311\n",
      "Data columns (total 4 columns):\n",
      " #   Column      Non-Null Count  Dtype  \n",
      "---  ------      --------------  -----  \n",
      " 0   WikidataID  813 non-null    object \n",
      " 1   authorid    813 non-null    object \n",
      " 2   SBL         813 non-null    float64\n",
      " 3   SKBL        80 non-null     object \n",
      "dtypes: float64(1), object(3)\n",
      "memory usage: 31.8+ KB\n"
     ]
    }
   ],
   "source": [
    "WDLittbanktot_SBL = WDLittbanktot[~WDLittbanktot[\"SBL\"].isna()]\n",
    "WDLittbanktot_SBL.info()"
   ]
  },
  {
   "cell_type": "code",
   "execution_count": 23,
   "id": "4e819e5f",
   "metadata": {},
   "outputs": [
    {
     "data": {
      "text/html": [
       "<div>\n",
       "<style scoped>\n",
       "    .dataframe tbody tr th:only-of-type {\n",
       "        vertical-align: middle;\n",
       "    }\n",
       "\n",
       "    .dataframe tbody tr th {\n",
       "        vertical-align: top;\n",
       "    }\n",
       "\n",
       "    .dataframe thead th {\n",
       "        text-align: right;\n",
       "    }\n",
       "</style>\n",
       "<table border=\"1\" class=\"dataframe\">\n",
       "  <thead>\n",
       "    <tr style=\"text-align: right;\">\n",
       "      <th></th>\n",
       "      <th>WikidataID</th>\n",
       "      <th>authorid</th>\n",
       "      <th>SBL</th>\n",
       "      <th>SKBL</th>\n",
       "    </tr>\n",
       "  </thead>\n",
       "  <tbody>\n",
       "  </tbody>\n",
       "</table>\n",
       "</div>"
      ],
      "text/plain": [
       "Empty DataFrame\n",
       "Columns: [WikidataID, authorid, SBL, SKBL]\n",
       "Index: []"
      ]
     },
     "execution_count": 23,
     "metadata": {},
     "output_type": "execute_result"
    }
   ],
   "source": [
    "# Find duplicates\n",
    "WDLittbanktot_SBL[WDLittbanktot_SBL.duplicated([\"SBL\"],keep=False)]"
   ]
  },
  {
   "cell_type": "code",
   "execution_count": 24,
   "id": "a0095696",
   "metadata": {},
   "outputs": [],
   "source": [
    "dfexternal_SBL = dfexternal[~dfexternal[\"wikidata.sbl_link\"].isna()]"
   ]
  },
  {
   "cell_type": "code",
   "execution_count": 25,
   "id": "e14cbc6a",
   "metadata": {},
   "outputs": [
    {
     "name": "stdout",
     "output_type": "stream",
     "text": [
      "<class 'pandas.core.frame.DataFrame'>\n",
      "Int64Index: 810 entries, 6 to 3918\n",
      "Data columns (total 6 columns):\n",
      " #   Column                Non-Null Count  Dtype  \n",
      "---  ------                --------------  -----  \n",
      " 0   authorid              810 non-null    object \n",
      " 1   wikidata.wikidata_id  810 non-null    object \n",
      " 2   wikidata.sbl_link     810 non-null    float64\n",
      " 3   wikidata.sol_link     69 non-null     object \n",
      " 4   wikidata.skbl_link    79 non-null     object \n",
      " 5   wikidata.wikipedia    808 non-null    object \n",
      "dtypes: float64(1), object(5)\n",
      "memory usage: 44.3+ KB\n"
     ]
    }
   ],
   "source": [
    "dfexternal_SBL.info()"
   ]
  },
  {
   "cell_type": "code",
   "execution_count": 26,
   "id": "27a4a916",
   "metadata": {},
   "outputs": [
    {
     "data": {
      "text/plain": [
       "both          810\n",
       "left_only       0\n",
       "right_only      0\n",
       "Name: WD_Littbank_SBL_merge, dtype: int64"
      ]
     },
     "execution_count": 26,
     "metadata": {},
     "output_type": "execute_result"
    }
   ],
   "source": [
    "WDLittbank_WD_SBL_merge =  pd.merge(WDLittbanktot_SBL, dfexternal_SBL, left_on='SBL', right_on='wikidata.sbl_link',indicator=True)\n",
    "WDLittbank_WD_SBL_merge.rename(columns={\"_merge\": \"WD_Littbank_SBL_merge\"},inplace = True)\n",
    "\n",
    "WDLittbank_WD_SBL_merge[\"WD_Littbank_SBL_merge\"].value_counts()"
   ]
  },
  {
   "cell_type": "code",
   "execution_count": null,
   "id": "c525fd48",
   "metadata": {},
   "outputs": [],
   "source": []
  },
  {
   "cell_type": "markdown",
   "id": "1ad31b03",
   "metadata": {},
   "source": [
    "#### SBL in Wikidata but not Littbank "
   ]
  },
  {
   "cell_type": "code",
   "execution_count": 27,
   "id": "a2e7a9e4",
   "metadata": {},
   "outputs": [
    {
     "data": {
      "text/plain": [
       "both          810\n",
       "left_only       4\n",
       "right_only      0\n",
       "Name: WD_Littbank_SBL_merge_outer, dtype: int64"
      ]
     },
     "execution_count": 27,
     "metadata": {},
     "output_type": "execute_result"
    }
   ],
   "source": [
    "WDLittbank_WD_SBL_merge_outer =  pd.merge(WDLittbanktot_SBL, dfexternal_SBL, how='outer',left_on='SBL', right_on='wikidata.sbl_link',indicator=True)\n",
    "WDLittbank_WD_SBL_merge_outer.rename(columns={\"_merge\": \"WD_Littbank_SBL_merge_outer\"},inplace = True)\n",
    "\n",
    "WDLittbank_WD_SBL_merge_outer[\"WD_Littbank_SBL_merge_outer\"].value_counts()"
   ]
  },
  {
   "cell_type": "code",
   "execution_count": 28,
   "id": "c789c1d5",
   "metadata": {},
   "outputs": [
    {
     "data": {
      "text/html": [
       "<div>\n",
       "<style scoped>\n",
       "    .dataframe tbody tr th:only-of-type {\n",
       "        vertical-align: middle;\n",
       "    }\n",
       "\n",
       "    .dataframe tbody tr th {\n",
       "        vertical-align: top;\n",
       "    }\n",
       "\n",
       "    .dataframe thead th {\n",
       "        text-align: right;\n",
       "    }\n",
       "</style>\n",
       "<table border=\"1\" class=\"dataframe\">\n",
       "  <thead>\n",
       "    <tr style=\"text-align: right;\">\n",
       "      <th></th>\n",
       "      <th>WikidataID</th>\n",
       "      <th>authorid_x</th>\n",
       "      <th>SBL</th>\n",
       "      <th>SKBL</th>\n",
       "      <th>authorid_y</th>\n",
       "      <th>wikidata.wikidata_id</th>\n",
       "      <th>wikidata.sbl_link</th>\n",
       "      <th>wikidata.sol_link</th>\n",
       "      <th>wikidata.skbl_link</th>\n",
       "      <th>wikidata.wikipedia</th>\n",
       "      <th>WD_Littbank_SBL_merge_outer</th>\n",
       "    </tr>\n",
       "  </thead>\n",
       "  <tbody>\n",
       "    <tr>\n",
       "      <th>63</th>\n",
       "      <td>Q5571164</td>\n",
       "      <td>BergCO</td>\n",
       "      <td>18538.0</td>\n",
       "      <td>None</td>\n",
       "      <td>NaN</td>\n",
       "      <td>NaN</td>\n",
       "      <td>NaN</td>\n",
       "      <td>NaN</td>\n",
       "      <td>NaN</td>\n",
       "      <td>NaN</td>\n",
       "      <td>left_only</td>\n",
       "    </tr>\n",
       "    <tr>\n",
       "      <th>418</th>\n",
       "      <td>Q5818596</td>\n",
       "      <td>HydénN</td>\n",
       "      <td>13919.0</td>\n",
       "      <td>None</td>\n",
       "      <td>NaN</td>\n",
       "      <td>NaN</td>\n",
       "      <td>NaN</td>\n",
       "      <td>NaN</td>\n",
       "      <td>NaN</td>\n",
       "      <td>NaN</td>\n",
       "      <td>left_only</td>\n",
       "    </tr>\n",
       "    <tr>\n",
       "      <th>434</th>\n",
       "      <td>Q38283505</td>\n",
       "      <td>JansonB</td>\n",
       "      <td>12039.0</td>\n",
       "      <td>BettyJanson</td>\n",
       "      <td>NaN</td>\n",
       "      <td>NaN</td>\n",
       "      <td>NaN</td>\n",
       "      <td>NaN</td>\n",
       "      <td>NaN</td>\n",
       "      <td>NaN</td>\n",
       "      <td>left_only</td>\n",
       "    </tr>\n",
       "    <tr>\n",
       "      <th>448</th>\n",
       "      <td>Q1677426</td>\n",
       "      <td>JosephsonJA</td>\n",
       "      <td>12217.0</td>\n",
       "      <td>None</td>\n",
       "      <td>NaN</td>\n",
       "      <td>NaN</td>\n",
       "      <td>NaN</td>\n",
       "      <td>NaN</td>\n",
       "      <td>NaN</td>\n",
       "      <td>NaN</td>\n",
       "      <td>left_only</td>\n",
       "    </tr>\n",
       "  </tbody>\n",
       "</table>\n",
       "</div>"
      ],
      "text/plain": [
       "    WikidataID   authorid_x      SBL         SKBL authorid_y  \\\n",
       "63    Q5571164       BergCO  18538.0         None        NaN   \n",
       "418   Q5818596       HydénN  13919.0         None        NaN   \n",
       "434  Q38283505      JansonB  12039.0  BettyJanson        NaN   \n",
       "448   Q1677426  JosephsonJA  12217.0         None        NaN   \n",
       "\n",
       "    wikidata.wikidata_id  wikidata.sbl_link wikidata.sol_link  \\\n",
       "63                   NaN                NaN               NaN   \n",
       "418                  NaN                NaN               NaN   \n",
       "434                  NaN                NaN               NaN   \n",
       "448                  NaN                NaN               NaN   \n",
       "\n",
       "    wikidata.skbl_link wikidata.wikipedia WD_Littbank_SBL_merge_outer  \n",
       "63                 NaN                NaN                   left_only  \n",
       "418                NaN                NaN                   left_only  \n",
       "434                NaN                NaN                   left_only  \n",
       "448                NaN                NaN                   left_only  "
      ]
     },
     "execution_count": 28,
     "metadata": {},
     "output_type": "execute_result"
    }
   ],
   "source": [
    "WDLittbank_WD_SBL_merge_outer[WDLittbank_WD_SBL_merge_outer[\"WD_Littbank_SBL_merge_outer\"]!=\"both\"]"
   ]
  },
  {
   "cell_type": "markdown",
   "id": "906a08f8",
   "metadata": {},
   "source": [
    "## SKBL"
   ]
  },
  {
   "cell_type": "code",
   "execution_count": 29,
   "id": "6f332b7e",
   "metadata": {},
   "outputs": [
    {
     "name": "stdout",
     "output_type": "stream",
     "text": [
      "<class 'pandas.core.frame.DataFrame'>\n",
      "Int64Index: 163 entries, 2 to 2370\n",
      "Data columns (total 4 columns):\n",
      " #   Column      Non-Null Count  Dtype  \n",
      "---  ------      --------------  -----  \n",
      " 0   WikidataID  163 non-null    object \n",
      " 1   authorid    163 non-null    object \n",
      " 2   SBL         80 non-null     float64\n",
      " 3   SKBL        163 non-null    object \n",
      "dtypes: float64(1), object(3)\n",
      "memory usage: 6.4+ KB\n"
     ]
    }
   ],
   "source": [
    "WDLittbanktot_SKBL = WDLittbanktot[~WDLittbanktot[\"SKBL\"].isna()]\n",
    "WDLittbanktot_SKBL.info()"
   ]
  },
  {
   "cell_type": "code",
   "execution_count": 30,
   "id": "2e707463",
   "metadata": {},
   "outputs": [
    {
     "name": "stdout",
     "output_type": "stream",
     "text": [
      "<class 'pandas.core.frame.DataFrame'>\n",
      "Int64Index: 161 entries, 2 to 4028\n",
      "Data columns (total 6 columns):\n",
      " #   Column                Non-Null Count  Dtype  \n",
      "---  ------                --------------  -----  \n",
      " 0   authorid              161 non-null    object \n",
      " 1   wikidata.wikidata_id  161 non-null    object \n",
      " 2   wikidata.sbl_link     79 non-null     float64\n",
      " 3   wikidata.sol_link     25 non-null     object \n",
      " 4   wikidata.skbl_link    161 non-null    object \n",
      " 5   wikidata.wikipedia    161 non-null    object \n",
      "dtypes: float64(1), object(5)\n",
      "memory usage: 8.8+ KB\n"
     ]
    }
   ],
   "source": [
    "dfexternal_SKBL = dfexternal[~dfexternal[\"wikidata.skbl_link\"].isna()]\n",
    "dfexternal_SKBL.info()"
   ]
  },
  {
   "cell_type": "code",
   "execution_count": 31,
   "id": "1ee7ba0c",
   "metadata": {},
   "outputs": [
    {
     "data": {
      "text/plain": [
       "both          161\n",
       "left_only       2\n",
       "right_only      0\n",
       "Name: WD_Littbank_SKBL_merge, dtype: int64"
      ]
     },
     "execution_count": 31,
     "metadata": {},
     "output_type": "execute_result"
    }
   ],
   "source": [
    "WDLittbank_WD_SKBL_merge =  pd.merge(WDLittbanktot_SKBL, dfexternal_SKBL,how='outer', left_on='SKBL', right_on='wikidata.skbl_link',indicator=True)\n",
    "WDLittbank_WD_SKBL_merge.rename(columns={\"_merge\": \"WD_Littbank_SKBL_merge\"},inplace = True)\n",
    "\n",
    "WDLittbank_WD_SKBL_merge[\"WD_Littbank_SKBL_merge\"].value_counts()"
   ]
  },
  {
   "cell_type": "code",
   "execution_count": 32,
   "id": "ead9eca8",
   "metadata": {},
   "outputs": [
    {
     "data": {
      "text/html": [
       "<div>\n",
       "<style scoped>\n",
       "    .dataframe tbody tr th:only-of-type {\n",
       "        vertical-align: middle;\n",
       "    }\n",
       "\n",
       "    .dataframe tbody tr th {\n",
       "        vertical-align: top;\n",
       "    }\n",
       "\n",
       "    .dataframe thead th {\n",
       "        text-align: right;\n",
       "    }\n",
       "</style>\n",
       "<table border=\"1\" class=\"dataframe\">\n",
       "  <thead>\n",
       "    <tr style=\"text-align: right;\">\n",
       "      <th></th>\n",
       "      <th>WikidataID</th>\n",
       "      <th>authorid_x</th>\n",
       "      <th>SBL</th>\n",
       "      <th>SKBL</th>\n",
       "      <th>authorid_y</th>\n",
       "      <th>wikidata.wikidata_id</th>\n",
       "      <th>wikidata.sbl_link</th>\n",
       "      <th>wikidata.sol_link</th>\n",
       "      <th>wikidata.skbl_link</th>\n",
       "      <th>wikidata.wikipedia</th>\n",
       "      <th>WD_Littbank_SKBL_merge</th>\n",
       "    </tr>\n",
       "  </thead>\n",
       "  <tbody>\n",
       "    <tr>\n",
       "      <th>63</th>\n",
       "      <td>Q4954023</td>\n",
       "      <td>HillbäckE</td>\n",
       "      <td>NaN</td>\n",
       "      <td>EllaHillback</td>\n",
       "      <td>NaN</td>\n",
       "      <td>NaN</td>\n",
       "      <td>NaN</td>\n",
       "      <td>NaN</td>\n",
       "      <td>NaN</td>\n",
       "      <td>NaN</td>\n",
       "      <td>left_only</td>\n",
       "    </tr>\n",
       "    <tr>\n",
       "      <th>68</th>\n",
       "      <td>Q38283505</td>\n",
       "      <td>JansonB</td>\n",
       "      <td>12039.0</td>\n",
       "      <td>BettyJanson</td>\n",
       "      <td>NaN</td>\n",
       "      <td>NaN</td>\n",
       "      <td>NaN</td>\n",
       "      <td>NaN</td>\n",
       "      <td>NaN</td>\n",
       "      <td>NaN</td>\n",
       "      <td>left_only</td>\n",
       "    </tr>\n",
       "  </tbody>\n",
       "</table>\n",
       "</div>"
      ],
      "text/plain": [
       "   WikidataID authorid_x      SBL          SKBL authorid_y  \\\n",
       "63   Q4954023  HillbäckE      NaN  EllaHillback        NaN   \n",
       "68  Q38283505    JansonB  12039.0   BettyJanson        NaN   \n",
       "\n",
       "   wikidata.wikidata_id  wikidata.sbl_link wikidata.sol_link  \\\n",
       "63                  NaN                NaN               NaN   \n",
       "68                  NaN                NaN               NaN   \n",
       "\n",
       "   wikidata.skbl_link wikidata.wikipedia WD_Littbank_SKBL_merge  \n",
       "63                NaN                NaN              left_only  \n",
       "68                NaN                NaN              left_only  "
      ]
     },
     "execution_count": 32,
     "metadata": {},
     "output_type": "execute_result"
    }
   ],
   "source": [
    "#WDLittbank_WD_SKBL_merge.info()\n",
    "\n",
    "WDLittbank_WD_SKBL_merge[WDLittbank_WD_SKBL_merge[\"WD_Littbank_SKBL_merge\"]!=\"both\"]"
   ]
  },
  {
   "cell_type": "code",
   "execution_count": null,
   "id": "6e31e041",
   "metadata": {},
   "outputs": [],
   "source": []
  },
  {
   "cell_type": "code",
   "execution_count": 33,
   "id": "10b2464e",
   "metadata": {},
   "outputs": [
    {
     "name": "stdout",
     "output_type": "stream",
     "text": [
      "| 20211005 | 3174 | 2354 | 809 | 161 | 2381 | 813 | 163\n"
     ]
    }
   ],
   "source": [
    "print(\"|\",start_time.strftime(\"%Y%m%d\"),\"|\",dfShow[\"authorid\"].nunique(),\n",
    "     \"|\",dfShow[\"wikidata.wikidata_id\"].nunique(),\n",
    "     \"|\",dfShow[\"wikidata.sbl_link\"].nunique(),\n",
    "     \"|\",dfShow[\"wikidata.skbl_link\"].nunique(),\n",
    "     \"|\",WDLittbanktot[\"authorid\"].nunique(),\n",
    "     \"|\",WDLittbanktot[\"SBL\"].nunique(),\n",
    "     \"|\",WDLittbanktot[\"SKBL\"].nunique()\n",
    "     )"
   ]
  },
  {
   "cell_type": "code",
   "execution_count": 34,
   "id": "6eb33aad",
   "metadata": {},
   "outputs": [],
   "source": [
    "#dfShow[\"wikidata.wikidata_id\"].nunique()"
   ]
  },
  {
   "cell_type": "code",
   "execution_count": 35,
   "id": "8bfe3cc2",
   "metadata": {},
   "outputs": [],
   "source": [
    "#WDLittbanktot.info()"
   ]
  },
  {
   "cell_type": "code",
   "execution_count": 36,
   "id": "99969baa",
   "metadata": {},
   "outputs": [
    {
     "data": {
      "text/html": [
       "<div>\n",
       "<style scoped>\n",
       "    .dataframe tbody tr th:only-of-type {\n",
       "        vertical-align: middle;\n",
       "    }\n",
       "\n",
       "    .dataframe tbody tr th {\n",
       "        vertical-align: top;\n",
       "    }\n",
       "\n",
       "    .dataframe thead th {\n",
       "        text-align: right;\n",
       "    }\n",
       "</style>\n",
       "<table border=\"1\" class=\"dataframe\">\n",
       "  <thead>\n",
       "    <tr style=\"text-align: right;\">\n",
       "      <th></th>\n",
       "      <th>WikidataID</th>\n",
       "      <th>authorid</th>\n",
       "      <th>SBL</th>\n",
       "      <th>SKBL</th>\n",
       "    </tr>\n",
       "  </thead>\n",
       "  <tbody>\n",
       "  </tbody>\n",
       "</table>\n",
       "</div>"
      ],
      "text/plain": [
       "Empty DataFrame\n",
       "Columns: [WikidataID, authorid, SBL, SKBL]\n",
       "Index: []"
      ]
     },
     "execution_count": 36,
     "metadata": {},
     "output_type": "execute_result"
    }
   ],
   "source": [
    "#WDLittbanktot[\"authorid\"].nonunique()\n",
    "WDLittbanktot[WDLittbanktot[\"authorid\"].duplicated()]"
   ]
  },
  {
   "cell_type": "code",
   "execution_count": 37,
   "id": "4a3c0d10",
   "metadata": {},
   "outputs": [],
   "source": [
    "#df[df.duplicated(['ID'], keep=False)]"
   ]
  },
  {
   "cell_type": "code",
   "execution_count": 38,
   "id": "7e4b1ae8",
   "metadata": {},
   "outputs": [
    {
     "data": {
      "text/html": [
       "<div>\n",
       "<style scoped>\n",
       "    .dataframe tbody tr th:only-of-type {\n",
       "        vertical-align: middle;\n",
       "    }\n",
       "\n",
       "    .dataframe tbody tr th {\n",
       "        vertical-align: top;\n",
       "    }\n",
       "\n",
       "    .dataframe thead th {\n",
       "        text-align: right;\n",
       "    }\n",
       "</style>\n",
       "<table border=\"1\" class=\"dataframe\">\n",
       "  <thead>\n",
       "    <tr style=\"text-align: right;\">\n",
       "      <th></th>\n",
       "      <th>WikidataID</th>\n",
       "      <th>authorid</th>\n",
       "      <th>SBL</th>\n",
       "      <th>SKBL</th>\n",
       "    </tr>\n",
       "  </thead>\n",
       "  <tbody>\n",
       "  </tbody>\n",
       "</table>\n",
       "</div>"
      ],
      "text/plain": [
       "Empty DataFrame\n",
       "Columns: [WikidataID, authorid, SBL, SKBL]\n",
       "Index: []"
      ]
     },
     "execution_count": 38,
     "metadata": {},
     "output_type": "execute_result"
    }
   ],
   "source": [
    "WDLittbanktot[WDLittbanktot.duplicated([\"authorid\"],keep=False)]"
   ]
  },
  {
   "cell_type": "code",
   "execution_count": 39,
   "id": "a14a1f86",
   "metadata": {},
   "outputs": [],
   "source": [
    "#WDLittbanktot[WDLittbanktot[\"authorid\"]==WDLittbanktot[WDLittbanktot[\"authorid\"].duplicated()]].sort_values(\"authorid\")"
   ]
  },
  {
   "cell_type": "code",
   "execution_count": 40,
   "id": "4ce79193",
   "metadata": {},
   "outputs": [
    {
     "name": "stdout",
     "output_type": "stream",
     "text": [
      "Ended:  2021-10-05 01:29:57.049412\n",
      "Time elapsed (hh:mm:ass.ms) 0:00:06.151547\n"
     ]
    }
   ],
   "source": [
    "end = datetime.now()\n",
    "print(\"Ended: \", end) \n",
    "print('Time elapsed (hh:mm:ass.ms) {}'.format(datetime.now() - start_time))"
   ]
  },
  {
   "cell_type": "code",
   "execution_count": null,
   "id": "e0417572",
   "metadata": {},
   "outputs": [],
   "source": []
  }
 ],
 "metadata": {
  "kernelspec": {
   "display_name": "Python 3",
   "language": "python",
   "name": "python3"
  },
  "language_info": {
   "codemirror_mode": {
    "name": "ipython",
    "version": 3
   },
   "file_extension": ".py",
   "mimetype": "text/x-python",
   "name": "python",
   "nbconvert_exporter": "python",
   "pygments_lexer": "ipython3",
   "version": "3.9.4"
  }
 },
 "nbformat": 4,
 "nbformat_minor": 5
}
