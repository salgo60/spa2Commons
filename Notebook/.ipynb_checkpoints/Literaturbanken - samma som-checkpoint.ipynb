{
 "cells": [
  {
   "cell_type": "markdown",
   "id": "c2fd7c9a",
   "metadata": {},
   "source": [
    "Test och se om vi kan bättre utnyttja fält i Litteraturbankens json\n",
    "* sbl_link --> Wikidata Property 3217 = Svenskt Biografiskt Lexikon\n",
    "* skbl_link --> Wikidata Property 4963 = Svenskt kvinnobiografiskt lexikon\n",
    "* sol_link ?!?!?!\n",
    "* wikidata_id = Wikidata Qnummer\n",
    "* wikipedia = WIkipedia URL\n",
    "\n",
    "\n",
    "Denna [Notebook](https://github.com/salgo60/spa2Commons/blob/main/Notebook/Literaturbanken%20-%20samma%20som.ipynb) \n",
    "* [issue 3](https://github.com/salgo60/spa2Commons/issues/3) om vi kan bättre förstå hur Litteraturbanken arbetar\n",
    "\n",
    "Status\n",
    "\n",
    "\n",
    "| Date | Litteraturbanken show | Littbank - WD | Littbank - SBL | Littbank - SKBL|WD - Littbank | WD - Littbank - SBL  |WD - Littbank - SKBL  |\n",
    "| ------------- |:-------------:|:-------------:|:-------------:|:-------------:|:-------------:|:-------------:| -----:|\n",
    "| 20211001 | 3130 | 2132 | 765 | 152 | 2346 | 810 | 161\n",
    "\n"
   ]
  },
  {
   "cell_type": "code",
   "execution_count": 1,
   "id": "f91a25e9",
   "metadata": {},
   "outputs": [
    {
     "name": "stdout",
     "output_type": "stream",
     "text": [
      "Last run:  2021-10-03 12:43:38.516223\n"
     ]
    }
   ],
   "source": [
    "from datetime import datetime\n",
    "start_time  = datetime.now()\n",
    "print(\"Last run: \", start_time)"
   ]
  },
  {
   "cell_type": "code",
   "execution_count": 2,
   "id": "b1569c18",
   "metadata": {},
   "outputs": [],
   "source": [
    "import urllib3, json\n",
    "import pandas as pd \n",
    "http = urllib3.PoolManager() \n",
    "pd.set_option(\"display.max.columns\", None) \n",
    " \n",
    "url = \"https://litteraturbanken.se/api/get_authors\"\n",
    "r = http.request('GET', url)\n",
    "data = json.loads(r.data)\n",
    "df = pd.json_normalize(data[\"data\"])"
   ]
  },
  {
   "cell_type": "code",
   "execution_count": 3,
   "id": "9ea5312a",
   "metadata": {},
   "outputs": [
    {
     "name": "stdout",
     "output_type": "stream",
     "text": [
      "<class 'pandas.core.frame.DataFrame'>\n",
      "RangeIndex: 4024 entries, 0 to 4023\n",
      "Data columns (total 50 columns):\n",
      " #   Column                         Non-Null Count  Dtype  \n",
      "---  ------                         --------------  -----  \n",
      " 0   authorid                       4024 non-null   object \n",
      " 1   authorid_norm                  4024 non-null   object \n",
      " 2   db_checksum                    4024 non-null   object \n",
      " 3   db_timestamp                   4024 non-null   int64  \n",
      " 4   doc_type                       4024 non-null   object \n",
      " 5   full_name                      4024 non-null   object \n",
      " 6   gender                         4024 non-null   object \n",
      " 7   imported                       3365 non-null   object \n",
      " 8   intro                          728 non-null    object \n",
      " 9   librisid                       2166 non-null   object \n",
      " 10  name_for_index                 4024 non-null   object \n",
      " 11  pictureinfo                    169 non-null    object \n",
      " 12  searchable                     4024 non-null   bool   \n",
      " 13  show                           4024 non-null   bool   \n",
      " 14  surname                        4024 non-null   object \n",
      " 15  updated                        3365 non-null   object \n",
      " 16  birth.date                     3900 non-null   object \n",
      " 17  birth.plain                    4024 non-null   object \n",
      " 18  death.date                     2179 non-null   object \n",
      " 19  death.plain                    3317 non-null   object \n",
      " 20  wikidata.birthplace            1694 non-null   object \n",
      " 21  wikidata.birthplace_label      1694 non-null   object \n",
      " 22  wikidata.deathplace            1491 non-null   object \n",
      " 23  wikidata.deathplace_label      1491 non-null   object \n",
      " 24  wikidata.image                 1274 non-null   object \n",
      " 25  wikidata.sbl_link              812 non-null    object \n",
      " 26  wikidata.skbl_link             173 non-null    object \n",
      " 27  wikidata.sol_link              122 non-null    object \n",
      " 28  wikidata.wikidata_id           2344 non-null   object \n",
      " 29  wikidata.wikipedia             1914 non-null   object \n",
      " 30  db_timestamp_updated           2495 non-null   float64\n",
      " 31  intro_text                     728 non-null    object \n",
      " 32  popularity                     2030 non-null   float64\n",
      " 33  pseudonym                      126 non-null    object \n",
      " 34  dramawebben.intro              114 non-null    object \n",
      " 35  dramawebben.intro_author       113 non-null    object \n",
      " 36  dramawebben.intro_author_norm  113 non-null    object \n",
      " 37  dramawebben.legacy_url         127 non-null    object \n",
      " 38  dramawebben.picture            82 non-null     object \n",
      " 39  sources                        536 non-null    object \n",
      " 40  other_name                     77 non-null     object \n",
      " 41  intro_author                   417 non-null    object \n",
      " 42  intro_author_norm              417 non-null    object \n",
      " 43  dramawebben.picture_info       76 non-null     object \n",
      " 44  picture                        251 non-null    object \n",
      " 45  bibliography                   14 non-null     object \n",
      " 46  external_ref                   8 non-null      object \n",
      " 47  presentation                   27 non-null     object \n",
      " 48  seemore                        4 non-null      object \n",
      " 49  dramawebben.sources            6 non-null      object \n",
      "dtypes: bool(2), float64(2), int64(1), object(45)\n",
      "memory usage: 1.5+ MB\n"
     ]
    }
   ],
   "source": [
    "df.info()"
   ]
  },
  {
   "cell_type": "code",
   "execution_count": 4,
   "id": "6ca743fa",
   "metadata": {},
   "outputs": [
    {
     "data": {
      "text/plain": [
       "True     3130\n",
       "False     894\n",
       "Name: show, dtype: int64"
      ]
     },
     "execution_count": 4,
     "metadata": {},
     "output_type": "execute_result"
    }
   ],
   "source": [
    "df[\"show\"].value_counts()"
   ]
  },
  {
   "cell_type": "code",
   "execution_count": 5,
   "id": "a5c3d7c8",
   "metadata": {},
   "outputs": [],
   "source": [
    "#just objects with show\n",
    "dfShow = df[df[\"show\"]].copy() "
   ]
  },
  {
   "cell_type": "code",
   "execution_count": 6,
   "id": "46576292",
   "metadata": {},
   "outputs": [],
   "source": [
    "dfexternal = dfShow[{\"authorid\",\"wikidata.sbl_link\",\"wikidata.skbl_link\",\"wikidata.wikidata_id\",\"wikidata.sol_link\"\n",
    ",\"wikidata.wikidata_id\",\"wikidata.wikipedia\"}]"
   ]
  },
  {
   "cell_type": "code",
   "execution_count": 7,
   "id": "9b7c67ed",
   "metadata": {},
   "outputs": [
    {
     "name": "stdout",
     "output_type": "stream",
     "text": [
      "<class 'pandas.core.frame.DataFrame'>\n",
      "Int64Index: 3130 entries, 1 to 4023\n",
      "Data columns (total 6 columns):\n",
      " #   Column                Non-Null Count  Dtype \n",
      "---  ------                --------------  ----- \n",
      " 0   wikidata.wikidata_id  2134 non-null   object\n",
      " 1   wikidata.sbl_link     765 non-null    object\n",
      " 2   authorid              3130 non-null   object\n",
      " 3   wikidata.skbl_link    152 non-null    object\n",
      " 4   wikidata.sol_link     118 non-null    object\n",
      " 5   wikidata.wikipedia    1752 non-null   object\n",
      "dtypes: object(6)\n",
      "memory usage: 171.2+ KB\n"
     ]
    }
   ],
   "source": [
    "dfexternal.info()"
   ]
  },
  {
   "cell_type": "code",
   "execution_count": 8,
   "id": "f7f92ed5",
   "metadata": {},
   "outputs": [
    {
     "data": {
      "text/html": [
       "<div>\n",
       "<style scoped>\n",
       "    .dataframe tbody tr th:only-of-type {\n",
       "        vertical-align: middle;\n",
       "    }\n",
       "\n",
       "    .dataframe tbody tr th {\n",
       "        vertical-align: top;\n",
       "    }\n",
       "\n",
       "    .dataframe thead th {\n",
       "        text-align: right;\n",
       "    }\n",
       "</style>\n",
       "<table border=\"1\" class=\"dataframe\">\n",
       "  <thead>\n",
       "    <tr style=\"text-align: right;\">\n",
       "      <th></th>\n",
       "      <th>wikidata.wikidata_id</th>\n",
       "      <th>wikidata.sbl_link</th>\n",
       "      <th>authorid</th>\n",
       "      <th>wikidata.skbl_link</th>\n",
       "      <th>wikidata.sol_link</th>\n",
       "      <th>wikidata.wikipedia</th>\n",
       "    </tr>\n",
       "  </thead>\n",
       "  <tbody>\n",
       "    <tr>\n",
       "      <th>1</th>\n",
       "      <td>Q11967131</td>\n",
       "      <td>None</td>\n",
       "      <td>AasenE</td>\n",
       "      <td>None</td>\n",
       "      <td>None</td>\n",
       "      <td>None</td>\n",
       "    </tr>\n",
       "    <tr>\n",
       "      <th>2</th>\n",
       "      <td>Q4933592</td>\n",
       "      <td>None</td>\n",
       "      <td>AbeniusM</td>\n",
       "      <td>MargitAbenius</td>\n",
       "      <td>None</td>\n",
       "      <td>https://sv.wikipedia.org/wiki/Margit_Abenius</td>\n",
       "    </tr>\n",
       "    <tr>\n",
       "      <th>3</th>\n",
       "      <td>NaN</td>\n",
       "      <td>NaN</td>\n",
       "      <td>AbrahamssonA</td>\n",
       "      <td>NaN</td>\n",
       "      <td>NaN</td>\n",
       "      <td>NaN</td>\n",
       "    </tr>\n",
       "    <tr>\n",
       "      <th>5</th>\n",
       "      <td>Q4934135</td>\n",
       "      <td>None</td>\n",
       "      <td>AbrahamssonS</td>\n",
       "      <td>None</td>\n",
       "      <td>None</td>\n",
       "      <td>https://sv.wikipedia.org/wiki/Selma_Abrahamsson</td>\n",
       "    </tr>\n",
       "    <tr>\n",
       "      <th>6</th>\n",
       "      <td>Q365923</td>\n",
       "      <td>5503</td>\n",
       "      <td>AchariusE</td>\n",
       "      <td>None</td>\n",
       "      <td>None</td>\n",
       "      <td>https://sv.wikipedia.org/wiki/Erik_Acharius</td>\n",
       "    </tr>\n",
       "    <tr>\n",
       "      <th>...</th>\n",
       "      <td>...</td>\n",
       "      <td>...</td>\n",
       "      <td>...</td>\n",
       "      <td>...</td>\n",
       "      <td>...</td>\n",
       "      <td>...</td>\n",
       "    </tr>\n",
       "    <tr>\n",
       "      <th>4015</th>\n",
       "      <td>Q1237808</td>\n",
       "      <td>None</td>\n",
       "      <td>ÖnnerforsA</td>\n",
       "      <td>None</td>\n",
       "      <td>None</td>\n",
       "      <td>https://sv.wikipedia.org/wiki/Alf_%C3%96nnerfors</td>\n",
       "    </tr>\n",
       "    <tr>\n",
       "      <th>4017</th>\n",
       "      <td>Q6257795</td>\n",
       "      <td>None</td>\n",
       "      <td>ÖstergrenCL</td>\n",
       "      <td>None</td>\n",
       "      <td>None</td>\n",
       "      <td>https://sv.wikipedia.org/wiki/Carl_%C3%96stergren</td>\n",
       "    </tr>\n",
       "    <tr>\n",
       "      <th>4018</th>\n",
       "      <td>NaN</td>\n",
       "      <td>NaN</td>\n",
       "      <td>ÖstergrenC</td>\n",
       "      <td>NaN</td>\n",
       "      <td>NaN</td>\n",
       "      <td>NaN</td>\n",
       "    </tr>\n",
       "    <tr>\n",
       "      <th>4021</th>\n",
       "      <td>Q100752816</td>\n",
       "      <td>None</td>\n",
       "      <td>ÖstinO</td>\n",
       "      <td>None</td>\n",
       "      <td>None</td>\n",
       "      <td>None</td>\n",
       "    </tr>\n",
       "    <tr>\n",
       "      <th>4023</th>\n",
       "      <td>Q11978200</td>\n",
       "      <td>None</td>\n",
       "      <td>ØverlandJ</td>\n",
       "      <td>None</td>\n",
       "      <td>None</td>\n",
       "      <td>None</td>\n",
       "    </tr>\n",
       "  </tbody>\n",
       "</table>\n",
       "<p>3130 rows × 6 columns</p>\n",
       "</div>"
      ],
      "text/plain": [
       "     wikidata.wikidata_id wikidata.sbl_link      authorid wikidata.skbl_link  \\\n",
       "1               Q11967131              None        AasenE               None   \n",
       "2                Q4933592              None      AbeniusM      MargitAbenius   \n",
       "3                     NaN               NaN  AbrahamssonA                NaN   \n",
       "5                Q4934135              None  AbrahamssonS               None   \n",
       "6                 Q365923              5503     AchariusE               None   \n",
       "...                   ...               ...           ...                ...   \n",
       "4015             Q1237808              None    ÖnnerforsA               None   \n",
       "4017             Q6257795              None   ÖstergrenCL               None   \n",
       "4018                  NaN               NaN    ÖstergrenC                NaN   \n",
       "4021           Q100752816              None        ÖstinO               None   \n",
       "4023            Q11978200              None     ØverlandJ               None   \n",
       "\n",
       "     wikidata.sol_link                                 wikidata.wikipedia  \n",
       "1                 None                                               None  \n",
       "2                 None       https://sv.wikipedia.org/wiki/Margit_Abenius  \n",
       "3                  NaN                                                NaN  \n",
       "5                 None    https://sv.wikipedia.org/wiki/Selma_Abrahamsson  \n",
       "6                 None        https://sv.wikipedia.org/wiki/Erik_Acharius  \n",
       "...                ...                                                ...  \n",
       "4015              None   https://sv.wikipedia.org/wiki/Alf_%C3%96nnerfors  \n",
       "4017              None  https://sv.wikipedia.org/wiki/Carl_%C3%96stergren  \n",
       "4018               NaN                                                NaN  \n",
       "4021              None                                               None  \n",
       "4023              None                                               None  \n",
       "\n",
       "[3130 rows x 6 columns]"
      ]
     },
     "execution_count": 8,
     "metadata": {},
     "output_type": "execute_result"
    }
   ],
   "source": [
    "dfexternal"
   ]
  },
  {
   "cell_type": "code",
   "execution_count": 9,
   "id": "03fddc15",
   "metadata": {},
   "outputs": [
    {
     "name": "stdout",
     "output_type": "stream",
     "text": [
      "Ended:  2021-10-03 12:43:40.824824\n",
      "Time elapsed (hh:mm:ass.ms) 0:00:02.308814\n"
     ]
    }
   ],
   "source": [
    "end = datetime.now()\n",
    "print(\"Ended: \", end) \n",
    "print('Time elapsed (hh:mm:ass.ms) {}'.format(datetime.now() - start_time))"
   ]
  },
  {
   "cell_type": "markdown",
   "id": "db241af6",
   "metadata": {},
   "source": [
    "### Get Wikidata"
   ]
  },
  {
   "cell_type": "code",
   "execution_count": 10,
   "id": "2e1fd0f6",
   "metadata": {},
   "outputs": [],
   "source": [
    "# pip install sparqlwrapper\n",
    "# https://rdflib.github.io/sparqlwrapper/\n",
    "\n",
    "import sys,json\n",
    "import pandas as pd \n",
    "\n",
    "from SPARQLWrapper import SPARQLWrapper, JSON\n",
    "\n",
    "endpoint_url = \"https://query.wikidata.org/sparql\"\n",
    "\n",
    "# https://w.wiki/4AAV\n",
    "query = \"\"\"SELECT (REPLACE(STR(?item), \".*Q\", \"Q\") AS ?WikidataID)  ?authorid ?SBL ?SKBL WHERE {\n",
    "?item wdt:P31 wd:Q5.\n",
    "?item wdt:P5101 ?authorid\n",
    "OPTIONAL {?item wdt:P3217 ?SBL}\n",
    "OPTIONAL {?item wdt:P4963 ?SKBL}\n",
    "} order by ?authorid\"\"\"\n",
    " \n",
    "    \n",
    "def get_sparql_dataframe(endpoint_url, query):\n",
    "    \"\"\"\n",
    "    Helper function to convert SPARQL results into a Pandas data frame.\n",
    "    \"\"\"\n",
    "    user_agent = \"salgo60/%s.%s\" % (sys.version_info[0], sys.version_info[1])\n",
    " \n",
    "    sparql = SPARQLWrapper(endpoint_url, agent=user_agent)\n",
    "    sparql.setQuery(query)\n",
    "    sparql.setReturnFormat(JSON)\n",
    "    result = sparql.query()\n",
    "\n",
    "    processed_results = json.load(result.response)\n",
    "    cols = processed_results['head']['vars']\n",
    "    out = []\n",
    "    for row in processed_results['results']['bindings']:\n",
    "        item = []\n",
    "        for c in cols:\n",
    "            item.append(row.get(c, {}).get('value'))\n",
    "        out.append(item)\n",
    "\n",
    "    return pd.DataFrame(out, columns=cols)\n",
    "\n",
    "WDLittbanktot = get_sparql_dataframe(endpoint_url, query)\n"
   ]
  },
  {
   "cell_type": "code",
   "execution_count": 11,
   "id": "140ecae3",
   "metadata": {},
   "outputs": [
    {
     "name": "stdout",
     "output_type": "stream",
     "text": [
      "<class 'pandas.core.frame.DataFrame'>\n",
      "RangeIndex: 2348 entries, 0 to 2347\n",
      "Data columns (total 4 columns):\n",
      " #   Column      Non-Null Count  Dtype  \n",
      "---  ------      --------------  -----  \n",
      " 0   WikidataID  2348 non-null   object \n",
      " 1   authorid    2348 non-null   object \n",
      " 2   SBL         811 non-null    float64\n",
      " 3   SKBL        161 non-null    object \n",
      "dtypes: float64(1), object(3)\n",
      "memory usage: 73.5+ KB\n"
     ]
    }
   ],
   "source": [
    "WDLittbanktot['SBL'] = pd.to_numeric(WDLittbanktot['SBL'], errors=\"coerce\")\n",
    "WDLittbanktot.info()"
   ]
  },
  {
   "cell_type": "code",
   "execution_count": 12,
   "id": "d1ee1749",
   "metadata": {},
   "outputs": [
    {
     "name": "stdout",
     "output_type": "stream",
     "text": [
      "<class 'pandas.core.frame.DataFrame'>\n",
      "Int64Index: 3130 entries, 1 to 4023\n",
      "Data columns (total 6 columns):\n",
      " #   Column                Non-Null Count  Dtype  \n",
      "---  ------                --------------  -----  \n",
      " 0   wikidata.wikidata_id  2134 non-null   object \n",
      " 1   wikidata.sbl_link     765 non-null    float64\n",
      " 2   authorid              3130 non-null   object \n",
      " 3   wikidata.skbl_link    152 non-null    object \n",
      " 4   wikidata.sol_link     118 non-null    object \n",
      " 5   wikidata.wikipedia    1752 non-null   object \n",
      "dtypes: float64(1), object(5)\n",
      "memory usage: 171.2+ KB\n"
     ]
    },
    {
     "name": "stderr",
     "output_type": "stream",
     "text": [
      "<ipython-input-12-e1d483007a37>:1: SettingWithCopyWarning: \n",
      "A value is trying to be set on a copy of a slice from a DataFrame.\n",
      "Try using .loc[row_indexer,col_indexer] = value instead\n",
      "\n",
      "See the caveats in the documentation: https://pandas.pydata.org/pandas-docs/stable/user_guide/indexing.html#returning-a-view-versus-a-copy\n",
      "  dfexternal['wikidata.sbl_link'] = pd.to_numeric(dfexternal['wikidata.sbl_link'], errors=\"coerce\")\n"
     ]
    }
   ],
   "source": [
    "dfexternal['wikidata.sbl_link'] = pd.to_numeric(dfexternal['wikidata.sbl_link'], errors=\"coerce\")\n",
    "dfexternal.info()"
   ]
  },
  {
   "cell_type": "markdown",
   "id": "9329def4",
   "metadata": {},
   "source": [
    "### Compare Littbank Wikidata field with Wikidata \n"
   ]
  },
  {
   "cell_type": "code",
   "execution_count": 13,
   "id": "fabc60ba",
   "metadata": {},
   "outputs": [
    {
     "data": {
      "text/plain": [
       "both          2347\n",
       "left_only        0\n",
       "right_only       0\n",
       "Name: WD_Littbank_merge, dtype: int64"
      ]
     },
     "execution_count": 13,
     "metadata": {},
     "output_type": "execute_result"
    }
   ],
   "source": [
    "WDLittbank_WD_merge =  pd.merge(WDLittbanktot, dfexternal, on='authorid',indicator=True)\n",
    "WDLittbank_WD_merge.rename(columns={\"_merge\": \"WD_Littbank_merge\"},inplace = True)\n",
    "\n",
    "WDLittbank_WD_merge[\"WD_Littbank_merge\"].value_counts()"
   ]
  },
  {
   "cell_type": "code",
   "execution_count": 14,
   "id": "08b51fe0",
   "metadata": {},
   "outputs": [
    {
     "data": {
      "text/plain": [
       "both          2347\n",
       "left_only        0\n",
       "right_only       0\n",
       "Name: WD_Littbank_merge, dtype: int64"
      ]
     },
     "execution_count": 14,
     "metadata": {},
     "output_type": "execute_result"
    }
   ],
   "source": [
    "WDLittbank_WD_merge[\"WD_Littbank_merge\"].value_counts()"
   ]
  },
  {
   "cell_type": "code",
   "execution_count": 15,
   "id": "17ebc7b7",
   "metadata": {},
   "outputs": [
    {
     "data": {
      "text/html": [
       "<div>\n",
       "<style scoped>\n",
       "    .dataframe tbody tr th:only-of-type {\n",
       "        vertical-align: middle;\n",
       "    }\n",
       "\n",
       "    .dataframe tbody tr th {\n",
       "        vertical-align: top;\n",
       "    }\n",
       "\n",
       "    .dataframe thead th {\n",
       "        text-align: right;\n",
       "    }\n",
       "</style>\n",
       "<table border=\"1\" class=\"dataframe\">\n",
       "  <thead>\n",
       "    <tr style=\"text-align: right;\">\n",
       "      <th></th>\n",
       "      <th>WikidataID</th>\n",
       "      <th>authorid</th>\n",
       "      <th>SBL</th>\n",
       "      <th>SKBL</th>\n",
       "      <th>wikidata.wikidata_id</th>\n",
       "      <th>wikidata.sbl_link</th>\n",
       "      <th>wikidata.skbl_link</th>\n",
       "      <th>wikidata.sol_link</th>\n",
       "      <th>wikidata.wikipedia</th>\n",
       "      <th>WD_Littbank_merge</th>\n",
       "    </tr>\n",
       "  </thead>\n",
       "  <tbody>\n",
       "  </tbody>\n",
       "</table>\n",
       "</div>"
      ],
      "text/plain": [
       "Empty DataFrame\n",
       "Columns: [WikidataID, authorid, SBL, SKBL, wikidata.wikidata_id, wikidata.sbl_link, wikidata.skbl_link, wikidata.sol_link, wikidata.wikipedia, WD_Littbank_merge]\n",
       "Index: []"
      ]
     },
     "execution_count": 15,
     "metadata": {},
     "output_type": "execute_result"
    }
   ],
   "source": [
    "# all with SBL seems to have WIkidata\n",
    "WDLittbanktotSBL =  WDLittbank_WD_merge[~WDLittbank_WD_merge['wikidata.sbl_link'].isnull()]\n",
    "WDLittbanktotSBL_noWD = WDLittbanktotSBL[WDLittbanktotSBL['wikidata.wikidata_id'].isnull()] \n",
    "WDLittbanktotSBL_noWD"
   ]
  },
  {
   "cell_type": "markdown",
   "id": "e23a8bf6",
   "metadata": {},
   "source": [
    "### SBL"
   ]
  },
  {
   "cell_type": "code",
   "execution_count": 16,
   "id": "c35128aa",
   "metadata": {},
   "outputs": [
    {
     "name": "stdout",
     "output_type": "stream",
     "text": [
      "<class 'pandas.core.frame.DataFrame'>\n",
      "Int64Index: 811 entries, 5 to 2279\n",
      "Data columns (total 4 columns):\n",
      " #   Column      Non-Null Count  Dtype  \n",
      "---  ------      --------------  -----  \n",
      " 0   WikidataID  811 non-null    object \n",
      " 1   authorid    811 non-null    object \n",
      " 2   SBL         811 non-null    float64\n",
      " 3   SKBL        79 non-null     object \n",
      "dtypes: float64(1), object(3)\n",
      "memory usage: 31.7+ KB\n"
     ]
    }
   ],
   "source": [
    "WDLittbanktot_SBL = WDLittbanktot[~WDLittbanktot[\"SBL\"].isna()]\n",
    "WDLittbanktot_SBL.info()"
   ]
  },
  {
   "cell_type": "code",
   "execution_count": 17,
   "id": "a0095696",
   "metadata": {},
   "outputs": [],
   "source": [
    "dfexternal_SBL = dfexternal[~dfexternal[\"wikidata.sbl_link\"].isna()]"
   ]
  },
  {
   "cell_type": "code",
   "execution_count": 18,
   "id": "e14cbc6a",
   "metadata": {},
   "outputs": [
    {
     "name": "stdout",
     "output_type": "stream",
     "text": [
      "<class 'pandas.core.frame.DataFrame'>\n",
      "Int64Index: 765 entries, 6 to 3897\n",
      "Data columns (total 6 columns):\n",
      " #   Column                Non-Null Count  Dtype  \n",
      "---  ------                --------------  -----  \n",
      " 0   wikidata.wikidata_id  765 non-null    object \n",
      " 1   wikidata.sbl_link     765 non-null    float64\n",
      " 2   authorid              765 non-null    object \n",
      " 3   wikidata.skbl_link    77 non-null     object \n",
      " 4   wikidata.sol_link     66 non-null     object \n",
      " 5   wikidata.wikipedia    763 non-null    object \n",
      "dtypes: float64(1), object(5)\n",
      "memory usage: 41.8+ KB\n"
     ]
    }
   ],
   "source": [
    "dfexternal_SBL.info()"
   ]
  },
  {
   "cell_type": "code",
   "execution_count": 19,
   "id": "27a4a916",
   "metadata": {},
   "outputs": [
    {
     "data": {
      "text/plain": [
       "both          766\n",
       "left_only       0\n",
       "right_only      0\n",
       "Name: WD_Littbank_SBL_merge, dtype: int64"
      ]
     },
     "execution_count": 19,
     "metadata": {},
     "output_type": "execute_result"
    }
   ],
   "source": [
    "WDLittbank_WD_SBL_merge =  pd.merge(WDLittbanktot_SBL, dfexternal_SBL, left_on='SBL', right_on='wikidata.sbl_link',indicator=True)\n",
    "WDLittbank_WD_SBL_merge.rename(columns={\"_merge\": \"WD_Littbank_SBL_merge\"},inplace = True)\n",
    "\n",
    "WDLittbank_WD_SBL_merge[\"WD_Littbank_SBL_merge\"].value_counts()"
   ]
  },
  {
   "cell_type": "markdown",
   "id": "906a08f8",
   "metadata": {},
   "source": [
    "## SKBL"
   ]
  },
  {
   "cell_type": "code",
   "execution_count": 20,
   "id": "6f332b7e",
   "metadata": {},
   "outputs": [
    {
     "name": "stdout",
     "output_type": "stream",
     "text": [
      "<class 'pandas.core.frame.DataFrame'>\n",
      "Int64Index: 161 entries, 2 to 2337\n",
      "Data columns (total 4 columns):\n",
      " #   Column      Non-Null Count  Dtype  \n",
      "---  ------      --------------  -----  \n",
      " 0   WikidataID  161 non-null    object \n",
      " 1   authorid    161 non-null    object \n",
      " 2   SBL         79 non-null     float64\n",
      " 3   SKBL        161 non-null    object \n",
      "dtypes: float64(1), object(3)\n",
      "memory usage: 6.3+ KB\n"
     ]
    }
   ],
   "source": [
    "WDLittbanktot_SKBL = WDLittbanktot[~WDLittbanktot[\"SKBL\"].isna()]\n",
    "WDLittbanktot_SKBL.info()"
   ]
  },
  {
   "cell_type": "code",
   "execution_count": 21,
   "id": "2e707463",
   "metadata": {},
   "outputs": [
    {
     "name": "stdout",
     "output_type": "stream",
     "text": [
      "<class 'pandas.core.frame.DataFrame'>\n",
      "Int64Index: 152 entries, 2 to 4006\n",
      "Data columns (total 6 columns):\n",
      " #   Column                Non-Null Count  Dtype  \n",
      "---  ------                --------------  -----  \n",
      " 0   wikidata.wikidata_id  152 non-null    object \n",
      " 1   wikidata.sbl_link     77 non-null     float64\n",
      " 2   authorid              152 non-null    object \n",
      " 3   wikidata.skbl_link    152 non-null    object \n",
      " 4   wikidata.sol_link     23 non-null     object \n",
      " 5   wikidata.wikipedia    152 non-null    object \n",
      "dtypes: float64(1), object(5)\n",
      "memory usage: 8.3+ KB\n"
     ]
    }
   ],
   "source": [
    "dfexternal_SKBL = dfexternal[~dfexternal[\"wikidata.skbl_link\"].isna()]\n",
    "dfexternal_SKBL.info()"
   ]
  },
  {
   "cell_type": "code",
   "execution_count": 22,
   "id": "1ee7ba0c",
   "metadata": {},
   "outputs": [
    {
     "data": {
      "text/plain": [
       "both          77\n",
       "left_only      0\n",
       "right_only     0\n",
       "Name: WD_Littbank_SKBL_merge, dtype: int64"
      ]
     },
     "execution_count": 22,
     "metadata": {},
     "output_type": "execute_result"
    }
   ],
   "source": [
    "WDLittbank_WD_SKBL_merge =  pd.merge(WDLittbanktot_SKBL, dfexternal_SBL, left_on='SKBL', right_on='wikidata.skbl_link',indicator=True)\n",
    "WDLittbank_WD_SKBL_merge.rename(columns={\"_merge\": \"WD_Littbank_SKBL_merge\"},inplace = True)\n",
    "\n",
    "WDLittbank_WD_SKBL_merge[\"WD_Littbank_SKBL_merge\"].value_counts()"
   ]
  },
  {
   "cell_type": "code",
   "execution_count": 23,
   "id": "66272d02",
   "metadata": {},
   "outputs": [
    {
     "name": "stdout",
     "output_type": "stream",
     "text": [
      "| 20211003 | 3130 | 2132 | 765 | 152 | 2346 | 810 | 161\n"
     ]
    }
   ],
   "source": [
    "print(\"|\",start_time.strftime(\"%Y%m%d\"),\"|\",dfShow[\"authorid\"].nunique(),\n",
    "     \"|\",dfShow[\"wikidata.wikidata_id\"].nunique(),\n",
    "     \"|\",dfShow[\"wikidata.sbl_link\"].nunique(),\n",
    "     \"|\",dfShow[\"wikidata.skbl_link\"].nunique(),\n",
    "     \"|\",WDLittbanktot[\"authorid\"].nunique(),\n",
    "     \"|\",WDLittbanktot[\"SBL\"].nunique(),\n",
    "     \"|\",WDLittbanktot[\"SKBL\"].nunique()\n",
    "     )"
   ]
  },
  {
   "cell_type": "code",
   "execution_count": 24,
   "id": "c7c3c1e4",
   "metadata": {},
   "outputs": [],
   "source": [
    "#dfShow[\"wikidata.wikidata_id\"].nunique()"
   ]
  },
  {
   "cell_type": "code",
   "execution_count": 25,
   "id": "af7c7ffe",
   "metadata": {},
   "outputs": [],
   "source": [
    "#WDLittbanktot.info()"
   ]
  },
  {
   "cell_type": "code",
   "execution_count": 26,
   "id": "e86aaa45",
   "metadata": {},
   "outputs": [
    {
     "name": "stdout",
     "output_type": "stream",
     "text": [
      "Ended:  2021-10-03 12:43:44.064669\n",
      "Time elapsed (hh:mm:ss.ms) 0:00:05.548796\n"
     ]
    }
   ],
   "source": [
    "end = datetime.now()\n",
    "print(\"Ended: \", end) \n",
    "print('Time elapsed (hh:mm:ss.ms) {}'.format(datetime.now() - start_time))"
   ]
  },
  {
   "cell_type": "code",
   "execution_count": null,
   "id": "0879dd14",
   "metadata": {},
   "outputs": [],
   "source": []
  }
 ],
 "metadata": {
  "kernelspec": {
   "display_name": "Python 3",
   "language": "python",
   "name": "python3"
  },
  "language_info": {
   "codemirror_mode": {
    "name": "ipython",
    "version": 3
   },
   "file_extension": ".py",
   "mimetype": "text/x-python",
   "name": "python",
   "nbconvert_exporter": "python",
   "pygments_lexer": "ipython3",
   "version": "3.9.4"
  }
 },
 "nbformat": 4,
 "nbformat_minor": 5
}
