{
 "cells": [
  {
   "cell_type": "markdown",
   "id": "c2fd7c9a",
   "metadata": {},
   "source": [
    "### Work in progress\n",
    "Test och se om vi kan bättre utnyttja fält i Litteraturbankens json\n",
    "* sbl_link --> Wikidata Property 3217 = Svenskt Biografiskt Lexikon\n",
    "* skbl_link --> Wikidata Property 4963 = Svenskt kvinnobiografiskt lexikon\n",
    "* sol_link ?!?!?!\n",
    "* wikidata_id = Wikidata Qnummer\n",
    "* wikipedia = Wikipedia URL\n",
    "\n",
    "\n",
    "Denna [Notebook](https://github.com/salgo60/spa2Commons/blob/main/Notebook/Literaturbanken%20-%20samma%20som.ipynb) \n",
    "* [issue 3](https://github.com/salgo60/spa2Commons/issues/3) om vi kan bättre förstå hur Litteraturbanken arbetar\n",
    "\n",
    "**TODO**\n",
    " -  [ ] kontrollera data\n",
    " -  [ ] förstå vad SOL är\n",
    " - [ ] bättre koll diff SBL SKBL skriva ut till fil\n",
    " - [ ] kolla samma som LIBRISXL\n",
    "\n",
    "\n",
    "\n",
    "**Connectivity status**\n",
    "\n",
    "I en perfekt värld skall\n",
    "* A = B = E\n",
    "* C = F \n",
    "* D = G\n",
    "\n",
    "| Date | A: Litteraturbanken show | B: Littbank - WD | C: Littbank - SBL | D: Littbank - SKBL|E: WD - Littbank | F: WD - Littbank - SBL  |G: WD - Littbank - SKBL  |\n",
    "| ------------- |:-------------:|:-------------:|:-------------:|:-------------:|:-------------:|:-------------:| -----:|\n",
    "| 20211001 | 3130 | 2132 | 765 | 152 | 2346 | 810 | 161\n",
    "| 20211004 | 3130 | 2132 | 765 | 152 | 2347 | 809 | 161\n",
    "| 20211005 | 3174 | 2354 | 809 | 161 | 2374 | 813 | 163\n",
    "\n",
    "Saker som detta är enormt viktigt   \n",
    "* Wikidata behöver auktoriteter att kontrollera kvaliten på vårt data och snabbt se att vi som en öppen plattform inte vandaliseras\n",
    "* Wikidata med Wikipedia har stort antal visningar - se statistik senaste året > [15000 visningar per dag](https://pageviews.toolforge.org/massviews/?platform=all-access&agent=user&source=category&range=last-year&subjectpage=0&subcategories=0&sort=views&direction=1&view=list&target=https://sv.wikipedia.org/wiki/Kategori:Litteraturbanken) på de artiklar som länkar Litteraturbanken --> vi drar traffik till Litteraturbanken\n",
    "* vi ser mer och mer brister hos Kungliga biblioteket och andra äldre auktorieteter att dom har gamla plattformar/teknik där fyller en plattform som Wikidata med sina fel och brister en ny möjlighet se [tankar](https://github.com/salgo60/spa2Commons/issues/3) \n",
    "* ju fler som kopplar ihop sig med varandra desto snabbare/enklare blir denna process\n",
    "* på sikt hoppas vi få ett kulturarv där vi jobbar ihop även fast det går långsamt\n"
   ]
  },
  {
   "cell_type": "code",
   "execution_count": 1,
   "id": "f91a25e9",
   "metadata": {},
   "outputs": [
    {
     "name": "stdout",
     "output_type": "stream",
     "text": [
      "Last run:  2021-10-05 08:17:31.069650\n"
     ]
    }
   ],
   "source": [
    "from datetime import datetime\n",
    "start_time  = datetime.now()\n",
    "print(\"Last run: \", start_time)"
   ]
  },
  {
   "cell_type": "code",
   "execution_count": 2,
   "id": "b1569c18",
   "metadata": {},
   "outputs": [],
   "source": [
    "import urllib3, json\n",
    "import pandas as pd \n",
    "http = urllib3.PoolManager() \n",
    "pd.set_option(\"display.max.columns\", None) \n",
    " \n",
    "url = \"https://litteraturbanken.se/api/get_authors\"\n",
    "r = http.request('GET', url)\n",
    "data = json.loads(r.data)\n",
    "df = pd.json_normalize(data[\"data\"])"
   ]
  },
  {
   "cell_type": "code",
   "execution_count": 3,
   "id": "9ea5312a",
   "metadata": {},
   "outputs": [
    {
     "name": "stdout",
     "output_type": "stream",
     "text": [
      "<class 'pandas.core.frame.DataFrame'>\n",
      "RangeIndex: 4046 entries, 0 to 4045\n",
      "Data columns (total 50 columns):\n",
      " #   Column                         Non-Null Count  Dtype  \n",
      "---  ------                         --------------  -----  \n",
      " 0   authorid                       4046 non-null   object \n",
      " 1   authorid_norm                  4046 non-null   object \n",
      " 2   db_checksum                    4046 non-null   object \n",
      " 3   db_timestamp                   4046 non-null   int64  \n",
      " 4   doc_type                       4046 non-null   object \n",
      " 5   full_name                      4046 non-null   object \n",
      " 6   gender                         4046 non-null   object \n",
      " 7   imported                       3388 non-null   object \n",
      " 8   intro                          729 non-null    object \n",
      " 9   librisid                       2180 non-null   object \n",
      " 10  name_for_index                 4046 non-null   object \n",
      " 11  pictureinfo                    169 non-null    object \n",
      " 12  searchable                     4046 non-null   bool   \n",
      " 13  show                           4046 non-null   bool   \n",
      " 14  surname                        4046 non-null   object \n",
      " 15  updated                        3388 non-null   object \n",
      " 16  birth.date                     3915 non-null   object \n",
      " 17  birth.plain                    4046 non-null   object \n",
      " 18  death.date                     2196 non-null   object \n",
      " 19  death.plain                    3339 non-null   object \n",
      " 20  wikidata.birthplace            1753 non-null   object \n",
      " 21  wikidata.birthplace_label      1753 non-null   object \n",
      " 22  wikidata.deathplace            1538 non-null   object \n",
      " 23  wikidata.deathplace_label      1538 non-null   object \n",
      " 24  wikidata.image                 1355 non-null   object \n",
      " 25  wikidata.sbl_link              810 non-null    object \n",
      " 26  wikidata.skbl_link             161 non-null    object \n",
      " 27  wikidata.sol_link              128 non-null    object \n",
      " 28  wikidata.wikidata_id           2359 non-null   object \n",
      " 29  wikidata.wikipedia             1880 non-null   object \n",
      " 30  db_timestamp_updated           2531 non-null   float64\n",
      " 31  intro_text                     729 non-null    object \n",
      " 32  popularity                     2059 non-null   float64\n",
      " 33  pseudonym                      128 non-null    object \n",
      " 34  dramawebben.intro              114 non-null    object \n",
      " 35  dramawebben.intro_author       113 non-null    object \n",
      " 36  dramawebben.intro_author_norm  113 non-null    object \n",
      " 37  dramawebben.legacy_url         127 non-null    object \n",
      " 38  dramawebben.picture            82 non-null     object \n",
      " 39  sources                        537 non-null    object \n",
      " 40  other_name                     77 non-null     object \n",
      " 41  intro_author                   418 non-null    object \n",
      " 42  intro_author_norm              418 non-null    object \n",
      " 43  dramawebben.picture_info       76 non-null     object \n",
      " 44  picture                        253 non-null    object \n",
      " 45  bibliography                   14 non-null     object \n",
      " 46  external_ref                   8 non-null      object \n",
      " 47  presentation                   27 non-null     object \n",
      " 48  seemore                        4 non-null      object \n",
      " 49  dramawebben.sources            6 non-null      object \n",
      "dtypes: bool(2), float64(2), int64(1), object(45)\n",
      "memory usage: 1.5+ MB\n"
     ]
    }
   ],
   "source": [
    "df.info()"
   ]
  },
  {
   "cell_type": "code",
   "execution_count": 4,
   "id": "6ca743fa",
   "metadata": {},
   "outputs": [
    {
     "data": {
      "text/plain": [
       "True     3174\n",
       "False     872\n",
       "Name: show, dtype: int64"
      ]
     },
     "execution_count": 4,
     "metadata": {},
     "output_type": "execute_result"
    }
   ],
   "source": [
    "df[\"show\"].value_counts()"
   ]
  },
  {
   "cell_type": "code",
   "execution_count": 5,
   "id": "a5c3d7c8",
   "metadata": {},
   "outputs": [],
   "source": [
    "#just objects with show\n",
    "dfShow = df[df[\"show\"]].copy() "
   ]
  },
  {
   "cell_type": "code",
   "execution_count": 6,
   "id": "46576292",
   "metadata": {},
   "outputs": [],
   "source": [
    "dfexternal = dfShow[{\"authorid\",\"wikidata.sbl_link\",\"wikidata.skbl_link\",\"wikidata.wikidata_id\",\"wikidata.sol_link\"\n",
    ",\"wikidata.wikidata_id\",\"wikidata.wikipedia\"}]"
   ]
  },
  {
   "cell_type": "code",
   "execution_count": 7,
   "id": "9b7c67ed",
   "metadata": {},
   "outputs": [
    {
     "name": "stdout",
     "output_type": "stream",
     "text": [
      "<class 'pandas.core.frame.DataFrame'>\n",
      "Int64Index: 3174 entries, 1 to 4045\n",
      "Data columns (total 6 columns):\n",
      " #   Column                Non-Null Count  Dtype \n",
      "---  ------                --------------  ----- \n",
      " 0   wikidata.sol_link     128 non-null    object\n",
      " 1   authorid              3174 non-null   object\n",
      " 2   wikidata.wikipedia    1879 non-null   object\n",
      " 3   wikidata.skbl_link    161 non-null    object\n",
      " 4   wikidata.wikidata_id  2358 non-null   object\n",
      " 5   wikidata.sbl_link     810 non-null    object\n",
      "dtypes: object(6)\n",
      "memory usage: 173.6+ KB\n"
     ]
    }
   ],
   "source": [
    "dfexternal.info()"
   ]
  },
  {
   "cell_type": "code",
   "execution_count": 8,
   "id": "9d11863f",
   "metadata": {},
   "outputs": [
    {
     "data": {
      "text/plain": [
       "Vilhelm_Fredrik_Palmblad       1\n",
       "Christopher_Manderström        1\n",
       "Mårten_Altén                   1\n",
       "Ulrica_Carolina_Widström       1\n",
       "Klara_Johanson                 1\n",
       "                              ..\n",
       "Ture_Nerman                    1\n",
       "Ericus_Benedicti_Schroderus    1\n",
       "Emily_Nonnen                   1\n",
       "Johan_Henric_Kellgren          1\n",
       "Wendela_Hebbe                  1\n",
       "Name: wikidata.sol_link, Length: 128, dtype: int64"
      ]
     },
     "execution_count": 8,
     "metadata": {},
     "output_type": "execute_result"
    }
   ],
   "source": [
    "dfexternal[\"wikidata.sol_link\"].value_counts()"
   ]
  },
  {
   "cell_type": "code",
   "execution_count": 9,
   "id": "f7f92ed5",
   "metadata": {},
   "outputs": [
    {
     "data": {
      "text/html": [
       "<div>\n",
       "<style scoped>\n",
       "    .dataframe tbody tr th:only-of-type {\n",
       "        vertical-align: middle;\n",
       "    }\n",
       "\n",
       "    .dataframe tbody tr th {\n",
       "        vertical-align: top;\n",
       "    }\n",
       "\n",
       "    .dataframe thead th {\n",
       "        text-align: right;\n",
       "    }\n",
       "</style>\n",
       "<table border=\"1\" class=\"dataframe\">\n",
       "  <thead>\n",
       "    <tr style=\"text-align: right;\">\n",
       "      <th></th>\n",
       "      <th>wikidata.sol_link</th>\n",
       "      <th>authorid</th>\n",
       "      <th>wikidata.wikipedia</th>\n",
       "      <th>wikidata.skbl_link</th>\n",
       "      <th>wikidata.wikidata_id</th>\n",
       "      <th>wikidata.sbl_link</th>\n",
       "    </tr>\n",
       "  </thead>\n",
       "  <tbody>\n",
       "    <tr>\n",
       "      <th>1</th>\n",
       "      <td>None</td>\n",
       "      <td>AasenE</td>\n",
       "      <td>None</td>\n",
       "      <td>None</td>\n",
       "      <td>Q11967131</td>\n",
       "      <td>None</td>\n",
       "    </tr>\n",
       "    <tr>\n",
       "      <th>2</th>\n",
       "      <td>None</td>\n",
       "      <td>AbeniusM</td>\n",
       "      <td>https://sv.wikipedia.org/wiki/Margit_Abenius</td>\n",
       "      <td>MargitAbenius</td>\n",
       "      <td>Q4933592</td>\n",
       "      <td>None</td>\n",
       "    </tr>\n",
       "    <tr>\n",
       "      <th>3</th>\n",
       "      <td>None</td>\n",
       "      <td>AbrahamssonA</td>\n",
       "      <td>https://sv.wikipedia.org/wiki/Augusta_Abrahamsson</td>\n",
       "      <td>None</td>\n",
       "      <td>Q24680938</td>\n",
       "      <td>None</td>\n",
       "    </tr>\n",
       "    <tr>\n",
       "      <th>5</th>\n",
       "      <td>None</td>\n",
       "      <td>AbrahamssonS</td>\n",
       "      <td>https://sv.wikipedia.org/wiki/Selma_Abrahamsson</td>\n",
       "      <td>None</td>\n",
       "      <td>Q4934135</td>\n",
       "      <td>None</td>\n",
       "    </tr>\n",
       "    <tr>\n",
       "      <th>6</th>\n",
       "      <td>None</td>\n",
       "      <td>AchariusE</td>\n",
       "      <td>https://sv.wikipedia.org/wiki/Erik_Acharius</td>\n",
       "      <td>None</td>\n",
       "      <td>Q365923</td>\n",
       "      <td>5503</td>\n",
       "    </tr>\n",
       "    <tr>\n",
       "      <th>...</th>\n",
       "      <td>...</td>\n",
       "      <td>...</td>\n",
       "      <td>...</td>\n",
       "      <td>...</td>\n",
       "      <td>...</td>\n",
       "      <td>...</td>\n",
       "    </tr>\n",
       "    <tr>\n",
       "      <th>4037</th>\n",
       "      <td>None</td>\n",
       "      <td>ÖnnerforsA</td>\n",
       "      <td>https://sv.wikipedia.org/wiki/Alf_%C3%96nnerfors</td>\n",
       "      <td>None</td>\n",
       "      <td>Q1237808</td>\n",
       "      <td>None</td>\n",
       "    </tr>\n",
       "    <tr>\n",
       "      <th>4039</th>\n",
       "      <td>None</td>\n",
       "      <td>ÖstergrenCL</td>\n",
       "      <td>https://sv.wikipedia.org/wiki/Carl_%C3%96stergren</td>\n",
       "      <td>None</td>\n",
       "      <td>Q6257795</td>\n",
       "      <td>None</td>\n",
       "    </tr>\n",
       "    <tr>\n",
       "      <th>4040</th>\n",
       "      <td>None</td>\n",
       "      <td>ÖstergrenC</td>\n",
       "      <td>None</td>\n",
       "      <td>None</td>\n",
       "      <td>Q108406266</td>\n",
       "      <td>None</td>\n",
       "    </tr>\n",
       "    <tr>\n",
       "      <th>4043</th>\n",
       "      <td>None</td>\n",
       "      <td>ÖstinO</td>\n",
       "      <td>None</td>\n",
       "      <td>None</td>\n",
       "      <td>Q100752816</td>\n",
       "      <td>None</td>\n",
       "    </tr>\n",
       "    <tr>\n",
       "      <th>4045</th>\n",
       "      <td>None</td>\n",
       "      <td>ØverlandJ</td>\n",
       "      <td>None</td>\n",
       "      <td>None</td>\n",
       "      <td>Q11978200</td>\n",
       "      <td>None</td>\n",
       "    </tr>\n",
       "  </tbody>\n",
       "</table>\n",
       "<p>3174 rows × 6 columns</p>\n",
       "</div>"
      ],
      "text/plain": [
       "     wikidata.sol_link      authorid  \\\n",
       "1                 None        AasenE   \n",
       "2                 None      AbeniusM   \n",
       "3                 None  AbrahamssonA   \n",
       "5                 None  AbrahamssonS   \n",
       "6                 None     AchariusE   \n",
       "...                ...           ...   \n",
       "4037              None    ÖnnerforsA   \n",
       "4039              None   ÖstergrenCL   \n",
       "4040              None    ÖstergrenC   \n",
       "4043              None        ÖstinO   \n",
       "4045              None     ØverlandJ   \n",
       "\n",
       "                                     wikidata.wikipedia wikidata.skbl_link  \\\n",
       "1                                                  None               None   \n",
       "2          https://sv.wikipedia.org/wiki/Margit_Abenius      MargitAbenius   \n",
       "3     https://sv.wikipedia.org/wiki/Augusta_Abrahamsson               None   \n",
       "5       https://sv.wikipedia.org/wiki/Selma_Abrahamsson               None   \n",
       "6           https://sv.wikipedia.org/wiki/Erik_Acharius               None   \n",
       "...                                                 ...                ...   \n",
       "4037   https://sv.wikipedia.org/wiki/Alf_%C3%96nnerfors               None   \n",
       "4039  https://sv.wikipedia.org/wiki/Carl_%C3%96stergren               None   \n",
       "4040                                               None               None   \n",
       "4043                                               None               None   \n",
       "4045                                               None               None   \n",
       "\n",
       "     wikidata.wikidata_id wikidata.sbl_link  \n",
       "1               Q11967131              None  \n",
       "2                Q4933592              None  \n",
       "3               Q24680938              None  \n",
       "5                Q4934135              None  \n",
       "6                 Q365923              5503  \n",
       "...                   ...               ...  \n",
       "4037             Q1237808              None  \n",
       "4039             Q6257795              None  \n",
       "4040           Q108406266              None  \n",
       "4043           Q100752816              None  \n",
       "4045            Q11978200              None  \n",
       "\n",
       "[3174 rows x 6 columns]"
      ]
     },
     "execution_count": 9,
     "metadata": {},
     "output_type": "execute_result"
    }
   ],
   "source": [
    "dfexternal"
   ]
  },
  {
   "cell_type": "markdown",
   "id": "db241af6",
   "metadata": {},
   "source": [
    "### Get Wikidata"
   ]
  },
  {
   "cell_type": "code",
   "execution_count": 10,
   "id": "2e1fd0f6",
   "metadata": {},
   "outputs": [],
   "source": [
    "# pip install sparqlwrapper\n",
    "# https://rdflib.github.io/sparqlwrapper/\n",
    "\n",
    "import sys,json\n",
    "import pandas as pd \n",
    "\n",
    "from SPARQLWrapper import SPARQLWrapper, JSON\n",
    "\n",
    "endpoint_url = \"https://query.wikidata.org/sparql\"\n",
    "\n",
    "# https://w.wiki/4AAV\n",
    "query = \"\"\"SELECT (REPLACE(STR(?item), \".*Q\", \"Q\") AS ?WikidataID)  ?authorid ?SBL ?SKBL WHERE {\n",
    "?item wdt:P31 wd:Q5.\n",
    "?item wdt:P5101 ?authorid\n",
    "OPTIONAL {?item wdt:P3217 ?SBL}\n",
    "OPTIONAL {?item wdt:P4963 ?SKBL}\n",
    "} order by ?authorid\"\"\"\n",
    " \n",
    "    \n",
    "def get_sparql_dataframe(endpoint_url, query):\n",
    "    \"\"\"\n",
    "    Helper function to convert SPARQL results into a Pandas data frame.\n",
    "    \"\"\"\n",
    "    user_agent = \"salgo60/%s.%s\" % (sys.version_info[0], sys.version_info[1])\n",
    " \n",
    "    sparql = SPARQLWrapper(endpoint_url, agent=user_agent)\n",
    "    sparql.setQuery(query)\n",
    "    sparql.setReturnFormat(JSON)\n",
    "    result = sparql.query()\n",
    "\n",
    "    processed_results = json.load(result.response)\n",
    "    cols = processed_results['head']['vars']\n",
    "    out = []\n",
    "    for row in processed_results['results']['bindings']:\n",
    "        item = []\n",
    "        for c in cols:\n",
    "            item.append(row.get(c, {}).get('value'))\n",
    "        out.append(item)\n",
    "\n",
    "    return pd.DataFrame(out, columns=cols)\n",
    "\n",
    "WDLittbanktot = get_sparql_dataframe(endpoint_url, query)\n"
   ]
  },
  {
   "cell_type": "code",
   "execution_count": 11,
   "id": "140ecae3",
   "metadata": {},
   "outputs": [
    {
     "name": "stdout",
     "output_type": "stream",
     "text": [
      "<class 'pandas.core.frame.DataFrame'>\n",
      "RangeIndex: 2374 entries, 0 to 2373\n",
      "Data columns (total 4 columns):\n",
      " #   Column      Non-Null Count  Dtype  \n",
      "---  ------      --------------  -----  \n",
      " 0   WikidataID  2374 non-null   object \n",
      " 1   authorid    2374 non-null   object \n",
      " 2   SBL         813 non-null    float64\n",
      " 3   SKBL        163 non-null    object \n",
      "dtypes: float64(1), object(3)\n",
      "memory usage: 74.3+ KB\n"
     ]
    }
   ],
   "source": [
    "WDLittbanktot['SBL'] = pd.to_numeric(WDLittbanktot['SBL'], errors=\"coerce\")\n",
    "WDLittbanktot.info()"
   ]
  },
  {
   "cell_type": "code",
   "execution_count": 12,
   "id": "2f26d9cc",
   "metadata": {},
   "outputs": [
    {
     "data": {
      "text/html": [
       "<div>\n",
       "<style scoped>\n",
       "    .dataframe tbody tr th:only-of-type {\n",
       "        vertical-align: middle;\n",
       "    }\n",
       "\n",
       "    .dataframe tbody tr th {\n",
       "        vertical-align: top;\n",
       "    }\n",
       "\n",
       "    .dataframe thead th {\n",
       "        text-align: right;\n",
       "    }\n",
       "</style>\n",
       "<table border=\"1\" class=\"dataframe\">\n",
       "  <thead>\n",
       "    <tr style=\"text-align: right;\">\n",
       "      <th></th>\n",
       "      <th>WikidataID</th>\n",
       "      <th>authorid</th>\n",
       "      <th>SBL</th>\n",
       "      <th>SKBL</th>\n",
       "    </tr>\n",
       "  </thead>\n",
       "  <tbody>\n",
       "  </tbody>\n",
       "</table>\n",
       "</div>"
      ],
      "text/plain": [
       "Empty DataFrame\n",
       "Columns: [WikidataID, authorid, SBL, SKBL]\n",
       "Index: []"
      ]
     },
     "execution_count": 12,
     "metadata": {},
     "output_type": "execute_result"
    }
   ],
   "source": [
    "# Find duplicates\n",
    "WDLittbanktot[WDLittbanktot.duplicated([\"authorid\"],keep=False)]"
   ]
  },
  {
   "cell_type": "code",
   "execution_count": 13,
   "id": "d1ee1749",
   "metadata": {},
   "outputs": [
    {
     "name": "stdout",
     "output_type": "stream",
     "text": [
      "<class 'pandas.core.frame.DataFrame'>\n",
      "Int64Index: 3174 entries, 1 to 4045\n",
      "Data columns (total 6 columns):\n",
      " #   Column                Non-Null Count  Dtype  \n",
      "---  ------                --------------  -----  \n",
      " 0   wikidata.sol_link     128 non-null    object \n",
      " 1   authorid              3174 non-null   object \n",
      " 2   wikidata.wikipedia    1879 non-null   object \n",
      " 3   wikidata.skbl_link    161 non-null    object \n",
      " 4   wikidata.wikidata_id  2358 non-null   object \n",
      " 5   wikidata.sbl_link     810 non-null    float64\n",
      "dtypes: float64(1), object(5)\n",
      "memory usage: 173.6+ KB\n"
     ]
    },
    {
     "name": "stderr",
     "output_type": "stream",
     "text": [
      "<ipython-input-13-e1d483007a37>:1: SettingWithCopyWarning: \n",
      "A value is trying to be set on a copy of a slice from a DataFrame.\n",
      "Try using .loc[row_indexer,col_indexer] = value instead\n",
      "\n",
      "See the caveats in the documentation: https://pandas.pydata.org/pandas-docs/stable/user_guide/indexing.html#returning-a-view-versus-a-copy\n",
      "  dfexternal['wikidata.sbl_link'] = pd.to_numeric(dfexternal['wikidata.sbl_link'], errors=\"coerce\")\n"
     ]
    }
   ],
   "source": [
    "dfexternal['wikidata.sbl_link'] = pd.to_numeric(dfexternal['wikidata.sbl_link'], errors=\"coerce\")\n",
    "dfexternal.info()"
   ]
  },
  {
   "cell_type": "markdown",
   "id": "9329def4",
   "metadata": {},
   "source": [
    "### Compare Littbank Wikidata field with Wikidata \n"
   ]
  },
  {
   "cell_type": "code",
   "execution_count": 14,
   "id": "fabc60ba",
   "metadata": {},
   "outputs": [
    {
     "data": {
      "text/plain": [
       "both          2372\n",
       "left_only        0\n",
       "right_only       0\n",
       "Name: WD_Littbank_merge, dtype: int64"
      ]
     },
     "execution_count": 14,
     "metadata": {},
     "output_type": "execute_result"
    }
   ],
   "source": [
    "WDLittbank_WD_merge =  pd.merge(WDLittbanktot, dfexternal, on='authorid',indicator=True)\n",
    "WDLittbank_WD_merge.rename(columns={\"_merge\": \"WD_Littbank_merge\"},inplace = True)\n",
    "\n",
    "WDLittbank_WD_merge[\"WD_Littbank_merge\"].value_counts()"
   ]
  },
  {
   "cell_type": "code",
   "execution_count": 15,
   "id": "08b51fe0",
   "metadata": {},
   "outputs": [
    {
     "data": {
      "text/plain": [
       "both          2372\n",
       "left_only        0\n",
       "right_only       0\n",
       "Name: WD_Littbank_merge, dtype: int64"
      ]
     },
     "execution_count": 15,
     "metadata": {},
     "output_type": "execute_result"
    }
   ],
   "source": [
    "WDLittbank_WD_merge[\"WD_Littbank_merge\"].value_counts()"
   ]
  },
  {
   "cell_type": "code",
   "execution_count": 16,
   "id": "17ebc7b7",
   "metadata": {},
   "outputs": [
    {
     "data": {
      "text/html": [
       "<div>\n",
       "<style scoped>\n",
       "    .dataframe tbody tr th:only-of-type {\n",
       "        vertical-align: middle;\n",
       "    }\n",
       "\n",
       "    .dataframe tbody tr th {\n",
       "        vertical-align: top;\n",
       "    }\n",
       "\n",
       "    .dataframe thead th {\n",
       "        text-align: right;\n",
       "    }\n",
       "</style>\n",
       "<table border=\"1\" class=\"dataframe\">\n",
       "  <thead>\n",
       "    <tr style=\"text-align: right;\">\n",
       "      <th></th>\n",
       "      <th>WikidataID</th>\n",
       "      <th>authorid</th>\n",
       "      <th>SBL</th>\n",
       "      <th>SKBL</th>\n",
       "      <th>wikidata.sol_link</th>\n",
       "      <th>wikidata.wikipedia</th>\n",
       "      <th>wikidata.skbl_link</th>\n",
       "      <th>wikidata.wikidata_id</th>\n",
       "      <th>wikidata.sbl_link</th>\n",
       "      <th>WD_Littbank_merge</th>\n",
       "    </tr>\n",
       "  </thead>\n",
       "  <tbody>\n",
       "  </tbody>\n",
       "</table>\n",
       "</div>"
      ],
      "text/plain": [
       "Empty DataFrame\n",
       "Columns: [WikidataID, authorid, SBL, SKBL, wikidata.sol_link, wikidata.wikipedia, wikidata.skbl_link, wikidata.wikidata_id, wikidata.sbl_link, WD_Littbank_merge]\n",
       "Index: []"
      ]
     },
     "execution_count": 16,
     "metadata": {},
     "output_type": "execute_result"
    }
   ],
   "source": [
    "# all with SBL seems to have WIkidata\n",
    "WDLittbanktotSBL =  WDLittbank_WD_merge[~WDLittbank_WD_merge['wikidata.sbl_link'].isnull()]\n",
    "WDLittbanktotSBL_noWD = WDLittbanktotSBL[WDLittbanktotSBL['wikidata.wikidata_id'].isnull()] \n",
    "WDLittbanktotSBL_noWD"
   ]
  },
  {
   "cell_type": "markdown",
   "id": "e23a8bf6",
   "metadata": {},
   "source": [
    "### SBL"
   ]
  },
  {
   "cell_type": "code",
   "execution_count": 17,
   "id": "c35128aa",
   "metadata": {},
   "outputs": [
    {
     "name": "stdout",
     "output_type": "stream",
     "text": [
      "<class 'pandas.core.frame.DataFrame'>\n",
      "Int64Index: 813 entries, 5 to 2303\n",
      "Data columns (total 4 columns):\n",
      " #   Column      Non-Null Count  Dtype  \n",
      "---  ------      --------------  -----  \n",
      " 0   WikidataID  813 non-null    object \n",
      " 1   authorid    813 non-null    object \n",
      " 2   SBL         813 non-null    float64\n",
      " 3   SKBL        80 non-null     object \n",
      "dtypes: float64(1), object(3)\n",
      "memory usage: 31.8+ KB\n"
     ]
    }
   ],
   "source": [
    "WDLittbanktot_SBL = WDLittbanktot[~WDLittbanktot[\"SBL\"].isna()]\n",
    "WDLittbanktot_SBL.info()"
   ]
  },
  {
   "cell_type": "code",
   "execution_count": 18,
   "id": "4e819e5f",
   "metadata": {},
   "outputs": [
    {
     "data": {
      "text/html": [
       "<div>\n",
       "<style scoped>\n",
       "    .dataframe tbody tr th:only-of-type {\n",
       "        vertical-align: middle;\n",
       "    }\n",
       "\n",
       "    .dataframe tbody tr th {\n",
       "        vertical-align: top;\n",
       "    }\n",
       "\n",
       "    .dataframe thead th {\n",
       "        text-align: right;\n",
       "    }\n",
       "</style>\n",
       "<table border=\"1\" class=\"dataframe\">\n",
       "  <thead>\n",
       "    <tr style=\"text-align: right;\">\n",
       "      <th></th>\n",
       "      <th>WikidataID</th>\n",
       "      <th>authorid</th>\n",
       "      <th>SBL</th>\n",
       "      <th>SKBL</th>\n",
       "    </tr>\n",
       "  </thead>\n",
       "  <tbody>\n",
       "  </tbody>\n",
       "</table>\n",
       "</div>"
      ],
      "text/plain": [
       "Empty DataFrame\n",
       "Columns: [WikidataID, authorid, SBL, SKBL]\n",
       "Index: []"
      ]
     },
     "execution_count": 18,
     "metadata": {},
     "output_type": "execute_result"
    }
   ],
   "source": [
    "# Find duplicates\n",
    "WDLittbanktot_SBL[WDLittbanktot_SBL.duplicated([\"SBL\"],keep=False)]"
   ]
  },
  {
   "cell_type": "code",
   "execution_count": 19,
   "id": "a0095696",
   "metadata": {},
   "outputs": [],
   "source": [
    "dfexternal_SBL = dfexternal[~dfexternal[\"wikidata.sbl_link\"].isna()]"
   ]
  },
  {
   "cell_type": "code",
   "execution_count": 20,
   "id": "e14cbc6a",
   "metadata": {},
   "outputs": [
    {
     "name": "stdout",
     "output_type": "stream",
     "text": [
      "<class 'pandas.core.frame.DataFrame'>\n",
      "Int64Index: 810 entries, 6 to 3918\n",
      "Data columns (total 6 columns):\n",
      " #   Column                Non-Null Count  Dtype  \n",
      "---  ------                --------------  -----  \n",
      " 0   wikidata.sol_link     69 non-null     object \n",
      " 1   authorid              810 non-null    object \n",
      " 2   wikidata.wikipedia    808 non-null    object \n",
      " 3   wikidata.skbl_link    79 non-null     object \n",
      " 4   wikidata.wikidata_id  810 non-null    object \n",
      " 5   wikidata.sbl_link     810 non-null    float64\n",
      "dtypes: float64(1), object(5)\n",
      "memory usage: 44.3+ KB\n"
     ]
    }
   ],
   "source": [
    "dfexternal_SBL.info()"
   ]
  },
  {
   "cell_type": "code",
   "execution_count": 21,
   "id": "27a4a916",
   "metadata": {},
   "outputs": [
    {
     "data": {
      "text/plain": [
       "both          810\n",
       "left_only       0\n",
       "right_only      0\n",
       "Name: WD_Littbank_SBL_merge, dtype: int64"
      ]
     },
     "execution_count": 21,
     "metadata": {},
     "output_type": "execute_result"
    }
   ],
   "source": [
    "WDLittbank_WD_SBL_merge =  pd.merge(WDLittbanktot_SBL, dfexternal_SBL, left_on='SBL', right_on='wikidata.sbl_link',indicator=True)\n",
    "WDLittbank_WD_SBL_merge.rename(columns={\"_merge\": \"WD_Littbank_SBL_merge\"},inplace = True)\n",
    "\n",
    "WDLittbank_WD_SBL_merge[\"WD_Littbank_SBL_merge\"].value_counts()"
   ]
  },
  {
   "cell_type": "markdown",
   "id": "906a08f8",
   "metadata": {},
   "source": [
    "## SKBL"
   ]
  },
  {
   "cell_type": "code",
   "execution_count": 22,
   "id": "6f332b7e",
   "metadata": {},
   "outputs": [
    {
     "name": "stdout",
     "output_type": "stream",
     "text": [
      "<class 'pandas.core.frame.DataFrame'>\n",
      "Int64Index: 163 entries, 2 to 2363\n",
      "Data columns (total 4 columns):\n",
      " #   Column      Non-Null Count  Dtype  \n",
      "---  ------      --------------  -----  \n",
      " 0   WikidataID  163 non-null    object \n",
      " 1   authorid    163 non-null    object \n",
      " 2   SBL         80 non-null     float64\n",
      " 3   SKBL        163 non-null    object \n",
      "dtypes: float64(1), object(3)\n",
      "memory usage: 6.4+ KB\n"
     ]
    }
   ],
   "source": [
    "WDLittbanktot_SKBL = WDLittbanktot[~WDLittbanktot[\"SKBL\"].isna()]\n",
    "WDLittbanktot_SKBL.info()"
   ]
  },
  {
   "cell_type": "code",
   "execution_count": 23,
   "id": "2e707463",
   "metadata": {},
   "outputs": [
    {
     "name": "stdout",
     "output_type": "stream",
     "text": [
      "<class 'pandas.core.frame.DataFrame'>\n",
      "Int64Index: 161 entries, 2 to 4028\n",
      "Data columns (total 6 columns):\n",
      " #   Column                Non-Null Count  Dtype  \n",
      "---  ------                --------------  -----  \n",
      " 0   wikidata.sol_link     25 non-null     object \n",
      " 1   authorid              161 non-null    object \n",
      " 2   wikidata.wikipedia    161 non-null    object \n",
      " 3   wikidata.skbl_link    161 non-null    object \n",
      " 4   wikidata.wikidata_id  161 non-null    object \n",
      " 5   wikidata.sbl_link     79 non-null     float64\n",
      "dtypes: float64(1), object(5)\n",
      "memory usage: 8.8+ KB\n"
     ]
    }
   ],
   "source": [
    "dfexternal_SKBL = dfexternal[~dfexternal[\"wikidata.skbl_link\"].isna()]\n",
    "dfexternal_SKBL.info()"
   ]
  },
  {
   "cell_type": "code",
   "execution_count": null,
   "id": "3b0740f5",
   "metadata": {},
   "outputs": [],
   "source": []
  },
  {
   "cell_type": "code",
   "execution_count": 24,
   "id": "1ee7ba0c",
   "metadata": {},
   "outputs": [
    {
     "data": {
      "text/plain": [
       "right_only    731\n",
       "left_only      84\n",
       "both           79\n",
       "Name: WD_Littbank_SKBL_merge, dtype: int64"
      ]
     },
     "execution_count": 24,
     "metadata": {},
     "output_type": "execute_result"
    }
   ],
   "source": [
    "WDLittbank_WD_SKBL_merge =  pd.merge(WDLittbanktot_SKBL, dfexternal_SBL,how='outer', left_on='SKBL', right_on='wikidata.skbl_link',indicator=True)\n",
    "WDLittbank_WD_SKBL_merge.rename(columns={\"_merge\": \"WD_Littbank_SKBL_merge\"},inplace = True)\n",
    "\n",
    "WDLittbank_WD_SKBL_merge[\"WD_Littbank_SKBL_merge\"].value_counts()"
   ]
  },
  {
   "cell_type": "code",
   "execution_count": 25,
   "id": "ead9eca8",
   "metadata": {},
   "outputs": [
    {
     "name": "stdout",
     "output_type": "stream",
     "text": [
      "<class 'pandas.core.frame.DataFrame'>\n",
      "Int64Index: 894 entries, 0 to 893\n",
      "Data columns (total 11 columns):\n",
      " #   Column                  Non-Null Count  Dtype   \n",
      "---  ------                  --------------  -----   \n",
      " 0   WikidataID              163 non-null    object  \n",
      " 1   authorid_x              163 non-null    object  \n",
      " 2   SBL                     80 non-null     float64 \n",
      " 3   SKBL                    163 non-null    object  \n",
      " 4   wikidata.sol_link       69 non-null     object  \n",
      " 5   authorid_y              810 non-null    object  \n",
      " 6   wikidata.wikipedia      808 non-null    object  \n",
      " 7   wikidata.skbl_link      79 non-null     object  \n",
      " 8   wikidata.wikidata_id    810 non-null    object  \n",
      " 9   wikidata.sbl_link       810 non-null    float64 \n",
      " 10  WD_Littbank_SKBL_merge  894 non-null    category\n",
      "dtypes: category(1), float64(2), object(8)\n",
      "memory usage: 77.8+ KB\n"
     ]
    }
   ],
   "source": [
    "WDLittbank_WD_SKBL_merge.info()"
   ]
  },
  {
   "cell_type": "code",
   "execution_count": null,
   "id": "6e31e041",
   "metadata": {},
   "outputs": [],
   "source": []
  },
  {
   "cell_type": "code",
   "execution_count": 26,
   "id": "d41d16d0",
   "metadata": {},
   "outputs": [
    {
     "data": {
      "text/html": [
       "<div>\n",
       "<style scoped>\n",
       "    .dataframe tbody tr th:only-of-type {\n",
       "        vertical-align: middle;\n",
       "    }\n",
       "\n",
       "    .dataframe tbody tr th {\n",
       "        vertical-align: top;\n",
       "    }\n",
       "\n",
       "    .dataframe thead th {\n",
       "        text-align: right;\n",
       "    }\n",
       "</style>\n",
       "<table border=\"1\" class=\"dataframe\">\n",
       "  <thead>\n",
       "    <tr style=\"text-align: right;\">\n",
       "      <th></th>\n",
       "      <th>WikidataID</th>\n",
       "      <th>authorid_x</th>\n",
       "      <th>SBL</th>\n",
       "      <th>SKBL</th>\n",
       "      <th>wikidata.sol_link</th>\n",
       "      <th>authorid_y</th>\n",
       "      <th>wikidata.wikipedia</th>\n",
       "      <th>wikidata.skbl_link</th>\n",
       "      <th>wikidata.wikidata_id</th>\n",
       "      <th>wikidata.sbl_link</th>\n",
       "      <th>WD_Littbank_SKBL_merge</th>\n",
       "    </tr>\n",
       "  </thead>\n",
       "  <tbody>\n",
       "    <tr>\n",
       "      <th>0</th>\n",
       "      <td>Q4933592</td>\n",
       "      <td>AbeniusM</td>\n",
       "      <td>NaN</td>\n",
       "      <td>MargitAbenius</td>\n",
       "      <td>NaN</td>\n",
       "      <td>NaN</td>\n",
       "      <td>NaN</td>\n",
       "      <td>NaN</td>\n",
       "      <td>NaN</td>\n",
       "      <td>NaN</td>\n",
       "      <td>left_only</td>\n",
       "    </tr>\n",
       "    <tr>\n",
       "      <th>1</th>\n",
       "      <td>Q4933819</td>\n",
       "      <td>AdelborgO</td>\n",
       "      <td>5519.0</td>\n",
       "      <td>OttiliaAdelborg</td>\n",
       "      <td>None</td>\n",
       "      <td>AdelborgO</td>\n",
       "      <td>https://sv.wikipedia.org/wiki/Ottilia_Adelborg</td>\n",
       "      <td>OttiliaAdelborg</td>\n",
       "      <td>Q4933819</td>\n",
       "      <td>5519.0</td>\n",
       "      <td>both</td>\n",
       "    </tr>\n",
       "    <tr>\n",
       "      <th>2</th>\n",
       "      <td>Q4346827</td>\n",
       "      <td>AdlersparreS</td>\n",
       "      <td>5564.0</td>\n",
       "      <td>SophieAdlersparre</td>\n",
       "      <td>None</td>\n",
       "      <td>AdlersparreS</td>\n",
       "      <td>https://sv.wikipedia.org/wiki/Sophie_Adlersparre</td>\n",
       "      <td>SophieAdlersparre</td>\n",
       "      <td>Q4346827</td>\n",
       "      <td>5564.0</td>\n",
       "      <td>both</td>\n",
       "    </tr>\n",
       "    <tr>\n",
       "      <th>3</th>\n",
       "      <td>Q4933929</td>\n",
       "      <td>AdolfssonE</td>\n",
       "      <td>NaN</td>\n",
       "      <td>EvaAdolfsson</td>\n",
       "      <td>NaN</td>\n",
       "      <td>NaN</td>\n",
       "      <td>NaN</td>\n",
       "      <td>NaN</td>\n",
       "      <td>NaN</td>\n",
       "      <td>NaN</td>\n",
       "      <td>left_only</td>\n",
       "    </tr>\n",
       "    <tr>\n",
       "      <th>4</th>\n",
       "      <td>Q469339</td>\n",
       "      <td>AgrellA</td>\n",
       "      <td>5599.0</td>\n",
       "      <td>AlfhildAgrell</td>\n",
       "      <td>None</td>\n",
       "      <td>AgrellA</td>\n",
       "      <td>https://sv.wikipedia.org/wiki/Alfhild_Agrell</td>\n",
       "      <td>AlfhildAgrell</td>\n",
       "      <td>Q469339</td>\n",
       "      <td>5599.0</td>\n",
       "      <td>both</td>\n",
       "    </tr>\n",
       "    <tr>\n",
       "      <th>...</th>\n",
       "      <td>...</td>\n",
       "      <td>...</td>\n",
       "      <td>...</td>\n",
       "      <td>...</td>\n",
       "      <td>...</td>\n",
       "      <td>...</td>\n",
       "      <td>...</td>\n",
       "      <td>...</td>\n",
       "      <td>...</td>\n",
       "      <td>...</td>\n",
       "      <td>...</td>\n",
       "    </tr>\n",
       "    <tr>\n",
       "      <th>889</th>\n",
       "      <td>NaN</td>\n",
       "      <td>NaN</td>\n",
       "      <td>NaN</td>\n",
       "      <td>NaN</td>\n",
       "      <td>None</td>\n",
       "      <td>SvedeliusWE</td>\n",
       "      <td>https://sv.wikipedia.org/wiki/Wilhelm_Erik_Sve...</td>\n",
       "      <td>None</td>\n",
       "      <td>Q6197780</td>\n",
       "      <td>34837.0</td>\n",
       "      <td>right_only</td>\n",
       "    </tr>\n",
       "    <tr>\n",
       "      <th>890</th>\n",
       "      <td>NaN</td>\n",
       "      <td>NaN</td>\n",
       "      <td>NaN</td>\n",
       "      <td>NaN</td>\n",
       "      <td>None</td>\n",
       "      <td>SwedbergJ</td>\n",
       "      <td>https://sv.wikipedia.org/wiki/Jesper_Swedberg</td>\n",
       "      <td>None</td>\n",
       "      <td>Q748553</td>\n",
       "      <td>34820.0</td>\n",
       "      <td>right_only</td>\n",
       "    </tr>\n",
       "    <tr>\n",
       "      <th>891</th>\n",
       "      <td>NaN</td>\n",
       "      <td>NaN</td>\n",
       "      <td>NaN</td>\n",
       "      <td>NaN</td>\n",
       "      <td>None</td>\n",
       "      <td>SwedenborgE</td>\n",
       "      <td>https://sv.wikipedia.org/wiki/Emanuel_Swedenborg</td>\n",
       "      <td>None</td>\n",
       "      <td>Q185832</td>\n",
       "      <td>34840.0</td>\n",
       "      <td>right_only</td>\n",
       "    </tr>\n",
       "    <tr>\n",
       "      <th>892</th>\n",
       "      <td>NaN</td>\n",
       "      <td>NaN</td>\n",
       "      <td>NaN</td>\n",
       "      <td>NaN</td>\n",
       "      <td>None</td>\n",
       "      <td>SwederusG</td>\n",
       "      <td>https://sv.wikipedia.org/wiki/Georg_Swederus</td>\n",
       "      <td>None</td>\n",
       "      <td>Q22110411</td>\n",
       "      <td>34844.0</td>\n",
       "      <td>right_only</td>\n",
       "    </tr>\n",
       "    <tr>\n",
       "      <th>893</th>\n",
       "      <td>NaN</td>\n",
       "      <td>NaN</td>\n",
       "      <td>NaN</td>\n",
       "      <td>NaN</td>\n",
       "      <td>None</td>\n",
       "      <td>WinterR</td>\n",
       "      <td>https://sv.wikipedia.org/wiki/Reinhold_Ericson</td>\n",
       "      <td>None</td>\n",
       "      <td>Q23989269</td>\n",
       "      <td>15352.0</td>\n",
       "      <td>right_only</td>\n",
       "    </tr>\n",
       "  </tbody>\n",
       "</table>\n",
       "<p>894 rows × 11 columns</p>\n",
       "</div>"
      ],
      "text/plain": [
       "    WikidataID    authorid_x     SBL               SKBL wikidata.sol_link  \\\n",
       "0     Q4933592      AbeniusM     NaN      MargitAbenius               NaN   \n",
       "1     Q4933819     AdelborgO  5519.0    OttiliaAdelborg              None   \n",
       "2     Q4346827  AdlersparreS  5564.0  SophieAdlersparre              None   \n",
       "3     Q4933929    AdolfssonE     NaN       EvaAdolfsson               NaN   \n",
       "4      Q469339       AgrellA  5599.0      AlfhildAgrell              None   \n",
       "..         ...           ...     ...                ...               ...   \n",
       "889        NaN           NaN     NaN                NaN              None   \n",
       "890        NaN           NaN     NaN                NaN              None   \n",
       "891        NaN           NaN     NaN                NaN              None   \n",
       "892        NaN           NaN     NaN                NaN              None   \n",
       "893        NaN           NaN     NaN                NaN              None   \n",
       "\n",
       "       authorid_y                                 wikidata.wikipedia  \\\n",
       "0             NaN                                                NaN   \n",
       "1       AdelborgO     https://sv.wikipedia.org/wiki/Ottilia_Adelborg   \n",
       "2    AdlersparreS   https://sv.wikipedia.org/wiki/Sophie_Adlersparre   \n",
       "3             NaN                                                NaN   \n",
       "4         AgrellA       https://sv.wikipedia.org/wiki/Alfhild_Agrell   \n",
       "..            ...                                                ...   \n",
       "889   SvedeliusWE  https://sv.wikipedia.org/wiki/Wilhelm_Erik_Sve...   \n",
       "890     SwedbergJ      https://sv.wikipedia.org/wiki/Jesper_Swedberg   \n",
       "891   SwedenborgE   https://sv.wikipedia.org/wiki/Emanuel_Swedenborg   \n",
       "892     SwederusG       https://sv.wikipedia.org/wiki/Georg_Swederus   \n",
       "893       WinterR     https://sv.wikipedia.org/wiki/Reinhold_Ericson   \n",
       "\n",
       "    wikidata.skbl_link wikidata.wikidata_id  wikidata.sbl_link  \\\n",
       "0                  NaN                  NaN                NaN   \n",
       "1      OttiliaAdelborg             Q4933819             5519.0   \n",
       "2    SophieAdlersparre             Q4346827             5564.0   \n",
       "3                  NaN                  NaN                NaN   \n",
       "4        AlfhildAgrell              Q469339             5599.0   \n",
       "..                 ...                  ...                ...   \n",
       "889               None             Q6197780            34837.0   \n",
       "890               None              Q748553            34820.0   \n",
       "891               None              Q185832            34840.0   \n",
       "892               None            Q22110411            34844.0   \n",
       "893               None            Q23989269            15352.0   \n",
       "\n",
       "    WD_Littbank_SKBL_merge  \n",
       "0                left_only  \n",
       "1                     both  \n",
       "2                     both  \n",
       "3                left_only  \n",
       "4                     both  \n",
       "..                     ...  \n",
       "889             right_only  \n",
       "890             right_only  \n",
       "891             right_only  \n",
       "892             right_only  \n",
       "893             right_only  \n",
       "\n",
       "[894 rows x 11 columns]"
      ]
     },
     "execution_count": 26,
     "metadata": {},
     "output_type": "execute_result"
    }
   ],
   "source": [
    "WDLittbank_WD_SKBL_merge"
   ]
  },
  {
   "cell_type": "code",
   "execution_count": 27,
   "id": "10b2464e",
   "metadata": {},
   "outputs": [
    {
     "name": "stdout",
     "output_type": "stream",
     "text": [
      "| 20211005 | 3174 | 2354 | 809 | 161 | 2374 | 813 | 163\n"
     ]
    }
   ],
   "source": [
    "print(\"|\",start_time.strftime(\"%Y%m%d\"),\"|\",dfShow[\"authorid\"].nunique(),\n",
    "     \"|\",dfShow[\"wikidata.wikidata_id\"].nunique(),\n",
    "     \"|\",dfShow[\"wikidata.sbl_link\"].nunique(),\n",
    "     \"|\",dfShow[\"wikidata.skbl_link\"].nunique(),\n",
    "     \"|\",WDLittbanktot[\"authorid\"].nunique(),\n",
    "     \"|\",WDLittbanktot[\"SBL\"].nunique(),\n",
    "     \"|\",WDLittbanktot[\"SKBL\"].nunique()\n",
    "     )"
   ]
  },
  {
   "cell_type": "code",
   "execution_count": 28,
   "id": "4e8d3326",
   "metadata": {},
   "outputs": [
    {
     "name": "stdout",
     "output_type": "stream",
     "text": [
      "Ended:  2021-10-05 08:17:37.780049\n",
      "Time elapsed (hh:mm:ss.ms) 0:00:06.710900\n"
     ]
    }
   ],
   "source": [
    "end = datetime.now()\n",
    "print(\"Ended: \", end) \n",
    "print('Time elapsed (hh:mm:ss.ms) {}'.format(datetime.now() - start_time))"
   ]
  },
  {
   "cell_type": "code",
   "execution_count": 29,
   "id": "4a3c0d10",
   "metadata": {},
   "outputs": [],
   "source": [
    "#df[df.duplicated(['ID'], keep=False)]"
   ]
  },
  {
   "cell_type": "code",
   "execution_count": 30,
   "id": "7e4b1ae8",
   "metadata": {},
   "outputs": [
    {
     "data": {
      "text/html": [
       "<div>\n",
       "<style scoped>\n",
       "    .dataframe tbody tr th:only-of-type {\n",
       "        vertical-align: middle;\n",
       "    }\n",
       "\n",
       "    .dataframe tbody tr th {\n",
       "        vertical-align: top;\n",
       "    }\n",
       "\n",
       "    .dataframe thead th {\n",
       "        text-align: right;\n",
       "    }\n",
       "</style>\n",
       "<table border=\"1\" class=\"dataframe\">\n",
       "  <thead>\n",
       "    <tr style=\"text-align: right;\">\n",
       "      <th></th>\n",
       "      <th>WikidataID</th>\n",
       "      <th>authorid</th>\n",
       "      <th>SBL</th>\n",
       "      <th>SKBL</th>\n",
       "    </tr>\n",
       "  </thead>\n",
       "  <tbody>\n",
       "  </tbody>\n",
       "</table>\n",
       "</div>"
      ],
      "text/plain": [
       "Empty DataFrame\n",
       "Columns: [WikidataID, authorid, SBL, SKBL]\n",
       "Index: []"
      ]
     },
     "execution_count": 30,
     "metadata": {},
     "output_type": "execute_result"
    }
   ],
   "source": [
    "WDLittbanktot[WDLittbanktot.duplicated([\"authorid\"],keep=False)]"
   ]
  },
  {
   "cell_type": "code",
   "execution_count": 31,
   "id": "a14a1f86",
   "metadata": {},
   "outputs": [],
   "source": [
    "#WDLittbanktot[WDLittbanktot[\"authorid\"]==WDLittbanktot[WDLittbanktot[\"authorid\"].duplicated()]].sort_values(\"authorid\")"
   ]
  },
  {
   "cell_type": "code",
   "execution_count": 32,
   "id": "4ce79193",
   "metadata": {},
   "outputs": [
    {
     "name": "stdout",
     "output_type": "stream",
     "text": [
      "Ended:  2021-10-05 08:17:37.820705\n",
      "Time elapsed (hh:mm:ass.ms) 0:00:06.751980\n"
     ]
    }
   ],
   "source": [
    "end = datetime.now()\n",
    "print(\"Ended: \", end) \n",
    "print('Time elapsed (hh:mm:ass.ms) {}'.format(datetime.now() - start_time))"
   ]
  },
  {
   "cell_type": "code",
   "execution_count": null,
   "id": "e0417572",
   "metadata": {},
   "outputs": [],
   "source": []
  }
 ],
 "metadata": {
  "kernelspec": {
   "display_name": "Python 3",
   "language": "python",
   "name": "python3"
  },
  "language_info": {
   "codemirror_mode": {
    "name": "ipython",
    "version": 3
   },
   "file_extension": ".py",
   "mimetype": "text/x-python",
   "name": "python",
   "nbconvert_exporter": "python",
   "pygments_lexer": "ipython3",
   "version": "3.9.4"
  }
 },
 "nbformat": 4,
 "nbformat_minor": 5
}
