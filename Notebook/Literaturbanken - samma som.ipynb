{
 "cells": [
  {
   "cell_type": "markdown",
   "id": "df295d44",
   "metadata": {},
   "source": [
    "Test och se om vi kan bättre utnnytja fält\n",
    "* sbl_link --> Wikidata Property 3217 = Svenskt Biografiskt Lexikon\n",
    "* skbl_link --> Wikidata Property 4963 = Svenskt kvinnobiografiskt lexikon\n",
    "* sol_link ?!?!?!\n",
    "* wikidata_id = Wikidata Qnummer\n",
    "* wikipedia = WIkipedia URL"
   ]
  },
  {
   "cell_type": "code",
   "execution_count": 1,
   "id": "02edc2de",
   "metadata": {},
   "outputs": [
    {
     "name": "stdout",
     "output_type": "stream",
     "text": [
      "Last run:  2021-10-01 11:46:50.645249\n"
     ]
    }
   ],
   "source": [
    "from datetime import datetime\n",
    "start_time  = datetime.now()\n",
    "print(\"Last run: \", start_time)"
   ]
  },
  {
   "cell_type": "code",
   "execution_count": 2,
   "id": "7b2e7c56",
   "metadata": {},
   "outputs": [],
   "source": [
    "import urllib3, json\n",
    "import pandas as pd \n",
    "http = urllib3.PoolManager() \n",
    "pd.set_option(\"display.max.columns\", None) \n",
    " \n",
    "url = \"https://litteraturbanken.se/api/get_authors\"\n",
    "r = http.request('GET', url)\n",
    "data = json.loads(r.data)\n",
    "df = pd.json_normalize(data[\"data\"])"
   ]
  },
  {
   "cell_type": "code",
   "execution_count": 3,
   "id": "ae2b8c0e",
   "metadata": {},
   "outputs": [
    {
     "name": "stdout",
     "output_type": "stream",
     "text": [
      "<class 'pandas.core.frame.DataFrame'>\n",
      "RangeIndex: 4024 entries, 0 to 4023\n",
      "Data columns (total 50 columns):\n",
      " #   Column                         Non-Null Count  Dtype  \n",
      "---  ------                         --------------  -----  \n",
      " 0   authorid                       4024 non-null   object \n",
      " 1   authorid_norm                  4024 non-null   object \n",
      " 2   db_checksum                    4024 non-null   object \n",
      " 3   db_timestamp                   4024 non-null   int64  \n",
      " 4   doc_type                       4024 non-null   object \n",
      " 5   full_name                      4024 non-null   object \n",
      " 6   gender                         4024 non-null   object \n",
      " 7   imported                       3365 non-null   object \n",
      " 8   intro                          728 non-null    object \n",
      " 9   librisid                       2166 non-null   object \n",
      " 10  name_for_index                 4024 non-null   object \n",
      " 11  pictureinfo                    169 non-null    object \n",
      " 12  searchable                     4024 non-null   bool   \n",
      " 13  show                           4024 non-null   bool   \n",
      " 14  surname                        4024 non-null   object \n",
      " 15  updated                        3365 non-null   object \n",
      " 16  birth.date                     3900 non-null   object \n",
      " 17  birth.plain                    4024 non-null   object \n",
      " 18  death.date                     2179 non-null   object \n",
      " 19  death.plain                    3317 non-null   object \n",
      " 20  wikidata.birthplace            1694 non-null   object \n",
      " 21  wikidata.birthplace_label      1694 non-null   object \n",
      " 22  wikidata.deathplace            1491 non-null   object \n",
      " 23  wikidata.deathplace_label      1491 non-null   object \n",
      " 24  wikidata.image                 1274 non-null   object \n",
      " 25  wikidata.sbl_link              812 non-null    object \n",
      " 26  wikidata.skbl_link             173 non-null    object \n",
      " 27  wikidata.sol_link              122 non-null    object \n",
      " 28  wikidata.wikidata_id           2344 non-null   object \n",
      " 29  wikidata.wikipedia             1914 non-null   object \n",
      " 30  db_timestamp_updated           2495 non-null   float64\n",
      " 31  intro_text                     728 non-null    object \n",
      " 32  popularity                     2030 non-null   float64\n",
      " 33  pseudonym                      126 non-null    object \n",
      " 34  dramawebben.intro              114 non-null    object \n",
      " 35  dramawebben.intro_author       113 non-null    object \n",
      " 36  dramawebben.intro_author_norm  113 non-null    object \n",
      " 37  dramawebben.legacy_url         127 non-null    object \n",
      " 38  dramawebben.picture            82 non-null     object \n",
      " 39  sources                        536 non-null    object \n",
      " 40  other_name                     77 non-null     object \n",
      " 41  intro_author                   417 non-null    object \n",
      " 42  intro_author_norm              417 non-null    object \n",
      " 43  dramawebben.picture_info       76 non-null     object \n",
      " 44  picture                        251 non-null    object \n",
      " 45  bibliography                   14 non-null     object \n",
      " 46  external_ref                   8 non-null      object \n",
      " 47  presentation                   27 non-null     object \n",
      " 48  seemore                        4 non-null      object \n",
      " 49  dramawebben.sources            6 non-null      object \n",
      "dtypes: bool(2), float64(2), int64(1), object(45)\n",
      "memory usage: 1.5+ MB\n"
     ]
    }
   ],
   "source": [
    "df.info()"
   ]
  },
  {
   "cell_type": "code",
   "execution_count": 4,
   "id": "b65d9019",
   "metadata": {},
   "outputs": [],
   "source": [
    "#just objects with show\n",
    "dfShow = df[df[\"show\"]].copy() "
   ]
  },
  {
   "cell_type": "code",
   "execution_count": 5,
   "id": "40871149",
   "metadata": {},
   "outputs": [],
   "source": [
    "dfexternal = dfShow[{\"wikidata.sbl_link\",\"wikidata.skbl_link\",\"wikidata.wikidata_id\",\"wikidata.sol_link\"\n",
    ",\"wikidata.wikidata_id\",\"wikidata.wikipedia\"}]"
   ]
  },
  {
   "cell_type": "code",
   "execution_count": 6,
   "id": "08e27ea9",
   "metadata": {},
   "outputs": [
    {
     "name": "stdout",
     "output_type": "stream",
     "text": [
      "<class 'pandas.core.frame.DataFrame'>\n",
      "Int64Index: 3130 entries, 1 to 4023\n",
      "Data columns (total 5 columns):\n",
      " #   Column                Non-Null Count  Dtype \n",
      "---  ------                --------------  ----- \n",
      " 0   wikidata.sbl_link     765 non-null    object\n",
      " 1   wikidata.skbl_link    152 non-null    object\n",
      " 2   wikidata.wikipedia    1752 non-null   object\n",
      " 3   wikidata.sol_link     118 non-null    object\n",
      " 4   wikidata.wikidata_id  2134 non-null   object\n",
      "dtypes: object(5)\n",
      "memory usage: 146.7+ KB\n"
     ]
    }
   ],
   "source": [
    "dfexternal.info()"
   ]
  },
  {
   "cell_type": "code",
   "execution_count": 7,
   "id": "f27fc925",
   "metadata": {},
   "outputs": [
    {
     "name": "stdout",
     "output_type": "stream",
     "text": [
      "Ended:  2021-10-01 11:46:53.039808\n",
      "Time elapsed (hh:mm:ass.ms) 0:00:02.395002\n"
     ]
    }
   ],
   "source": [
    "end = datetime.now()\n",
    "print(\"Ended: \", end) \n",
    "print('Time elapsed (hh:mm:ass.ms) {}'.format(datetime.now() - start_time))"
   ]
  },
  {
   "cell_type": "code",
   "execution_count": null,
   "id": "f8bbab0c",
   "metadata": {},
   "outputs": [],
   "source": []
  }
 ],
 "metadata": {
  "kernelspec": {
   "display_name": "Python 3",
   "language": "python",
   "name": "python3"
  },
  "language_info": {
   "codemirror_mode": {
    "name": "ipython",
    "version": 3
   },
   "file_extension": ".py",
   "mimetype": "text/x-python",
   "name": "python",
   "nbconvert_exporter": "python",
   "pygments_lexer": "ipython3",
   "version": "3.9.4"
  }
 },
 "nbformat": 4,
 "nbformat_minor": 5
}
