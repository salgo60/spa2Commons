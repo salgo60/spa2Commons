{
 "cells": [
  {
   "cell_type": "code",
   "execution_count": 1,
   "id": "0c4964ac",
   "metadata": {},
   "outputs": [
    {
     "name": "stdout",
     "output_type": "stream",
     "text": [
      "Last run:  2023-04-02 18:45:32.283636\n"
     ]
    }
   ],
   "source": [
    "from datetime import datetime\n",
    "start_time  = datetime.now()\n",
    "print(\"Last run: \", start_time)"
   ]
  },
  {
   "cell_type": "code",
   "execution_count": 2,
   "id": "360c0e42",
   "metadata": {},
   "outputs": [],
   "source": [
    "import urllib3, json\n",
    "import pandas as pd \n",
    "http = urllib3.PoolManager() \n",
    "pd.set_option(\"display.max.columns\", None) \n",
    " \n",
    "url = \"https://litteraturbanken.se/api/get_authors\"\n",
    "r = http.request('GET', url)\n",
    "data = json.loads(r.data)\n",
    "dfLitt = pd.json_normalize(data[\"data\"])"
   ]
  },
  {
   "cell_type": "code",
   "execution_count": 3,
   "id": "04aae65b",
   "metadata": {},
   "outputs": [
    {
     "name": "stdout",
     "output_type": "stream",
     "text": [
      "<class 'pandas.core.frame.DataFrame'>\n",
      "Int64Index: 3790 entries, 2 to 4882\n",
      "Data columns (total 50 columns):\n",
      " #   Column                         Non-Null Count  Dtype  \n",
      "---  ------                         --------------  -----  \n",
      " 0   authorid                       3790 non-null   object \n",
      " 1   authorid_norm                  3790 non-null   object \n",
      " 2   db_checksum                    3790 non-null   object \n",
      " 3   db_timestamp                   3790 non-null   int64  \n",
      " 4   doc_type                       3790 non-null   object \n",
      " 5   full_name                      3790 non-null   object \n",
      " 6   gender                         3790 non-null   object \n",
      " 7   imported                       3361 non-null   object \n",
      " 8   intro                          723 non-null    object \n",
      " 9   name_for_index                 3790 non-null   object \n",
      " 10  pictureinfo                    247 non-null    object \n",
      " 11  searchable                     3790 non-null   bool   \n",
      " 12  show                           3790 non-null   bool   \n",
      " 13  surname                        3790 non-null   object \n",
      " 14  updated                        3361 non-null   object \n",
      " 15  birth.date                     3561 non-null   object \n",
      " 16  birth.plain                    3790 non-null   object \n",
      " 17  death.date                     2149 non-null   object \n",
      " 18  death.plain                    3305 non-null   object \n",
      " 19  librisid                       2260 non-null   object \n",
      " 20  wikidata.birthplace            2369 non-null   object \n",
      " 21  wikidata.birthplace_label      2369 non-null   object \n",
      " 22  wikidata.deathplace            2046 non-null   object \n",
      " 23  wikidata.deathplace_label      2046 non-null   object \n",
      " 24  wikidata.image                 1827 non-null   object \n",
      " 25  wikidata.sbl_link              920 non-null    object \n",
      " 26  wikidata.skbl_link             181 non-null    object \n",
      " 27  wikidata.sol_link              145 non-null    object \n",
      " 28  wikidata.wikidata_id           3268 non-null   object \n",
      " 29  wikidata.wikipedia             2277 non-null   object \n",
      " 30  db_timestamp_updated           3041 non-null   float64\n",
      " 31  intro_text                     723 non-null    object \n",
      " 32  popularity                     2539 non-null   float64\n",
      " 33  pseudonym                      147 non-null    object \n",
      " 34  dramawebben.intro              103 non-null    object \n",
      " 35  dramawebben.intro_author       102 non-null    object \n",
      " 36  dramawebben.intro_author_norm  102 non-null    object \n",
      " 37  dramawebben.legacy_url         109 non-null    object \n",
      " 38  dramawebben.picture            76 non-null     object \n",
      " 39  sources                        528 non-null    object \n",
      " 40  other_name                     109 non-null    object \n",
      " 41  intro_author                   396 non-null    object \n",
      " 42  intro_author_norm              396 non-null    object \n",
      " 43  dramawebben.picture_info       71 non-null     object \n",
      " 44  picture                        333 non-null    object \n",
      " 45  bibliography                   18 non-null     object \n",
      " 46  external_ref                   8 non-null      object \n",
      " 47  presentation                   36 non-null     object \n",
      " 48  seemore                        4 non-null      object \n",
      " 49  dramawebben.sources            6 non-null      object \n",
      "dtypes: bool(2), float64(2), int64(1), object(45)\n",
      "memory usage: 1.4+ MB\n"
     ]
    }
   ],
   "source": [
    "dfLittShowTrue = dfLitt[dfLitt[\"show\"] == True].copy()\n",
    "dfLittShowTrue.info()"
   ]
  },
  {
   "cell_type": "code",
   "execution_count": null,
   "id": "abafbc5a",
   "metadata": {},
   "outputs": [],
   "source": [
    "# pip install sparqlwrapper\n",
    "# https://rdflib.github.io/sparqlwrapper/\n",
    "\n",
    "import sys,json\n",
    "import pandas as pd \n",
    "\n",
    "from SPARQLWrapper import SPARQLWrapper, JSON\n",
    "\n",
    "endpoint_url = \"https://query.wikidata.org/sparql\"\n",
    "\n",
    "# \n",
    "query = \"\"\"SELECT (REPLACE(STR(?item), \".*Q\", \"Q\") AS ?WikidataID)  ?authorid ?SBL ?SKBL WHERE {\n",
    "?item wdt:P31 wd:Q5.\n",
    "?item wdt:P5101 ?authorid\n",
    "OPTIONAL {?item wdt:P3217 ?SBL}\n",
    "OPTIONAL {?item wdt:P4963 ?SKBL}\n",
    "} order by ?authorid\"\"\"\n",
    " \n",
    "    \n",
    "def get_sparql_dataframe(endpoint_url, query):\n",
    "    \"\"\"\n",
    "    Helper function to convert SPARQL results into a Pandas data frame.\n",
    "    \"\"\"\n",
    "    user_agent = \"salgo60/%s.%s\" % (sys.version_info[0], sys.version_info[1])\n",
    " \n",
    "    sparql = SPARQLWrapper(endpoint_url, agent=user_agent)\n",
    "    sparql.setQuery(query)\n",
    "    sparql.setReturnFormat(JSON)\n",
    "    result = sparql.query()\n",
    "\n",
    "    processed_results = json.load(result.response)\n",
    "    cols = processed_results['head']['vars']\n",
    "    out = []\n",
    "    for row in processed_results['results']['bindings']:\n",
    "        item = []\n",
    "        for c in cols:\n",
    "            item.append(row.get(c, {}).get('value'))\n",
    "        out.append(item)\n",
    "\n",
    "    return pd.DataFrame(out, columns=cols)\n",
    "\n",
    "WDLittbanktot = get_sparql_dataframe(endpoint_url, query)"
   ]
  },
  {
   "cell_type": "code",
   "execution_count": null,
   "id": "d13c58ad",
   "metadata": {},
   "outputs": [],
   "source": [
    "WDLittbanktot"
   ]
  },
  {
   "cell_type": "code",
   "execution_count": null,
   "id": "0a0f2614",
   "metadata": {},
   "outputs": [],
   "source": [
    "# df = pd.merge(dfA, dfB, on=['a','b'], how=\"outer\", indicator=True)\n",
    "WDLittbank_WD_merge=  pd.merge(dfLittShowTrue,WDLittbanktot, how=\"outer\", on='authorid',indicator=True)\n",
    "WDLittbank_WD_merge.rename(columns={\"_merge\": \"WD_Littbank_merge_Outer\"},inplace = True)\n",
    "\n",
    "WDLittbank_WD_merge[\"WD_Littbank_merge_Outer\"].value_counts()\n",
    "\n"
   ]
  },
  {
   "cell_type": "code",
   "execution_count": null,
   "id": "32e7903e",
   "metadata": {},
   "outputs": [],
   "source": [
    "WDLittbank_WD_merge_Not_connected = \\\n",
    "WDLittbank_WD_merge[WDLittbank_WD_merge[\"WD_Littbank_merge_Outer\"] == \"left_only\"].copy()"
   ]
  },
  {
   "cell_type": "code",
   "execution_count": null,
   "id": "692fdcbd",
   "metadata": {},
   "outputs": [],
   "source": [
    "WDLittbank_WD_merge_Not_connected.head()"
   ]
  },
  {
   "cell_type": "code",
   "execution_count": null,
   "id": "a059b5ef",
   "metadata": {},
   "outputs": [],
   "source": [
    "WDLittbank_WD_merge_Not_connected[WDLittbank_WD_merge_Not_connected['librisid']. \n",
    "                                  notna()][[\"authorid\",\"librisid\",\"show\",\"full_name\"]]"
   ]
  },
  {
   "cell_type": "code",
   "execution_count": null,
   "id": "2a6098a0",
   "metadata": {},
   "outputs": [],
   "source": [
    "WDLittbank_WD_merge_Not_connected.info()"
   ]
  },
  {
   "cell_type": "code",
   "execution_count": null,
   "id": "5689f84c",
   "metadata": {},
   "outputs": [],
   "source": [
    "WDLittbank_WD_merge_Not_connected[\"librisid\"].value_counts()"
   ]
  },
  {
   "cell_type": "code",
   "execution_count": null,
   "id": "0d3dffa1",
   "metadata": {},
   "outputs": [],
   "source": [
    "WDLittbank_WD_merge_Not_connected[WDLittbank_WD_merge_Not_connected[\"librisid\"] ==\"20dgkckl01lmd80\"]"
   ]
  },
  {
   "cell_type": "code",
   "execution_count": null,
   "id": "4c88a147",
   "metadata": {},
   "outputs": [],
   "source": [
    "WDLittbank_WD_merge_Not_connected[\"wikidata.sbl_link\"].value_counts()"
   ]
  },
  {
   "cell_type": "code",
   "execution_count": null,
   "id": "1f56fa8e",
   "metadata": {},
   "outputs": [],
   "source": [
    "#WDLittbank_WD_merge_Not_connected[\"sources\"].value_counts()"
   ]
  },
  {
   "cell_type": "code",
   "execution_count": null,
   "id": "9490054f",
   "metadata": {},
   "outputs": [],
   "source": [
    "#WDLittbank_WD_merge_Not_connected[\"popularity\"].value_counts()"
   ]
  },
  {
   "cell_type": "code",
   "execution_count": null,
   "id": "dd7680a3",
   "metadata": {},
   "outputs": [],
   "source": [
    "# WDLittbank_WD_merge_Not_connected[\"intro_text\"].value_counts()"
   ]
  },
  {
   "cell_type": "code",
   "execution_count": null,
   "id": "fe5da482",
   "metadata": {},
   "outputs": [],
   "source": []
  }
 ],
 "metadata": {
  "kernelspec": {
   "display_name": "Python 3",
   "language": "python",
   "name": "python3"
  },
  "language_info": {
   "codemirror_mode": {
    "name": "ipython",
    "version": 3
   },
   "file_extension": ".py",
   "mimetype": "text/x-python",
   "name": "python",
   "nbconvert_exporter": "python",
   "pygments_lexer": "ipython3",
   "version": "3.9.13"
  }
 },
 "nbformat": 4,
 "nbformat_minor": 5
}
