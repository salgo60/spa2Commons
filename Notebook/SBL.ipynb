{
 "cells": [
  {
   "cell_type": "markdown",
   "metadata": {},
   "source": [
    "## Riksarkivet SBL  - Wikidata ett försök att synka och dansa med dom\n",
    "version 0.47 this [notebook](https://github.com/salgo60/open-data-examples/blob/master/SBL.ipynb)\n",
    "\n",
    "WD egenskap [Property:P3217](https://www.wikidata.org/wiki/Property:P3217) \n",
    "* SBL personartiklar som saknar [sv:Wikipedia artikel](https://w.wiki/c5f) < 150\n",
    "* [SBL vs SKBL female articles](https://github.com/salgo60/open-data-examples/blob/master/Svenskt%20Kvinnobiografiskt%20lexikon%20part%203.ipynb)  \n",
    "\n",
    "#### Andra källor vi synkar\n",
    "* [Kulturpersoner Uppsalakyrkogård](https://github.com/salgo60/open-data-examples/blob/master/Check%20WD%20kulturpersoner%20uppsalakyrkogardar.ipynb)\n",
    "* [Litteraturbanken](https://github.com/salgo60/open-data-examples/blob/master/Litteraturbanken%20Author.ipynb) \n",
    "  * WD property [P5101](https://www.wikidata.org/wiki/Property_talk:P5101) [P5123](https://www.wikidata.org/wiki/Property_talk:P5123)\n",
    "* [Nobelprize.org](https://github.com/salgo60/open-data-examples/blob/master/Nobel%20API.ipynb)\n",
    "  * WD [property 8024](https://www.wikidata.org/wiki/Property:P8024)\n",
    "* [SBL](https://github.com/salgo60/open-data-examples/blob/master/SBL.ipynb) \n",
    "  * WD [property 3217](https://www.wikidata.org/wiki/Property:P3217) \n",
    "* [SKBL](https://github.com/salgo60/open-data-examples/blob/master/Svenskt%20Kvinnobiografiskt%20lexikon%20part%203.ipynb)\n",
    "  * WD [property 4963](https://www.wikidata.org/wiki/Property:P4963)\n",
    "* [Svenska Akademien](https://github.com/salgo60/open-data-examples/blob/master/Svenska%20Akademien.ipynb) \n",
    "  * WD [property 5325](https://www.wikidata.org/wiki/Property:P5325) \n",
    "\n",
    "### SBL\n",
    "SBL har idag\n",
    "* personartiklar\n",
    "* släktartiklar\n",
    "  * en person i en släktartikel kan ha en sida som bara pekar till släktartikeln (med text ej alltid länk)\n",
    "\n",
    "Det saknas idag från Riksarkivet ett API så nedanstående är ett försök att webscrapa deras data och sedan försöka hitta en struktur. \n",
    "\n",
    "Målsättningen är att ha personerna som har en SBL personartikel representerade i Wikidata. Kul vore att även ha släktartiklarna kopplade till Wikidata... är inte säkert hur bra strukturen är för släkter/ätter/familjer i WD och sedan behövs det matchas en hel del. En person kan även omnämnas i en släktartikel och bör då i Wikidata ha \"beskriven av källa\" kopplad till dessa artiklar (exempel Gunnar Morssing [Q5994570#P1343](https://www.wikidata.org/wiki/Q5994570#P1343) som finns i artikel SBL [\"Morssing, släkt\"](https://sok.riksarkivet.se/sbl/Presentation.aspx?id=9512)) vilket är ett mycket stort jobb om Riksarkivet inte går över till att leverera [länkade data](https://sv.wikipedia.org/wiki/L%C3%A4nkade_data)... se förfrågan om bättre metadata 2019 okt 30 [T236883](https://phabricator.wikimedia.org/T236883)    \n",
    "\n",
    "**Mina gissningar** \n",
    "1. sida med född/död är en person\n",
    "2. sida med titel släkt är en släktartikel\n",
    "3. sida med född/död men för kort kan vara en referens till en släktartikel\n",
    "4. släkt artikel kan ha \"[ätt](https://sok.riksarkivet.se/sbl/Search.aspx?t=0)\" i titeln men det kan visst även person artiklar ha\n",
    "5. tom sida < 12000 tecken se EmptyPageLength\n",
    "6. ....\n",
    "\n",
    "### jmf SKBL med SBL \n",
    "med ett mera komplett Wikidata kan vi nu jämföra [Svenskt Kvinnobiografiskt lexikon - SKBL](https://www.skbl.se/sv/om-skbl) med [Riksarkivet](https://sok.riksarkivet.se/sbl/OmSBL.aspx) då det gäller urval av kvinnor, antal kvinnor, hur dom levererar, API vs. inte API, skillnaden att ha enbart svenska artiklar som SBL med att även ha [engelska artiklar som SKBL](https://www.skbl.se/en/about-skbl) \n",
    "\n",
    "* [Notebook](https://github.com/salgo60/open-data-examples/blob/master/Svenskt%20Kvinnobiografiskt%20lexikon%20part%203.ipynb)\n",
    "\n",
    "# Webscrape \n",
    "1. vi gissar id min 4000 och max 40000\n",
    "2. webdesignen verkar ha ändrats --> ändra size tom sida __EmptyPageLength__\n"
   ]
  },
  {
   "cell_type": "code",
   "execution_count": 1,
   "metadata": {},
   "outputs": [
    {
     "name": "stdout",
     "output_type": "stream",
     "text": [
      "Last run:  2025-03-06 01:53:27.024767\n"
     ]
    }
   ],
   "source": [
    "from datetime import datetime\n",
    "startdate = datetime.now()\n",
    "print(\"Last run: \", startdate)"
   ]
  },
  {
   "cell_type": "code",
   "execution_count": null,
   "metadata": {},
   "outputs": [],
   "source": []
  },
  {
   "cell_type": "code",
   "execution_count": 2,
   "metadata": {},
   "outputs": [],
   "source": [
    "EmptyPageLength = 12000 # parameter to check if we webscrape an empty page right now 12000 seems ok"
   ]
  },
  {
   "cell_type": "code",
   "execution_count": 3,
   "metadata": {},
   "outputs": [
    {
     "name": "stderr",
     "output_type": "stream",
     "text": [
      "100%|█████████████████████████████████████| 56000/56000 [20:27<00:00, 45.63it/s]"
     ]
    },
    {
     "name": "stdout",
     "output_type": "stream",
     "text": [
      "9497  antal poster\n"
     ]
    },
    {
     "name": "stderr",
     "output_type": "stream",
     "text": [
      "\n"
     ]
    }
   ],
   "source": [
    "import urllib3, json\n",
    "import pandas as pd   \n",
    "from bs4 import BeautifulSoup\n",
    "import sys\n",
    "import pprint\n",
    "http = urllib3.PoolManager()\n",
    "\n",
    "from tqdm import tqdm\n",
    "listNewItems = []\n",
    "\n",
    "# Use tqdm for progress bar\n",
    "for SBLnr in tqdm(range(4000, 60000)): #gissar min 4000 max 60000\n",
    "    url = \"https://sok.riksarkivet.se/sbl/Presentation.aspx?id=\" + str(SBLnr)\n",
    "    r = http.request('GET', url)\n",
    "    if len(r.data) > EmptyPageLength: # Looks like they changed the web design, raise EmptyPageLength\n",
    "        new_item = dict()\n",
    "        #print(SBLnr,len(r.data))\n",
    "        new_item['SBLnr'] = SBLnr\n",
    "        new_item['SBLlength'] = len(r.data)\n",
    "        soup = BeautifulSoup(r.data, \"html.parser\")  \n",
    "        \n",
    "        try:\n",
    "            titel = soup.findAll(\"span\", {\"id\": \"ctl00_MainContent_lblTitle\"})[0].get_text()\n",
    "            new_item['titel'] = titel\n",
    "            #print (\"\\t\",titel)\n",
    "        except:\n",
    "            pass\n",
    "        try:\n",
    "            Fodd = soup.findAll(\"span\", {\"id\": \"ctl00_MainContent_lblFodelse\"})[0].get_text()\n",
    "            #print (\"\\t\",Fodd)\n",
    "            new_item['Fodd'] = Fodd\n",
    "        except:\n",
    "            pass\n",
    "        try:\n",
    "            Dod = soup.findAll(\"span\", {\"id\": \"ctl00_MainContent_lblDod\"})[0].get_text()\n",
    "            #print (\"\\t\",Dod)\n",
    "            new_item['Dod'] = Dod\n",
    "        except:\n",
    "            pass\n",
    "        try:\n",
    "            band = soup.findAll(\"span\", {\"id\": \"ctl00_MainContent_lblBandSida\"})[0].get_text()\n",
    "            #print (\"\\t\",band)\n",
    "            new_item['Band'] = band\n",
    "            try:\n",
    "#                year = band.get_text().split(\"(\")[1].split(\")\")\n",
    "                year = band.split(\"(\")[1].split(\")\")[0]\n",
    "                #print (\"\\t\\tYear\",year)\n",
    "                new_item['Year'] = year\n",
    "            except:\n",
    "                pass\n",
    "        except:\n",
    "            pass\n",
    "            \n",
    "        listNewItems.append(new_item)\n",
    "print (len(listNewItems) ,\" antal poster\")\n",
    "        \n"
   ]
  },
  {
   "cell_type": "code",
   "execution_count": 4,
   "metadata": {},
   "outputs": [
    {
     "data": {
      "text/plain": [
       "dict_keys(['SBLnr', 'SBLlength', 'titel', 'Fodd', 'Dod', 'Band', 'Year'])"
      ]
     },
     "execution_count": 4,
     "metadata": {},
     "output_type": "execute_result"
    }
   ],
   "source": [
    "listNewItems[0].keys()"
   ]
  },
  {
   "cell_type": "code",
   "execution_count": null,
   "metadata": {},
   "outputs": [],
   "source": [
    "\n"
   ]
  },
  {
   "cell_type": "code",
   "execution_count": 5,
   "metadata": {},
   "outputs": [],
   "source": [
    "import csv\n",
    "if len(listNewItems) > 0:\n",
    "    keys = listNewItems[0].keys()\n",
    "    with open(\"SBL_newfile.csv\", \"w\", newline='') as SBLfile:\n",
    "        dict_writer = csv.DictWriter(SBLfile, keys)\n",
    "        dict_writer.writeheader()\n",
    "        dict_writer.writerows(listNewItems)\n",
    "\n",
    "    dfSBLcsv = pd.read_csv(\"SBL_newfile.csv\", sep=\",\")   \n",
    "    \n",
    "else:\n",
    "    print (\"Ingen fil skapas inga nya poster\") "
   ]
  },
  {
   "cell_type": "code",
   "execution_count": 6,
   "metadata": {},
   "outputs": [],
   "source": [
    "pd.set_option(\"display.max.rows\", None) "
   ]
  },
  {
   "cell_type": "code",
   "execution_count": 7,
   "metadata": {},
   "outputs": [
    {
     "name": "stdout",
     "output_type": "stream",
     "text": [
      "<class 'pandas.core.frame.DataFrame'>\n",
      "RangeIndex: 9497 entries, 0 to 9496\n",
      "Data columns (total 7 columns):\n",
      " #   Column     Non-Null Count  Dtype \n",
      "---  ------     --------------  ----- \n",
      " 0   SBLnr      9497 non-null   int64 \n",
      " 1   SBLlength  9497 non-null   int64 \n",
      " 2   titel      9497 non-null   object\n",
      " 3   Fodd       7194 non-null   object\n",
      " 4   Dod        7680 non-null   object\n",
      " 5   Band       9497 non-null   object\n",
      " 6   Year       9491 non-null   object\n",
      "dtypes: int64(2), object(5)\n",
      "memory usage: 519.5+ KB\n"
     ]
    }
   ],
   "source": [
    "dfSBLcsv.info()  "
   ]
  },
  {
   "cell_type": "markdown",
   "metadata": {},
   "source": [
    "## Wikidata hämtar alla med P3217 satt \n",
    "dvs. även släkt kopplingar"
   ]
  },
  {
   "cell_type": "code",
   "execution_count": 8,
   "metadata": {},
   "outputs": [],
   "source": [
    "from SPARQLWrapper import SPARQLWrapper, JSON\n",
    "\n",
    "endpoint_url = \"https://query.wikidata.org/sparql\"\n",
    "\n",
    "#https://w.wiki/cvY\n",
    "querySBL = \"\"\"SELECT (REPLACE(STR(?item), \".*Q\", \"Q\") AS ?wid)  ?sblid ?gender ?genderLabel WHERE {\n",
    "?item wdt:P3217 ?sblid.\n",
    "?item wdt:P31 wd:Q5.\n",
    "optional {?item wdt:P21 ?gender}\n",
    "SERVICE wikibase:label { bd:serviceParam wikibase:language \"sv,en\". }  \n",
    "}\"\"\"\n",
    "\n",
    "def get_sparql_dataframe(endpoint_url, query):\n",
    "    \"\"\"\n",
    "    Helper function to convert SPARQL results into a Pandas data frame.\n",
    "    \"\"\"\n",
    "    user_agent = \"salgo60/%s.%s\" % (sys.version_info[0], sys.version_info[1])\n",
    " \n",
    "    sparql = SPARQLWrapper(endpoint_url, agent=user_agent)\n",
    "    sparql.setQuery(query)\n",
    "    sparql.setReturnFormat(JSON)\n",
    "    result = sparql.query()\n",
    "\n",
    "    processed_results = json.load(result.response)\n",
    "    cols = processed_results['head']['vars']\n",
    "\n",
    "    out = []\n",
    "    for row in processed_results['results']['bindings']:\n",
    "        item = []\n",
    "        for c in cols:\n",
    "            item.append(row.get(c, {}).get('value'))\n",
    "        out.append(item)\n",
    "\n",
    "    return pd.DataFrame(out, columns=cols)\n",
    "\n",
    "WDSBLtot = get_sparql_dataframe(endpoint_url, querySBL)\n"
   ]
  },
  {
   "cell_type": "code",
   "execution_count": 9,
   "metadata": {},
   "outputs": [],
   "source": [
    "WDSBLtot.sort_index(inplace=True)  "
   ]
  },
  {
   "cell_type": "code",
   "execution_count": 10,
   "metadata": {},
   "outputs": [
    {
     "name": "stdout",
     "output_type": "stream",
     "text": [
      "<class 'pandas.core.frame.DataFrame'>\n",
      "RangeIndex: 7672 entries, 0 to 7671\n",
      "Data columns (total 4 columns):\n",
      " #   Column       Non-Null Count  Dtype \n",
      "---  ------       --------------  ----- \n",
      " 0   wid          7672 non-null   object\n",
      " 1   sblid        7672 non-null   object\n",
      " 2   gender       7672 non-null   object\n",
      " 3   genderLabel  7672 non-null   object\n",
      "dtypes: object(4)\n",
      "memory usage: 239.9+ KB\n"
     ]
    }
   ],
   "source": [
    "WDSBLtot.info()"
   ]
  },
  {
   "cell_type": "code",
   "execution_count": 11,
   "metadata": {},
   "outputs": [],
   "source": [
    "%matplotlib inline    \n",
    "import matplotlib.pyplot as plt   \n",
    "plotSBLYearBand = dfSBLcsv[\"Year\"].value_counts()\n"
   ]
  },
  {
   "cell_type": "code",
   "execution_count": 12,
   "metadata": {},
   "outputs": [
    {
     "data": {
      "image/png": "[encoded data removed]",
      "text/plain": [
       "<Figure size 640x480 with 1 Axes>"
      ]
     },
     "metadata": {},
     "output_type": "display_data"
    }
   ],
   "source": [
    "plotSBLYearBand.plot( kind = 'bar') \n",
    "plt.title(\"SBL artiklar publiserade per Bok/Band\")\n",
    "plt.show()"
   ]
  },
  {
   "cell_type": "code",
   "execution_count": 13,
   "metadata": {},
   "outputs": [
    {
     "data": {
      "text/html": [
       "<div>\n",
       "<style scoped>\n",
       "    .dataframe tbody tr th:only-of-type {\n",
       "        vertical-align: middle;\n",
       "    }\n",
       "\n",
       "    .dataframe tbody tr th {\n",
       "        vertical-align: top;\n",
       "    }\n",
       "\n",
       "    .dataframe thead th {\n",
       "        text-align: right;\n",
       "    }\n",
       "</style>\n",
       "<table border=\"1\" class=\"dataframe\">\n",
       "  <thead>\n",
       "    <tr style=\"text-align: right;\">\n",
       "      <th></th>\n",
       "      <th>SBLnr</th>\n",
       "      <th>SBLlength</th>\n",
       "      <th>titel</th>\n",
       "      <th>Fodd</th>\n",
       "      <th>Dod</th>\n",
       "      <th>Band</th>\n",
       "      <th>Year</th>\n",
       "    </tr>\n",
       "  </thead>\n",
       "  <tbody>\n",
       "    <tr>\n",
       "      <th>1032</th>\n",
       "      <td>7331</td>\n",
       "      <td>36245</td>\n",
       "      <td>Anders Plomgren</td>\n",
       "      <td>Född:1700 – Katarina församling, Stockholms län</td>\n",
       "      <td>Död:1766-06-04 – Nikolai församling, Stockholm...</td>\n",
       "      <td>Band 29 (1995-1997), sida 376.</td>\n",
       "      <td>1995-1997</td>\n",
       "    </tr>\n",
       "    <tr>\n",
       "      <th>7780</th>\n",
       "      <td>17701</td>\n",
       "      <td>41850</td>\n",
       "      <td>Gustaf (Gösta) Johan Anton Dunér</td>\n",
       "      <td>Född:1840-12-20 – Billeberga församling, Skåne...</td>\n",
       "      <td>Död:1924-07-10 – Hörby församling, Skåne län (...</td>\n",
       "      <td>Band 11 (1945), sida 535.</td>\n",
       "      <td>1945</td>\n",
       "    </tr>\n",
       "    <tr>\n",
       "      <th>916</th>\n",
       "      <td>7094</td>\n",
       "      <td>69172</td>\n",
       "      <td>Nils J Perne</td>\n",
       "      <td>Född:1905-05-04 – Uppsala domkyrkoförsamling, ...</td>\n",
       "      <td>Död:1965-12-27 – Kungsholm eller Ulrika Eleono...</td>\n",
       "      <td>Band 29 (1995-1997), sida 43.</td>\n",
       "      <td>1995-1997</td>\n",
       "    </tr>\n",
       "    <tr>\n",
       "      <th>3464</th>\n",
       "      <td>11647</td>\n",
       "      <td>27597</td>\n",
       "      <td>Knape, släkter</td>\n",
       "      <td>NaN</td>\n",
       "      <td>NaN</td>\n",
       "      <td>Band 21 (1975-1977), sida 366.</td>\n",
       "      <td>1975-1977</td>\n",
       "    </tr>\n",
       "    <tr>\n",
       "      <th>7176</th>\n",
       "      <td>16861</td>\n",
       "      <td>22644</td>\n",
       "      <td>Vilhelm Ferdinand Ekman</td>\n",
       "      <td>Född:1823-10-20 – Uppsala domkyrkoförsamling, ...</td>\n",
       "      <td>Död:1900-06-30 – Uppsala domkyrkoförsamling, U...</td>\n",
       "      <td>Band 12 (1949), sida 780.</td>\n",
       "      <td>1949</td>\n",
       "    </tr>\n",
       "    <tr>\n",
       "      <th>3302</th>\n",
       "      <td>11416</td>\n",
       "      <td>143745</td>\n",
       "      <td>Johan Henric Kellgren</td>\n",
       "      <td>Född:1751-12-01 – Floby församling, Skaraborgs...</td>\n",
       "      <td>Död:1795-04-20 – Jakobs församling, Stockholms...</td>\n",
       "      <td>Band 21 (1975-1977), sida 23.</td>\n",
       "      <td>1975-1977</td>\n",
       "    </tr>\n",
       "    <tr>\n",
       "      <th>1066</th>\n",
       "      <td>7404</td>\n",
       "      <td>28864</td>\n",
       "      <td>Joachim Fredrik Preis</td>\n",
       "      <td>Född:1667 – Estland (i Dorpat/Tartu)</td>\n",
       "      <td>Död:1759-12-22 – Nederländerna (i Haag)</td>\n",
       "      <td>Band 29 (1995-1997), sida 491.</td>\n",
       "      <td>1995-1997</td>\n",
       "    </tr>\n",
       "    <tr>\n",
       "      <th>6757</th>\n",
       "      <td>16307</td>\n",
       "      <td>65599</td>\n",
       "      <td>J (John) F Böttiger</td>\n",
       "      <td>Född:1853-03-25 – Klara församling, Stockholms...</td>\n",
       "      <td>Död:1936-02-29 – Gustavsbergs församling, Stoc...</td>\n",
       "      <td>Band 07 (1927), sida 183.</td>\n",
       "      <td>1927</td>\n",
       "    </tr>\n",
       "    <tr>\n",
       "      <th>1420</th>\n",
       "      <td>8083</td>\n",
       "      <td>86324</td>\n",
       "      <td>Peder Andreæ (Svart)</td>\n",
       "      <td>NaN</td>\n",
       "      <td>Död:1562 – Västerås domkyrkoförsamling, Västma...</td>\n",
       "      <td>Band 28 (1992-1994), sida 775.</td>\n",
       "      <td>1992-1994</td>\n",
       "    </tr>\n",
       "    <tr>\n",
       "      <th>1369</th>\n",
       "      <td>7985</td>\n",
       "      <td>70328</td>\n",
       "      <td>Sven T Palme</td>\n",
       "      <td>Född:1854-12-04 – Kalmar domkyrkoförsamling, K...</td>\n",
       "      <td>Död:1934-08-09 – Engelbrekts församling, Stock...</td>\n",
       "      <td>Band 28 (1992-1994), sida 609.</td>\n",
       "      <td>1992-1994</td>\n",
       "    </tr>\n",
       "  </tbody>\n",
       "</table>\n",
       "</div>"
      ],
      "text/plain": [
       "      SBLnr  SBLlength                             titel  \\\n",
       "1032   7331      36245                   Anders Plomgren   \n",
       "7780  17701      41850  Gustaf (Gösta) Johan Anton Dunér   \n",
       "916    7094      69172                      Nils J Perne   \n",
       "3464  11647      27597                    Knape, släkter   \n",
       "7176  16861      22644           Vilhelm Ferdinand Ekman   \n",
       "3302  11416     143745             Johan Henric Kellgren   \n",
       "1066   7404      28864             Joachim Fredrik Preis   \n",
       "6757  16307      65599               J (John) F Böttiger   \n",
       "1420   8083      86324              Peder Andreæ (Svart)   \n",
       "1369   7985      70328                      Sven T Palme   \n",
       "\n",
       "                                                   Fodd  \\\n",
       "1032    Född:1700 – Katarina församling, Stockholms län   \n",
       "7780  Född:1840-12-20 – Billeberga församling, Skåne...   \n",
       "916   Född:1905-05-04 – Uppsala domkyrkoförsamling, ...   \n",
       "3464                                                NaN   \n",
       "7176  Född:1823-10-20 – Uppsala domkyrkoförsamling, ...   \n",
       "3302  Född:1751-12-01 – Floby församling, Skaraborgs...   \n",
       "1066               Född:1667 – Estland (i Dorpat/Tartu)   \n",
       "6757  Född:1853-03-25 – Klara församling, Stockholms...   \n",
       "1420                                                NaN   \n",
       "1369  Född:1854-12-04 – Kalmar domkyrkoförsamling, K...   \n",
       "\n",
       "                                                    Dod  \\\n",
       "1032  Död:1766-06-04 – Nikolai församling, Stockholm...   \n",
       "7780  Död:1924-07-10 – Hörby församling, Skåne län (...   \n",
       "916   Död:1965-12-27 – Kungsholm eller Ulrika Eleono...   \n",
       "3464                                                NaN   \n",
       "7176  Död:1900-06-30 – Uppsala domkyrkoförsamling, U...   \n",
       "3302  Död:1795-04-20 – Jakobs församling, Stockholms...   \n",
       "1066            Död:1759-12-22 – Nederländerna (i Haag)   \n",
       "6757  Död:1936-02-29 – Gustavsbergs församling, Stoc...   \n",
       "1420  Död:1562 – Västerås domkyrkoförsamling, Västma...   \n",
       "1369  Död:1934-08-09 – Engelbrekts församling, Stock...   \n",
       "\n",
       "                                Band       Year  \n",
       "1032  Band 29 (1995-1997), sida 376.  1995-1997  \n",
       "7780       Band 11 (1945), sida 535.       1945  \n",
       "916    Band 29 (1995-1997), sida 43.  1995-1997  \n",
       "3464  Band 21 (1975-1977), sida 366.  1975-1977  \n",
       "7176       Band 12 (1949), sida 780.       1949  \n",
       "3302   Band 21 (1975-1977), sida 23.  1975-1977  \n",
       "1066  Band 29 (1995-1997), sida 491.  1995-1997  \n",
       "6757       Band 07 (1927), sida 183.       1927  \n",
       "1420  Band 28 (1992-1994), sida 775.  1992-1994  \n",
       "1369  Band 28 (1992-1994), sida 609.  1992-1994  "
      ]
     },
     "execution_count": 13,
     "metadata": {},
     "output_type": "execute_result"
    }
   ],
   "source": [
    "dfSBLcsv.sample(10)"
   ]
  },
  {
   "cell_type": "code",
   "execution_count": 14,
   "metadata": {},
   "outputs": [
    {
     "name": "stdout",
     "output_type": "stream",
     "text": [
      "<class 'pandas.core.frame.DataFrame'>\n",
      "RangeIndex: 9497 entries, 0 to 9496\n",
      "Data columns (total 7 columns):\n",
      " #   Column     Non-Null Count  Dtype \n",
      "---  ------     --------------  ----- \n",
      " 0   SBLnr      9497 non-null   int64 \n",
      " 1   SBLlength  9497 non-null   int64 \n",
      " 2   titel      9497 non-null   object\n",
      " 3   Fodd       7194 non-null   object\n",
      " 4   Dod        7680 non-null   object\n",
      " 5   Band       9497 non-null   object\n",
      " 6   Year       9491 non-null   object\n",
      "dtypes: int64(2), object(5)\n",
      "memory usage: 519.5+ KB\n"
     ]
    }
   ],
   "source": [
    "dfSBLcsv.info()"
   ]
  },
  {
   "cell_type": "code",
   "execution_count": 15,
   "metadata": {},
   "outputs": [
    {
     "data": {
      "text/html": [
       "<div>\n",
       "<style scoped>\n",
       "    .dataframe tbody tr th:only-of-type {\n",
       "        vertical-align: middle;\n",
       "    }\n",
       "\n",
       "    .dataframe tbody tr th {\n",
       "        vertical-align: top;\n",
       "    }\n",
       "\n",
       "    .dataframe thead th {\n",
       "        text-align: right;\n",
       "    }\n",
       "</style>\n",
       "<table border=\"1\" class=\"dataframe\">\n",
       "  <thead>\n",
       "    <tr style=\"text-align: right;\">\n",
       "      <th></th>\n",
       "      <th>SBLnr</th>\n",
       "      <th>SBLlength</th>\n",
       "      <th>titel</th>\n",
       "      <th>Fodd</th>\n",
       "      <th>Dod</th>\n",
       "      <th>Band</th>\n",
       "      <th>Year</th>\n",
       "    </tr>\n",
       "  </thead>\n",
       "  <tbody>\n",
       "    <tr>\n",
       "      <th>9127</th>\n",
       "      <td>34648</td>\n",
       "      <td>47762</td>\n",
       "      <td>Carl Olof (Olle) Sturén</td>\n",
       "      <td>Född:1919-02-20 – Katarina församling, Stockho...</td>\n",
       "      <td>Död:2003-05-16 – Spanien</td>\n",
       "      <td>Band , sida .</td>\n",
       "      <td>NaN</td>\n",
       "    </tr>\n",
       "    <tr>\n",
       "      <th>9431</th>\n",
       "      <td>35201</td>\n",
       "      <td>14379</td>\n",
       "      <td>Bror Carl Söderblom</td>\n",
       "      <td>Född:1908</td>\n",
       "      <td>Död:1967</td>\n",
       "      <td>Band , sida .</td>\n",
       "      <td>NaN</td>\n",
       "    </tr>\n",
       "    <tr>\n",
       "      <th>9444</th>\n",
       "      <td>35216</td>\n",
       "      <td>14288</td>\n",
       "      <td>Jarl Werner Söderhielm</td>\n",
       "      <td>Född:1859</td>\n",
       "      <td>Död:1931</td>\n",
       "      <td>Band , sida .</td>\n",
       "      <td>NaN</td>\n",
       "    </tr>\n",
       "    <tr>\n",
       "      <th>9480</th>\n",
       "      <td>35252</td>\n",
       "      <td>14381</td>\n",
       "      <td>Ingalill Söderman</td>\n",
       "      <td>Född:1902</td>\n",
       "      <td>Död:1988</td>\n",
       "      <td>Band , sida .</td>\n",
       "      <td>NaN</td>\n",
       "    </tr>\n",
       "    <tr>\n",
       "      <th>9492</th>\n",
       "      <td>35264</td>\n",
       "      <td>13643</td>\n",
       "      <td>Blixencron, Mårten</td>\n",
       "      <td>NaN</td>\n",
       "      <td>NaN</td>\n",
       "      <td>Band , sida .</td>\n",
       "      <td>NaN</td>\n",
       "    </tr>\n",
       "    <tr>\n",
       "      <th>9493</th>\n",
       "      <td>35265</td>\n",
       "      <td>12713</td>\n",
       "      <td>Ahlgren,  Ernst</td>\n",
       "      <td>NaN</td>\n",
       "      <td>NaN</td>\n",
       "      <td>Band , sida .</td>\n",
       "      <td>NaN</td>\n",
       "    </tr>\n",
       "  </tbody>\n",
       "</table>\n",
       "</div>"
      ],
      "text/plain": [
       "      SBLnr  SBLlength                    titel  \\\n",
       "9127  34648      47762  Carl Olof (Olle) Sturén   \n",
       "9431  35201      14379      Bror Carl Söderblom   \n",
       "9444  35216      14288   Jarl Werner Söderhielm   \n",
       "9480  35252      14381        Ingalill Söderman   \n",
       "9492  35264      13643       Blixencron, Mårten   \n",
       "9493  35265      12713          Ahlgren,  Ernst   \n",
       "\n",
       "                                                   Fodd  \\\n",
       "9127  Född:1919-02-20 – Katarina församling, Stockho...   \n",
       "9431                                          Född:1908   \n",
       "9444                                          Född:1859   \n",
       "9480                                          Född:1902   \n",
       "9492                                                NaN   \n",
       "9493                                                NaN   \n",
       "\n",
       "                            Dod           Band Year  \n",
       "9127  Död:2003-05-16 – Spanien   Band , sida .  NaN  \n",
       "9431                   Död:1967  Band , sida .  NaN  \n",
       "9444                   Död:1931  Band , sida .  NaN  \n",
       "9480                   Död:1988  Band , sida .  NaN  \n",
       "9492                        NaN  Band , sida .  NaN  \n",
       "9493                        NaN  Band , sida .  NaN  "
      ]
     },
     "execution_count": 15,
     "metadata": {},
     "output_type": "execute_result"
    }
   ],
   "source": [
    "plotSBL = dfSBLcsv.copy()\n",
    "# check year eg. empty year in https://sok.riksarkivet.se/sbl/Presentation.aspx?id=34648 --> set 2021\n",
    "#dfSBLcsv[\"Year\"]\n",
    "plotSBL[plotSBL[\"Year\"].isnull()]"
   ]
  },
  {
   "cell_type": "code",
   "execution_count": 16,
   "metadata": {},
   "outputs": [
    {
     "name": "stdout",
     "output_type": "stream",
     "text": [
      "<class 'pandas.core.frame.DataFrame'>\n",
      "RangeIndex: 9497 entries, 0 to 9496\n",
      "Data columns (total 7 columns):\n",
      " #   Column     Non-Null Count  Dtype \n",
      "---  ------     --------------  ----- \n",
      " 0   SBLnr      9497 non-null   int64 \n",
      " 1   SBLlength  9497 non-null   int64 \n",
      " 2   titel      9497 non-null   object\n",
      " 3   Fodd       7194 non-null   object\n",
      " 4   Dod        7680 non-null   object\n",
      " 5   Band       9497 non-null   object\n",
      " 6   Year       9491 non-null   object\n",
      "dtypes: int64(2), object(5)\n",
      "memory usage: 519.5+ KB\n"
     ]
    }
   ],
   "source": [
    "\n",
    "plotSBL.info()"
   ]
  },
  {
   "cell_type": "code",
   "execution_count": 17,
   "metadata": {},
   "outputs": [],
   "source": [
    "\n",
    "#plotSBL.[plotSBL[\"Year\"].isnull()] \n",
    "#df.replace('N/A',np.NaN)\n",
    "#plotSBL['Year'] = plotSBL['Year'].replace({'np.nan': \"2021\"})   \n",
    "\n",
    "plotSBL[\"Year\"].fillna(\"2021\", inplace = True)"
   ]
  },
  {
   "cell_type": "code",
   "execution_count": 18,
   "metadata": {},
   "outputs": [
    {
     "name": "stdout",
     "output_type": "stream",
     "text": [
      "<class 'pandas.core.frame.DataFrame'>\n",
      "RangeIndex: 9497 entries, 0 to 9496\n",
      "Data columns (total 7 columns):\n",
      " #   Column     Non-Null Count  Dtype \n",
      "---  ------     --------------  ----- \n",
      " 0   SBLnr      9497 non-null   int64 \n",
      " 1   SBLlength  9497 non-null   int64 \n",
      " 2   titel      9497 non-null   object\n",
      " 3   Fodd       7194 non-null   object\n",
      " 4   Dod        7680 non-null   object\n",
      " 5   Band       9497 non-null   object\n",
      " 6   Year       9497 non-null   object\n",
      "dtypes: int64(2), object(5)\n",
      "memory usage: 519.5+ KB\n"
     ]
    }
   ],
   "source": [
    "plotSBL.info()"
   ]
  },
  {
   "cell_type": "code",
   "execution_count": 19,
   "metadata": {},
   "outputs": [],
   "source": [
    "import matplotlib.dates as mdates  \n",
    "plotSBL[\"YearPublished\"] = plotSBL[\"Year\"].str[-4:] \n",
    "plotSBL.set_index('Year',inplace=True)  "
   ]
  },
  {
   "cell_type": "code",
   "execution_count": 20,
   "metadata": {},
   "outputs": [],
   "source": [
    "#plotSBL[\"YearPublished\"] = plotSBL[\"YearPublished\"].astype(\"datetime64\")\n",
    "plotSBL[\"YearPublished\"] = pd.to_datetime(plotSBL[\"YearPublished\"], errors = 'coerce')"
   ]
  },
  {
   "cell_type": "code",
   "execution_count": 21,
   "metadata": {},
   "outputs": [
    {
     "name": "stdout",
     "output_type": "stream",
     "text": [
      "<class 'pandas.core.frame.DataFrame'>\n",
      "Index: 9497 entries, 1918 to 2020-\n",
      "Data columns (total 7 columns):\n",
      " #   Column         Non-Null Count  Dtype         \n",
      "---  ------         --------------  -----         \n",
      " 0   SBLnr          9497 non-null   int64         \n",
      " 1   SBLlength      9497 non-null   int64         \n",
      " 2   titel          9497 non-null   object        \n",
      " 3   Fodd           7194 non-null   object        \n",
      " 4   Dod            7680 non-null   object        \n",
      " 5   Band           9497 non-null   object        \n",
      " 6   YearPublished  9322 non-null   datetime64[ns]\n",
      "dtypes: datetime64[ns](1), int64(2), object(4)\n",
      "memory usage: 593.6+ KB\n"
     ]
    }
   ],
   "source": [
    "plotSBL.info()"
   ]
  },
  {
   "cell_type": "code",
   "execution_count": 22,
   "metadata": {},
   "outputs": [
    {
     "data": {
      "text/html": [
       "<div>\n",
       "<style scoped>\n",
       "    .dataframe tbody tr th:only-of-type {\n",
       "        vertical-align: middle;\n",
       "    }\n",
       "\n",
       "    .dataframe tbody tr th {\n",
       "        vertical-align: top;\n",
       "    }\n",
       "\n",
       "    .dataframe thead th {\n",
       "        text-align: right;\n",
       "    }\n",
       "</style>\n",
       "<table border=\"1\" class=\"dataframe\">\n",
       "  <thead>\n",
       "    <tr style=\"text-align: right;\">\n",
       "      <th></th>\n",
       "      <th>SBLnr</th>\n",
       "      <th>SBLlength</th>\n",
       "      <th>titel</th>\n",
       "      <th>Fodd</th>\n",
       "      <th>Dod</th>\n",
       "      <th>Band</th>\n",
       "      <th>YearPublished</th>\n",
       "    </tr>\n",
       "    <tr>\n",
       "      <th>Year</th>\n",
       "      <th></th>\n",
       "      <th></th>\n",
       "      <th></th>\n",
       "      <th></th>\n",
       "      <th></th>\n",
       "      <th></th>\n",
       "      <th></th>\n",
       "    </tr>\n",
       "  </thead>\n",
       "  <tbody>\n",
       "    <tr>\n",
       "      <th>1918</th>\n",
       "      <td>5490</td>\n",
       "      <td>12423</td>\n",
       "      <td>Abelin, släkt</td>\n",
       "      <td>NaN</td>\n",
       "      <td>NaN</td>\n",
       "      <td>Band 01 (1918), sida 1.</td>\n",
       "      <td>1918-01-01</td>\n",
       "    </tr>\n",
       "    <tr>\n",
       "      <th>1918</th>\n",
       "      <td>5491</td>\n",
       "      <td>33602</td>\n",
       "      <td>Gustaf R Abelin</td>\n",
       "      <td>Född:1819-05-17 – Linköpings Domkyrkoförsamlin...</td>\n",
       "      <td>Död:1903-09-19 – Kvillinge församling, Östergö...</td>\n",
       "      <td>Band 01 (1918), sida 5.</td>\n",
       "      <td>1918-01-01</td>\n",
       "    </tr>\n",
       "    <tr>\n",
       "      <th>1918</th>\n",
       "      <td>5492</td>\n",
       "      <td>42039</td>\n",
       "      <td>Hjalmar A Abelin</td>\n",
       "      <td>Född:1817-05-22 – Linköpings Domkyrkoförsamlin...</td>\n",
       "      <td>Död:1893-09-13 – Stockholms stad, Stockholms län</td>\n",
       "      <td>Band 01 (1918), sida 1.</td>\n",
       "      <td>1918-01-01</td>\n",
       "    </tr>\n",
       "    <tr>\n",
       "      <th>1918</th>\n",
       "      <td>5493</td>\n",
       "      <td>22113</td>\n",
       "      <td>C Rudolf Z Abelin</td>\n",
       "      <td>Född:1864-05-30 – Malmö stad, Skåne län</td>\n",
       "      <td>Död:1961 – Västra Karups församling, Kristians...</td>\n",
       "      <td>Band 01 (1918), sida 9.</td>\n",
       "      <td>1918-01-01</td>\n",
       "    </tr>\n",
       "    <tr>\n",
       "      <th>1918</th>\n",
       "      <td>5494</td>\n",
       "      <td>27403</td>\n",
       "      <td>P Wilhelm Abenius</td>\n",
       "      <td>Född:1864-05-21 – Orsa församling, Dalarnas län</td>\n",
       "      <td>Död:1956 – Ramsbergs församling, Örebro län</td>\n",
       "      <td>Band 01 (1918), sida 11.</td>\n",
       "      <td>1918-01-01</td>\n",
       "    </tr>\n",
       "  </tbody>\n",
       "</table>\n",
       "</div>"
      ],
      "text/plain": [
       "      SBLnr  SBLlength              titel  \\\n",
       "Year                                        \n",
       "1918   5490      12423      Abelin, släkt   \n",
       "1918   5491      33602    Gustaf R Abelin   \n",
       "1918   5492      42039   Hjalmar A Abelin   \n",
       "1918   5493      22113  C Rudolf Z Abelin   \n",
       "1918   5494      27403  P Wilhelm Abenius   \n",
       "\n",
       "                                                   Fodd  \\\n",
       "Year                                                      \n",
       "1918                                                NaN   \n",
       "1918  Född:1819-05-17 – Linköpings Domkyrkoförsamlin...   \n",
       "1918  Född:1817-05-22 – Linköpings Domkyrkoförsamlin...   \n",
       "1918            Född:1864-05-30 – Malmö stad, Skåne län   \n",
       "1918    Född:1864-05-21 – Orsa församling, Dalarnas län   \n",
       "\n",
       "                                                    Dod  \\\n",
       "Year                                                      \n",
       "1918                                                NaN   \n",
       "1918  Död:1903-09-19 – Kvillinge församling, Östergö...   \n",
       "1918   Död:1893-09-13 – Stockholms stad, Stockholms län   \n",
       "1918  Död:1961 – Västra Karups församling, Kristians...   \n",
       "1918        Död:1956 – Ramsbergs församling, Örebro län   \n",
       "\n",
       "                          Band YearPublished  \n",
       "Year                                          \n",
       "1918   Band 01 (1918), sida 1.    1918-01-01  \n",
       "1918   Band 01 (1918), sida 5.    1918-01-01  \n",
       "1918   Band 01 (1918), sida 1.    1918-01-01  \n",
       "1918   Band 01 (1918), sida 9.    1918-01-01  \n",
       "1918  Band 01 (1918), sida 11.    1918-01-01  "
      ]
     },
     "execution_count": 22,
     "metadata": {},
     "output_type": "execute_result"
    }
   ],
   "source": [
    "plotSBL.head()"
   ]
  },
  {
   "cell_type": "code",
   "execution_count": 23,
   "metadata": {},
   "outputs": [],
   "source": [
    "plotSBL[\"url\"] = \"https://sok.riksarkivet.se/sbl/Presentation.aspx?id=\" + str(dfSBLcsv[\"SBLnr\"])"
   ]
  },
  {
   "cell_type": "code",
   "execution_count": 24,
   "metadata": {},
   "outputs": [],
   "source": [
    "#dfFamily = dfSBLAuthorcsv.dropna()  \n",
    "dfPerson = plotSBL.dropna(subset = ['Fodd', 'Dod'])"
   ]
  },
  {
   "cell_type": "code",
   "execution_count": 25,
   "metadata": {},
   "outputs": [
    {
     "name": "stdout",
     "output_type": "stream",
     "text": [
      "<class 'pandas.core.frame.DataFrame'>\n",
      "Index: 7188 entries, 1918 to 2020-\n",
      "Data columns (total 8 columns):\n",
      " #   Column         Non-Null Count  Dtype         \n",
      "---  ------         --------------  -----         \n",
      " 0   SBLnr          7188 non-null   int64         \n",
      " 1   SBLlength      7188 non-null   int64         \n",
      " 2   titel          7188 non-null   object        \n",
      " 3   Fodd           7188 non-null   object        \n",
      " 4   Dod            7188 non-null   object        \n",
      " 5   Band           7188 non-null   object        \n",
      " 6   YearPublished  7078 non-null   datetime64[ns]\n",
      " 7   url            7188 non-null   object        \n",
      "dtypes: datetime64[ns](1), int64(2), object(5)\n",
      "memory usage: 505.4+ KB\n"
     ]
    }
   ],
   "source": [
    "dfPerson.info()"
   ]
  },
  {
   "cell_type": "markdown",
   "metadata": {},
   "source": [
    "### Join Wikidata\n",
    "as Wikidata we guess knows what articles are about a man and a women we can try merge "
   ]
  },
  {
   "cell_type": "code",
   "execution_count": 26,
   "metadata": {},
   "outputs": [
    {
     "name": "stdout",
     "output_type": "stream",
     "text": [
      "<class 'pandas.core.frame.DataFrame'>\n",
      "Index: 9497 entries, 1918 to 2020-\n",
      "Data columns (total 8 columns):\n",
      " #   Column         Non-Null Count  Dtype         \n",
      "---  ------         --------------  -----         \n",
      " 0   SBLnr          9497 non-null   int64         \n",
      " 1   SBLlength      9497 non-null   int64         \n",
      " 2   titel          9497 non-null   object        \n",
      " 3   Fodd           7194 non-null   object        \n",
      " 4   Dod            7680 non-null   object        \n",
      " 5   Band           9497 non-null   object        \n",
      " 6   YearPublished  9322 non-null   datetime64[ns]\n",
      " 7   url            9497 non-null   object        \n",
      "dtypes: datetime64[ns](1), int64(2), object(5)\n",
      "memory usage: 667.8+ KB\n"
     ]
    }
   ],
   "source": [
    "plotSBL['SBLnr']= plotSBL['SBLnr'].astype(str).astype(int)\n",
    "plotSBL.info()"
   ]
  },
  {
   "cell_type": "code",
   "execution_count": 27,
   "metadata": {},
   "outputs": [
    {
     "name": "stdout",
     "output_type": "stream",
     "text": [
      "<class 'pandas.core.frame.DataFrame'>\n",
      "Index: 9497 entries, 1918 to 2020-\n",
      "Data columns (total 8 columns):\n",
      " #   Column         Non-Null Count  Dtype         \n",
      "---  ------         --------------  -----         \n",
      " 0   SBLnr          9497 non-null   int64         \n",
      " 1   SBLlength      9497 non-null   int64         \n",
      " 2   titel          9497 non-null   object        \n",
      " 3   Fodd           7194 non-null   object        \n",
      " 4   Dod            7680 non-null   object        \n",
      " 5   Band           9497 non-null   object        \n",
      " 6   YearPublished  9322 non-null   datetime64[ns]\n",
      " 7   url            9497 non-null   object        \n",
      "dtypes: datetime64[ns](1), int64(2), object(5)\n",
      "memory usage: 667.8+ KB\n"
     ]
    }
   ],
   "source": [
    "plotSBL.info()"
   ]
  },
  {
   "cell_type": "code",
   "execution_count": 28,
   "metadata": {},
   "outputs": [
    {
     "name": "stdout",
     "output_type": "stream",
     "text": [
      "<class 'pandas.core.frame.DataFrame'>\n",
      "RangeIndex: 7672 entries, 0 to 7671\n",
      "Data columns (total 4 columns):\n",
      " #   Column       Non-Null Count  Dtype \n",
      "---  ------       --------------  ----- \n",
      " 0   wid          7672 non-null   object\n",
      " 1   sblid        7672 non-null   int64 \n",
      " 2   gender       7672 non-null   object\n",
      " 3   genderLabel  7672 non-null   object\n",
      "dtypes: int64(1), object(3)\n",
      "memory usage: 239.9+ KB\n"
     ]
    }
   ],
   "source": [
    "WDSBLtot['sblid']= WDSBLtot['sblid'].astype(str).astype(int)\n",
    "WDSBLtot.info()"
   ]
  },
  {
   "cell_type": "code",
   "execution_count": 29,
   "metadata": {},
   "outputs": [
    {
     "data": {
      "text/html": [
       "<div>\n",
       "<style scoped>\n",
       "    .dataframe tbody tr th:only-of-type {\n",
       "        vertical-align: middle;\n",
       "    }\n",
       "\n",
       "    .dataframe tbody tr th {\n",
       "        vertical-align: top;\n",
       "    }\n",
       "\n",
       "    .dataframe thead th {\n",
       "        text-align: right;\n",
       "    }\n",
       "</style>\n",
       "<table border=\"1\" class=\"dataframe\">\n",
       "  <thead>\n",
       "    <tr style=\"text-align: right;\">\n",
       "      <th></th>\n",
       "      <th>wid</th>\n",
       "      <th>sblid</th>\n",
       "      <th>gender</th>\n",
       "      <th>genderLabel</th>\n",
       "    </tr>\n",
       "  </thead>\n",
       "  <tbody>\n",
       "    <tr>\n",
       "      <th>0</th>\n",
       "      <td>Q132695</td>\n",
       "      <td>9140</td>\n",
       "      <td>http://www.wikidata.org/entity/Q6581097</td>\n",
       "      <td>man</td>\n",
       "    </tr>\n",
       "    <tr>\n",
       "      <th>1</th>\n",
       "      <td>Q242598</td>\n",
       "      <td>18364</td>\n",
       "      <td>http://www.wikidata.org/entity/Q6581072</td>\n",
       "      <td>kvinna</td>\n",
       "    </tr>\n",
       "    <tr>\n",
       "      <th>2</th>\n",
       "      <td>Q269812</td>\n",
       "      <td>8940</td>\n",
       "      <td>http://www.wikidata.org/entity/Q6581072</td>\n",
       "      <td>kvinna</td>\n",
       "    </tr>\n",
       "    <tr>\n",
       "      <th>3</th>\n",
       "      <td>Q287563</td>\n",
       "      <td>6755</td>\n",
       "      <td>http://www.wikidata.org/entity/Q6581072</td>\n",
       "      <td>kvinna</td>\n",
       "    </tr>\n",
       "    <tr>\n",
       "      <th>4</th>\n",
       "      <td>Q343674</td>\n",
       "      <td>7317</td>\n",
       "      <td>http://www.wikidata.org/entity/Q6581097</td>\n",
       "      <td>man</td>\n",
       "    </tr>\n",
       "  </tbody>\n",
       "</table>\n",
       "</div>"
      ],
      "text/plain": [
       "       wid  sblid                                   gender genderLabel\n",
       "0  Q132695   9140  http://www.wikidata.org/entity/Q6581097         man\n",
       "1  Q242598  18364  http://www.wikidata.org/entity/Q6581072      kvinna\n",
       "2  Q269812   8940  http://www.wikidata.org/entity/Q6581072      kvinna\n",
       "3  Q287563   6755  http://www.wikidata.org/entity/Q6581072      kvinna\n",
       "4  Q343674   7317  http://www.wikidata.org/entity/Q6581097         man"
      ]
     },
     "execution_count": 29,
     "metadata": {},
     "output_type": "execute_result"
    }
   ],
   "source": [
    "WDSBLtot.head()"
   ]
  },
  {
   "cell_type": "code",
   "execution_count": 30,
   "metadata": {},
   "outputs": [
    {
     "data": {
      "text/plain": [
       "genderLabel\n",
       "man         7129\n",
       "kvinna       542\n",
       "transman       1\n",
       "Name: count, dtype: int64"
      ]
     },
     "execution_count": 30,
     "metadata": {},
     "output_type": "execute_result"
    }
   ],
   "source": [
    "WDSBLtot[\"genderLabel\"].value_counts()  "
   ]
  },
  {
   "cell_type": "code",
   "execution_count": 31,
   "metadata": {},
   "outputs": [
    {
     "data": {
      "text/plain": [
       "WD_Webscrape\n",
       "both           7670\n",
       "scrape_only    1829\n",
       "WD_only           2\n",
       "Name: count, dtype: int64"
      ]
     },
     "execution_count": 31,
     "metadata": {},
     "output_type": "execute_result"
    }
   ],
   "source": [
    "#WDSBLtot plotSBLYearPublished  \n",
    "mergeWDSBLwebscrape = pd.merge(WDSBLtot, plotSBL,how='outer',left_on='sblid', right_on='SBLnr',indicator=True)   \n",
    "mergeWDSBLwebscrape.rename(columns={\"_merge\": \"WD_Webscrape\"},inplace = True)\n",
    "mergeWDSBLwebscrape['WD_Webscrape'] = mergeWDSBLwebscrape['WD_Webscrape'].str.replace('left_only','WD_only').str.replace('right_only','scrape_only')\n",
    "mergeWDSBLwebscrape[\"WD_Webscrape\"].value_counts()  \n"
   ]
  },
  {
   "cell_type": "code",
   "execution_count": 32,
   "metadata": {},
   "outputs": [
    {
     "data": {
      "text/html": [
       "<div>\n",
       "<style scoped>\n",
       "    .dataframe tbody tr th:only-of-type {\n",
       "        vertical-align: middle;\n",
       "    }\n",
       "\n",
       "    .dataframe tbody tr th {\n",
       "        vertical-align: top;\n",
       "    }\n",
       "\n",
       "    .dataframe thead th {\n",
       "        text-align: right;\n",
       "    }\n",
       "</style>\n",
       "<table border=\"1\" class=\"dataframe\">\n",
       "  <thead>\n",
       "    <tr style=\"text-align: right;\">\n",
       "      <th></th>\n",
       "      <th>wid</th>\n",
       "      <th>sblid</th>\n",
       "      <th>gender</th>\n",
       "      <th>genderLabel</th>\n",
       "      <th>SBLnr</th>\n",
       "      <th>SBLlength</th>\n",
       "      <th>titel</th>\n",
       "      <th>Fodd</th>\n",
       "      <th>Dod</th>\n",
       "      <th>Band</th>\n",
       "      <th>YearPublished</th>\n",
       "      <th>url</th>\n",
       "      <th>WD_Webscrape</th>\n",
       "    </tr>\n",
       "  </thead>\n",
       "  <tbody>\n",
       "    <tr>\n",
       "      <th>1</th>\n",
       "      <td>Q242598</td>\n",
       "      <td>18364.0</td>\n",
       "      <td>http://www.wikidata.org/entity/Q6581072</td>\n",
       "      <td>kvinna</td>\n",
       "      <td>18364.0</td>\n",
       "      <td>15820.0</td>\n",
       "      <td>Blanka</td>\n",
       "      <td>NaN</td>\n",
       "      <td>Död:1363</td>\n",
       "      <td>Band 04 (1924), sida 768.</td>\n",
       "      <td>1924-01-01</td>\n",
       "      <td>https://sok.riksarkivet.se/sbl/Presentation.as...</td>\n",
       "      <td>both</td>\n",
       "    </tr>\n",
       "    <tr>\n",
       "      <th>2</th>\n",
       "      <td>Q269812</td>\n",
       "      <td>8940.0</td>\n",
       "      <td>http://www.wikidata.org/entity/Q6581072</td>\n",
       "      <td>kvinna</td>\n",
       "      <td>8940.0</td>\n",
       "      <td>63821.0</td>\n",
       "      <td>Christine Nilsson</td>\n",
       "      <td>Född:1843-08-20 – Vederslövs församling, Krono...</td>\n",
       "      <td>Död:1921-11-22 – Växjö domkyrkoförsamling, Kro...</td>\n",
       "      <td>Band 26 (1987-1989), sida 686.</td>\n",
       "      <td>1989-01-01</td>\n",
       "      <td>https://sok.riksarkivet.se/sbl/Presentation.as...</td>\n",
       "      <td>both</td>\n",
       "    </tr>\n",
       "    <tr>\n",
       "      <th>3</th>\n",
       "      <td>Q287563</td>\n",
       "      <td>6755.0</td>\n",
       "      <td>http://www.wikidata.org/entity/Q6581072</td>\n",
       "      <td>kvinna</td>\n",
       "      <td>6755.0</td>\n",
       "      <td>19320.0</td>\n",
       "      <td>Rikissa</td>\n",
       "      <td>NaN</td>\n",
       "      <td>Död:1220-05-08</td>\n",
       "      <td>Band 30 (1998-2000), sida 198.</td>\n",
       "      <td>2000-01-01</td>\n",
       "      <td>https://sok.riksarkivet.se/sbl/Presentation.as...</td>\n",
       "      <td>both</td>\n",
       "    </tr>\n",
       "    <tr>\n",
       "      <th>5</th>\n",
       "      <td>Q526915</td>\n",
       "      <td>15535.0</td>\n",
       "      <td>http://www.wikidata.org/entity/Q6581072</td>\n",
       "      <td>kvinna</td>\n",
       "      <td>15535.0</td>\n",
       "      <td>56355.0</td>\n",
       "      <td>Eugénie (C. Eugénie A. A. A.)</td>\n",
       "      <td>Född:1830-04-24 – Stockholms stad, Stockholms ...</td>\n",
       "      <td>Död:1889-04-23 – Stockholms stad, Stockholms l...</td>\n",
       "      <td>Band 14 (1953), sida 662.</td>\n",
       "      <td>1953-01-01</td>\n",
       "      <td>https://sok.riksarkivet.se/sbl/Presentation.as...</td>\n",
       "      <td>both</td>\n",
       "    </tr>\n",
       "    <tr>\n",
       "      <th>13</th>\n",
       "      <td>Q2925391</td>\n",
       "      <td>16949.0</td>\n",
       "      <td>http://www.wikidata.org/entity/Q6581072</td>\n",
       "      <td>kvinna</td>\n",
       "      <td>16949.0</td>\n",
       "      <td>13137.0</td>\n",
       "      <td>Brigida</td>\n",
       "      <td>NaN</td>\n",
       "      <td>Död:levde på 1100</td>\n",
       "      <td>Band 06 (1926), sida 231.</td>\n",
       "      <td>1926-01-01</td>\n",
       "      <td>https://sok.riksarkivet.se/sbl/Presentation.as...</td>\n",
       "      <td>both</td>\n",
       "    </tr>\n",
       "  </tbody>\n",
       "</table>\n",
       "</div>"
      ],
      "text/plain": [
       "         wid    sblid                                   gender genderLabel  \\\n",
       "1    Q242598  18364.0  http://www.wikidata.org/entity/Q6581072      kvinna   \n",
       "2    Q269812   8940.0  http://www.wikidata.org/entity/Q6581072      kvinna   \n",
       "3    Q287563   6755.0  http://www.wikidata.org/entity/Q6581072      kvinna   \n",
       "5    Q526915  15535.0  http://www.wikidata.org/entity/Q6581072      kvinna   \n",
       "13  Q2925391  16949.0  http://www.wikidata.org/entity/Q6581072      kvinna   \n",
       "\n",
       "      SBLnr  SBLlength                           titel  \\\n",
       "1   18364.0    15820.0                          Blanka   \n",
       "2    8940.0    63821.0               Christine Nilsson   \n",
       "3    6755.0    19320.0                         Rikissa   \n",
       "5   15535.0    56355.0   Eugénie (C. Eugénie A. A. A.)   \n",
       "13  16949.0    13137.0                         Brigida   \n",
       "\n",
       "                                                 Fodd  \\\n",
       "1                                                 NaN   \n",
       "2   Född:1843-08-20 – Vederslövs församling, Krono...   \n",
       "3                                                 NaN   \n",
       "5   Född:1830-04-24 – Stockholms stad, Stockholms ...   \n",
       "13                                                NaN   \n",
       "\n",
       "                                                  Dod  \\\n",
       "1                                            Död:1363   \n",
       "2   Död:1921-11-22 – Växjö domkyrkoförsamling, Kro...   \n",
       "3                                      Död:1220-05-08   \n",
       "5   Död:1889-04-23 – Stockholms stad, Stockholms l...   \n",
       "13                                  Död:levde på 1100   \n",
       "\n",
       "                              Band YearPublished  \\\n",
       "1        Band 04 (1924), sida 768.    1924-01-01   \n",
       "2   Band 26 (1987-1989), sida 686.    1989-01-01   \n",
       "3   Band 30 (1998-2000), sida 198.    2000-01-01   \n",
       "5        Band 14 (1953), sida 662.    1953-01-01   \n",
       "13       Band 06 (1926), sida 231.    1926-01-01   \n",
       "\n",
       "                                                  url WD_Webscrape  \n",
       "1   https://sok.riksarkivet.se/sbl/Presentation.as...         both  \n",
       "2   https://sok.riksarkivet.se/sbl/Presentation.as...         both  \n",
       "3   https://sok.riksarkivet.se/sbl/Presentation.as...         both  \n",
       "5   https://sok.riksarkivet.se/sbl/Presentation.as...         both  \n",
       "13  https://sok.riksarkivet.se/sbl/Presentation.as...         both  "
      ]
     },
     "execution_count": 32,
     "metadata": {},
     "output_type": "execute_result"
    }
   ],
   "source": [
    "dfWD_SBL_article = mergeWDSBLwebscrape[mergeWDSBLwebscrape.WD_Webscrape.str.contains(\"both\")]\n",
    "#dfWDSKBLarticle.YearPublished.dt.strftime(\"%Y\") \n",
    "#dfWDSKBLarticle.info()  \n",
    "dfWD_SBL_female_article = dfWD_SBL_article[dfWD_SBL_article.genderLabel.str.contains(\"kvinna\")]\n",
    "dfWD_SBL_female_article.head()  \n",
    "# Year genderLabel count"
   ]
  },
  {
   "cell_type": "code",
   "execution_count": 33,
   "metadata": {},
   "outputs": [],
   "source": [
    "# set date as index\n",
    "#fig = plt.subplots(figsize=(15,7))\n",
    "\n",
    "#plotSBLYearFemailPublished = dfWD_SBL_female_article[\"YearPublished\"].dt.strftime(\"%Y\").value_counts().sort_index().plot(kind='bar', color=['red'])\n",
    "\n",
    "#plt.title(\"SBL articles published per Year about women 1918-2019\")\n",
    "#plt.savefig('SBL_published_articles_women_1918-2018.png')  \n",
    "#plt.show()  \n",
    "#plotSBLYearPublished.info \n"
   ]
  },
  {
   "cell_type": "code",
   "execution_count": 34,
   "metadata": {},
   "outputs": [],
   "source": [
    "#dfWD_SBL_female_article[\"YearPublished\"].dt.strftime(\"%Y\").value_counts().sort_index(ascending=False)"
   ]
  },
  {
   "cell_type": "code",
   "execution_count": 35,
   "metadata": {},
   "outputs": [
    {
     "data": {
      "text/html": [
       "<div>\n",
       "<style scoped>\n",
       "    .dataframe tbody tr th:only-of-type {\n",
       "        vertical-align: middle;\n",
       "    }\n",
       "\n",
       "    .dataframe tbody tr th {\n",
       "        vertical-align: top;\n",
       "    }\n",
       "\n",
       "    .dataframe thead th {\n",
       "        text-align: right;\n",
       "    }\n",
       "</style>\n",
       "<table border=\"1\" class=\"dataframe\">\n",
       "  <thead>\n",
       "    <tr style=\"text-align: right;\">\n",
       "      <th></th>\n",
       "      <th>wid</th>\n",
       "      <th>sblid</th>\n",
       "      <th>gender</th>\n",
       "      <th>genderLabel</th>\n",
       "      <th>SBLnr</th>\n",
       "      <th>SBLlength</th>\n",
       "      <th>titel</th>\n",
       "      <th>Fodd</th>\n",
       "      <th>Dod</th>\n",
       "      <th>Band</th>\n",
       "      <th>YearPublished</th>\n",
       "      <th>url</th>\n",
       "      <th>WD_Webscrape</th>\n",
       "    </tr>\n",
       "  </thead>\n",
       "  <tbody>\n",
       "    <tr>\n",
       "      <th>1</th>\n",
       "      <td>Q242598</td>\n",
       "      <td>18364.0</td>\n",
       "      <td>http://www.wikidata.org/entity/Q6581072</td>\n",
       "      <td>kvinna</td>\n",
       "      <td>18364.0</td>\n",
       "      <td>15820.0</td>\n",
       "      <td>Blanka</td>\n",
       "      <td>NaN</td>\n",
       "      <td>Död:1363</td>\n",
       "      <td>Band 04 (1924), sida 768.</td>\n",
       "      <td>1924-01-01</td>\n",
       "      <td>https://sok.riksarkivet.se/sbl/Presentation.as...</td>\n",
       "      <td>both</td>\n",
       "    </tr>\n",
       "    <tr>\n",
       "      <th>2</th>\n",
       "      <td>Q269812</td>\n",
       "      <td>8940.0</td>\n",
       "      <td>http://www.wikidata.org/entity/Q6581072</td>\n",
       "      <td>kvinna</td>\n",
       "      <td>8940.0</td>\n",
       "      <td>63821.0</td>\n",
       "      <td>Christine Nilsson</td>\n",
       "      <td>Född:1843-08-20 – Vederslövs församling, Krono...</td>\n",
       "      <td>Död:1921-11-22 – Växjö domkyrkoförsamling, Kro...</td>\n",
       "      <td>Band 26 (1987-1989), sida 686.</td>\n",
       "      <td>1989-01-01</td>\n",
       "      <td>https://sok.riksarkivet.se/sbl/Presentation.as...</td>\n",
       "      <td>both</td>\n",
       "    </tr>\n",
       "    <tr>\n",
       "      <th>3</th>\n",
       "      <td>Q287563</td>\n",
       "      <td>6755.0</td>\n",
       "      <td>http://www.wikidata.org/entity/Q6581072</td>\n",
       "      <td>kvinna</td>\n",
       "      <td>6755.0</td>\n",
       "      <td>19320.0</td>\n",
       "      <td>Rikissa</td>\n",
       "      <td>NaN</td>\n",
       "      <td>Död:1220-05-08</td>\n",
       "      <td>Band 30 (1998-2000), sida 198.</td>\n",
       "      <td>2000-01-01</td>\n",
       "      <td>https://sok.riksarkivet.se/sbl/Presentation.as...</td>\n",
       "      <td>both</td>\n",
       "    </tr>\n",
       "    <tr>\n",
       "      <th>5</th>\n",
       "      <td>Q526915</td>\n",
       "      <td>15535.0</td>\n",
       "      <td>http://www.wikidata.org/entity/Q6581072</td>\n",
       "      <td>kvinna</td>\n",
       "      <td>15535.0</td>\n",
       "      <td>56355.0</td>\n",
       "      <td>Eugénie (C. Eugénie A. A. A.)</td>\n",
       "      <td>Född:1830-04-24 – Stockholms stad, Stockholms ...</td>\n",
       "      <td>Död:1889-04-23 – Stockholms stad, Stockholms l...</td>\n",
       "      <td>Band 14 (1953), sida 662.</td>\n",
       "      <td>1953-01-01</td>\n",
       "      <td>https://sok.riksarkivet.se/sbl/Presentation.as...</td>\n",
       "      <td>both</td>\n",
       "    </tr>\n",
       "    <tr>\n",
       "      <th>13</th>\n",
       "      <td>Q2925391</td>\n",
       "      <td>16949.0</td>\n",
       "      <td>http://www.wikidata.org/entity/Q6581072</td>\n",
       "      <td>kvinna</td>\n",
       "      <td>16949.0</td>\n",
       "      <td>13137.0</td>\n",
       "      <td>Brigida</td>\n",
       "      <td>NaN</td>\n",
       "      <td>Död:levde på 1100</td>\n",
       "      <td>Band 06 (1926), sida 231.</td>\n",
       "      <td>1926-01-01</td>\n",
       "      <td>https://sok.riksarkivet.se/sbl/Presentation.as...</td>\n",
       "      <td>both</td>\n",
       "    </tr>\n",
       "  </tbody>\n",
       "</table>\n",
       "</div>"
      ],
      "text/plain": [
       "         wid    sblid                                   gender genderLabel  \\\n",
       "1    Q242598  18364.0  http://www.wikidata.org/entity/Q6581072      kvinna   \n",
       "2    Q269812   8940.0  http://www.wikidata.org/entity/Q6581072      kvinna   \n",
       "3    Q287563   6755.0  http://www.wikidata.org/entity/Q6581072      kvinna   \n",
       "5    Q526915  15535.0  http://www.wikidata.org/entity/Q6581072      kvinna   \n",
       "13  Q2925391  16949.0  http://www.wikidata.org/entity/Q6581072      kvinna   \n",
       "\n",
       "      SBLnr  SBLlength                           titel  \\\n",
       "1   18364.0    15820.0                          Blanka   \n",
       "2    8940.0    63821.0               Christine Nilsson   \n",
       "3    6755.0    19320.0                         Rikissa   \n",
       "5   15535.0    56355.0   Eugénie (C. Eugénie A. A. A.)   \n",
       "13  16949.0    13137.0                         Brigida   \n",
       "\n",
       "                                                 Fodd  \\\n",
       "1                                                 NaN   \n",
       "2   Född:1843-08-20 – Vederslövs församling, Krono...   \n",
       "3                                                 NaN   \n",
       "5   Född:1830-04-24 – Stockholms stad, Stockholms ...   \n",
       "13                                                NaN   \n",
       "\n",
       "                                                  Dod  \\\n",
       "1                                            Död:1363   \n",
       "2   Död:1921-11-22 – Växjö domkyrkoförsamling, Kro...   \n",
       "3                                      Död:1220-05-08   \n",
       "5   Död:1889-04-23 – Stockholms stad, Stockholms l...   \n",
       "13                                  Död:levde på 1100   \n",
       "\n",
       "                              Band YearPublished  \\\n",
       "1        Band 04 (1924), sida 768.    1924-01-01   \n",
       "2   Band 26 (1987-1989), sida 686.    1989-01-01   \n",
       "3   Band 30 (1998-2000), sida 198.    2000-01-01   \n",
       "5        Band 14 (1953), sida 662.    1953-01-01   \n",
       "13       Band 06 (1926), sida 231.    1926-01-01   \n",
       "\n",
       "                                                  url WD_Webscrape  \n",
       "1   https://sok.riksarkivet.se/sbl/Presentation.as...         both  \n",
       "2   https://sok.riksarkivet.se/sbl/Presentation.as...         both  \n",
       "3   https://sok.riksarkivet.se/sbl/Presentation.as...         both  \n",
       "5   https://sok.riksarkivet.se/sbl/Presentation.as...         both  \n",
       "13  https://sok.riksarkivet.se/sbl/Presentation.as...         both  "
      ]
     },
     "execution_count": 35,
     "metadata": {},
     "output_type": "execute_result"
    }
   ],
   "source": [
    "dfWD_SBL_female_article.head()"
   ]
  },
  {
   "cell_type": "code",
   "execution_count": 36,
   "metadata": {},
   "outputs": [
    {
     "data": {
      "image/png": "[encoded data removed]",
      "text/plain": [
       "<Figure size 1500x700 with 1 Axes>"
      ]
     },
     "metadata": {},
     "output_type": "display_data"
    }
   ],
   "source": [
    "fig = plt.subplots(figsize=(15,7))\n",
    "\n",
    "plotSBLYearFemailPublished = dfWD_SBL_female_article[\"YearPublished\"].dt.strftime(\"%Y\").value_counts().sort_index().plot(kind='bar', color=['red'])\n",
    "#plotSBLYearPublished = plotSBL[\"YearPublished\"].dt.strftime(\"%Y\").value_counts().sort_index()\n",
    "#plotSBLYearPublished.plot( kind = 'bar', color=['g']) \n",
    "plt.title(\"SBL articles published per Year all and women 1918-2019\")\n",
    "plt.savefig('SBL_published_articles_all_women_1918-2018.png')  \n",
    "plt.show()  "
   ]
  },
  {
   "cell_type": "code",
   "execution_count": 37,
   "metadata": {},
   "outputs": [
    {
     "name": "stdout",
     "output_type": "stream",
     "text": [
      "<class 'pandas.core.frame.DataFrame'>\n",
      "Index: 7670 entries, 0 to 7671\n",
      "Data columns (total 13 columns):\n",
      " #   Column         Non-Null Count  Dtype         \n",
      "---  ------         --------------  -----         \n",
      " 0   wid            7670 non-null   object        \n",
      " 1   sblid          7670 non-null   float64       \n",
      " 2   gender         7670 non-null   object        \n",
      " 3   genderLabel    7670 non-null   object        \n",
      " 4   SBLnr          7670 non-null   float64       \n",
      " 5   SBLlength      7670 non-null   float64       \n",
      " 6   titel          7670 non-null   object        \n",
      " 7   Fodd           7148 non-null   object        \n",
      " 8   Dod            7629 non-null   object        \n",
      " 9   Band           7670 non-null   object        \n",
      " 10  YearPublished  7599 non-null   datetime64[ns]\n",
      " 11  url            7670 non-null   object        \n",
      " 12  WD_Webscrape   7670 non-null   object        \n",
      "dtypes: datetime64[ns](1), float64(3), object(9)\n",
      "memory usage: 838.9+ KB\n"
     ]
    },
    {
     "data": {
      "text/html": [
       "<div>\n",
       "<style scoped>\n",
       "    .dataframe tbody tr th:only-of-type {\n",
       "        vertical-align: middle;\n",
       "    }\n",
       "\n",
       "    .dataframe tbody tr th {\n",
       "        vertical-align: top;\n",
       "    }\n",
       "\n",
       "    .dataframe thead th {\n",
       "        text-align: right;\n",
       "    }\n",
       "</style>\n",
       "<table border=\"1\" class=\"dataframe\">\n",
       "  <thead>\n",
       "    <tr style=\"text-align: right;\">\n",
       "      <th></th>\n",
       "      <th>wid</th>\n",
       "      <th>sblid</th>\n",
       "      <th>gender</th>\n",
       "      <th>genderLabel</th>\n",
       "      <th>SBLnr</th>\n",
       "      <th>SBLlength</th>\n",
       "      <th>titel</th>\n",
       "      <th>Fodd</th>\n",
       "      <th>Dod</th>\n",
       "      <th>Band</th>\n",
       "      <th>YearPublished</th>\n",
       "      <th>url</th>\n",
       "      <th>WD_Webscrape</th>\n",
       "    </tr>\n",
       "  </thead>\n",
       "  <tbody>\n",
       "    <tr>\n",
       "      <th>0</th>\n",
       "      <td>Q132695</td>\n",
       "      <td>9140.0</td>\n",
       "      <td>http://www.wikidata.org/entity/Q6581097</td>\n",
       "      <td>man</td>\n",
       "      <td>9140.0</td>\n",
       "      <td>207586.0</td>\n",
       "      <td>Harry E Martinson</td>\n",
       "      <td>Född:1904-05-06 – Jämshögs församling, Bleking...</td>\n",
       "      <td>Död:1978-02-11 – Sollentuna församling, Stockh...</td>\n",
       "      <td>Band 25 (1985-1987), sida 204.</td>\n",
       "      <td>1987-01-01</td>\n",
       "      <td>https://sok.riksarkivet.se/sbl/Presentation.as...</td>\n",
       "      <td>both</td>\n",
       "    </tr>\n",
       "    <tr>\n",
       "      <th>1</th>\n",
       "      <td>Q242598</td>\n",
       "      <td>18364.0</td>\n",
       "      <td>http://www.wikidata.org/entity/Q6581072</td>\n",
       "      <td>kvinna</td>\n",
       "      <td>18364.0</td>\n",
       "      <td>15820.0</td>\n",
       "      <td>Blanka</td>\n",
       "      <td>NaN</td>\n",
       "      <td>Död:1363</td>\n",
       "      <td>Band 04 (1924), sida 768.</td>\n",
       "      <td>1924-01-01</td>\n",
       "      <td>https://sok.riksarkivet.se/sbl/Presentation.as...</td>\n",
       "      <td>both</td>\n",
       "    </tr>\n",
       "    <tr>\n",
       "      <th>2</th>\n",
       "      <td>Q269812</td>\n",
       "      <td>8940.0</td>\n",
       "      <td>http://www.wikidata.org/entity/Q6581072</td>\n",
       "      <td>kvinna</td>\n",
       "      <td>8940.0</td>\n",
       "      <td>63821.0</td>\n",
       "      <td>Christine Nilsson</td>\n",
       "      <td>Född:1843-08-20 – Vederslövs församling, Krono...</td>\n",
       "      <td>Död:1921-11-22 – Växjö domkyrkoförsamling, Kro...</td>\n",
       "      <td>Band 26 (1987-1989), sida 686.</td>\n",
       "      <td>1989-01-01</td>\n",
       "      <td>https://sok.riksarkivet.se/sbl/Presentation.as...</td>\n",
       "      <td>both</td>\n",
       "    </tr>\n",
       "    <tr>\n",
       "      <th>3</th>\n",
       "      <td>Q287563</td>\n",
       "      <td>6755.0</td>\n",
       "      <td>http://www.wikidata.org/entity/Q6581072</td>\n",
       "      <td>kvinna</td>\n",
       "      <td>6755.0</td>\n",
       "      <td>19320.0</td>\n",
       "      <td>Rikissa</td>\n",
       "      <td>NaN</td>\n",
       "      <td>Död:1220-05-08</td>\n",
       "      <td>Band 30 (1998-2000), sida 198.</td>\n",
       "      <td>2000-01-01</td>\n",
       "      <td>https://sok.riksarkivet.se/sbl/Presentation.as...</td>\n",
       "      <td>both</td>\n",
       "    </tr>\n",
       "    <tr>\n",
       "      <th>4</th>\n",
       "      <td>Q343674</td>\n",
       "      <td>7317.0</td>\n",
       "      <td>http://www.wikidata.org/entity/Q6581097</td>\n",
       "      <td>man</td>\n",
       "      <td>7317.0</td>\n",
       "      <td>45404.0</td>\n",
       "      <td>Baltzar J E Platen, von</td>\n",
       "      <td>Född:1804-04-16 – Näs församling (R-län), Skar...</td>\n",
       "      <td>Död:1875-03-20 – Jakobs församling, Stockholms...</td>\n",
       "      <td>Band 29 (1995-1997), sida 359.</td>\n",
       "      <td>1997-01-01</td>\n",
       "      <td>https://sok.riksarkivet.se/sbl/Presentation.as...</td>\n",
       "      <td>both</td>\n",
       "    </tr>\n",
       "  </tbody>\n",
       "</table>\n",
       "</div>"
      ],
      "text/plain": [
       "       wid    sblid                                   gender genderLabel  \\\n",
       "0  Q132695   9140.0  http://www.wikidata.org/entity/Q6581097         man   \n",
       "1  Q242598  18364.0  http://www.wikidata.org/entity/Q6581072      kvinna   \n",
       "2  Q269812   8940.0  http://www.wikidata.org/entity/Q6581072      kvinna   \n",
       "3  Q287563   6755.0  http://www.wikidata.org/entity/Q6581072      kvinna   \n",
       "4  Q343674   7317.0  http://www.wikidata.org/entity/Q6581097         man   \n",
       "\n",
       "     SBLnr  SBLlength                    titel  \\\n",
       "0   9140.0   207586.0        Harry E Martinson   \n",
       "1  18364.0    15820.0                   Blanka   \n",
       "2   8940.0    63821.0        Christine Nilsson   \n",
       "3   6755.0    19320.0                  Rikissa   \n",
       "4   7317.0    45404.0  Baltzar J E Platen, von   \n",
       "\n",
       "                                                Fodd  \\\n",
       "0  Född:1904-05-06 – Jämshögs församling, Bleking...   \n",
       "1                                                NaN   \n",
       "2  Född:1843-08-20 – Vederslövs församling, Krono...   \n",
       "3                                                NaN   \n",
       "4  Född:1804-04-16 – Näs församling (R-län), Skar...   \n",
       "\n",
       "                                                 Dod  \\\n",
       "0  Död:1978-02-11 – Sollentuna församling, Stockh...   \n",
       "1                                           Död:1363   \n",
       "2  Död:1921-11-22 – Växjö domkyrkoförsamling, Kro...   \n",
       "3                                     Död:1220-05-08   \n",
       "4  Död:1875-03-20 – Jakobs församling, Stockholms...   \n",
       "\n",
       "                             Band YearPublished  \\\n",
       "0  Band 25 (1985-1987), sida 204.    1987-01-01   \n",
       "1       Band 04 (1924), sida 768.    1924-01-01   \n",
       "2  Band 26 (1987-1989), sida 686.    1989-01-01   \n",
       "3  Band 30 (1998-2000), sida 198.    2000-01-01   \n",
       "4  Band 29 (1995-1997), sida 359.    1997-01-01   \n",
       "\n",
       "                                                 url WD_Webscrape  \n",
       "0  https://sok.riksarkivet.se/sbl/Presentation.as...         both  \n",
       "1  https://sok.riksarkivet.se/sbl/Presentation.as...         both  \n",
       "2  https://sok.riksarkivet.se/sbl/Presentation.as...         both  \n",
       "3  https://sok.riksarkivet.se/sbl/Presentation.as...         both  \n",
       "4  https://sok.riksarkivet.se/sbl/Presentation.as...         both  "
      ]
     },
     "execution_count": 37,
     "metadata": {},
     "output_type": "execute_result"
    }
   ],
   "source": [
    "speed = [0.1, 17.5, 40, 48, 52, 69, 88]\n",
    "lifespan = [2, 8, 70, 1.5, 25, 12, 28]\n",
    "index = ['snail', 'pig', 'elephant',\n",
    "          'rabbit', 'giraffe', 'coyote', 'horse']\n",
    "df = pd.DataFrame({'speed': speed,\n",
    "                    'lifespan': lifespan}, index=index)\n",
    "#ax = df.plot.bar(rot=0)\n",
    "\n",
    "\n",
    "#plotSBLYearPublished_FM = dfWD_SBL_article.groupby([\"YearPublished\"])\n",
    "#plotSBLYearPublished_FM = dfWD_SBL_article.groupby([\"YearPublished\"])[\"genderLabel\"].transform(\"count\")\n",
    "#df['Counts'] = df.groupby(['Color'])['Value'].transform('count')\n",
    "#plotSBLYearPublished_FM.head()  \n",
    "dfWD_SBL_article.info()\n",
    "dfWD_SBL_article.head()\n",
    "\n",
    "# Group by YearPublished genderLabel"
   ]
  },
  {
   "cell_type": "markdown",
   "metadata": {},
   "source": [
    "### Släktartiklar  \n",
    "Nedan lite gissning att en släktartikel har ordet släkt i titeln. \n",
    "\n",
    "* se också [webscarping Adelsvapen](https://gist.github.com/salgo60/31e0c4bf6f075c373fb5bbfb6cc807c6)\n",
    "* csv lista skapad nedan på [GIST](https://gist.github.com/salgo60/31e0c4bf6f075c373fb5bbfb6cc807c6#gistcomment-3457126) "
   ]
  },
  {
   "cell_type": "code",
   "execution_count": 38,
   "metadata": {},
   "outputs": [],
   "source": [
    "#dfFamily = plotSBL[plotSBL.isnull().any(1)] \n",
    "dfFamily = plotSBL[plotSBL.isnull().any(axis=1)]"
   ]
  },
  {
   "cell_type": "code",
   "execution_count": 39,
   "metadata": {},
   "outputs": [
    {
     "name": "stdout",
     "output_type": "stream",
     "text": [
      "<class 'pandas.core.frame.DataFrame'>\n",
      "Index: 2419 entries, 1918 to 2020-\n",
      "Data columns (total 8 columns):\n",
      " #   Column         Non-Null Count  Dtype         \n",
      "---  ------         --------------  -----         \n",
      " 0   SBLnr          2419 non-null   int64         \n",
      " 1   SBLlength      2419 non-null   int64         \n",
      " 2   titel          2419 non-null   object        \n",
      " 3   Fodd           116 non-null    object        \n",
      " 4   Dod            602 non-null    object        \n",
      " 5   Band           2419 non-null   object        \n",
      " 6   YearPublished  2244 non-null   datetime64[ns]\n",
      " 7   url            2419 non-null   object        \n",
      "dtypes: datetime64[ns](1), int64(2), object(5)\n",
      "memory usage: 170.1+ KB\n"
     ]
    }
   ],
   "source": [
    "dfFamily.info()"
   ]
  },
  {
   "cell_type": "code",
   "execution_count": 40,
   "metadata": {},
   "outputs": [],
   "source": [
    "#dfFamily"
   ]
  },
  {
   "cell_type": "code",
   "execution_count": 41,
   "metadata": {},
   "outputs": [],
   "source": [
    "dfFamilySlakt = dfFamily[dfFamily.titel.str.contains(\"släkt\")]\n",
    "#dfFamilySlakt"
   ]
  },
  {
   "cell_type": "code",
   "execution_count": 42,
   "metadata": {},
   "outputs": [],
   "source": [
    "dictFamily = dfFamilySlakt.to_dict()"
   ]
  },
  {
   "cell_type": "code",
   "execution_count": null,
   "metadata": {},
   "outputs": [],
   "source": []
  },
  {
   "cell_type": "code",
   "execution_count": 43,
   "metadata": {},
   "outputs": [
    {
     "data": {
      "text/plain": [
       "1718"
      ]
     },
     "execution_count": 43,
     "metadata": {},
     "output_type": "execute_result"
    }
   ],
   "source": [
    "dfFamily.titel.str.contains(\"släkt\").sum()"
   ]
  },
  {
   "cell_type": "code",
   "execution_count": 44,
   "metadata": {},
   "outputs": [
    {
     "data": {
      "text/plain": [
       "28"
      ]
     },
     "execution_count": 44,
     "metadata": {},
     "output_type": "execute_result"
    }
   ],
   "source": [
    "dfFamily.titel.str.contains(\"ätten\").sum()"
   ]
  },
  {
   "cell_type": "code",
   "execution_count": 45,
   "metadata": {},
   "outputs": [
    {
     "data": {
      "text/plain": [
       "1"
      ]
     },
     "execution_count": 45,
     "metadata": {},
     "output_type": "execute_result"
    }
   ],
   "source": [
    "dfFamily.titel.str.contains(\"Släkt\").sum()"
   ]
  },
  {
   "cell_type": "code",
   "execution_count": 46,
   "metadata": {},
   "outputs": [
    {
     "data": {
      "text/plain": [
       "23"
      ]
     },
     "execution_count": 46,
     "metadata": {},
     "output_type": "execute_result"
    }
   ],
   "source": [
    "dfFamily.Dod.str.contains(\"senas\").sum()"
   ]
  },
  {
   "cell_type": "code",
   "execution_count": 47,
   "metadata": {},
   "outputs": [],
   "source": [
    "#dfFamily[dfFamily.Dod.str.contains(\"senas\", na=False)]"
   ]
  },
  {
   "cell_type": "code",
   "execution_count": 48,
   "metadata": {},
   "outputs": [
    {
     "data": {
      "text/html": [
       "<div>\n",
       "<style scoped>\n",
       "    .dataframe tbody tr th:only-of-type {\n",
       "        vertical-align: middle;\n",
       "    }\n",
       "\n",
       "    .dataframe tbody tr th {\n",
       "        vertical-align: top;\n",
       "    }\n",
       "\n",
       "    .dataframe thead th {\n",
       "        text-align: right;\n",
       "    }\n",
       "</style>\n",
       "<table border=\"1\" class=\"dataframe\">\n",
       "  <thead>\n",
       "    <tr style=\"text-align: right;\">\n",
       "      <th></th>\n",
       "      <th>SBLnr</th>\n",
       "      <th>SBLlength</th>\n",
       "      <th>titel</th>\n",
       "      <th>Fodd</th>\n",
       "      <th>Dod</th>\n",
       "      <th>Band</th>\n",
       "      <th>YearPublished</th>\n",
       "      <th>url</th>\n",
       "    </tr>\n",
       "    <tr>\n",
       "      <th>Year</th>\n",
       "      <th></th>\n",
       "      <th></th>\n",
       "      <th></th>\n",
       "      <th></th>\n",
       "      <th></th>\n",
       "      <th></th>\n",
       "      <th></th>\n",
       "      <th></th>\n",
       "    </tr>\n",
       "  </thead>\n",
       "  <tbody>\n",
       "    <tr>\n",
       "      <th>2020-</th>\n",
       "      <td>35131</td>\n",
       "      <td>41992</td>\n",
       "      <td>Gertie Söderberg</td>\n",
       "      <td>Född:1892-09-24 – Tyska Sankta Gertruds försam...</td>\n",
       "      <td>Död:1983-06-12 – Västerleds församling, Stockh...</td>\n",
       "      <td>Band 35 (2020-), sida 241.</td>\n",
       "      <td>NaT</td>\n",
       "      <td>https://sok.riksarkivet.se/sbl/Presentation.as...</td>\n",
       "    </tr>\n",
       "    <tr>\n",
       "      <th>2020-</th>\n",
       "      <td>35244</td>\n",
       "      <td>78345</td>\n",
       "      <td>Harry Söderman</td>\n",
       "      <td>Född:1902-08-24 – Hedvig Eleonora församling, ...</td>\n",
       "      <td>Död:1956-03-16 – Marocko (Tanger)</td>\n",
       "      <td>Band 35 (2020-), sida 438.</td>\n",
       "      <td>NaT</td>\n",
       "      <td>https://sok.riksarkivet.se/sbl/Presentation.as...</td>\n",
       "    </tr>\n",
       "    <tr>\n",
       "      <th>2020-</th>\n",
       "      <td>35004</td>\n",
       "      <td>51010</td>\n",
       "      <td>Stig Gustaf Eugén Synnergren</td>\n",
       "      <td>Född:1915-02-25 – Överluleå församling, Norrbo...</td>\n",
       "      <td>Död:2004-04-28 – Hedvig Eleonora församling, S...</td>\n",
       "      <td>Band 35 (2020-), sida 138.</td>\n",
       "      <td>NaT</td>\n",
       "      <td>https://sok.riksarkivet.se/sbl/Presentation.as...</td>\n",
       "    </tr>\n",
       "    <tr>\n",
       "      <th>2020-</th>\n",
       "      <td>35135</td>\n",
       "      <td>30830</td>\n",
       "      <td>Johan Söderberg</td>\n",
       "      <td>Född:1772-01-06 – Gåsinge församling, Söderman...</td>\n",
       "      <td>Död:1820-12-13 – Maria Magdalena församling, S...</td>\n",
       "      <td>Band 35 (2020-), sida 252.</td>\n",
       "      <td>NaT</td>\n",
       "      <td>https://sok.riksarkivet.se/sbl/Presentation.as...</td>\n",
       "    </tr>\n",
       "    <tr>\n",
       "      <th>1931</th>\n",
       "      <td>15784</td>\n",
       "      <td>33079</td>\n",
       "      <td>Magnus E. Dahlander</td>\n",
       "      <td>Född:1862-08-02 – Säters stadsförsamling, Dala...</td>\n",
       "      <td>NaN</td>\n",
       "      <td>Band 09 (1931), sida 592.</td>\n",
       "      <td>1931-01-01</td>\n",
       "      <td>https://sok.riksarkivet.se/sbl/Presentation.as...</td>\n",
       "    </tr>\n",
       "    <tr>\n",
       "      <th>2020-</th>\n",
       "      <td>35023</td>\n",
       "      <td>51191</td>\n",
       "      <td>Valborg Josefina Svärdström</td>\n",
       "      <td>Född:1879-12-22 – Gävle Heliga Trefaldighets f...</td>\n",
       "      <td>Död:1972-02-01 – Tyskland (Eckwälden-Bad Boll,...</td>\n",
       "      <td>Band 35 (2020-), sida 53.</td>\n",
       "      <td>NaT</td>\n",
       "      <td>https://sok.riksarkivet.se/sbl/Presentation.as...</td>\n",
       "    </tr>\n",
       "    <tr>\n",
       "      <th>2020-</th>\n",
       "      <td>34989</td>\n",
       "      <td>69932</td>\n",
       "      <td>Dagmar Barbro Margaret Svinhufvud</td>\n",
       "      <td>Född:1909-09-07 – Stockholms katolska församli...</td>\n",
       "      <td>Död:1991-07-22 – Danderyds församling, Stockho...</td>\n",
       "      <td>Band 35 (2020-), sida 32.</td>\n",
       "      <td>NaT</td>\n",
       "      <td>https://sok.riksarkivet.se/sbl/Presentation.as...</td>\n",
       "    </tr>\n",
       "    <tr>\n",
       "      <th>2020-</th>\n",
       "      <td>35182</td>\n",
       "      <td>45503</td>\n",
       "      <td>Fritz Enoch August Söderbergh</td>\n",
       "      <td>Född:1865-03-29 – Karlshamns församling, Bleki...</td>\n",
       "      <td>Död:1948-09-11 – Johannes församling, Stockhol...</td>\n",
       "      <td>Band 35 (2020-), sida 331.</td>\n",
       "      <td>NaT</td>\n",
       "      <td>https://sok.riksarkivet.se/sbl/Presentation.as...</td>\n",
       "    </tr>\n",
       "    <tr>\n",
       "      <th>2020-</th>\n",
       "      <td>35082</td>\n",
       "      <td>57182</td>\n",
       "      <td>Carl Tarras Sällfors</td>\n",
       "      <td>Född:1898-04-01 – Helsingborgs Maria församlin...</td>\n",
       "      <td>Död:1960-03-17 – Oscars församling, Stockholms...</td>\n",
       "      <td>Band 35 (2020-), sida 176.</td>\n",
       "      <td>NaT</td>\n",
       "      <td>https://sok.riksarkivet.se/sbl/Presentation.as...</td>\n",
       "    </tr>\n",
       "    <tr>\n",
       "      <th>2020-</th>\n",
       "      <td>35045</td>\n",
       "      <td>73416</td>\n",
       "      <td>Mark Christopher Sylwan</td>\n",
       "      <td>Född:1914-03-05 – Adolf Fredriks församling, S...</td>\n",
       "      <td>Död:1993-12-07 – Oscars församling, Stockholms...</td>\n",
       "      <td>Band 35 (2020-), sida 114.</td>\n",
       "      <td>NaT</td>\n",
       "      <td>https://sok.riksarkivet.se/sbl/Presentation.as...</td>\n",
       "    </tr>\n",
       "  </tbody>\n",
       "</table>\n",
       "</div>"
      ],
      "text/plain": [
       "       SBLnr  SBLlength                              titel  \\\n",
       "Year                                                         \n",
       "2020-  35131      41992                   Gertie Söderberg   \n",
       "2020-  35244      78345                     Harry Söderman   \n",
       "2020-  35004      51010       Stig Gustaf Eugén Synnergren   \n",
       "2020-  35135      30830                    Johan Söderberg   \n",
       "1931   15784      33079                Magnus E. Dahlander   \n",
       "2020-  35023      51191        Valborg Josefina Svärdström   \n",
       "2020-  34989      69932  Dagmar Barbro Margaret Svinhufvud   \n",
       "2020-  35182      45503      Fritz Enoch August Söderbergh   \n",
       "2020-  35082      57182               Carl Tarras Sällfors   \n",
       "2020-  35045      73416            Mark Christopher Sylwan   \n",
       "\n",
       "                                                    Fodd  \\\n",
       "Year                                                       \n",
       "2020-  Född:1892-09-24 – Tyska Sankta Gertruds försam...   \n",
       "2020-  Född:1902-08-24 – Hedvig Eleonora församling, ...   \n",
       "2020-  Född:1915-02-25 – Överluleå församling, Norrbo...   \n",
       "2020-  Född:1772-01-06 – Gåsinge församling, Söderman...   \n",
       "1931   Född:1862-08-02 – Säters stadsförsamling, Dala...   \n",
       "2020-  Född:1879-12-22 – Gävle Heliga Trefaldighets f...   \n",
       "2020-  Född:1909-09-07 – Stockholms katolska församli...   \n",
       "2020-  Född:1865-03-29 – Karlshamns församling, Bleki...   \n",
       "2020-  Född:1898-04-01 – Helsingborgs Maria församlin...   \n",
       "2020-  Född:1914-03-05 – Adolf Fredriks församling, S...   \n",
       "\n",
       "                                                     Dod  \\\n",
       "Year                                                       \n",
       "2020-  Död:1983-06-12 – Västerleds församling, Stockh...   \n",
       "2020-                  Död:1956-03-16 – Marocko (Tanger)   \n",
       "2020-  Död:2004-04-28 – Hedvig Eleonora församling, S...   \n",
       "2020-  Död:1820-12-13 – Maria Magdalena församling, S...   \n",
       "1931                                                 NaN   \n",
       "2020-  Död:1972-02-01 – Tyskland (Eckwälden-Bad Boll,...   \n",
       "2020-  Död:1991-07-22 – Danderyds församling, Stockho...   \n",
       "2020-  Död:1948-09-11 – Johannes församling, Stockhol...   \n",
       "2020-  Död:1960-03-17 – Oscars församling, Stockholms...   \n",
       "2020-  Död:1993-12-07 – Oscars församling, Stockholms...   \n",
       "\n",
       "                             Band YearPublished  \\\n",
       "Year                                              \n",
       "2020-  Band 35 (2020-), sida 241.           NaT   \n",
       "2020-  Band 35 (2020-), sida 438.           NaT   \n",
       "2020-  Band 35 (2020-), sida 138.           NaT   \n",
       "2020-  Band 35 (2020-), sida 252.           NaT   \n",
       "1931    Band 09 (1931), sida 592.    1931-01-01   \n",
       "2020-   Band 35 (2020-), sida 53.           NaT   \n",
       "2020-   Band 35 (2020-), sida 32.           NaT   \n",
       "2020-  Band 35 (2020-), sida 331.           NaT   \n",
       "2020-  Band 35 (2020-), sida 176.           NaT   \n",
       "2020-  Band 35 (2020-), sida 114.           NaT   \n",
       "\n",
       "                                                     url  \n",
       "Year                                                      \n",
       "2020-  https://sok.riksarkivet.se/sbl/Presentation.as...  \n",
       "2020-  https://sok.riksarkivet.se/sbl/Presentation.as...  \n",
       "2020-  https://sok.riksarkivet.se/sbl/Presentation.as...  \n",
       "2020-  https://sok.riksarkivet.se/sbl/Presentation.as...  \n",
       "1931   https://sok.riksarkivet.se/sbl/Presentation.as...  \n",
       "2020-  https://sok.riksarkivet.se/sbl/Presentation.as...  \n",
       "2020-  https://sok.riksarkivet.se/sbl/Presentation.as...  \n",
       "2020-  https://sok.riksarkivet.se/sbl/Presentation.as...  \n",
       "2020-  https://sok.riksarkivet.se/sbl/Presentation.as...  \n",
       "2020-  https://sok.riksarkivet.se/sbl/Presentation.as...  "
      ]
     },
     "execution_count": 48,
     "metadata": {},
     "output_type": "execute_result"
    }
   ],
   "source": [
    "dfFamily[dfFamily.Fodd.str.contains(\"\", na=False)].sample(10)"
   ]
  },
  {
   "cell_type": "code",
   "execution_count": 49,
   "metadata": {},
   "outputs": [
    {
     "data": {
      "text/plain": [
       "3"
      ]
     },
     "execution_count": 49,
     "metadata": {},
     "output_type": "execute_result"
    }
   ],
   "source": [
    "#Check diff WDSBLtot and plotSBL \n",
    "WDSBLtot.duplicated(subset=['wid']).sum()"
   ]
  },
  {
   "cell_type": "code",
   "execution_count": 50,
   "metadata": {},
   "outputs": [
    {
     "data": {
      "text/plain": [
       "0"
      ]
     },
     "execution_count": 50,
     "metadata": {},
     "output_type": "execute_result"
    }
   ],
   "source": [
    "plotSBL.duplicated(subset=['SBLnr']).sum()"
   ]
  },
  {
   "cell_type": "code",
   "execution_count": 51,
   "metadata": {},
   "outputs": [],
   "source": [
    "#WDSBLtot.duplicated(subset=['sblid']).sum()"
   ]
  },
  {
   "cell_type": "code",
   "execution_count": 52,
   "metadata": {},
   "outputs": [
    {
     "name": "stdout",
     "output_type": "stream",
     "text": [
      "<class 'pandas.core.frame.DataFrame'>\n",
      "RangeIndex: 7672 entries, 0 to 7671\n",
      "Data columns (total 4 columns):\n",
      " #   Column       Non-Null Count  Dtype \n",
      "---  ------       --------------  ----- \n",
      " 0   wid          7672 non-null   object\n",
      " 1   SBLnr        7672 non-null   int64 \n",
      " 2   gender       7672 non-null   object\n",
      " 3   genderLabel  7672 non-null   object\n",
      "dtypes: int64(1), object(3)\n",
      "memory usage: 239.9+ KB\n"
     ]
    }
   ],
   "source": [
    "WDSBLtot = WDSBLtot.rename(columns={'sblid':'SBLnr'})\n",
    "WDSBLtot['SBLnr']= WDSBLtot['SBLnr'].astype(str).astype(int)\n",
    "WDSBLtot.info()"
   ]
  },
  {
   "cell_type": "code",
   "execution_count": 53,
   "metadata": {},
   "outputs": [],
   "source": [
    "dfmerge = pd.merge(WDSBLtot, plotSBL,how='outer', on='SBLnr',indicator=True)"
   ]
  },
  {
   "cell_type": "code",
   "execution_count": 54,
   "metadata": {},
   "outputs": [
    {
     "data": {
      "text/plain": [
       "_merge\n",
       "both          7670\n",
       "right_only    1829\n",
       "left_only        2\n",
       "Name: count, dtype: int64"
      ]
     },
     "execution_count": 54,
     "metadata": {},
     "output_type": "execute_result"
    }
   ],
   "source": [
    "dfmerge[\"_merge\"].value_counts()"
   ]
  },
  {
   "cell_type": "code",
   "execution_count": 55,
   "metadata": {},
   "outputs": [],
   "source": [
    "#dfmerge"
   ]
  },
  {
   "cell_type": "code",
   "execution_count": 56,
   "metadata": {},
   "outputs": [],
   "source": [
    "dfmerge['_merge'] = dfmerge['_merge'].str.replace('left_only','WD_only').str.replace('right_only','SBL_only')\n"
   ]
  },
  {
   "cell_type": "code",
   "execution_count": 57,
   "metadata": {},
   "outputs": [
    {
     "data": {
      "text/plain": [
       "_merge\n",
       "both        7670\n",
       "SBL_only    1829\n",
       "WD_only        2\n",
       "Name: count, dtype: int64"
      ]
     },
     "execution_count": 57,
     "metadata": {},
     "output_type": "execute_result"
    }
   ],
   "source": [
    "WDSBLonly = dfmerge[dfmerge[\"_merge\"] == \"SBL_only\"].copy()   \n",
    "dfmerge[\"_merge\"].value_counts()"
   ]
  },
  {
   "cell_type": "code",
   "execution_count": 58,
   "metadata": {},
   "outputs": [
    {
     "data": {
      "text/html": [
       "<div>\n",
       "<style scoped>\n",
       "    .dataframe tbody tr th:only-of-type {\n",
       "        vertical-align: middle;\n",
       "    }\n",
       "\n",
       "    .dataframe tbody tr th {\n",
       "        vertical-align: top;\n",
       "    }\n",
       "\n",
       "    .dataframe thead th {\n",
       "        text-align: right;\n",
       "    }\n",
       "</style>\n",
       "<table border=\"1\" class=\"dataframe\">\n",
       "  <thead>\n",
       "    <tr style=\"text-align: right;\">\n",
       "      <th></th>\n",
       "      <th>wid</th>\n",
       "      <th>SBLnr</th>\n",
       "      <th>gender</th>\n",
       "      <th>genderLabel</th>\n",
       "      <th>SBLlength</th>\n",
       "      <th>titel</th>\n",
       "      <th>Fodd</th>\n",
       "      <th>Dod</th>\n",
       "      <th>Band</th>\n",
       "      <th>YearPublished</th>\n",
       "      <th>url</th>\n",
       "      <th>_merge</th>\n",
       "    </tr>\n",
       "  </thead>\n",
       "  <tbody>\n",
       "    <tr>\n",
       "      <th>6960</th>\n",
       "      <td>Q6195917</td>\n",
       "      <td>34715</td>\n",
       "      <td>http://www.wikidata.org/entity/Q6581097</td>\n",
       "      <td>man</td>\n",
       "      <td>NaN</td>\n",
       "      <td>NaN</td>\n",
       "      <td>NaN</td>\n",
       "      <td>NaN</td>\n",
       "      <td>NaN</td>\n",
       "      <td>NaT</td>\n",
       "      <td>NaN</td>\n",
       "      <td>WD_only</td>\n",
       "    </tr>\n",
       "    <tr>\n",
       "      <th>7386</th>\n",
       "      <td>Q123513653</td>\n",
       "      <td>35150</td>\n",
       "      <td>http://www.wikidata.org/entity/Q6581072</td>\n",
       "      <td>kvinna</td>\n",
       "      <td>NaN</td>\n",
       "      <td>NaN</td>\n",
       "      <td>NaN</td>\n",
       "      <td>NaN</td>\n",
       "      <td>NaN</td>\n",
       "      <td>NaT</td>\n",
       "      <td>NaN</td>\n",
       "      <td>WD_only</td>\n",
       "    </tr>\n",
       "  </tbody>\n",
       "</table>\n",
       "</div>"
      ],
      "text/plain": [
       "             wid  SBLnr                                   gender genderLabel  \\\n",
       "6960    Q6195917  34715  http://www.wikidata.org/entity/Q6581097         man   \n",
       "7386  Q123513653  35150  http://www.wikidata.org/entity/Q6581072      kvinna   \n",
       "\n",
       "      SBLlength titel Fodd  Dod Band YearPublished  url   _merge  \n",
       "6960        NaN   NaN  NaN  NaN  NaN           NaT  NaN  WD_only  \n",
       "7386        NaN   NaN  NaN  NaN  NaN           NaT  NaN  WD_only  "
      ]
     },
     "execution_count": 58,
     "metadata": {},
     "output_type": "execute_result"
    }
   ],
   "source": [
    "WD_only = dfmerge[dfmerge[\"_merge\"] == \"WD_only\"].copy()   \n",
    "WD_only"
   ]
  },
  {
   "cell_type": "code",
   "execution_count": 59,
   "metadata": {},
   "outputs": [
    {
     "name": "stdout",
     "output_type": "stream",
     "text": [
      "<class 'pandas.core.frame.DataFrame'>\n",
      "Index: 1829 entries, 7672 to 9500\n",
      "Data columns (total 12 columns):\n",
      " #   Column         Non-Null Count  Dtype         \n",
      "---  ------         --------------  -----         \n",
      " 0   wid            0 non-null      object        \n",
      " 1   SBLnr          1829 non-null   int64         \n",
      " 2   gender         0 non-null      object        \n",
      " 3   genderLabel    0 non-null      object        \n",
      " 4   SBLlength      1829 non-null   float64       \n",
      " 5   titel          1829 non-null   object        \n",
      " 6   Fodd           47 non-null     object        \n",
      " 7   Dod            53 non-null     object        \n",
      " 8   Band           1829 non-null   object        \n",
      " 9   YearPublished  1725 non-null   datetime64[ns]\n",
      " 10  url            1829 non-null   object        \n",
      " 11  _merge         1829 non-null   object        \n",
      "dtypes: datetime64[ns](1), float64(1), int64(1), object(9)\n",
      "memory usage: 185.8+ KB\n"
     ]
    }
   ],
   "source": [
    "WDSBLonly.info()"
   ]
  },
  {
   "cell_type": "code",
   "execution_count": 60,
   "metadata": {},
   "outputs": [
    {
     "data": {
      "text/plain": [
       "1681"
      ]
     },
     "execution_count": 60,
     "metadata": {},
     "output_type": "execute_result"
    }
   ],
   "source": [
    "WDSBLonly.titel.str.contains(\"släkt\").sum() \n"
   ]
  },
  {
   "cell_type": "code",
   "execution_count": 61,
   "metadata": {},
   "outputs": [
    {
     "data": {
      "text/html": [
       "<div>\n",
       "<style scoped>\n",
       "    .dataframe tbody tr th:only-of-type {\n",
       "        vertical-align: middle;\n",
       "    }\n",
       "\n",
       "    .dataframe tbody tr th {\n",
       "        vertical-align: top;\n",
       "    }\n",
       "\n",
       "    .dataframe thead th {\n",
       "        text-align: right;\n",
       "    }\n",
       "</style>\n",
       "<table border=\"1\" class=\"dataframe\">\n",
       "  <thead>\n",
       "    <tr style=\"text-align: right;\">\n",
       "      <th></th>\n",
       "      <th>wid</th>\n",
       "      <th>SBLnr</th>\n",
       "      <th>gender</th>\n",
       "      <th>genderLabel</th>\n",
       "      <th>SBLlength</th>\n",
       "      <th>titel</th>\n",
       "      <th>Fodd</th>\n",
       "      <th>Dod</th>\n",
       "      <th>Band</th>\n",
       "      <th>YearPublished</th>\n",
       "      <th>url</th>\n",
       "      <th>_merge</th>\n",
       "    </tr>\n",
       "  </thead>\n",
       "  <tbody>\n",
       "    <tr>\n",
       "      <th>7778</th>\n",
       "      <td>NaN</td>\n",
       "      <td>7249</td>\n",
       "      <td>NaN</td>\n",
       "      <td>NaN</td>\n",
       "      <td>23875.0</td>\n",
       "      <td>Pfalziska ätten,</td>\n",
       "      <td>NaN</td>\n",
       "      <td>NaN</td>\n",
       "      <td>Band 29 (1995-1997), sida 283.</td>\n",
       "      <td>1997-01-01</td>\n",
       "      <td>https://sok.riksarkivet.se/sbl/Presentation.as...</td>\n",
       "      <td>SBL_only</td>\n",
       "    </tr>\n",
       "    <tr>\n",
       "      <th>7894</th>\n",
       "      <td>NaN</td>\n",
       "      <td>9007</td>\n",
       "      <td>NaN</td>\n",
       "      <td>NaN</td>\n",
       "      <td>42169.0</td>\n",
       "      <td>Malsta-ätten,</td>\n",
       "      <td>NaN</td>\n",
       "      <td>NaN</td>\n",
       "      <td>Band 25 (1985-1987), sida 40.</td>\n",
       "      <td>1987-01-01</td>\n",
       "      <td>https://sok.riksarkivet.se/sbl/Presentation.as...</td>\n",
       "      <td>SBL_only</td>\n",
       "    </tr>\n",
       "    <tr>\n",
       "      <th>8088</th>\n",
       "      <td>NaN</td>\n",
       "      <td>11237</td>\n",
       "      <td>NaN</td>\n",
       "      <td>NaN</td>\n",
       "      <td>42479.0</td>\n",
       "      <td>Lepasätten, släkt</td>\n",
       "      <td>NaN</td>\n",
       "      <td>NaN</td>\n",
       "      <td>Band 22 (1977-1979), sida 579.</td>\n",
       "      <td>1979-01-01</td>\n",
       "      <td>https://sok.riksarkivet.se/sbl/Presentation.as...</td>\n",
       "      <td>SBL_only</td>\n",
       "    </tr>\n",
       "    <tr>\n",
       "      <th>8100</th>\n",
       "      <td>NaN</td>\n",
       "      <td>11376</td>\n",
       "      <td>NaN</td>\n",
       "      <td>NaN</td>\n",
       "      <td>38271.0</td>\n",
       "      <td>Likvidssönernas ätt,</td>\n",
       "      <td>NaN</td>\n",
       "      <td>NaN</td>\n",
       "      <td>Band 22 (1977-1979), sida 767.</td>\n",
       "      <td>1979-01-01</td>\n",
       "      <td>https://sok.riksarkivet.se/sbl/Presentation.as...</td>\n",
       "      <td>SBL_only</td>\n",
       "    </tr>\n",
       "    <tr>\n",
       "      <th>8279</th>\n",
       "      <td>NaN</td>\n",
       "      <td>12565</td>\n",
       "      <td>NaN</td>\n",
       "      <td>NaN</td>\n",
       "      <td>23136.0</td>\n",
       "      <td>Hammerstaätten,</td>\n",
       "      <td>NaN</td>\n",
       "      <td>NaN</td>\n",
       "      <td>Band 18 (1969-1971), sida 224.</td>\n",
       "      <td>1971-01-01</td>\n",
       "      <td>https://sok.riksarkivet.se/sbl/Presentation.as...</td>\n",
       "      <td>SBL_only</td>\n",
       "    </tr>\n",
       "    <tr>\n",
       "      <th>8367</th>\n",
       "      <td>NaN</td>\n",
       "      <td>13016</td>\n",
       "      <td>NaN</td>\n",
       "      <td>NaN</td>\n",
       "      <td>23007.0</td>\n",
       "      <td>Gera, ätt</td>\n",
       "      <td>NaN</td>\n",
       "      <td>NaN</td>\n",
       "      <td>Band 17 (1967-1969), sida 71.</td>\n",
       "      <td>1969-01-01</td>\n",
       "      <td>https://sok.riksarkivet.se/sbl/Presentation.as...</td>\n",
       "      <td>SBL_only</td>\n",
       "    </tr>\n",
       "    <tr>\n",
       "      <th>8384</th>\n",
       "      <td>NaN</td>\n",
       "      <td>13096</td>\n",
       "      <td>NaN</td>\n",
       "      <td>NaN</td>\n",
       "      <td>18229.0</td>\n",
       "      <td>Glysing, ätt</td>\n",
       "      <td>NaN</td>\n",
       "      <td>NaN</td>\n",
       "      <td>Band 17 (1967-1969), sida 165.</td>\n",
       "      <td>1969-01-01</td>\n",
       "      <td>https://sok.riksarkivet.se/sbl/Presentation.as...</td>\n",
       "      <td>SBL_only</td>\n",
       "    </tr>\n",
       "    <tr>\n",
       "      <th>8404</th>\n",
       "      <td>NaN</td>\n",
       "      <td>13177</td>\n",
       "      <td>NaN</td>\n",
       "      <td>NaN</td>\n",
       "      <td>17264.0</td>\n",
       "      <td>Gren, ätt</td>\n",
       "      <td>NaN</td>\n",
       "      <td>NaN</td>\n",
       "      <td>Band 17 (1967-1969), sida 258.</td>\n",
       "      <td>1969-01-01</td>\n",
       "      <td>https://sok.riksarkivet.se/sbl/Presentation.as...</td>\n",
       "      <td>SBL_only</td>\n",
       "    </tr>\n",
       "    <tr>\n",
       "      <th>8500</th>\n",
       "      <td>NaN</td>\n",
       "      <td>13783</td>\n",
       "      <td>NaN</td>\n",
       "      <td>NaN</td>\n",
       "      <td>29205.0</td>\n",
       "      <td>Holstein-Gottorpska ätten,</td>\n",
       "      <td>NaN</td>\n",
       "      <td>NaN</td>\n",
       "      <td>Band 19 (1971-1973), sida 323.</td>\n",
       "      <td>1973-01-01</td>\n",
       "      <td>https://sok.riksarkivet.se/sbl/Presentation.as...</td>\n",
       "      <td>SBL_only</td>\n",
       "    </tr>\n",
       "    <tr>\n",
       "      <th>8562</th>\n",
       "      <td>NaN</td>\n",
       "      <td>14142</td>\n",
       "      <td>NaN</td>\n",
       "      <td>NaN</td>\n",
       "      <td>27297.0</td>\n",
       "      <td>Finstaätten,</td>\n",
       "      <td>NaN</td>\n",
       "      <td>NaN</td>\n",
       "      <td>Band 16 (1964-1966), sida 51.</td>\n",
       "      <td>1966-01-01</td>\n",
       "      <td>https://sok.riksarkivet.se/sbl/Presentation.as...</td>\n",
       "      <td>SBL_only</td>\n",
       "    </tr>\n",
       "  </tbody>\n",
       "</table>\n",
       "</div>"
      ],
      "text/plain": [
       "      wid  SBLnr gender genderLabel  SBLlength                        titel  \\\n",
       "7778  NaN   7249    NaN         NaN    23875.0            Pfalziska ätten,    \n",
       "7894  NaN   9007    NaN         NaN    42169.0               Malsta-ätten,    \n",
       "8088  NaN  11237    NaN         NaN    42479.0            Lepasätten, släkt   \n",
       "8100  NaN  11376    NaN         NaN    38271.0        Likvidssönernas ätt,    \n",
       "8279  NaN  12565    NaN         NaN    23136.0             Hammerstaätten,    \n",
       "8367  NaN  13016    NaN         NaN    23007.0                    Gera, ätt   \n",
       "8384  NaN  13096    NaN         NaN    18229.0                 Glysing, ätt   \n",
       "8404  NaN  13177    NaN         NaN    17264.0                    Gren, ätt   \n",
       "8500  NaN  13783    NaN         NaN    29205.0  Holstein-Gottorpska ätten,    \n",
       "8562  NaN  14142    NaN         NaN    27297.0                Finstaätten,    \n",
       "\n",
       "     Fodd  Dod                            Band YearPublished  \\\n",
       "7778  NaN  NaN  Band 29 (1995-1997), sida 283.    1997-01-01   \n",
       "7894  NaN  NaN   Band 25 (1985-1987), sida 40.    1987-01-01   \n",
       "8088  NaN  NaN  Band 22 (1977-1979), sida 579.    1979-01-01   \n",
       "8100  NaN  NaN  Band 22 (1977-1979), sida 767.    1979-01-01   \n",
       "8279  NaN  NaN  Band 18 (1969-1971), sida 224.    1971-01-01   \n",
       "8367  NaN  NaN   Band 17 (1967-1969), sida 71.    1969-01-01   \n",
       "8384  NaN  NaN  Band 17 (1967-1969), sida 165.    1969-01-01   \n",
       "8404  NaN  NaN  Band 17 (1967-1969), sida 258.    1969-01-01   \n",
       "8500  NaN  NaN  Band 19 (1971-1973), sida 323.    1973-01-01   \n",
       "8562  NaN  NaN   Band 16 (1964-1966), sida 51.    1966-01-01   \n",
       "\n",
       "                                                    url    _merge  \n",
       "7778  https://sok.riksarkivet.se/sbl/Presentation.as...  SBL_only  \n",
       "7894  https://sok.riksarkivet.se/sbl/Presentation.as...  SBL_only  \n",
       "8088  https://sok.riksarkivet.se/sbl/Presentation.as...  SBL_only  \n",
       "8100  https://sok.riksarkivet.se/sbl/Presentation.as...  SBL_only  \n",
       "8279  https://sok.riksarkivet.se/sbl/Presentation.as...  SBL_only  \n",
       "8367  https://sok.riksarkivet.se/sbl/Presentation.as...  SBL_only  \n",
       "8384  https://sok.riksarkivet.se/sbl/Presentation.as...  SBL_only  \n",
       "8404  https://sok.riksarkivet.se/sbl/Presentation.as...  SBL_only  \n",
       "8500  https://sok.riksarkivet.se/sbl/Presentation.as...  SBL_only  \n",
       "8562  https://sok.riksarkivet.se/sbl/Presentation.as...  SBL_only  "
      ]
     },
     "execution_count": 61,
     "metadata": {},
     "output_type": "execute_result"
    }
   ],
   "source": [
    "WDSBLonly[WDSBLonly.titel.str.contains(\"ätt\")].head(10)"
   ]
  },
  {
   "cell_type": "code",
   "execution_count": 62,
   "metadata": {},
   "outputs": [],
   "source": [
    "#Inte släkt \n",
    "WDmissingPerson = WDSBLonly[~WDSBLonly.titel.str.contains(\"släkt\")]"
   ]
  },
  {
   "cell_type": "code",
   "execution_count": 63,
   "metadata": {},
   "outputs": [
    {
     "name": "stdout",
     "output_type": "stream",
     "text": [
      "<class 'pandas.core.frame.DataFrame'>\n",
      "Index: 148 entries, 7680 to 9500\n",
      "Data columns (total 12 columns):\n",
      " #   Column         Non-Null Count  Dtype         \n",
      "---  ------         --------------  -----         \n",
      " 0   wid            0 non-null      object        \n",
      " 1   SBLnr          148 non-null    int64         \n",
      " 2   gender         0 non-null      object        \n",
      " 3   genderLabel    0 non-null      object        \n",
      " 4   SBLlength      148 non-null    float64       \n",
      " 5   titel          148 non-null    object        \n",
      " 6   Fodd           47 non-null     object        \n",
      " 7   Dod            53 non-null     object        \n",
      " 8   Band           148 non-null    object        \n",
      " 9   YearPublished  55 non-null     datetime64[ns]\n",
      " 10  url            148 non-null    object        \n",
      " 11  _merge         148 non-null    object        \n",
      "dtypes: datetime64[ns](1), float64(1), int64(1), object(9)\n",
      "memory usage: 15.0+ KB\n"
     ]
    }
   ],
   "source": [
    "WDmissingPerson.info()"
   ]
  },
  {
   "cell_type": "code",
   "execution_count": 64,
   "metadata": {},
   "outputs": [
    {
     "data": {
      "text/plain": [
       "YearPublished\n",
       "1931-01-01    12\n",
       "1966-01-01     7\n",
       "1953-01-01     5\n",
       "1950-01-01     5\n",
       "2021-01-01     5\n",
       "1975-01-01     3\n",
       "1969-01-01     3\n",
       "2019-01-01     2\n",
       "1979-01-01     1\n",
       "1971-01-01     1\n",
       "1973-01-01     1\n",
       "1997-01-01     1\n",
       "1929-01-01     1\n",
       "1987-01-01     1\n",
       "1991-01-01     1\n",
       "1994-01-01     1\n",
       "1924-01-01     1\n",
       "1920-01-01     1\n",
       "1925-01-01     1\n",
       "1984-01-01     1\n",
       "1918-01-01     1\n",
       "Name: count, dtype: int64"
      ]
     },
     "execution_count": 64,
     "metadata": {},
     "output_type": "execute_result"
    }
   ],
   "source": [
    "WDmissingPerson[\"YearPublished\"].value_counts()"
   ]
  },
  {
   "cell_type": "code",
   "execution_count": null,
   "metadata": {},
   "outputs": [],
   "source": []
  },
  {
   "cell_type": "code",
   "execution_count": 65,
   "metadata": {},
   "outputs": [
    {
     "name": "stdout",
     "output_type": "stream",
     "text": [
      "Min, Max SBLlength:  12006.0 110347.0\n"
     ]
    }
   ],
   "source": [
    "print(\"Min, Max SBLlength: \", WDmissingPerson.SBLlength.min(), WDmissingPerson.SBLlength.max())"
   ]
  },
  {
   "cell_type": "code",
   "execution_count": 66,
   "metadata": {},
   "outputs": [],
   "source": [
    "# sorterar artiklarna efter sidstorlek för att kanske hitta någon vi missat  \n",
    "# wid är Wikidata objekt , NaN är att det saknas  \n",
    "# SBLnr är id i SBL\n",
    "# SBLlength är sidans storlek hos SBL \n",
    "# Fodd, Dod... är det jag hittade i WEBsidan, NaN innebär saknas\n",
    "\n",
    "#WDmissingPerson.sort_values(by='SBLlength', ascending=False, na_position='first')"
   ]
  },
  {
   "cell_type": "code",
   "execution_count": 67,
   "metadata": {},
   "outputs": [
    {
     "name": "stdout",
     "output_type": "stream",
     "text": [
      "<class 'pandas.core.frame.DataFrame'>\n",
      "Index: 148 entries, 7680 to 9500\n",
      "Data columns (total 12 columns):\n",
      " #   Column         Non-Null Count  Dtype         \n",
      "---  ------         --------------  -----         \n",
      " 0   wid            0 non-null      object        \n",
      " 1   SBLnr          148 non-null    int64         \n",
      " 2   gender         0 non-null      object        \n",
      " 3   genderLabel    0 non-null      object        \n",
      " 4   SBLlength      148 non-null    float64       \n",
      " 5   titel          148 non-null    object        \n",
      " 6   Fodd           47 non-null     object        \n",
      " 7   Dod            53 non-null     object        \n",
      " 8   Band           148 non-null    object        \n",
      " 9   YearPublished  55 non-null     datetime64[ns]\n",
      " 10  url            148 non-null    object        \n",
      " 11  _merge         148 non-null    object        \n",
      "dtypes: datetime64[ns](1), float64(1), int64(1), object(9)\n",
      "memory usage: 15.0+ KB\n"
     ]
    }
   ],
   "source": [
    "WDmissingPerson.info()"
   ]
  },
  {
   "cell_type": "code",
   "execution_count": 68,
   "metadata": {},
   "outputs": [
    {
     "data": {
      "text/plain": [
       "YearPublished\n",
       "1931-01-01    12\n",
       "1966-01-01     7\n",
       "1953-01-01     5\n",
       "1950-01-01     5\n",
       "2021-01-01     5\n",
       "1975-01-01     3\n",
       "1969-01-01     3\n",
       "2019-01-01     2\n",
       "1979-01-01     1\n",
       "1971-01-01     1\n",
       "1973-01-01     1\n",
       "1997-01-01     1\n",
       "1929-01-01     1\n",
       "1987-01-01     1\n",
       "1991-01-01     1\n",
       "1994-01-01     1\n",
       "1924-01-01     1\n",
       "1920-01-01     1\n",
       "1925-01-01     1\n",
       "1984-01-01     1\n",
       "1918-01-01     1\n",
       "Name: count, dtype: int64"
      ]
     },
     "execution_count": 68,
     "metadata": {},
     "output_type": "execute_result"
    }
   ],
   "source": [
    "WDmissingPerson[\"YearPublished\"].value_counts()"
   ]
  },
  {
   "cell_type": "code",
   "execution_count": 69,
   "metadata": {},
   "outputs": [
    {
     "name": "stdout",
     "output_type": "stream",
     "text": [
      "End run:  2025-03-06 02:13:57.797152\n"
     ]
    }
   ],
   "source": [
    "print(\"End run: \", datetime.now())"
   ]
  },
  {
   "cell_type": "code",
   "execution_count": 70,
   "metadata": {},
   "outputs": [],
   "source": [
    "#Släkt \n",
    "#WDSlakt = WDSBLonly[~WDSBLonly.titel.str.contains(\"släkt\")].copy"
   ]
  },
  {
   "cell_type": "code",
   "execution_count": 71,
   "metadata": {},
   "outputs": [],
   "source": [
    "WDSlakt = WDSBLonly[WDSBLonly.titel.str.contains(\"släkt\")]"
   ]
  },
  {
   "cell_type": "code",
   "execution_count": 72,
   "metadata": {},
   "outputs": [
    {
     "name": "stdout",
     "output_type": "stream",
     "text": [
      "<class 'pandas.core.frame.DataFrame'>\n",
      "Index: 1681 entries, 7672 to 9481\n",
      "Data columns (total 12 columns):\n",
      " #   Column         Non-Null Count  Dtype         \n",
      "---  ------         --------------  -----         \n",
      " 0   wid            0 non-null      object        \n",
      " 1   SBLnr          1681 non-null   int64         \n",
      " 2   gender         0 non-null      object        \n",
      " 3   genderLabel    0 non-null      object        \n",
      " 4   SBLlength      1681 non-null   float64       \n",
      " 5   titel          1681 non-null   object        \n",
      " 6   Fodd           0 non-null      object        \n",
      " 7   Dod            0 non-null      object        \n",
      " 8   Band           1681 non-null   object        \n",
      " 9   YearPublished  1670 non-null   datetime64[ns]\n",
      " 10  url            1681 non-null   object        \n",
      " 11  _merge         1681 non-null   object        \n",
      "dtypes: datetime64[ns](1), float64(1), int64(1), object(9)\n",
      "memory usage: 170.7+ KB\n"
     ]
    }
   ],
   "source": [
    "WDSlakt.info()"
   ]
  },
  {
   "cell_type": "code",
   "execution_count": 73,
   "metadata": {},
   "outputs": [],
   "source": [
    "#Need a workaround as pandas to_csv dont work ?!?!?\n",
    "#for  index,row in WDSlakt.iterrows():\n",
    "#    print(row[\"SBLnr\"],row[\"titel\"],row[\"Year\"],row[\"url\"])    \n",
    "#    print(row[\"SBLnr\"],\"|\",row[\"titel\"],\"|\",row[\"Year\"])  "
   ]
  },
  {
   "cell_type": "markdown",
   "metadata": {},
   "source": [
    "List produced also on [GIST](https://gist.github.com/salgo60/31e0c4bf6f075c373fb5bbfb6cc807c6#gistcomment-3457126) "
   ]
  },
  {
   "cell_type": "markdown",
   "metadata": {},
   "source": [
    "### Estimate published articles male/female /family\n"
   ]
  },
  {
   "cell_type": "code",
   "execution_count": 74,
   "metadata": {},
   "outputs": [
    {
     "name": "stdout",
     "output_type": "stream",
     "text": [
      "<class 'pandas.core.frame.DataFrame'>\n",
      "RangeIndex: 9501 entries, 0 to 9500\n",
      "Data columns (total 12 columns):\n",
      " #   Column         Non-Null Count  Dtype         \n",
      "---  ------         --------------  -----         \n",
      " 0   wid            7672 non-null   object        \n",
      " 1   SBLnr          9501 non-null   int64         \n",
      " 2   gender         7672 non-null   object        \n",
      " 3   genderLabel    7672 non-null   object        \n",
      " 4   SBLlength      9499 non-null   float64       \n",
      " 5   titel          9499 non-null   object        \n",
      " 6   Fodd           7195 non-null   object        \n",
      " 7   Dod            7682 non-null   object        \n",
      " 8   Band           9499 non-null   object        \n",
      " 9   YearPublished  9324 non-null   datetime64[ns]\n",
      " 10  url            9499 non-null   object        \n",
      " 11  _merge         9501 non-null   object        \n",
      "dtypes: datetime64[ns](1), float64(1), int64(1), object(9)\n",
      "memory usage: 890.8+ KB\n"
     ]
    }
   ],
   "source": [
    "dfmerge.info()"
   ]
  },
  {
   "cell_type": "code",
   "execution_count": 75,
   "metadata": {},
   "outputs": [],
   "source": [
    "personSBL = dfmerge[~dfmerge['wid'].isnull()] "
   ]
  },
  {
   "cell_type": "code",
   "execution_count": 76,
   "metadata": {},
   "outputs": [
    {
     "name": "stdout",
     "output_type": "stream",
     "text": [
      "<class 'pandas.core.frame.DataFrame'>\n",
      "Index: 7672 entries, 0 to 7671\n",
      "Data columns (total 12 columns):\n",
      " #   Column         Non-Null Count  Dtype         \n",
      "---  ------         --------------  -----         \n",
      " 0   wid            7672 non-null   object        \n",
      " 1   SBLnr          7672 non-null   int64         \n",
      " 2   gender         7672 non-null   object        \n",
      " 3   genderLabel    7672 non-null   object        \n",
      " 4   SBLlength      7670 non-null   float64       \n",
      " 5   titel          7670 non-null   object        \n",
      " 6   Fodd           7148 non-null   object        \n",
      " 7   Dod            7629 non-null   object        \n",
      " 8   Band           7670 non-null   object        \n",
      " 9   YearPublished  7599 non-null   datetime64[ns]\n",
      " 10  url            7670 non-null   object        \n",
      " 11  _merge         7672 non-null   object        \n",
      "dtypes: datetime64[ns](1), float64(1), int64(1), object(9)\n",
      "memory usage: 779.2+ KB\n"
     ]
    }
   ],
   "source": [
    "personSBL.info()"
   ]
  },
  {
   "cell_type": "markdown",
   "metadata": {},
   "source": [
    "### Check highest numbers SBL and WD/SBL"
   ]
  },
  {
   "cell_type": "code",
   "execution_count": 77,
   "metadata": {},
   "outputs": [
    {
     "data": {
      "text/plain": [
       "6452    35255\n",
       "7089    35168\n",
       "665     35158\n",
       "7386    35150\n",
       "2424    35148\n",
       "6635    35147\n",
       "5103    35146\n",
       "7604    35145\n",
       "3728    35144\n",
       "660     35143\n",
       "Name: SBLnr, dtype: int64"
      ]
     },
     "execution_count": 77,
     "metadata": {},
     "output_type": "execute_result"
    }
   ],
   "source": [
    "sorted_df = personSBL.sort_values(by='SBLnr', ascending=False)\n",
    "\n",
    "# Select the top 10 rows\n",
    "top_10_SBLnr = sorted_df.head(10)\n",
    "\n",
    "# Display the top 10 SBLnr values\n",
    "top_10_SBLnr['SBLnr']"
   ]
  },
  {
   "cell_type": "code",
   "execution_count": 78,
   "metadata": {},
   "outputs": [
    {
     "name": "stdout",
     "output_type": "stream",
     "text": [
      "<class 'pandas.core.frame.DataFrame'>\n",
      "RangeIndex: 7672 entries, 0 to 7671\n",
      "Data columns (total 4 columns):\n",
      " #   Column       Non-Null Count  Dtype \n",
      "---  ------       --------------  ----- \n",
      " 0   wid          7672 non-null   object\n",
      " 1   SBLnr        7672 non-null   int64 \n",
      " 2   gender       7672 non-null   object\n",
      " 3   genderLabel  7672 non-null   object\n",
      "dtypes: int64(1), object(3)\n",
      "memory usage: 239.9+ KB\n"
     ]
    }
   ],
   "source": [
    "WDSBLtot.info()"
   ]
  },
  {
   "cell_type": "code",
   "execution_count": 79,
   "metadata": {},
   "outputs": [
    {
     "data": {
      "text/plain": [
       "6452    35255\n",
       "7089    35168\n",
       "665     35158\n",
       "7386    35150\n",
       "2424    35148\n",
       "6635    35147\n",
       "5103    35146\n",
       "7604    35145\n",
       "3728    35144\n",
       "660     35143\n",
       "Name: SBLnr, dtype: int64"
      ]
     },
     "execution_count": 79,
     "metadata": {},
     "output_type": "execute_result"
    }
   ],
   "source": [
    "# Sort the DataFrame by sblid in descending order\n",
    "sorted_wddf = WDSBLtot.sort_values(by='SBLnr', ascending=False)\n",
    "\n",
    "# Select the top 10 rows\n",
    "top_10_wdsblid = sorted_wddf.head(10)\n",
    "\n",
    "# Display the top 100 sblid values\n",
    "top_10_wdsblid['SBLnr']\n"
   ]
  },
  {
   "cell_type": "markdown",
   "metadata": {},
   "source": [
    "# Plot Gender distribution"
   ]
  },
  {
   "cell_type": "code",
   "execution_count": 80,
   "metadata": {},
   "outputs": [
    {
     "data": {
      "image/png": "[encoded data removed]",
      "text/plain": [
       "<Figure size 1500x700 with 1 Axes>"
      ]
     },
     "metadata": {},
     "output_type": "display_data"
    }
   ],
   "source": [
    "fig = plt.subplots(figsize=(15,7))\n",
    "plotSBLGender = personSBL.groupby([\"genderLabel\", \"YearPublished\"]).size()\n",
    "#plotSBLGender  \n",
    "plotSBLGender.plot( kind = 'bar', color=['g'],) \n",
    "plt.show()"
   ]
  },
  {
   "cell_type": "code",
   "execution_count": 81,
   "metadata": {},
   "outputs": [
    {
     "name": "stdout",
     "output_type": "stream",
     "text": [
      "<class 'pandas.core.frame.DataFrame'>\n",
      "Index: 7672 entries, 0 to 7671\n",
      "Data columns (total 12 columns):\n",
      " #   Column         Non-Null Count  Dtype         \n",
      "---  ------         --------------  -----         \n",
      " 0   wid            7672 non-null   object        \n",
      " 1   SBLnr          7672 non-null   int64         \n",
      " 2   gender         7672 non-null   object        \n",
      " 3   genderLabel    7672 non-null   object        \n",
      " 4   SBLlength      7670 non-null   float64       \n",
      " 5   titel          7670 non-null   object        \n",
      " 6   Fodd           7148 non-null   object        \n",
      " 7   Dod            7629 non-null   object        \n",
      " 8   Band           7670 non-null   object        \n",
      " 9   YearPublished  7599 non-null   datetime64[ns]\n",
      " 10  url            7670 non-null   object        \n",
      " 11  _merge         7672 non-null   object        \n",
      "dtypes: datetime64[ns](1), float64(1), int64(1), object(9)\n",
      "memory usage: 779.2+ KB\n"
     ]
    }
   ],
   "source": [
    "#plotSBLGender = personSBL.groupby([\"genderLabel\", \"YearPublished\"]).size()\n",
    "personSBL.info()\n",
    "#plotSBLGender.pivot(\"genderLabel\", \"YearPublished\")"
   ]
  },
  {
   "cell_type": "code",
   "execution_count": 82,
   "metadata": {},
   "outputs": [
    {
     "data": {
      "text/html": [
       "<div>\n",
       "<style scoped>\n",
       "    .dataframe tbody tr th:only-of-type {\n",
       "        vertical-align: middle;\n",
       "    }\n",
       "\n",
       "    .dataframe tbody tr th {\n",
       "        vertical-align: top;\n",
       "    }\n",
       "\n",
       "    .dataframe thead th {\n",
       "        text-align: right;\n",
       "    }\n",
       "</style>\n",
       "<table border=\"1\" class=\"dataframe\">\n",
       "  <thead>\n",
       "    <tr style=\"text-align: right;\">\n",
       "      <th>YearPublished</th>\n",
       "      <th>1918-01-01</th>\n",
       "      <th>1920-01-01</th>\n",
       "      <th>1922-01-01</th>\n",
       "      <th>1924-01-01</th>\n",
       "      <th>1925-01-01</th>\n",
       "      <th>1926-01-01</th>\n",
       "      <th>1927-01-01</th>\n",
       "      <th>1929-01-01</th>\n",
       "      <th>1931-01-01</th>\n",
       "      <th>1945-01-01</th>\n",
       "      <th>...</th>\n",
       "      <th>1989-01-01</th>\n",
       "      <th>1991-01-01</th>\n",
       "      <th>1994-01-01</th>\n",
       "      <th>1997-01-01</th>\n",
       "      <th>2000-01-01</th>\n",
       "      <th>2002-01-01</th>\n",
       "      <th>2006-01-01</th>\n",
       "      <th>2011-01-01</th>\n",
       "      <th>2019-01-01</th>\n",
       "      <th>2021-01-01</th>\n",
       "    </tr>\n",
       "    <tr>\n",
       "      <th>genderLabel</th>\n",
       "      <th></th>\n",
       "      <th></th>\n",
       "      <th></th>\n",
       "      <th></th>\n",
       "      <th></th>\n",
       "      <th></th>\n",
       "      <th></th>\n",
       "      <th></th>\n",
       "      <th></th>\n",
       "      <th></th>\n",
       "      <th></th>\n",
       "      <th></th>\n",
       "      <th></th>\n",
       "      <th></th>\n",
       "      <th></th>\n",
       "      <th></th>\n",
       "      <th></th>\n",
       "      <th></th>\n",
       "      <th></th>\n",
       "      <th></th>\n",
       "      <th></th>\n",
       "    </tr>\n",
       "  </thead>\n",
       "  <tbody>\n",
       "    <tr>\n",
       "      <th>kvinna</th>\n",
       "      <td>17.0</td>\n",
       "      <td>12.0</td>\n",
       "      <td>8.0</td>\n",
       "      <td>5.0</td>\n",
       "      <td>16.0</td>\n",
       "      <td>16.0</td>\n",
       "      <td>16.0</td>\n",
       "      <td>6.0</td>\n",
       "      <td>14.0</td>\n",
       "      <td>9.0</td>\n",
       "      <td>...</td>\n",
       "      <td>13.0</td>\n",
       "      <td>20.0</td>\n",
       "      <td>14.0</td>\n",
       "      <td>23.0</td>\n",
       "      <td>15.0</td>\n",
       "      <td>19.0</td>\n",
       "      <td>21.0</td>\n",
       "      <td>19.0</td>\n",
       "      <td>28.0</td>\n",
       "      <td>NaN</td>\n",
       "    </tr>\n",
       "    <tr>\n",
       "      <th>man</th>\n",
       "      <td>255.0</td>\n",
       "      <td>243.0</td>\n",
       "      <td>214.0</td>\n",
       "      <td>188.0</td>\n",
       "      <td>180.0</td>\n",
       "      <td>188.0</td>\n",
       "      <td>181.0</td>\n",
       "      <td>138.0</td>\n",
       "      <td>251.0</td>\n",
       "      <td>203.0</td>\n",
       "      <td>...</td>\n",
       "      <td>228.0</td>\n",
       "      <td>204.0</td>\n",
       "      <td>213.0</td>\n",
       "      <td>222.0</td>\n",
       "      <td>179.0</td>\n",
       "      <td>151.0</td>\n",
       "      <td>141.0</td>\n",
       "      <td>146.0</td>\n",
       "      <td>165.0</td>\n",
       "      <td>1.0</td>\n",
       "    </tr>\n",
       "    <tr>\n",
       "      <th>transman</th>\n",
       "      <td>NaN</td>\n",
       "      <td>NaN</td>\n",
       "      <td>NaN</td>\n",
       "      <td>NaN</td>\n",
       "      <td>NaN</td>\n",
       "      <td>NaN</td>\n",
       "      <td>NaN</td>\n",
       "      <td>NaN</td>\n",
       "      <td>NaN</td>\n",
       "      <td>NaN</td>\n",
       "      <td>...</td>\n",
       "      <td>NaN</td>\n",
       "      <td>NaN</td>\n",
       "      <td>NaN</td>\n",
       "      <td>NaN</td>\n",
       "      <td>NaN</td>\n",
       "      <td>NaN</td>\n",
       "      <td>NaN</td>\n",
       "      <td>NaN</td>\n",
       "      <td>1.0</td>\n",
       "      <td>NaN</td>\n",
       "    </tr>\n",
       "  </tbody>\n",
       "</table>\n",
       "<p>3 rows × 34 columns</p>\n",
       "</div>"
      ],
      "text/plain": [
       "YearPublished  1918-01-01  1920-01-01  1922-01-01  1924-01-01  1925-01-01  \\\n",
       "genderLabel                                                                 \n",
       "kvinna               17.0        12.0         8.0         5.0        16.0   \n",
       "man                 255.0       243.0       214.0       188.0       180.0   \n",
       "transman              NaN         NaN         NaN         NaN         NaN   \n",
       "\n",
       "YearPublished  1926-01-01  1927-01-01  1929-01-01  1931-01-01  1945-01-01  \\\n",
       "genderLabel                                                                 \n",
       "kvinna               16.0        16.0         6.0        14.0         9.0   \n",
       "man                 188.0       181.0       138.0       251.0       203.0   \n",
       "transman              NaN         NaN         NaN         NaN         NaN   \n",
       "\n",
       "YearPublished  ...  1989-01-01  1991-01-01  1994-01-01  1997-01-01  \\\n",
       "genderLabel    ...                                                   \n",
       "kvinna         ...        13.0        20.0        14.0        23.0   \n",
       "man            ...       228.0       204.0       213.0       222.0   \n",
       "transman       ...         NaN         NaN         NaN         NaN   \n",
       "\n",
       "YearPublished  2000-01-01  2002-01-01  2006-01-01  2011-01-01  2019-01-01  \\\n",
       "genderLabel                                                                 \n",
       "kvinna               15.0        19.0        21.0        19.0        28.0   \n",
       "man                 179.0       151.0       141.0       146.0       165.0   \n",
       "transman              NaN         NaN         NaN         NaN         1.0   \n",
       "\n",
       "YearPublished  2021-01-01  \n",
       "genderLabel                \n",
       "kvinna                NaN  \n",
       "man                   1.0  \n",
       "transman              NaN  \n",
       "\n",
       "[3 rows x 34 columns]"
      ]
     },
     "execution_count": 82,
     "metadata": {},
     "output_type": "execute_result"
    }
   ],
   "source": [
    "plotSBLGender.unstack()"
   ]
  },
  {
   "cell_type": "code",
   "execution_count": 83,
   "metadata": {},
   "outputs": [
    {
     "name": "stdout",
     "output_type": "stream",
     "text": [
      "Ended:  2025-03-06 02:13:58.126794\n",
      "Time elapsed (hh:mm:ss.ms) 0:20:31.102081\n"
     ]
    }
   ],
   "source": [
    "end = datetime.now()\n",
    "print(\"Ended: \", end) \n",
    "print('Time elapsed (hh:mm:ss.ms) {}'.format(datetime.now() - startdate))"
   ]
  },
  {
   "cell_type": "code",
   "execution_count": null,
   "metadata": {},
   "outputs": [],
   "source": []
  }
 ],
 "metadata": {
  "kernelspec": {
   "display_name": "Python 3 (ipykernel)",
   "language": "python",
   "name": "python3"
  },
  "language_info": {
   "codemirror_mode": {
    "name": "ipython",
    "version": 3
   },
   "file_extension": ".py",
   "mimetype": "text/x-python",
   "name": "python",
   "nbconvert_exporter": "python",
   "pygments_lexer": "ipython3",
   "version": "3.12.2"
  }
 },
 "nbformat": 4,
 "nbformat_minor": 4
}
